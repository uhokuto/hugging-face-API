{
  "nbformat": 4,
  "nbformat_minor": 0,
  "metadata": {
    "colab": {
      "provenance": [],
      "machine_shape": "hm",
      "gpuType": "A100"
    },
    "kernelspec": {
      "name": "python3",
      "display_name": "Python 3"
    },
    "language_info": {
      "name": "python"
    },
    "accelerator": "GPU",
    "widgets": {
      "application/vnd.jupyter.widget-state+json": {
        "e1a0c626860f4fcbb8d71a2f4cba44db": {
          "model_module": "@jupyter-widgets/controls",
          "model_name": "HBoxModel",
          "model_module_version": "1.5.0",
          "state": {
            "_dom_classes": [],
            "_model_module": "@jupyter-widgets/controls",
            "_model_module_version": "1.5.0",
            "_model_name": "HBoxModel",
            "_view_count": null,
            "_view_module": "@jupyter-widgets/controls",
            "_view_module_version": "1.5.0",
            "_view_name": "HBoxView",
            "box_style": "",
            "children": [
              "IPY_MODEL_03eef2ff5638427ea47e333b1e7366a1",
              "IPY_MODEL_90ce7e10e0714d0290d6cef215aae168",
              "IPY_MODEL_0d3fcd0544c64f22ae3ee6850978776c"
            ],
            "layout": "IPY_MODEL_fd7acb5235c448a789fe59c186e78b65"
          }
        },
        "03eef2ff5638427ea47e333b1e7366a1": {
          "model_module": "@jupyter-widgets/controls",
          "model_name": "HTMLModel",
          "model_module_version": "1.5.0",
          "state": {
            "_dom_classes": [],
            "_model_module": "@jupyter-widgets/controls",
            "_model_module_version": "1.5.0",
            "_model_name": "HTMLModel",
            "_view_count": null,
            "_view_module": "@jupyter-widgets/controls",
            "_view_module_version": "1.5.0",
            "_view_name": "HTMLView",
            "description": "",
            "description_tooltip": null,
            "layout": "IPY_MODEL_abf156faa4e54bb295444e52972eb443",
            "placeholder": "​",
            "style": "IPY_MODEL_aedfbeb4b8d84442884ef737ffaf014a",
            "value": "tokenizer_config.json: 100%"
          }
        },
        "90ce7e10e0714d0290d6cef215aae168": {
          "model_module": "@jupyter-widgets/controls",
          "model_name": "FloatProgressModel",
          "model_module_version": "1.5.0",
          "state": {
            "_dom_classes": [],
            "_model_module": "@jupyter-widgets/controls",
            "_model_module_version": "1.5.0",
            "_model_name": "FloatProgressModel",
            "_view_count": null,
            "_view_module": "@jupyter-widgets/controls",
            "_view_module_version": "1.5.0",
            "_view_name": "ProgressView",
            "bar_style": "success",
            "description": "",
            "description_tooltip": null,
            "layout": "IPY_MODEL_86082d6b9e3e4038b0d6d8cbbc433e28",
            "max": 50977,
            "min": 0,
            "orientation": "horizontal",
            "style": "IPY_MODEL_c28fb8116a594e3fbf3ceafbb792b838",
            "value": 50977
          }
        },
        "0d3fcd0544c64f22ae3ee6850978776c": {
          "model_module": "@jupyter-widgets/controls",
          "model_name": "HTMLModel",
          "model_module_version": "1.5.0",
          "state": {
            "_dom_classes": [],
            "_model_module": "@jupyter-widgets/controls",
            "_model_module_version": "1.5.0",
            "_model_name": "HTMLModel",
            "_view_count": null,
            "_view_module": "@jupyter-widgets/controls",
            "_view_module_version": "1.5.0",
            "_view_name": "HTMLView",
            "description": "",
            "description_tooltip": null,
            "layout": "IPY_MODEL_5b095cd584b34059982fa7d030d4285b",
            "placeholder": "​",
            "style": "IPY_MODEL_43487fbf36d8437ebd8c89cecfa4d40d",
            "value": " 51.0k/51.0k [00:00&lt;00:00, 4.71MB/s]"
          }
        },
        "fd7acb5235c448a789fe59c186e78b65": {
          "model_module": "@jupyter-widgets/base",
          "model_name": "LayoutModel",
          "model_module_version": "1.2.0",
          "state": {
            "_model_module": "@jupyter-widgets/base",
            "_model_module_version": "1.2.0",
            "_model_name": "LayoutModel",
            "_view_count": null,
            "_view_module": "@jupyter-widgets/base",
            "_view_module_version": "1.2.0",
            "_view_name": "LayoutView",
            "align_content": null,
            "align_items": null,
            "align_self": null,
            "border": null,
            "bottom": null,
            "display": null,
            "flex": null,
            "flex_flow": null,
            "grid_area": null,
            "grid_auto_columns": null,
            "grid_auto_flow": null,
            "grid_auto_rows": null,
            "grid_column": null,
            "grid_gap": null,
            "grid_row": null,
            "grid_template_areas": null,
            "grid_template_columns": null,
            "grid_template_rows": null,
            "height": null,
            "justify_content": null,
            "justify_items": null,
            "left": null,
            "margin": null,
            "max_height": null,
            "max_width": null,
            "min_height": null,
            "min_width": null,
            "object_fit": null,
            "object_position": null,
            "order": null,
            "overflow": null,
            "overflow_x": null,
            "overflow_y": null,
            "padding": null,
            "right": null,
            "top": null,
            "visibility": null,
            "width": null
          }
        },
        "abf156faa4e54bb295444e52972eb443": {
          "model_module": "@jupyter-widgets/base",
          "model_name": "LayoutModel",
          "model_module_version": "1.2.0",
          "state": {
            "_model_module": "@jupyter-widgets/base",
            "_model_module_version": "1.2.0",
            "_model_name": "LayoutModel",
            "_view_count": null,
            "_view_module": "@jupyter-widgets/base",
            "_view_module_version": "1.2.0",
            "_view_name": "LayoutView",
            "align_content": null,
            "align_items": null,
            "align_self": null,
            "border": null,
            "bottom": null,
            "display": null,
            "flex": null,
            "flex_flow": null,
            "grid_area": null,
            "grid_auto_columns": null,
            "grid_auto_flow": null,
            "grid_auto_rows": null,
            "grid_column": null,
            "grid_gap": null,
            "grid_row": null,
            "grid_template_areas": null,
            "grid_template_columns": null,
            "grid_template_rows": null,
            "height": null,
            "justify_content": null,
            "justify_items": null,
            "left": null,
            "margin": null,
            "max_height": null,
            "max_width": null,
            "min_height": null,
            "min_width": null,
            "object_fit": null,
            "object_position": null,
            "order": null,
            "overflow": null,
            "overflow_x": null,
            "overflow_y": null,
            "padding": null,
            "right": null,
            "top": null,
            "visibility": null,
            "width": null
          }
        },
        "aedfbeb4b8d84442884ef737ffaf014a": {
          "model_module": "@jupyter-widgets/controls",
          "model_name": "DescriptionStyleModel",
          "model_module_version": "1.5.0",
          "state": {
            "_model_module": "@jupyter-widgets/controls",
            "_model_module_version": "1.5.0",
            "_model_name": "DescriptionStyleModel",
            "_view_count": null,
            "_view_module": "@jupyter-widgets/base",
            "_view_module_version": "1.2.0",
            "_view_name": "StyleView",
            "description_width": ""
          }
        },
        "86082d6b9e3e4038b0d6d8cbbc433e28": {
          "model_module": "@jupyter-widgets/base",
          "model_name": "LayoutModel",
          "model_module_version": "1.2.0",
          "state": {
            "_model_module": "@jupyter-widgets/base",
            "_model_module_version": "1.2.0",
            "_model_name": "LayoutModel",
            "_view_count": null,
            "_view_module": "@jupyter-widgets/base",
            "_view_module_version": "1.2.0",
            "_view_name": "LayoutView",
            "align_content": null,
            "align_items": null,
            "align_self": null,
            "border": null,
            "bottom": null,
            "display": null,
            "flex": null,
            "flex_flow": null,
            "grid_area": null,
            "grid_auto_columns": null,
            "grid_auto_flow": null,
            "grid_auto_rows": null,
            "grid_column": null,
            "grid_gap": null,
            "grid_row": null,
            "grid_template_areas": null,
            "grid_template_columns": null,
            "grid_template_rows": null,
            "height": null,
            "justify_content": null,
            "justify_items": null,
            "left": null,
            "margin": null,
            "max_height": null,
            "max_width": null,
            "min_height": null,
            "min_width": null,
            "object_fit": null,
            "object_position": null,
            "order": null,
            "overflow": null,
            "overflow_x": null,
            "overflow_y": null,
            "padding": null,
            "right": null,
            "top": null,
            "visibility": null,
            "width": null
          }
        },
        "c28fb8116a594e3fbf3ceafbb792b838": {
          "model_module": "@jupyter-widgets/controls",
          "model_name": "ProgressStyleModel",
          "model_module_version": "1.5.0",
          "state": {
            "_model_module": "@jupyter-widgets/controls",
            "_model_module_version": "1.5.0",
            "_model_name": "ProgressStyleModel",
            "_view_count": null,
            "_view_module": "@jupyter-widgets/base",
            "_view_module_version": "1.2.0",
            "_view_name": "StyleView",
            "bar_color": null,
            "description_width": ""
          }
        },
        "5b095cd584b34059982fa7d030d4285b": {
          "model_module": "@jupyter-widgets/base",
          "model_name": "LayoutModel",
          "model_module_version": "1.2.0",
          "state": {
            "_model_module": "@jupyter-widgets/base",
            "_model_module_version": "1.2.0",
            "_model_name": "LayoutModel",
            "_view_count": null,
            "_view_module": "@jupyter-widgets/base",
            "_view_module_version": "1.2.0",
            "_view_name": "LayoutView",
            "align_content": null,
            "align_items": null,
            "align_self": null,
            "border": null,
            "bottom": null,
            "display": null,
            "flex": null,
            "flex_flow": null,
            "grid_area": null,
            "grid_auto_columns": null,
            "grid_auto_flow": null,
            "grid_auto_rows": null,
            "grid_column": null,
            "grid_gap": null,
            "grid_row": null,
            "grid_template_areas": null,
            "grid_template_columns": null,
            "grid_template_rows": null,
            "height": null,
            "justify_content": null,
            "justify_items": null,
            "left": null,
            "margin": null,
            "max_height": null,
            "max_width": null,
            "min_height": null,
            "min_width": null,
            "object_fit": null,
            "object_position": null,
            "order": null,
            "overflow": null,
            "overflow_x": null,
            "overflow_y": null,
            "padding": null,
            "right": null,
            "top": null,
            "visibility": null,
            "width": null
          }
        },
        "43487fbf36d8437ebd8c89cecfa4d40d": {
          "model_module": "@jupyter-widgets/controls",
          "model_name": "DescriptionStyleModel",
          "model_module_version": "1.5.0",
          "state": {
            "_model_module": "@jupyter-widgets/controls",
            "_model_module_version": "1.5.0",
            "_model_name": "DescriptionStyleModel",
            "_view_count": null,
            "_view_module": "@jupyter-widgets/base",
            "_view_module_version": "1.2.0",
            "_view_name": "StyleView",
            "description_width": ""
          }
        },
        "25b220449cbf4757aa0783d5a889f71c": {
          "model_module": "@jupyter-widgets/controls",
          "model_name": "HBoxModel",
          "model_module_version": "1.5.0",
          "state": {
            "_dom_classes": [],
            "_model_module": "@jupyter-widgets/controls",
            "_model_module_version": "1.5.0",
            "_model_name": "HBoxModel",
            "_view_count": null,
            "_view_module": "@jupyter-widgets/controls",
            "_view_module_version": "1.5.0",
            "_view_name": "HBoxView",
            "box_style": "",
            "children": [
              "IPY_MODEL_455ae2585dd744b48c2a626f6cb30ba9",
              "IPY_MODEL_fefe17ca8edc4bf0a279474b5963daab",
              "IPY_MODEL_16f379605d964092a206de1c6a5fcf3a"
            ],
            "layout": "IPY_MODEL_435a90e9c84b4992853d296f81087787"
          }
        },
        "455ae2585dd744b48c2a626f6cb30ba9": {
          "model_module": "@jupyter-widgets/controls",
          "model_name": "HTMLModel",
          "model_module_version": "1.5.0",
          "state": {
            "_dom_classes": [],
            "_model_module": "@jupyter-widgets/controls",
            "_model_module_version": "1.5.0",
            "_model_name": "HTMLModel",
            "_view_count": null,
            "_view_module": "@jupyter-widgets/controls",
            "_view_module_version": "1.5.0",
            "_view_name": "HTMLView",
            "description": "",
            "description_tooltip": null,
            "layout": "IPY_MODEL_53d1d57e6d8e4b73b974186fcebe49cd",
            "placeholder": "​",
            "style": "IPY_MODEL_c8bc0b8c20f742aea047001238006e0e",
            "value": "tokenizer.json: 100%"
          }
        },
        "fefe17ca8edc4bf0a279474b5963daab": {
          "model_module": "@jupyter-widgets/controls",
          "model_name": "FloatProgressModel",
          "model_module_version": "1.5.0",
          "state": {
            "_dom_classes": [],
            "_model_module": "@jupyter-widgets/controls",
            "_model_module_version": "1.5.0",
            "_model_name": "FloatProgressModel",
            "_view_count": null,
            "_view_module": "@jupyter-widgets/controls",
            "_view_module_version": "1.5.0",
            "_view_name": "ProgressView",
            "bar_style": "success",
            "description": "",
            "description_tooltip": null,
            "layout": "IPY_MODEL_477ddda652814179935446f9d92eea4a",
            "max": 9085698,
            "min": 0,
            "orientation": "horizontal",
            "style": "IPY_MODEL_2ced94fea4e149bb8c6d8b05e536d027",
            "value": 9085698
          }
        },
        "16f379605d964092a206de1c6a5fcf3a": {
          "model_module": "@jupyter-widgets/controls",
          "model_name": "HTMLModel",
          "model_module_version": "1.5.0",
          "state": {
            "_dom_classes": [],
            "_model_module": "@jupyter-widgets/controls",
            "_model_module_version": "1.5.0",
            "_model_name": "HTMLModel",
            "_view_count": null,
            "_view_module": "@jupyter-widgets/controls",
            "_view_module_version": "1.5.0",
            "_view_name": "HTMLView",
            "description": "",
            "description_tooltip": null,
            "layout": "IPY_MODEL_df3e1a68213a420196c07ee4ac9dfb47",
            "placeholder": "​",
            "style": "IPY_MODEL_20c870d316964c348e53df8ce2b23558",
            "value": " 9.09M/9.09M [00:00&lt;00:00, 12.9MB/s]"
          }
        },
        "435a90e9c84b4992853d296f81087787": {
          "model_module": "@jupyter-widgets/base",
          "model_name": "LayoutModel",
          "model_module_version": "1.2.0",
          "state": {
            "_model_module": "@jupyter-widgets/base",
            "_model_module_version": "1.2.0",
            "_model_name": "LayoutModel",
            "_view_count": null,
            "_view_module": "@jupyter-widgets/base",
            "_view_module_version": "1.2.0",
            "_view_name": "LayoutView",
            "align_content": null,
            "align_items": null,
            "align_self": null,
            "border": null,
            "bottom": null,
            "display": null,
            "flex": null,
            "flex_flow": null,
            "grid_area": null,
            "grid_auto_columns": null,
            "grid_auto_flow": null,
            "grid_auto_rows": null,
            "grid_column": null,
            "grid_gap": null,
            "grid_row": null,
            "grid_template_areas": null,
            "grid_template_columns": null,
            "grid_template_rows": null,
            "height": null,
            "justify_content": null,
            "justify_items": null,
            "left": null,
            "margin": null,
            "max_height": null,
            "max_width": null,
            "min_height": null,
            "min_width": null,
            "object_fit": null,
            "object_position": null,
            "order": null,
            "overflow": null,
            "overflow_x": null,
            "overflow_y": null,
            "padding": null,
            "right": null,
            "top": null,
            "visibility": null,
            "width": null
          }
        },
        "53d1d57e6d8e4b73b974186fcebe49cd": {
          "model_module": "@jupyter-widgets/base",
          "model_name": "LayoutModel",
          "model_module_version": "1.2.0",
          "state": {
            "_model_module": "@jupyter-widgets/base",
            "_model_module_version": "1.2.0",
            "_model_name": "LayoutModel",
            "_view_count": null,
            "_view_module": "@jupyter-widgets/base",
            "_view_module_version": "1.2.0",
            "_view_name": "LayoutView",
            "align_content": null,
            "align_items": null,
            "align_self": null,
            "border": null,
            "bottom": null,
            "display": null,
            "flex": null,
            "flex_flow": null,
            "grid_area": null,
            "grid_auto_columns": null,
            "grid_auto_flow": null,
            "grid_auto_rows": null,
            "grid_column": null,
            "grid_gap": null,
            "grid_row": null,
            "grid_template_areas": null,
            "grid_template_columns": null,
            "grid_template_rows": null,
            "height": null,
            "justify_content": null,
            "justify_items": null,
            "left": null,
            "margin": null,
            "max_height": null,
            "max_width": null,
            "min_height": null,
            "min_width": null,
            "object_fit": null,
            "object_position": null,
            "order": null,
            "overflow": null,
            "overflow_x": null,
            "overflow_y": null,
            "padding": null,
            "right": null,
            "top": null,
            "visibility": null,
            "width": null
          }
        },
        "c8bc0b8c20f742aea047001238006e0e": {
          "model_module": "@jupyter-widgets/controls",
          "model_name": "DescriptionStyleModel",
          "model_module_version": "1.5.0",
          "state": {
            "_model_module": "@jupyter-widgets/controls",
            "_model_module_version": "1.5.0",
            "_model_name": "DescriptionStyleModel",
            "_view_count": null,
            "_view_module": "@jupyter-widgets/base",
            "_view_module_version": "1.2.0",
            "_view_name": "StyleView",
            "description_width": ""
          }
        },
        "477ddda652814179935446f9d92eea4a": {
          "model_module": "@jupyter-widgets/base",
          "model_name": "LayoutModel",
          "model_module_version": "1.2.0",
          "state": {
            "_model_module": "@jupyter-widgets/base",
            "_model_module_version": "1.2.0",
            "_model_name": "LayoutModel",
            "_view_count": null,
            "_view_module": "@jupyter-widgets/base",
            "_view_module_version": "1.2.0",
            "_view_name": "LayoutView",
            "align_content": null,
            "align_items": null,
            "align_self": null,
            "border": null,
            "bottom": null,
            "display": null,
            "flex": null,
            "flex_flow": null,
            "grid_area": null,
            "grid_auto_columns": null,
            "grid_auto_flow": null,
            "grid_auto_rows": null,
            "grid_column": null,
            "grid_gap": null,
            "grid_row": null,
            "grid_template_areas": null,
            "grid_template_columns": null,
            "grid_template_rows": null,
            "height": null,
            "justify_content": null,
            "justify_items": null,
            "left": null,
            "margin": null,
            "max_height": null,
            "max_width": null,
            "min_height": null,
            "min_width": null,
            "object_fit": null,
            "object_position": null,
            "order": null,
            "overflow": null,
            "overflow_x": null,
            "overflow_y": null,
            "padding": null,
            "right": null,
            "top": null,
            "visibility": null,
            "width": null
          }
        },
        "2ced94fea4e149bb8c6d8b05e536d027": {
          "model_module": "@jupyter-widgets/controls",
          "model_name": "ProgressStyleModel",
          "model_module_version": "1.5.0",
          "state": {
            "_model_module": "@jupyter-widgets/controls",
            "_model_module_version": "1.5.0",
            "_model_name": "ProgressStyleModel",
            "_view_count": null,
            "_view_module": "@jupyter-widgets/base",
            "_view_module_version": "1.2.0",
            "_view_name": "StyleView",
            "bar_color": null,
            "description_width": ""
          }
        },
        "df3e1a68213a420196c07ee4ac9dfb47": {
          "model_module": "@jupyter-widgets/base",
          "model_name": "LayoutModel",
          "model_module_version": "1.2.0",
          "state": {
            "_model_module": "@jupyter-widgets/base",
            "_model_module_version": "1.2.0",
            "_model_name": "LayoutModel",
            "_view_count": null,
            "_view_module": "@jupyter-widgets/base",
            "_view_module_version": "1.2.0",
            "_view_name": "LayoutView",
            "align_content": null,
            "align_items": null,
            "align_self": null,
            "border": null,
            "bottom": null,
            "display": null,
            "flex": null,
            "flex_flow": null,
            "grid_area": null,
            "grid_auto_columns": null,
            "grid_auto_flow": null,
            "grid_auto_rows": null,
            "grid_column": null,
            "grid_gap": null,
            "grid_row": null,
            "grid_template_areas": null,
            "grid_template_columns": null,
            "grid_template_rows": null,
            "height": null,
            "justify_content": null,
            "justify_items": null,
            "left": null,
            "margin": null,
            "max_height": null,
            "max_width": null,
            "min_height": null,
            "min_width": null,
            "object_fit": null,
            "object_position": null,
            "order": null,
            "overflow": null,
            "overflow_x": null,
            "overflow_y": null,
            "padding": null,
            "right": null,
            "top": null,
            "visibility": null,
            "width": null
          }
        },
        "20c870d316964c348e53df8ce2b23558": {
          "model_module": "@jupyter-widgets/controls",
          "model_name": "DescriptionStyleModel",
          "model_module_version": "1.5.0",
          "state": {
            "_model_module": "@jupyter-widgets/controls",
            "_model_module_version": "1.5.0",
            "_model_name": "DescriptionStyleModel",
            "_view_count": null,
            "_view_module": "@jupyter-widgets/base",
            "_view_module_version": "1.2.0",
            "_view_name": "StyleView",
            "description_width": ""
          }
        },
        "d13e802ee7924a36b2387c047a9d983c": {
          "model_module": "@jupyter-widgets/controls",
          "model_name": "HBoxModel",
          "model_module_version": "1.5.0",
          "state": {
            "_dom_classes": [],
            "_model_module": "@jupyter-widgets/controls",
            "_model_module_version": "1.5.0",
            "_model_name": "HBoxModel",
            "_view_count": null,
            "_view_module": "@jupyter-widgets/controls",
            "_view_module_version": "1.5.0",
            "_view_name": "HBoxView",
            "box_style": "",
            "children": [
              "IPY_MODEL_04003024892b4ffd814eee2efdd7183c",
              "IPY_MODEL_8aa934399751498da197075259a6cdea",
              "IPY_MODEL_45e49ab3d1f645b08b25a9e7e663e4cf"
            ],
            "layout": "IPY_MODEL_c9a7f4610b854aa296941b64e11e424a"
          }
        },
        "04003024892b4ffd814eee2efdd7183c": {
          "model_module": "@jupyter-widgets/controls",
          "model_name": "HTMLModel",
          "model_module_version": "1.5.0",
          "state": {
            "_dom_classes": [],
            "_model_module": "@jupyter-widgets/controls",
            "_model_module_version": "1.5.0",
            "_model_name": "HTMLModel",
            "_view_count": null,
            "_view_module": "@jupyter-widgets/controls",
            "_view_module_version": "1.5.0",
            "_view_name": "HTMLView",
            "description": "",
            "description_tooltip": null,
            "layout": "IPY_MODEL_899814537b0845d18f00b8dd59d1503d",
            "placeholder": "​",
            "style": "IPY_MODEL_16cb2a82b6c04ebaaf010a41af59d749",
            "value": "special_tokens_map.json: 100%"
          }
        },
        "8aa934399751498da197075259a6cdea": {
          "model_module": "@jupyter-widgets/controls",
          "model_name": "FloatProgressModel",
          "model_module_version": "1.5.0",
          "state": {
            "_dom_classes": [],
            "_model_module": "@jupyter-widgets/controls",
            "_model_module_version": "1.5.0",
            "_model_name": "FloatProgressModel",
            "_view_count": null,
            "_view_module": "@jupyter-widgets/controls",
            "_view_module_version": "1.5.0",
            "_view_name": "ProgressView",
            "bar_style": "success",
            "description": "",
            "description_tooltip": null,
            "layout": "IPY_MODEL_66e305ee7fa54e048acad3ca460993fb",
            "max": 73,
            "min": 0,
            "orientation": "horizontal",
            "style": "IPY_MODEL_17d159b076c4430fbe8e285f9c2579df",
            "value": 73
          }
        },
        "45e49ab3d1f645b08b25a9e7e663e4cf": {
          "model_module": "@jupyter-widgets/controls",
          "model_name": "HTMLModel",
          "model_module_version": "1.5.0",
          "state": {
            "_dom_classes": [],
            "_model_module": "@jupyter-widgets/controls",
            "_model_module_version": "1.5.0",
            "_model_name": "HTMLModel",
            "_view_count": null,
            "_view_module": "@jupyter-widgets/controls",
            "_view_module_version": "1.5.0",
            "_view_name": "HTMLView",
            "description": "",
            "description_tooltip": null,
            "layout": "IPY_MODEL_b85d799045674bbe83c6ec78b7b99ae3",
            "placeholder": "​",
            "style": "IPY_MODEL_57257557f6674560a33749254d339419",
            "value": " 73.0/73.0 [00:00&lt;00:00, 8.48kB/s]"
          }
        },
        "c9a7f4610b854aa296941b64e11e424a": {
          "model_module": "@jupyter-widgets/base",
          "model_name": "LayoutModel",
          "model_module_version": "1.2.0",
          "state": {
            "_model_module": "@jupyter-widgets/base",
            "_model_module_version": "1.2.0",
            "_model_name": "LayoutModel",
            "_view_count": null,
            "_view_module": "@jupyter-widgets/base",
            "_view_module_version": "1.2.0",
            "_view_name": "LayoutView",
            "align_content": null,
            "align_items": null,
            "align_self": null,
            "border": null,
            "bottom": null,
            "display": null,
            "flex": null,
            "flex_flow": null,
            "grid_area": null,
            "grid_auto_columns": null,
            "grid_auto_flow": null,
            "grid_auto_rows": null,
            "grid_column": null,
            "grid_gap": null,
            "grid_row": null,
            "grid_template_areas": null,
            "grid_template_columns": null,
            "grid_template_rows": null,
            "height": null,
            "justify_content": null,
            "justify_items": null,
            "left": null,
            "margin": null,
            "max_height": null,
            "max_width": null,
            "min_height": null,
            "min_width": null,
            "object_fit": null,
            "object_position": null,
            "order": null,
            "overflow": null,
            "overflow_x": null,
            "overflow_y": null,
            "padding": null,
            "right": null,
            "top": null,
            "visibility": null,
            "width": null
          }
        },
        "899814537b0845d18f00b8dd59d1503d": {
          "model_module": "@jupyter-widgets/base",
          "model_name": "LayoutModel",
          "model_module_version": "1.2.0",
          "state": {
            "_model_module": "@jupyter-widgets/base",
            "_model_module_version": "1.2.0",
            "_model_name": "LayoutModel",
            "_view_count": null,
            "_view_module": "@jupyter-widgets/base",
            "_view_module_version": "1.2.0",
            "_view_name": "LayoutView",
            "align_content": null,
            "align_items": null,
            "align_self": null,
            "border": null,
            "bottom": null,
            "display": null,
            "flex": null,
            "flex_flow": null,
            "grid_area": null,
            "grid_auto_columns": null,
            "grid_auto_flow": null,
            "grid_auto_rows": null,
            "grid_column": null,
            "grid_gap": null,
            "grid_row": null,
            "grid_template_areas": null,
            "grid_template_columns": null,
            "grid_template_rows": null,
            "height": null,
            "justify_content": null,
            "justify_items": null,
            "left": null,
            "margin": null,
            "max_height": null,
            "max_width": null,
            "min_height": null,
            "min_width": null,
            "object_fit": null,
            "object_position": null,
            "order": null,
            "overflow": null,
            "overflow_x": null,
            "overflow_y": null,
            "padding": null,
            "right": null,
            "top": null,
            "visibility": null,
            "width": null
          }
        },
        "16cb2a82b6c04ebaaf010a41af59d749": {
          "model_module": "@jupyter-widgets/controls",
          "model_name": "DescriptionStyleModel",
          "model_module_version": "1.5.0",
          "state": {
            "_model_module": "@jupyter-widgets/controls",
            "_model_module_version": "1.5.0",
            "_model_name": "DescriptionStyleModel",
            "_view_count": null,
            "_view_module": "@jupyter-widgets/base",
            "_view_module_version": "1.2.0",
            "_view_name": "StyleView",
            "description_width": ""
          }
        },
        "66e305ee7fa54e048acad3ca460993fb": {
          "model_module": "@jupyter-widgets/base",
          "model_name": "LayoutModel",
          "model_module_version": "1.2.0",
          "state": {
            "_model_module": "@jupyter-widgets/base",
            "_model_module_version": "1.2.0",
            "_model_name": "LayoutModel",
            "_view_count": null,
            "_view_module": "@jupyter-widgets/base",
            "_view_module_version": "1.2.0",
            "_view_name": "LayoutView",
            "align_content": null,
            "align_items": null,
            "align_self": null,
            "border": null,
            "bottom": null,
            "display": null,
            "flex": null,
            "flex_flow": null,
            "grid_area": null,
            "grid_auto_columns": null,
            "grid_auto_flow": null,
            "grid_auto_rows": null,
            "grid_column": null,
            "grid_gap": null,
            "grid_row": null,
            "grid_template_areas": null,
            "grid_template_columns": null,
            "grid_template_rows": null,
            "height": null,
            "justify_content": null,
            "justify_items": null,
            "left": null,
            "margin": null,
            "max_height": null,
            "max_width": null,
            "min_height": null,
            "min_width": null,
            "object_fit": null,
            "object_position": null,
            "order": null,
            "overflow": null,
            "overflow_x": null,
            "overflow_y": null,
            "padding": null,
            "right": null,
            "top": null,
            "visibility": null,
            "width": null
          }
        },
        "17d159b076c4430fbe8e285f9c2579df": {
          "model_module": "@jupyter-widgets/controls",
          "model_name": "ProgressStyleModel",
          "model_module_version": "1.5.0",
          "state": {
            "_model_module": "@jupyter-widgets/controls",
            "_model_module_version": "1.5.0",
            "_model_name": "ProgressStyleModel",
            "_view_count": null,
            "_view_module": "@jupyter-widgets/base",
            "_view_module_version": "1.2.0",
            "_view_name": "StyleView",
            "bar_color": null,
            "description_width": ""
          }
        },
        "b85d799045674bbe83c6ec78b7b99ae3": {
          "model_module": "@jupyter-widgets/base",
          "model_name": "LayoutModel",
          "model_module_version": "1.2.0",
          "state": {
            "_model_module": "@jupyter-widgets/base",
            "_model_module_version": "1.2.0",
            "_model_name": "LayoutModel",
            "_view_count": null,
            "_view_module": "@jupyter-widgets/base",
            "_view_module_version": "1.2.0",
            "_view_name": "LayoutView",
            "align_content": null,
            "align_items": null,
            "align_self": null,
            "border": null,
            "bottom": null,
            "display": null,
            "flex": null,
            "flex_flow": null,
            "grid_area": null,
            "grid_auto_columns": null,
            "grid_auto_flow": null,
            "grid_auto_rows": null,
            "grid_column": null,
            "grid_gap": null,
            "grid_row": null,
            "grid_template_areas": null,
            "grid_template_columns": null,
            "grid_template_rows": null,
            "height": null,
            "justify_content": null,
            "justify_items": null,
            "left": null,
            "margin": null,
            "max_height": null,
            "max_width": null,
            "min_height": null,
            "min_width": null,
            "object_fit": null,
            "object_position": null,
            "order": null,
            "overflow": null,
            "overflow_x": null,
            "overflow_y": null,
            "padding": null,
            "right": null,
            "top": null,
            "visibility": null,
            "width": null
          }
        },
        "57257557f6674560a33749254d339419": {
          "model_module": "@jupyter-widgets/controls",
          "model_name": "DescriptionStyleModel",
          "model_module_version": "1.5.0",
          "state": {
            "_model_module": "@jupyter-widgets/controls",
            "_model_module_version": "1.5.0",
            "_model_name": "DescriptionStyleModel",
            "_view_count": null,
            "_view_module": "@jupyter-widgets/base",
            "_view_module_version": "1.2.0",
            "_view_name": "StyleView",
            "description_width": ""
          }
        },
        "cdeafe04dec64009883f8114f4f95e62": {
          "model_module": "@jupyter-widgets/controls",
          "model_name": "HBoxModel",
          "model_module_version": "1.5.0",
          "state": {
            "_dom_classes": [],
            "_model_module": "@jupyter-widgets/controls",
            "_model_module_version": "1.5.0",
            "_model_name": "HBoxModel",
            "_view_count": null,
            "_view_module": "@jupyter-widgets/controls",
            "_view_module_version": "1.5.0",
            "_view_name": "HBoxView",
            "box_style": "",
            "children": [
              "IPY_MODEL_dc4934a691c342c099afb0256a620fee",
              "IPY_MODEL_9b55ca7f731a4fd588b8fe573aef6303",
              "IPY_MODEL_b0bdcf543ba547188f89a3b4c0ed5005"
            ],
            "layout": "IPY_MODEL_4551d6f74ec143a8bf64c164330282d9"
          }
        },
        "dc4934a691c342c099afb0256a620fee": {
          "model_module": "@jupyter-widgets/controls",
          "model_name": "HTMLModel",
          "model_module_version": "1.5.0",
          "state": {
            "_dom_classes": [],
            "_model_module": "@jupyter-widgets/controls",
            "_model_module_version": "1.5.0",
            "_model_name": "HTMLModel",
            "_view_count": null,
            "_view_module": "@jupyter-widgets/controls",
            "_view_module_version": "1.5.0",
            "_view_name": "HTMLView",
            "description": "",
            "description_tooltip": null,
            "layout": "IPY_MODEL_b7bd6cb5838746a49ad9304cb942fd18",
            "placeholder": "​",
            "style": "IPY_MODEL_0595a9ddcfc54388a1b79f3a3e1d4a4a",
            "value": "config.json: 100%"
          }
        },
        "9b55ca7f731a4fd588b8fe573aef6303": {
          "model_module": "@jupyter-widgets/controls",
          "model_name": "FloatProgressModel",
          "model_module_version": "1.5.0",
          "state": {
            "_dom_classes": [],
            "_model_module": "@jupyter-widgets/controls",
            "_model_module_version": "1.5.0",
            "_model_name": "FloatProgressModel",
            "_view_count": null,
            "_view_module": "@jupyter-widgets/controls",
            "_view_module_version": "1.5.0",
            "_view_name": "ProgressView",
            "bar_style": "success",
            "description": "",
            "description_tooltip": null,
            "layout": "IPY_MODEL_b69892a819ef4fbe8e503df154c97fb0",
            "max": 654,
            "min": 0,
            "orientation": "horizontal",
            "style": "IPY_MODEL_a598a746fe21452baeca8caeab15d989",
            "value": 654
          }
        },
        "b0bdcf543ba547188f89a3b4c0ed5005": {
          "model_module": "@jupyter-widgets/controls",
          "model_name": "HTMLModel",
          "model_module_version": "1.5.0",
          "state": {
            "_dom_classes": [],
            "_model_module": "@jupyter-widgets/controls",
            "_model_module_version": "1.5.0",
            "_model_name": "HTMLModel",
            "_view_count": null,
            "_view_module": "@jupyter-widgets/controls",
            "_view_module_version": "1.5.0",
            "_view_name": "HTMLView",
            "description": "",
            "description_tooltip": null,
            "layout": "IPY_MODEL_ae6f9b20aebd4c0985b45dbe9d96c7d2",
            "placeholder": "​",
            "style": "IPY_MODEL_d512219a7fe64e9e8db4b763673c6faa",
            "value": " 654/654 [00:00&lt;00:00, 85.0kB/s]"
          }
        },
        "4551d6f74ec143a8bf64c164330282d9": {
          "model_module": "@jupyter-widgets/base",
          "model_name": "LayoutModel",
          "model_module_version": "1.2.0",
          "state": {
            "_model_module": "@jupyter-widgets/base",
            "_model_module_version": "1.2.0",
            "_model_name": "LayoutModel",
            "_view_count": null,
            "_view_module": "@jupyter-widgets/base",
            "_view_module_version": "1.2.0",
            "_view_name": "LayoutView",
            "align_content": null,
            "align_items": null,
            "align_self": null,
            "border": null,
            "bottom": null,
            "display": null,
            "flex": null,
            "flex_flow": null,
            "grid_area": null,
            "grid_auto_columns": null,
            "grid_auto_flow": null,
            "grid_auto_rows": null,
            "grid_column": null,
            "grid_gap": null,
            "grid_row": null,
            "grid_template_areas": null,
            "grid_template_columns": null,
            "grid_template_rows": null,
            "height": null,
            "justify_content": null,
            "justify_items": null,
            "left": null,
            "margin": null,
            "max_height": null,
            "max_width": null,
            "min_height": null,
            "min_width": null,
            "object_fit": null,
            "object_position": null,
            "order": null,
            "overflow": null,
            "overflow_x": null,
            "overflow_y": null,
            "padding": null,
            "right": null,
            "top": null,
            "visibility": null,
            "width": null
          }
        },
        "b7bd6cb5838746a49ad9304cb942fd18": {
          "model_module": "@jupyter-widgets/base",
          "model_name": "LayoutModel",
          "model_module_version": "1.2.0",
          "state": {
            "_model_module": "@jupyter-widgets/base",
            "_model_module_version": "1.2.0",
            "_model_name": "LayoutModel",
            "_view_count": null,
            "_view_module": "@jupyter-widgets/base",
            "_view_module_version": "1.2.0",
            "_view_name": "LayoutView",
            "align_content": null,
            "align_items": null,
            "align_self": null,
            "border": null,
            "bottom": null,
            "display": null,
            "flex": null,
            "flex_flow": null,
            "grid_area": null,
            "grid_auto_columns": null,
            "grid_auto_flow": null,
            "grid_auto_rows": null,
            "grid_column": null,
            "grid_gap": null,
            "grid_row": null,
            "grid_template_areas": null,
            "grid_template_columns": null,
            "grid_template_rows": null,
            "height": null,
            "justify_content": null,
            "justify_items": null,
            "left": null,
            "margin": null,
            "max_height": null,
            "max_width": null,
            "min_height": null,
            "min_width": null,
            "object_fit": null,
            "object_position": null,
            "order": null,
            "overflow": null,
            "overflow_x": null,
            "overflow_y": null,
            "padding": null,
            "right": null,
            "top": null,
            "visibility": null,
            "width": null
          }
        },
        "0595a9ddcfc54388a1b79f3a3e1d4a4a": {
          "model_module": "@jupyter-widgets/controls",
          "model_name": "DescriptionStyleModel",
          "model_module_version": "1.5.0",
          "state": {
            "_model_module": "@jupyter-widgets/controls",
            "_model_module_version": "1.5.0",
            "_model_name": "DescriptionStyleModel",
            "_view_count": null,
            "_view_module": "@jupyter-widgets/base",
            "_view_module_version": "1.2.0",
            "_view_name": "StyleView",
            "description_width": ""
          }
        },
        "b69892a819ef4fbe8e503df154c97fb0": {
          "model_module": "@jupyter-widgets/base",
          "model_name": "LayoutModel",
          "model_module_version": "1.2.0",
          "state": {
            "_model_module": "@jupyter-widgets/base",
            "_model_module_version": "1.2.0",
            "_model_name": "LayoutModel",
            "_view_count": null,
            "_view_module": "@jupyter-widgets/base",
            "_view_module_version": "1.2.0",
            "_view_name": "LayoutView",
            "align_content": null,
            "align_items": null,
            "align_self": null,
            "border": null,
            "bottom": null,
            "display": null,
            "flex": null,
            "flex_flow": null,
            "grid_area": null,
            "grid_auto_columns": null,
            "grid_auto_flow": null,
            "grid_auto_rows": null,
            "grid_column": null,
            "grid_gap": null,
            "grid_row": null,
            "grid_template_areas": null,
            "grid_template_columns": null,
            "grid_template_rows": null,
            "height": null,
            "justify_content": null,
            "justify_items": null,
            "left": null,
            "margin": null,
            "max_height": null,
            "max_width": null,
            "min_height": null,
            "min_width": null,
            "object_fit": null,
            "object_position": null,
            "order": null,
            "overflow": null,
            "overflow_x": null,
            "overflow_y": null,
            "padding": null,
            "right": null,
            "top": null,
            "visibility": null,
            "width": null
          }
        },
        "a598a746fe21452baeca8caeab15d989": {
          "model_module": "@jupyter-widgets/controls",
          "model_name": "ProgressStyleModel",
          "model_module_version": "1.5.0",
          "state": {
            "_model_module": "@jupyter-widgets/controls",
            "_model_module_version": "1.5.0",
            "_model_name": "ProgressStyleModel",
            "_view_count": null,
            "_view_module": "@jupyter-widgets/base",
            "_view_module_version": "1.2.0",
            "_view_name": "StyleView",
            "bar_color": null,
            "description_width": ""
          }
        },
        "ae6f9b20aebd4c0985b45dbe9d96c7d2": {
          "model_module": "@jupyter-widgets/base",
          "model_name": "LayoutModel",
          "model_module_version": "1.2.0",
          "state": {
            "_model_module": "@jupyter-widgets/base",
            "_model_module_version": "1.2.0",
            "_model_name": "LayoutModel",
            "_view_count": null,
            "_view_module": "@jupyter-widgets/base",
            "_view_module_version": "1.2.0",
            "_view_name": "LayoutView",
            "align_content": null,
            "align_items": null,
            "align_self": null,
            "border": null,
            "bottom": null,
            "display": null,
            "flex": null,
            "flex_flow": null,
            "grid_area": null,
            "grid_auto_columns": null,
            "grid_auto_flow": null,
            "grid_auto_rows": null,
            "grid_column": null,
            "grid_gap": null,
            "grid_row": null,
            "grid_template_areas": null,
            "grid_template_columns": null,
            "grid_template_rows": null,
            "height": null,
            "justify_content": null,
            "justify_items": null,
            "left": null,
            "margin": null,
            "max_height": null,
            "max_width": null,
            "min_height": null,
            "min_width": null,
            "object_fit": null,
            "object_position": null,
            "order": null,
            "overflow": null,
            "overflow_x": null,
            "overflow_y": null,
            "padding": null,
            "right": null,
            "top": null,
            "visibility": null,
            "width": null
          }
        },
        "d512219a7fe64e9e8db4b763673c6faa": {
          "model_module": "@jupyter-widgets/controls",
          "model_name": "DescriptionStyleModel",
          "model_module_version": "1.5.0",
          "state": {
            "_model_module": "@jupyter-widgets/controls",
            "_model_module_version": "1.5.0",
            "_model_name": "DescriptionStyleModel",
            "_view_count": null,
            "_view_module": "@jupyter-widgets/base",
            "_view_module_version": "1.2.0",
            "_view_name": "StyleView",
            "description_width": ""
          }
        },
        "01d846ed9ac941629afd12525be73242": {
          "model_module": "@jupyter-widgets/controls",
          "model_name": "HBoxModel",
          "model_module_version": "1.5.0",
          "state": {
            "_dom_classes": [],
            "_model_module": "@jupyter-widgets/controls",
            "_model_module_version": "1.5.0",
            "_model_name": "HBoxModel",
            "_view_count": null,
            "_view_module": "@jupyter-widgets/controls",
            "_view_module_version": "1.5.0",
            "_view_name": "HBoxView",
            "box_style": "",
            "children": [
              "IPY_MODEL_7ddbb4c664224677b0c9a8f71a79e63e",
              "IPY_MODEL_76530209937d4dc6ad38fb64718f258c",
              "IPY_MODEL_f5e4813a34cb4bdbb62c4dad16932ae6"
            ],
            "layout": "IPY_MODEL_4a8ac7ccbf8c46369547c85d7dd33d19"
          }
        },
        "7ddbb4c664224677b0c9a8f71a79e63e": {
          "model_module": "@jupyter-widgets/controls",
          "model_name": "HTMLModel",
          "model_module_version": "1.5.0",
          "state": {
            "_dom_classes": [],
            "_model_module": "@jupyter-widgets/controls",
            "_model_module_version": "1.5.0",
            "_model_name": "HTMLModel",
            "_view_count": null,
            "_view_module": "@jupyter-widgets/controls",
            "_view_module_version": "1.5.0",
            "_view_name": "HTMLView",
            "description": "",
            "description_tooltip": null,
            "layout": "IPY_MODEL_abdfe9de1d40464497bf031e18b51e30",
            "placeholder": "​",
            "style": "IPY_MODEL_aee5c92ec8f84b1daa7f199ed876bba2",
            "value": "model.safetensors.index.json: 100%"
          }
        },
        "76530209937d4dc6ad38fb64718f258c": {
          "model_module": "@jupyter-widgets/controls",
          "model_name": "FloatProgressModel",
          "model_module_version": "1.5.0",
          "state": {
            "_dom_classes": [],
            "_model_module": "@jupyter-widgets/controls",
            "_model_module_version": "1.5.0",
            "_model_name": "FloatProgressModel",
            "_view_count": null,
            "_view_module": "@jupyter-widgets/controls",
            "_view_module_version": "1.5.0",
            "_view_name": "ProgressView",
            "bar_style": "success",
            "description": "",
            "description_tooltip": null,
            "layout": "IPY_MODEL_7105da4a700444a2a58886a856a84ea1",
            "max": 23950,
            "min": 0,
            "orientation": "horizontal",
            "style": "IPY_MODEL_1c26a609d6f24dc1a9a50445dd43a3c1",
            "value": 23950
          }
        },
        "f5e4813a34cb4bdbb62c4dad16932ae6": {
          "model_module": "@jupyter-widgets/controls",
          "model_name": "HTMLModel",
          "model_module_version": "1.5.0",
          "state": {
            "_dom_classes": [],
            "_model_module": "@jupyter-widgets/controls",
            "_model_module_version": "1.5.0",
            "_model_name": "HTMLModel",
            "_view_count": null,
            "_view_module": "@jupyter-widgets/controls",
            "_view_module_version": "1.5.0",
            "_view_name": "HTMLView",
            "description": "",
            "description_tooltip": null,
            "layout": "IPY_MODEL_a0eccf5734f64bc9a9f0b56aebe746c9",
            "placeholder": "​",
            "style": "IPY_MODEL_e1089ade65d7479c99fb835430380e28",
            "value": " 23.9k/23.9k [00:00&lt;00:00, 2.51MB/s]"
          }
        },
        "4a8ac7ccbf8c46369547c85d7dd33d19": {
          "model_module": "@jupyter-widgets/base",
          "model_name": "LayoutModel",
          "model_module_version": "1.2.0",
          "state": {
            "_model_module": "@jupyter-widgets/base",
            "_model_module_version": "1.2.0",
            "_model_name": "LayoutModel",
            "_view_count": null,
            "_view_module": "@jupyter-widgets/base",
            "_view_module_version": "1.2.0",
            "_view_name": "LayoutView",
            "align_content": null,
            "align_items": null,
            "align_self": null,
            "border": null,
            "bottom": null,
            "display": null,
            "flex": null,
            "flex_flow": null,
            "grid_area": null,
            "grid_auto_columns": null,
            "grid_auto_flow": null,
            "grid_auto_rows": null,
            "grid_column": null,
            "grid_gap": null,
            "grid_row": null,
            "grid_template_areas": null,
            "grid_template_columns": null,
            "grid_template_rows": null,
            "height": null,
            "justify_content": null,
            "justify_items": null,
            "left": null,
            "margin": null,
            "max_height": null,
            "max_width": null,
            "min_height": null,
            "min_width": null,
            "object_fit": null,
            "object_position": null,
            "order": null,
            "overflow": null,
            "overflow_x": null,
            "overflow_y": null,
            "padding": null,
            "right": null,
            "top": null,
            "visibility": null,
            "width": null
          }
        },
        "abdfe9de1d40464497bf031e18b51e30": {
          "model_module": "@jupyter-widgets/base",
          "model_name": "LayoutModel",
          "model_module_version": "1.2.0",
          "state": {
            "_model_module": "@jupyter-widgets/base",
            "_model_module_version": "1.2.0",
            "_model_name": "LayoutModel",
            "_view_count": null,
            "_view_module": "@jupyter-widgets/base",
            "_view_module_version": "1.2.0",
            "_view_name": "LayoutView",
            "align_content": null,
            "align_items": null,
            "align_self": null,
            "border": null,
            "bottom": null,
            "display": null,
            "flex": null,
            "flex_flow": null,
            "grid_area": null,
            "grid_auto_columns": null,
            "grid_auto_flow": null,
            "grid_auto_rows": null,
            "grid_column": null,
            "grid_gap": null,
            "grid_row": null,
            "grid_template_areas": null,
            "grid_template_columns": null,
            "grid_template_rows": null,
            "height": null,
            "justify_content": null,
            "justify_items": null,
            "left": null,
            "margin": null,
            "max_height": null,
            "max_width": null,
            "min_height": null,
            "min_width": null,
            "object_fit": null,
            "object_position": null,
            "order": null,
            "overflow": null,
            "overflow_x": null,
            "overflow_y": null,
            "padding": null,
            "right": null,
            "top": null,
            "visibility": null,
            "width": null
          }
        },
        "aee5c92ec8f84b1daa7f199ed876bba2": {
          "model_module": "@jupyter-widgets/controls",
          "model_name": "DescriptionStyleModel",
          "model_module_version": "1.5.0",
          "state": {
            "_model_module": "@jupyter-widgets/controls",
            "_model_module_version": "1.5.0",
            "_model_name": "DescriptionStyleModel",
            "_view_count": null,
            "_view_module": "@jupyter-widgets/base",
            "_view_module_version": "1.2.0",
            "_view_name": "StyleView",
            "description_width": ""
          }
        },
        "7105da4a700444a2a58886a856a84ea1": {
          "model_module": "@jupyter-widgets/base",
          "model_name": "LayoutModel",
          "model_module_version": "1.2.0",
          "state": {
            "_model_module": "@jupyter-widgets/base",
            "_model_module_version": "1.2.0",
            "_model_name": "LayoutModel",
            "_view_count": null,
            "_view_module": "@jupyter-widgets/base",
            "_view_module_version": "1.2.0",
            "_view_name": "LayoutView",
            "align_content": null,
            "align_items": null,
            "align_self": null,
            "border": null,
            "bottom": null,
            "display": null,
            "flex": null,
            "flex_flow": null,
            "grid_area": null,
            "grid_auto_columns": null,
            "grid_auto_flow": null,
            "grid_auto_rows": null,
            "grid_column": null,
            "grid_gap": null,
            "grid_row": null,
            "grid_template_areas": null,
            "grid_template_columns": null,
            "grid_template_rows": null,
            "height": null,
            "justify_content": null,
            "justify_items": null,
            "left": null,
            "margin": null,
            "max_height": null,
            "max_width": null,
            "min_height": null,
            "min_width": null,
            "object_fit": null,
            "object_position": null,
            "order": null,
            "overflow": null,
            "overflow_x": null,
            "overflow_y": null,
            "padding": null,
            "right": null,
            "top": null,
            "visibility": null,
            "width": null
          }
        },
        "1c26a609d6f24dc1a9a50445dd43a3c1": {
          "model_module": "@jupyter-widgets/controls",
          "model_name": "ProgressStyleModel",
          "model_module_version": "1.5.0",
          "state": {
            "_model_module": "@jupyter-widgets/controls",
            "_model_module_version": "1.5.0",
            "_model_name": "ProgressStyleModel",
            "_view_count": null,
            "_view_module": "@jupyter-widgets/base",
            "_view_module_version": "1.2.0",
            "_view_name": "StyleView",
            "bar_color": null,
            "description_width": ""
          }
        },
        "a0eccf5734f64bc9a9f0b56aebe746c9": {
          "model_module": "@jupyter-widgets/base",
          "model_name": "LayoutModel",
          "model_module_version": "1.2.0",
          "state": {
            "_model_module": "@jupyter-widgets/base",
            "_model_module_version": "1.2.0",
            "_model_name": "LayoutModel",
            "_view_count": null,
            "_view_module": "@jupyter-widgets/base",
            "_view_module_version": "1.2.0",
            "_view_name": "LayoutView",
            "align_content": null,
            "align_items": null,
            "align_self": null,
            "border": null,
            "bottom": null,
            "display": null,
            "flex": null,
            "flex_flow": null,
            "grid_area": null,
            "grid_auto_columns": null,
            "grid_auto_flow": null,
            "grid_auto_rows": null,
            "grid_column": null,
            "grid_gap": null,
            "grid_row": null,
            "grid_template_areas": null,
            "grid_template_columns": null,
            "grid_template_rows": null,
            "height": null,
            "justify_content": null,
            "justify_items": null,
            "left": null,
            "margin": null,
            "max_height": null,
            "max_width": null,
            "min_height": null,
            "min_width": null,
            "object_fit": null,
            "object_position": null,
            "order": null,
            "overflow": null,
            "overflow_x": null,
            "overflow_y": null,
            "padding": null,
            "right": null,
            "top": null,
            "visibility": null,
            "width": null
          }
        },
        "e1089ade65d7479c99fb835430380e28": {
          "model_module": "@jupyter-widgets/controls",
          "model_name": "DescriptionStyleModel",
          "model_module_version": "1.5.0",
          "state": {
            "_model_module": "@jupyter-widgets/controls",
            "_model_module_version": "1.5.0",
            "_model_name": "DescriptionStyleModel",
            "_view_count": null,
            "_view_module": "@jupyter-widgets/base",
            "_view_module_version": "1.2.0",
            "_view_name": "StyleView",
            "description_width": ""
          }
        },
        "f79a7684350242ee94f077cfc32960de": {
          "model_module": "@jupyter-widgets/controls",
          "model_name": "HBoxModel",
          "model_module_version": "1.5.0",
          "state": {
            "_dom_classes": [],
            "_model_module": "@jupyter-widgets/controls",
            "_model_module_version": "1.5.0",
            "_model_name": "HBoxModel",
            "_view_count": null,
            "_view_module": "@jupyter-widgets/controls",
            "_view_module_version": "1.5.0",
            "_view_name": "HBoxView",
            "box_style": "",
            "children": [
              "IPY_MODEL_87558910337b48a08ce5cc5ed09fb82f",
              "IPY_MODEL_0c4bf0c690b44a75afaeec66690f19fd",
              "IPY_MODEL_158058dc1b01436b83af04a471a50b31"
            ],
            "layout": "IPY_MODEL_ea840cc452bf47ceb2d269bad4d2147a"
          }
        },
        "87558910337b48a08ce5cc5ed09fb82f": {
          "model_module": "@jupyter-widgets/controls",
          "model_name": "HTMLModel",
          "model_module_version": "1.5.0",
          "state": {
            "_dom_classes": [],
            "_model_module": "@jupyter-widgets/controls",
            "_model_module_version": "1.5.0",
            "_model_name": "HTMLModel",
            "_view_count": null,
            "_view_module": "@jupyter-widgets/controls",
            "_view_module_version": "1.5.0",
            "_view_name": "HTMLView",
            "description": "",
            "description_tooltip": null,
            "layout": "IPY_MODEL_c3beebff0bd74c6f8f42b02b502b9cb7",
            "placeholder": "​",
            "style": "IPY_MODEL_8da2d971c74c4ad2b02266eb05028d28",
            "value": "Fetching 4 files: 100%"
          }
        },
        "0c4bf0c690b44a75afaeec66690f19fd": {
          "model_module": "@jupyter-widgets/controls",
          "model_name": "FloatProgressModel",
          "model_module_version": "1.5.0",
          "state": {
            "_dom_classes": [],
            "_model_module": "@jupyter-widgets/controls",
            "_model_module_version": "1.5.0",
            "_model_name": "FloatProgressModel",
            "_view_count": null,
            "_view_module": "@jupyter-widgets/controls",
            "_view_module_version": "1.5.0",
            "_view_name": "ProgressView",
            "bar_style": "success",
            "description": "",
            "description_tooltip": null,
            "layout": "IPY_MODEL_b5495010687444249cc0a5832d063bf4",
            "max": 4,
            "min": 0,
            "orientation": "horizontal",
            "style": "IPY_MODEL_41e5373302d248afaacaf257fb4bf256",
            "value": 4
          }
        },
        "158058dc1b01436b83af04a471a50b31": {
          "model_module": "@jupyter-widgets/controls",
          "model_name": "HTMLModel",
          "model_module_version": "1.5.0",
          "state": {
            "_dom_classes": [],
            "_model_module": "@jupyter-widgets/controls",
            "_model_module_version": "1.5.0",
            "_model_name": "HTMLModel",
            "_view_count": null,
            "_view_module": "@jupyter-widgets/controls",
            "_view_module_version": "1.5.0",
            "_view_name": "HTMLView",
            "description": "",
            "description_tooltip": null,
            "layout": "IPY_MODEL_6611371cd9654891b27c1cb9e9b7cefb",
            "placeholder": "​",
            "style": "IPY_MODEL_5dc5eb58c20e4ebeb267d9ffaaeac1c0",
            "value": " 4/4 [00:42&lt;00:00, 42.96s/it]"
          }
        },
        "ea840cc452bf47ceb2d269bad4d2147a": {
          "model_module": "@jupyter-widgets/base",
          "model_name": "LayoutModel",
          "model_module_version": "1.2.0",
          "state": {
            "_model_module": "@jupyter-widgets/base",
            "_model_module_version": "1.2.0",
            "_model_name": "LayoutModel",
            "_view_count": null,
            "_view_module": "@jupyter-widgets/base",
            "_view_module_version": "1.2.0",
            "_view_name": "LayoutView",
            "align_content": null,
            "align_items": null,
            "align_self": null,
            "border": null,
            "bottom": null,
            "display": null,
            "flex": null,
            "flex_flow": null,
            "grid_area": null,
            "grid_auto_columns": null,
            "grid_auto_flow": null,
            "grid_auto_rows": null,
            "grid_column": null,
            "grid_gap": null,
            "grid_row": null,
            "grid_template_areas": null,
            "grid_template_columns": null,
            "grid_template_rows": null,
            "height": null,
            "justify_content": null,
            "justify_items": null,
            "left": null,
            "margin": null,
            "max_height": null,
            "max_width": null,
            "min_height": null,
            "min_width": null,
            "object_fit": null,
            "object_position": null,
            "order": null,
            "overflow": null,
            "overflow_x": null,
            "overflow_y": null,
            "padding": null,
            "right": null,
            "top": null,
            "visibility": null,
            "width": null
          }
        },
        "c3beebff0bd74c6f8f42b02b502b9cb7": {
          "model_module": "@jupyter-widgets/base",
          "model_name": "LayoutModel",
          "model_module_version": "1.2.0",
          "state": {
            "_model_module": "@jupyter-widgets/base",
            "_model_module_version": "1.2.0",
            "_model_name": "LayoutModel",
            "_view_count": null,
            "_view_module": "@jupyter-widgets/base",
            "_view_module_version": "1.2.0",
            "_view_name": "LayoutView",
            "align_content": null,
            "align_items": null,
            "align_self": null,
            "border": null,
            "bottom": null,
            "display": null,
            "flex": null,
            "flex_flow": null,
            "grid_area": null,
            "grid_auto_columns": null,
            "grid_auto_flow": null,
            "grid_auto_rows": null,
            "grid_column": null,
            "grid_gap": null,
            "grid_row": null,
            "grid_template_areas": null,
            "grid_template_columns": null,
            "grid_template_rows": null,
            "height": null,
            "justify_content": null,
            "justify_items": null,
            "left": null,
            "margin": null,
            "max_height": null,
            "max_width": null,
            "min_height": null,
            "min_width": null,
            "object_fit": null,
            "object_position": null,
            "order": null,
            "overflow": null,
            "overflow_x": null,
            "overflow_y": null,
            "padding": null,
            "right": null,
            "top": null,
            "visibility": null,
            "width": null
          }
        },
        "8da2d971c74c4ad2b02266eb05028d28": {
          "model_module": "@jupyter-widgets/controls",
          "model_name": "DescriptionStyleModel",
          "model_module_version": "1.5.0",
          "state": {
            "_model_module": "@jupyter-widgets/controls",
            "_model_module_version": "1.5.0",
            "_model_name": "DescriptionStyleModel",
            "_view_count": null,
            "_view_module": "@jupyter-widgets/base",
            "_view_module_version": "1.2.0",
            "_view_name": "StyleView",
            "description_width": ""
          }
        },
        "b5495010687444249cc0a5832d063bf4": {
          "model_module": "@jupyter-widgets/base",
          "model_name": "LayoutModel",
          "model_module_version": "1.2.0",
          "state": {
            "_model_module": "@jupyter-widgets/base",
            "_model_module_version": "1.2.0",
            "_model_name": "LayoutModel",
            "_view_count": null,
            "_view_module": "@jupyter-widgets/base",
            "_view_module_version": "1.2.0",
            "_view_name": "LayoutView",
            "align_content": null,
            "align_items": null,
            "align_self": null,
            "border": null,
            "bottom": null,
            "display": null,
            "flex": null,
            "flex_flow": null,
            "grid_area": null,
            "grid_auto_columns": null,
            "grid_auto_flow": null,
            "grid_auto_rows": null,
            "grid_column": null,
            "grid_gap": null,
            "grid_row": null,
            "grid_template_areas": null,
            "grid_template_columns": null,
            "grid_template_rows": null,
            "height": null,
            "justify_content": null,
            "justify_items": null,
            "left": null,
            "margin": null,
            "max_height": null,
            "max_width": null,
            "min_height": null,
            "min_width": null,
            "object_fit": null,
            "object_position": null,
            "order": null,
            "overflow": null,
            "overflow_x": null,
            "overflow_y": null,
            "padding": null,
            "right": null,
            "top": null,
            "visibility": null,
            "width": null
          }
        },
        "41e5373302d248afaacaf257fb4bf256": {
          "model_module": "@jupyter-widgets/controls",
          "model_name": "ProgressStyleModel",
          "model_module_version": "1.5.0",
          "state": {
            "_model_module": "@jupyter-widgets/controls",
            "_model_module_version": "1.5.0",
            "_model_name": "ProgressStyleModel",
            "_view_count": null,
            "_view_module": "@jupyter-widgets/base",
            "_view_module_version": "1.2.0",
            "_view_name": "StyleView",
            "bar_color": null,
            "description_width": ""
          }
        },
        "6611371cd9654891b27c1cb9e9b7cefb": {
          "model_module": "@jupyter-widgets/base",
          "model_name": "LayoutModel",
          "model_module_version": "1.2.0",
          "state": {
            "_model_module": "@jupyter-widgets/base",
            "_model_module_version": "1.2.0",
            "_model_name": "LayoutModel",
            "_view_count": null,
            "_view_module": "@jupyter-widgets/base",
            "_view_module_version": "1.2.0",
            "_view_name": "LayoutView",
            "align_content": null,
            "align_items": null,
            "align_self": null,
            "border": null,
            "bottom": null,
            "display": null,
            "flex": null,
            "flex_flow": null,
            "grid_area": null,
            "grid_auto_columns": null,
            "grid_auto_flow": null,
            "grid_auto_rows": null,
            "grid_column": null,
            "grid_gap": null,
            "grid_row": null,
            "grid_template_areas": null,
            "grid_template_columns": null,
            "grid_template_rows": null,
            "height": null,
            "justify_content": null,
            "justify_items": null,
            "left": null,
            "margin": null,
            "max_height": null,
            "max_width": null,
            "min_height": null,
            "min_width": null,
            "object_fit": null,
            "object_position": null,
            "order": null,
            "overflow": null,
            "overflow_x": null,
            "overflow_y": null,
            "padding": null,
            "right": null,
            "top": null,
            "visibility": null,
            "width": null
          }
        },
        "5dc5eb58c20e4ebeb267d9ffaaeac1c0": {
          "model_module": "@jupyter-widgets/controls",
          "model_name": "DescriptionStyleModel",
          "model_module_version": "1.5.0",
          "state": {
            "_model_module": "@jupyter-widgets/controls",
            "_model_module_version": "1.5.0",
            "_model_name": "DescriptionStyleModel",
            "_view_count": null,
            "_view_module": "@jupyter-widgets/base",
            "_view_module_version": "1.2.0",
            "_view_name": "StyleView",
            "description_width": ""
          }
        },
        "ac3808723b8c440589e8e72f073f3f55": {
          "model_module": "@jupyter-widgets/controls",
          "model_name": "HBoxModel",
          "model_module_version": "1.5.0",
          "state": {
            "_dom_classes": [],
            "_model_module": "@jupyter-widgets/controls",
            "_model_module_version": "1.5.0",
            "_model_name": "HBoxModel",
            "_view_count": null,
            "_view_module": "@jupyter-widgets/controls",
            "_view_module_version": "1.5.0",
            "_view_name": "HBoxView",
            "box_style": "",
            "children": [
              "IPY_MODEL_8a248f0f9e0b4aa3abbc57090ebe72fe",
              "IPY_MODEL_b65da84142df44359d540493b32f3fab",
              "IPY_MODEL_f887c14f62f74464b454d364ef0b32cc"
            ],
            "layout": "IPY_MODEL_eb3fbd35da2c471699e3a0d1ff021e47"
          }
        },
        "8a248f0f9e0b4aa3abbc57090ebe72fe": {
          "model_module": "@jupyter-widgets/controls",
          "model_name": "HTMLModel",
          "model_module_version": "1.5.0",
          "state": {
            "_dom_classes": [],
            "_model_module": "@jupyter-widgets/controls",
            "_model_module_version": "1.5.0",
            "_model_name": "HTMLModel",
            "_view_count": null,
            "_view_module": "@jupyter-widgets/controls",
            "_view_module_version": "1.5.0",
            "_view_name": "HTMLView",
            "description": "",
            "description_tooltip": null,
            "layout": "IPY_MODEL_58a4e661f7f8459f9b52cd5009f54139",
            "placeholder": "​",
            "style": "IPY_MODEL_d2a43318ae9947fe8feac8a982987d0f",
            "value": "model-00001-of-00004.safetensors: 100%"
          }
        },
        "b65da84142df44359d540493b32f3fab": {
          "model_module": "@jupyter-widgets/controls",
          "model_name": "FloatProgressModel",
          "model_module_version": "1.5.0",
          "state": {
            "_dom_classes": [],
            "_model_module": "@jupyter-widgets/controls",
            "_model_module_version": "1.5.0",
            "_model_name": "FloatProgressModel",
            "_view_count": null,
            "_view_module": "@jupyter-widgets/controls",
            "_view_module_version": "1.5.0",
            "_view_name": "ProgressView",
            "bar_style": "success",
            "description": "",
            "description_tooltip": null,
            "layout": "IPY_MODEL_70ffae3dd15e4787af2fe9117a002d2c",
            "max": 4976698672,
            "min": 0,
            "orientation": "horizontal",
            "style": "IPY_MODEL_a4ef0c6e065c4c90a186ba254280472c",
            "value": 4976698672
          }
        },
        "f887c14f62f74464b454d364ef0b32cc": {
          "model_module": "@jupyter-widgets/controls",
          "model_name": "HTMLModel",
          "model_module_version": "1.5.0",
          "state": {
            "_dom_classes": [],
            "_model_module": "@jupyter-widgets/controls",
            "_model_module_version": "1.5.0",
            "_model_name": "HTMLModel",
            "_view_count": null,
            "_view_module": "@jupyter-widgets/controls",
            "_view_module_version": "1.5.0",
            "_view_name": "HTMLView",
            "description": "",
            "description_tooltip": null,
            "layout": "IPY_MODEL_2b23657db3164f20a8027a7ac4e4df8d",
            "placeholder": "​",
            "style": "IPY_MODEL_c2f3c3edf5fe413982272392a5e6f6fb",
            "value": " 4.98G/4.98G [00:40&lt;00:00, 174MB/s]"
          }
        },
        "eb3fbd35da2c471699e3a0d1ff021e47": {
          "model_module": "@jupyter-widgets/base",
          "model_name": "LayoutModel",
          "model_module_version": "1.2.0",
          "state": {
            "_model_module": "@jupyter-widgets/base",
            "_model_module_version": "1.2.0",
            "_model_name": "LayoutModel",
            "_view_count": null,
            "_view_module": "@jupyter-widgets/base",
            "_view_module_version": "1.2.0",
            "_view_name": "LayoutView",
            "align_content": null,
            "align_items": null,
            "align_self": null,
            "border": null,
            "bottom": null,
            "display": null,
            "flex": null,
            "flex_flow": null,
            "grid_area": null,
            "grid_auto_columns": null,
            "grid_auto_flow": null,
            "grid_auto_rows": null,
            "grid_column": null,
            "grid_gap": null,
            "grid_row": null,
            "grid_template_areas": null,
            "grid_template_columns": null,
            "grid_template_rows": null,
            "height": null,
            "justify_content": null,
            "justify_items": null,
            "left": null,
            "margin": null,
            "max_height": null,
            "max_width": null,
            "min_height": null,
            "min_width": null,
            "object_fit": null,
            "object_position": null,
            "order": null,
            "overflow": null,
            "overflow_x": null,
            "overflow_y": null,
            "padding": null,
            "right": null,
            "top": null,
            "visibility": null,
            "width": null
          }
        },
        "58a4e661f7f8459f9b52cd5009f54139": {
          "model_module": "@jupyter-widgets/base",
          "model_name": "LayoutModel",
          "model_module_version": "1.2.0",
          "state": {
            "_model_module": "@jupyter-widgets/base",
            "_model_module_version": "1.2.0",
            "_model_name": "LayoutModel",
            "_view_count": null,
            "_view_module": "@jupyter-widgets/base",
            "_view_module_version": "1.2.0",
            "_view_name": "LayoutView",
            "align_content": null,
            "align_items": null,
            "align_self": null,
            "border": null,
            "bottom": null,
            "display": null,
            "flex": null,
            "flex_flow": null,
            "grid_area": null,
            "grid_auto_columns": null,
            "grid_auto_flow": null,
            "grid_auto_rows": null,
            "grid_column": null,
            "grid_gap": null,
            "grid_row": null,
            "grid_template_areas": null,
            "grid_template_columns": null,
            "grid_template_rows": null,
            "height": null,
            "justify_content": null,
            "justify_items": null,
            "left": null,
            "margin": null,
            "max_height": null,
            "max_width": null,
            "min_height": null,
            "min_width": null,
            "object_fit": null,
            "object_position": null,
            "order": null,
            "overflow": null,
            "overflow_x": null,
            "overflow_y": null,
            "padding": null,
            "right": null,
            "top": null,
            "visibility": null,
            "width": null
          }
        },
        "d2a43318ae9947fe8feac8a982987d0f": {
          "model_module": "@jupyter-widgets/controls",
          "model_name": "DescriptionStyleModel",
          "model_module_version": "1.5.0",
          "state": {
            "_model_module": "@jupyter-widgets/controls",
            "_model_module_version": "1.5.0",
            "_model_name": "DescriptionStyleModel",
            "_view_count": null,
            "_view_module": "@jupyter-widgets/base",
            "_view_module_version": "1.2.0",
            "_view_name": "StyleView",
            "description_width": ""
          }
        },
        "70ffae3dd15e4787af2fe9117a002d2c": {
          "model_module": "@jupyter-widgets/base",
          "model_name": "LayoutModel",
          "model_module_version": "1.2.0",
          "state": {
            "_model_module": "@jupyter-widgets/base",
            "_model_module_version": "1.2.0",
            "_model_name": "LayoutModel",
            "_view_count": null,
            "_view_module": "@jupyter-widgets/base",
            "_view_module_version": "1.2.0",
            "_view_name": "LayoutView",
            "align_content": null,
            "align_items": null,
            "align_self": null,
            "border": null,
            "bottom": null,
            "display": null,
            "flex": null,
            "flex_flow": null,
            "grid_area": null,
            "grid_auto_columns": null,
            "grid_auto_flow": null,
            "grid_auto_rows": null,
            "grid_column": null,
            "grid_gap": null,
            "grid_row": null,
            "grid_template_areas": null,
            "grid_template_columns": null,
            "grid_template_rows": null,
            "height": null,
            "justify_content": null,
            "justify_items": null,
            "left": null,
            "margin": null,
            "max_height": null,
            "max_width": null,
            "min_height": null,
            "min_width": null,
            "object_fit": null,
            "object_position": null,
            "order": null,
            "overflow": null,
            "overflow_x": null,
            "overflow_y": null,
            "padding": null,
            "right": null,
            "top": null,
            "visibility": null,
            "width": null
          }
        },
        "a4ef0c6e065c4c90a186ba254280472c": {
          "model_module": "@jupyter-widgets/controls",
          "model_name": "ProgressStyleModel",
          "model_module_version": "1.5.0",
          "state": {
            "_model_module": "@jupyter-widgets/controls",
            "_model_module_version": "1.5.0",
            "_model_name": "ProgressStyleModel",
            "_view_count": null,
            "_view_module": "@jupyter-widgets/base",
            "_view_module_version": "1.2.0",
            "_view_name": "StyleView",
            "bar_color": null,
            "description_width": ""
          }
        },
        "2b23657db3164f20a8027a7ac4e4df8d": {
          "model_module": "@jupyter-widgets/base",
          "model_name": "LayoutModel",
          "model_module_version": "1.2.0",
          "state": {
            "_model_module": "@jupyter-widgets/base",
            "_model_module_version": "1.2.0",
            "_model_name": "LayoutModel",
            "_view_count": null,
            "_view_module": "@jupyter-widgets/base",
            "_view_module_version": "1.2.0",
            "_view_name": "LayoutView",
            "align_content": null,
            "align_items": null,
            "align_self": null,
            "border": null,
            "bottom": null,
            "display": null,
            "flex": null,
            "flex_flow": null,
            "grid_area": null,
            "grid_auto_columns": null,
            "grid_auto_flow": null,
            "grid_auto_rows": null,
            "grid_column": null,
            "grid_gap": null,
            "grid_row": null,
            "grid_template_areas": null,
            "grid_template_columns": null,
            "grid_template_rows": null,
            "height": null,
            "justify_content": null,
            "justify_items": null,
            "left": null,
            "margin": null,
            "max_height": null,
            "max_width": null,
            "min_height": null,
            "min_width": null,
            "object_fit": null,
            "object_position": null,
            "order": null,
            "overflow": null,
            "overflow_x": null,
            "overflow_y": null,
            "padding": null,
            "right": null,
            "top": null,
            "visibility": null,
            "width": null
          }
        },
        "c2f3c3edf5fe413982272392a5e6f6fb": {
          "model_module": "@jupyter-widgets/controls",
          "model_name": "DescriptionStyleModel",
          "model_module_version": "1.5.0",
          "state": {
            "_model_module": "@jupyter-widgets/controls",
            "_model_module_version": "1.5.0",
            "_model_name": "DescriptionStyleModel",
            "_view_count": null,
            "_view_module": "@jupyter-widgets/base",
            "_view_module_version": "1.2.0",
            "_view_name": "StyleView",
            "description_width": ""
          }
        },
        "82819360a80f4ea7a47c4c7f3d98944c": {
          "model_module": "@jupyter-widgets/controls",
          "model_name": "HBoxModel",
          "model_module_version": "1.5.0",
          "state": {
            "_dom_classes": [],
            "_model_module": "@jupyter-widgets/controls",
            "_model_module_version": "1.5.0",
            "_model_name": "HBoxModel",
            "_view_count": null,
            "_view_module": "@jupyter-widgets/controls",
            "_view_module_version": "1.5.0",
            "_view_name": "HBoxView",
            "box_style": "",
            "children": [
              "IPY_MODEL_54ee0dca47874592977d42fc2e3747f3",
              "IPY_MODEL_42b605dc40db4bdfbf565be52277f9e1",
              "IPY_MODEL_daddcd06b09e4ee6a943fd3b88b7622d"
            ],
            "layout": "IPY_MODEL_07c300d362eb4699b009b4e03722e870"
          }
        },
        "54ee0dca47874592977d42fc2e3747f3": {
          "model_module": "@jupyter-widgets/controls",
          "model_name": "HTMLModel",
          "model_module_version": "1.5.0",
          "state": {
            "_dom_classes": [],
            "_model_module": "@jupyter-widgets/controls",
            "_model_module_version": "1.5.0",
            "_model_name": "HTMLModel",
            "_view_count": null,
            "_view_module": "@jupyter-widgets/controls",
            "_view_module_version": "1.5.0",
            "_view_name": "HTMLView",
            "description": "",
            "description_tooltip": null,
            "layout": "IPY_MODEL_b3812c565486472f8935cd5493b526f7",
            "placeholder": "​",
            "style": "IPY_MODEL_2f135bde71d84df09eaf451aaf6c6303",
            "value": "model-00003-of-00004.safetensors: 100%"
          }
        },
        "42b605dc40db4bdfbf565be52277f9e1": {
          "model_module": "@jupyter-widgets/controls",
          "model_name": "FloatProgressModel",
          "model_module_version": "1.5.0",
          "state": {
            "_dom_classes": [],
            "_model_module": "@jupyter-widgets/controls",
            "_model_module_version": "1.5.0",
            "_model_name": "FloatProgressModel",
            "_view_count": null,
            "_view_module": "@jupyter-widgets/controls",
            "_view_module_version": "1.5.0",
            "_view_name": "ProgressView",
            "bar_style": "success",
            "description": "",
            "description_tooltip": null,
            "layout": "IPY_MODEL_3ec3e1b86f284bb5aa51cbe121ec2338",
            "max": 4915916176,
            "min": 0,
            "orientation": "horizontal",
            "style": "IPY_MODEL_3a12a48024be4bb8960cfa182fb31c18",
            "value": 4915916176
          }
        },
        "daddcd06b09e4ee6a943fd3b88b7622d": {
          "model_module": "@jupyter-widgets/controls",
          "model_name": "HTMLModel",
          "model_module_version": "1.5.0",
          "state": {
            "_dom_classes": [],
            "_model_module": "@jupyter-widgets/controls",
            "_model_module_version": "1.5.0",
            "_model_name": "HTMLModel",
            "_view_count": null,
            "_view_module": "@jupyter-widgets/controls",
            "_view_module_version": "1.5.0",
            "_view_name": "HTMLView",
            "description": "",
            "description_tooltip": null,
            "layout": "IPY_MODEL_05046863c36e49ac8bc87fbe9e015919",
            "placeholder": "​",
            "style": "IPY_MODEL_c22a1da39bae41269217d42adb5b6265",
            "value": " 4.92G/4.92G [00:40&lt;00:00, 109MB/s]"
          }
        },
        "07c300d362eb4699b009b4e03722e870": {
          "model_module": "@jupyter-widgets/base",
          "model_name": "LayoutModel",
          "model_module_version": "1.2.0",
          "state": {
            "_model_module": "@jupyter-widgets/base",
            "_model_module_version": "1.2.0",
            "_model_name": "LayoutModel",
            "_view_count": null,
            "_view_module": "@jupyter-widgets/base",
            "_view_module_version": "1.2.0",
            "_view_name": "LayoutView",
            "align_content": null,
            "align_items": null,
            "align_self": null,
            "border": null,
            "bottom": null,
            "display": null,
            "flex": null,
            "flex_flow": null,
            "grid_area": null,
            "grid_auto_columns": null,
            "grid_auto_flow": null,
            "grid_auto_rows": null,
            "grid_column": null,
            "grid_gap": null,
            "grid_row": null,
            "grid_template_areas": null,
            "grid_template_columns": null,
            "grid_template_rows": null,
            "height": null,
            "justify_content": null,
            "justify_items": null,
            "left": null,
            "margin": null,
            "max_height": null,
            "max_width": null,
            "min_height": null,
            "min_width": null,
            "object_fit": null,
            "object_position": null,
            "order": null,
            "overflow": null,
            "overflow_x": null,
            "overflow_y": null,
            "padding": null,
            "right": null,
            "top": null,
            "visibility": null,
            "width": null
          }
        },
        "b3812c565486472f8935cd5493b526f7": {
          "model_module": "@jupyter-widgets/base",
          "model_name": "LayoutModel",
          "model_module_version": "1.2.0",
          "state": {
            "_model_module": "@jupyter-widgets/base",
            "_model_module_version": "1.2.0",
            "_model_name": "LayoutModel",
            "_view_count": null,
            "_view_module": "@jupyter-widgets/base",
            "_view_module_version": "1.2.0",
            "_view_name": "LayoutView",
            "align_content": null,
            "align_items": null,
            "align_self": null,
            "border": null,
            "bottom": null,
            "display": null,
            "flex": null,
            "flex_flow": null,
            "grid_area": null,
            "grid_auto_columns": null,
            "grid_auto_flow": null,
            "grid_auto_rows": null,
            "grid_column": null,
            "grid_gap": null,
            "grid_row": null,
            "grid_template_areas": null,
            "grid_template_columns": null,
            "grid_template_rows": null,
            "height": null,
            "justify_content": null,
            "justify_items": null,
            "left": null,
            "margin": null,
            "max_height": null,
            "max_width": null,
            "min_height": null,
            "min_width": null,
            "object_fit": null,
            "object_position": null,
            "order": null,
            "overflow": null,
            "overflow_x": null,
            "overflow_y": null,
            "padding": null,
            "right": null,
            "top": null,
            "visibility": null,
            "width": null
          }
        },
        "2f135bde71d84df09eaf451aaf6c6303": {
          "model_module": "@jupyter-widgets/controls",
          "model_name": "DescriptionStyleModel",
          "model_module_version": "1.5.0",
          "state": {
            "_model_module": "@jupyter-widgets/controls",
            "_model_module_version": "1.5.0",
            "_model_name": "DescriptionStyleModel",
            "_view_count": null,
            "_view_module": "@jupyter-widgets/base",
            "_view_module_version": "1.2.0",
            "_view_name": "StyleView",
            "description_width": ""
          }
        },
        "3ec3e1b86f284bb5aa51cbe121ec2338": {
          "model_module": "@jupyter-widgets/base",
          "model_name": "LayoutModel",
          "model_module_version": "1.2.0",
          "state": {
            "_model_module": "@jupyter-widgets/base",
            "_model_module_version": "1.2.0",
            "_model_name": "LayoutModel",
            "_view_count": null,
            "_view_module": "@jupyter-widgets/base",
            "_view_module_version": "1.2.0",
            "_view_name": "LayoutView",
            "align_content": null,
            "align_items": null,
            "align_self": null,
            "border": null,
            "bottom": null,
            "display": null,
            "flex": null,
            "flex_flow": null,
            "grid_area": null,
            "grid_auto_columns": null,
            "grid_auto_flow": null,
            "grid_auto_rows": null,
            "grid_column": null,
            "grid_gap": null,
            "grid_row": null,
            "grid_template_areas": null,
            "grid_template_columns": null,
            "grid_template_rows": null,
            "height": null,
            "justify_content": null,
            "justify_items": null,
            "left": null,
            "margin": null,
            "max_height": null,
            "max_width": null,
            "min_height": null,
            "min_width": null,
            "object_fit": null,
            "object_position": null,
            "order": null,
            "overflow": null,
            "overflow_x": null,
            "overflow_y": null,
            "padding": null,
            "right": null,
            "top": null,
            "visibility": null,
            "width": null
          }
        },
        "3a12a48024be4bb8960cfa182fb31c18": {
          "model_module": "@jupyter-widgets/controls",
          "model_name": "ProgressStyleModel",
          "model_module_version": "1.5.0",
          "state": {
            "_model_module": "@jupyter-widgets/controls",
            "_model_module_version": "1.5.0",
            "_model_name": "ProgressStyleModel",
            "_view_count": null,
            "_view_module": "@jupyter-widgets/base",
            "_view_module_version": "1.2.0",
            "_view_name": "StyleView",
            "bar_color": null,
            "description_width": ""
          }
        },
        "05046863c36e49ac8bc87fbe9e015919": {
          "model_module": "@jupyter-widgets/base",
          "model_name": "LayoutModel",
          "model_module_version": "1.2.0",
          "state": {
            "_model_module": "@jupyter-widgets/base",
            "_model_module_version": "1.2.0",
            "_model_name": "LayoutModel",
            "_view_count": null,
            "_view_module": "@jupyter-widgets/base",
            "_view_module_version": "1.2.0",
            "_view_name": "LayoutView",
            "align_content": null,
            "align_items": null,
            "align_self": null,
            "border": null,
            "bottom": null,
            "display": null,
            "flex": null,
            "flex_flow": null,
            "grid_area": null,
            "grid_auto_columns": null,
            "grid_auto_flow": null,
            "grid_auto_rows": null,
            "grid_column": null,
            "grid_gap": null,
            "grid_row": null,
            "grid_template_areas": null,
            "grid_template_columns": null,
            "grid_template_rows": null,
            "height": null,
            "justify_content": null,
            "justify_items": null,
            "left": null,
            "margin": null,
            "max_height": null,
            "max_width": null,
            "min_height": null,
            "min_width": null,
            "object_fit": null,
            "object_position": null,
            "order": null,
            "overflow": null,
            "overflow_x": null,
            "overflow_y": null,
            "padding": null,
            "right": null,
            "top": null,
            "visibility": null,
            "width": null
          }
        },
        "c22a1da39bae41269217d42adb5b6265": {
          "model_module": "@jupyter-widgets/controls",
          "model_name": "DescriptionStyleModel",
          "model_module_version": "1.5.0",
          "state": {
            "_model_module": "@jupyter-widgets/controls",
            "_model_module_version": "1.5.0",
            "_model_name": "DescriptionStyleModel",
            "_view_count": null,
            "_view_module": "@jupyter-widgets/base",
            "_view_module_version": "1.2.0",
            "_view_name": "StyleView",
            "description_width": ""
          }
        },
        "05fd3e3ad2724ea5ac239614288cbe1c": {
          "model_module": "@jupyter-widgets/controls",
          "model_name": "HBoxModel",
          "model_module_version": "1.5.0",
          "state": {
            "_dom_classes": [],
            "_model_module": "@jupyter-widgets/controls",
            "_model_module_version": "1.5.0",
            "_model_name": "HBoxModel",
            "_view_count": null,
            "_view_module": "@jupyter-widgets/controls",
            "_view_module_version": "1.5.0",
            "_view_name": "HBoxView",
            "box_style": "",
            "children": [
              "IPY_MODEL_a312c64bde7d4ff4b18819f8e9a7ef35",
              "IPY_MODEL_5cc0dcad44254715aed99f7956833a12",
              "IPY_MODEL_78c7cb572dff4b1997aa50ccfccb5c72"
            ],
            "layout": "IPY_MODEL_1ef5cf48244c4996bf8551ffc88bfe82"
          }
        },
        "a312c64bde7d4ff4b18819f8e9a7ef35": {
          "model_module": "@jupyter-widgets/controls",
          "model_name": "HTMLModel",
          "model_module_version": "1.5.0",
          "state": {
            "_dom_classes": [],
            "_model_module": "@jupyter-widgets/controls",
            "_model_module_version": "1.5.0",
            "_model_name": "HTMLModel",
            "_view_count": null,
            "_view_module": "@jupyter-widgets/controls",
            "_view_module_version": "1.5.0",
            "_view_name": "HTMLView",
            "description": "",
            "description_tooltip": null,
            "layout": "IPY_MODEL_177a33351d364fe780717686e35f9730",
            "placeholder": "​",
            "style": "IPY_MODEL_756051ef756f4598a58eabeece972424",
            "value": "model-00004-of-00004.safetensors: 100%"
          }
        },
        "5cc0dcad44254715aed99f7956833a12": {
          "model_module": "@jupyter-widgets/controls",
          "model_name": "FloatProgressModel",
          "model_module_version": "1.5.0",
          "state": {
            "_dom_classes": [],
            "_model_module": "@jupyter-widgets/controls",
            "_model_module_version": "1.5.0",
            "_model_name": "FloatProgressModel",
            "_view_count": null,
            "_view_module": "@jupyter-widgets/controls",
            "_view_module_version": "1.5.0",
            "_view_name": "ProgressView",
            "bar_style": "success",
            "description": "",
            "description_tooltip": null,
            "layout": "IPY_MODEL_71bd81b646b5454bbe26cbfcb1080eb7",
            "max": 1168138808,
            "min": 0,
            "orientation": "horizontal",
            "style": "IPY_MODEL_a385bd9872564aa99a115aa753a6cc32",
            "value": 1168138808
          }
        },
        "78c7cb572dff4b1997aa50ccfccb5c72": {
          "model_module": "@jupyter-widgets/controls",
          "model_name": "HTMLModel",
          "model_module_version": "1.5.0",
          "state": {
            "_dom_classes": [],
            "_model_module": "@jupyter-widgets/controls",
            "_model_module_version": "1.5.0",
            "_model_name": "HTMLModel",
            "_view_count": null,
            "_view_module": "@jupyter-widgets/controls",
            "_view_module_version": "1.5.0",
            "_view_name": "HTMLView",
            "description": "",
            "description_tooltip": null,
            "layout": "IPY_MODEL_7eab998e16434a16933ead4017ec990e",
            "placeholder": "​",
            "style": "IPY_MODEL_5381cf11ab2d4eeb8b9f9831156e1051",
            "value": " 1.17G/1.17G [00:09&lt;00:00, 76.5MB/s]"
          }
        },
        "1ef5cf48244c4996bf8551ffc88bfe82": {
          "model_module": "@jupyter-widgets/base",
          "model_name": "LayoutModel",
          "model_module_version": "1.2.0",
          "state": {
            "_model_module": "@jupyter-widgets/base",
            "_model_module_version": "1.2.0",
            "_model_name": "LayoutModel",
            "_view_count": null,
            "_view_module": "@jupyter-widgets/base",
            "_view_module_version": "1.2.0",
            "_view_name": "LayoutView",
            "align_content": null,
            "align_items": null,
            "align_self": null,
            "border": null,
            "bottom": null,
            "display": null,
            "flex": null,
            "flex_flow": null,
            "grid_area": null,
            "grid_auto_columns": null,
            "grid_auto_flow": null,
            "grid_auto_rows": null,
            "grid_column": null,
            "grid_gap": null,
            "grid_row": null,
            "grid_template_areas": null,
            "grid_template_columns": null,
            "grid_template_rows": null,
            "height": null,
            "justify_content": null,
            "justify_items": null,
            "left": null,
            "margin": null,
            "max_height": null,
            "max_width": null,
            "min_height": null,
            "min_width": null,
            "object_fit": null,
            "object_position": null,
            "order": null,
            "overflow": null,
            "overflow_x": null,
            "overflow_y": null,
            "padding": null,
            "right": null,
            "top": null,
            "visibility": null,
            "width": null
          }
        },
        "177a33351d364fe780717686e35f9730": {
          "model_module": "@jupyter-widgets/base",
          "model_name": "LayoutModel",
          "model_module_version": "1.2.0",
          "state": {
            "_model_module": "@jupyter-widgets/base",
            "_model_module_version": "1.2.0",
            "_model_name": "LayoutModel",
            "_view_count": null,
            "_view_module": "@jupyter-widgets/base",
            "_view_module_version": "1.2.0",
            "_view_name": "LayoutView",
            "align_content": null,
            "align_items": null,
            "align_self": null,
            "border": null,
            "bottom": null,
            "display": null,
            "flex": null,
            "flex_flow": null,
            "grid_area": null,
            "grid_auto_columns": null,
            "grid_auto_flow": null,
            "grid_auto_rows": null,
            "grid_column": null,
            "grid_gap": null,
            "grid_row": null,
            "grid_template_areas": null,
            "grid_template_columns": null,
            "grid_template_rows": null,
            "height": null,
            "justify_content": null,
            "justify_items": null,
            "left": null,
            "margin": null,
            "max_height": null,
            "max_width": null,
            "min_height": null,
            "min_width": null,
            "object_fit": null,
            "object_position": null,
            "order": null,
            "overflow": null,
            "overflow_x": null,
            "overflow_y": null,
            "padding": null,
            "right": null,
            "top": null,
            "visibility": null,
            "width": null
          }
        },
        "756051ef756f4598a58eabeece972424": {
          "model_module": "@jupyter-widgets/controls",
          "model_name": "DescriptionStyleModel",
          "model_module_version": "1.5.0",
          "state": {
            "_model_module": "@jupyter-widgets/controls",
            "_model_module_version": "1.5.0",
            "_model_name": "DescriptionStyleModel",
            "_view_count": null,
            "_view_module": "@jupyter-widgets/base",
            "_view_module_version": "1.2.0",
            "_view_name": "StyleView",
            "description_width": ""
          }
        },
        "71bd81b646b5454bbe26cbfcb1080eb7": {
          "model_module": "@jupyter-widgets/base",
          "model_name": "LayoutModel",
          "model_module_version": "1.2.0",
          "state": {
            "_model_module": "@jupyter-widgets/base",
            "_model_module_version": "1.2.0",
            "_model_name": "LayoutModel",
            "_view_count": null,
            "_view_module": "@jupyter-widgets/base",
            "_view_module_version": "1.2.0",
            "_view_name": "LayoutView",
            "align_content": null,
            "align_items": null,
            "align_self": null,
            "border": null,
            "bottom": null,
            "display": null,
            "flex": null,
            "flex_flow": null,
            "grid_area": null,
            "grid_auto_columns": null,
            "grid_auto_flow": null,
            "grid_auto_rows": null,
            "grid_column": null,
            "grid_gap": null,
            "grid_row": null,
            "grid_template_areas": null,
            "grid_template_columns": null,
            "grid_template_rows": null,
            "height": null,
            "justify_content": null,
            "justify_items": null,
            "left": null,
            "margin": null,
            "max_height": null,
            "max_width": null,
            "min_height": null,
            "min_width": null,
            "object_fit": null,
            "object_position": null,
            "order": null,
            "overflow": null,
            "overflow_x": null,
            "overflow_y": null,
            "padding": null,
            "right": null,
            "top": null,
            "visibility": null,
            "width": null
          }
        },
        "a385bd9872564aa99a115aa753a6cc32": {
          "model_module": "@jupyter-widgets/controls",
          "model_name": "ProgressStyleModel",
          "model_module_version": "1.5.0",
          "state": {
            "_model_module": "@jupyter-widgets/controls",
            "_model_module_version": "1.5.0",
            "_model_name": "ProgressStyleModel",
            "_view_count": null,
            "_view_module": "@jupyter-widgets/base",
            "_view_module_version": "1.2.0",
            "_view_name": "StyleView",
            "bar_color": null,
            "description_width": ""
          }
        },
        "7eab998e16434a16933ead4017ec990e": {
          "model_module": "@jupyter-widgets/base",
          "model_name": "LayoutModel",
          "model_module_version": "1.2.0",
          "state": {
            "_model_module": "@jupyter-widgets/base",
            "_model_module_version": "1.2.0",
            "_model_name": "LayoutModel",
            "_view_count": null,
            "_view_module": "@jupyter-widgets/base",
            "_view_module_version": "1.2.0",
            "_view_name": "LayoutView",
            "align_content": null,
            "align_items": null,
            "align_self": null,
            "border": null,
            "bottom": null,
            "display": null,
            "flex": null,
            "flex_flow": null,
            "grid_area": null,
            "grid_auto_columns": null,
            "grid_auto_flow": null,
            "grid_auto_rows": null,
            "grid_column": null,
            "grid_gap": null,
            "grid_row": null,
            "grid_template_areas": null,
            "grid_template_columns": null,
            "grid_template_rows": null,
            "height": null,
            "justify_content": null,
            "justify_items": null,
            "left": null,
            "margin": null,
            "max_height": null,
            "max_width": null,
            "min_height": null,
            "min_width": null,
            "object_fit": null,
            "object_position": null,
            "order": null,
            "overflow": null,
            "overflow_x": null,
            "overflow_y": null,
            "padding": null,
            "right": null,
            "top": null,
            "visibility": null,
            "width": null
          }
        },
        "5381cf11ab2d4eeb8b9f9831156e1051": {
          "model_module": "@jupyter-widgets/controls",
          "model_name": "DescriptionStyleModel",
          "model_module_version": "1.5.0",
          "state": {
            "_model_module": "@jupyter-widgets/controls",
            "_model_module_version": "1.5.0",
            "_model_name": "DescriptionStyleModel",
            "_view_count": null,
            "_view_module": "@jupyter-widgets/base",
            "_view_module_version": "1.2.0",
            "_view_name": "StyleView",
            "description_width": ""
          }
        },
        "06a5a78b8fa84c3aa7f1ee3994d994e4": {
          "model_module": "@jupyter-widgets/controls",
          "model_name": "HBoxModel",
          "model_module_version": "1.5.0",
          "state": {
            "_dom_classes": [],
            "_model_module": "@jupyter-widgets/controls",
            "_model_module_version": "1.5.0",
            "_model_name": "HBoxModel",
            "_view_count": null,
            "_view_module": "@jupyter-widgets/controls",
            "_view_module_version": "1.5.0",
            "_view_name": "HBoxView",
            "box_style": "",
            "children": [
              "IPY_MODEL_9d98662712e14614acda67d6c6df7cca",
              "IPY_MODEL_fc5c4a13c65c4cd28e9198684cba5708",
              "IPY_MODEL_0042b1922b4e4d54b6d707a032a04992"
            ],
            "layout": "IPY_MODEL_a9b0a118349443be8d7211fad4a747e1"
          }
        },
        "9d98662712e14614acda67d6c6df7cca": {
          "model_module": "@jupyter-widgets/controls",
          "model_name": "HTMLModel",
          "model_module_version": "1.5.0",
          "state": {
            "_dom_classes": [],
            "_model_module": "@jupyter-widgets/controls",
            "_model_module_version": "1.5.0",
            "_model_name": "HTMLModel",
            "_view_count": null,
            "_view_module": "@jupyter-widgets/controls",
            "_view_module_version": "1.5.0",
            "_view_name": "HTMLView",
            "description": "",
            "description_tooltip": null,
            "layout": "IPY_MODEL_a4bc97bb83624cdda1e9e8bfff918542",
            "placeholder": "​",
            "style": "IPY_MODEL_9b9b2472bf6b40e5b194739612dcfd60",
            "value": "model-00002-of-00004.safetensors: 100%"
          }
        },
        "fc5c4a13c65c4cd28e9198684cba5708": {
          "model_module": "@jupyter-widgets/controls",
          "model_name": "FloatProgressModel",
          "model_module_version": "1.5.0",
          "state": {
            "_dom_classes": [],
            "_model_module": "@jupyter-widgets/controls",
            "_model_module_version": "1.5.0",
            "_model_name": "FloatProgressModel",
            "_view_count": null,
            "_view_module": "@jupyter-widgets/controls",
            "_view_module_version": "1.5.0",
            "_view_name": "ProgressView",
            "bar_style": "success",
            "description": "",
            "description_tooltip": null,
            "layout": "IPY_MODEL_cb50dad494aa4aa58fd29d649086a591",
            "max": 4999802720,
            "min": 0,
            "orientation": "horizontal",
            "style": "IPY_MODEL_551d18d82cdc45b19402e6e85d7e83d6",
            "value": 4999802720
          }
        },
        "0042b1922b4e4d54b6d707a032a04992": {
          "model_module": "@jupyter-widgets/controls",
          "model_name": "HTMLModel",
          "model_module_version": "1.5.0",
          "state": {
            "_dom_classes": [],
            "_model_module": "@jupyter-widgets/controls",
            "_model_module_version": "1.5.0",
            "_model_name": "HTMLModel",
            "_view_count": null,
            "_view_module": "@jupyter-widgets/controls",
            "_view_module_version": "1.5.0",
            "_view_name": "HTMLView",
            "description": "",
            "description_tooltip": null,
            "layout": "IPY_MODEL_eb7e759801b6455d82ed577e3bfbc120",
            "placeholder": "​",
            "style": "IPY_MODEL_7e6881bf407047e4b75aa87e910afc66",
            "value": " 5.00G/5.00G [00:41&lt;00:00, 258MB/s]"
          }
        },
        "a9b0a118349443be8d7211fad4a747e1": {
          "model_module": "@jupyter-widgets/base",
          "model_name": "LayoutModel",
          "model_module_version": "1.2.0",
          "state": {
            "_model_module": "@jupyter-widgets/base",
            "_model_module_version": "1.2.0",
            "_model_name": "LayoutModel",
            "_view_count": null,
            "_view_module": "@jupyter-widgets/base",
            "_view_module_version": "1.2.0",
            "_view_name": "LayoutView",
            "align_content": null,
            "align_items": null,
            "align_self": null,
            "border": null,
            "bottom": null,
            "display": null,
            "flex": null,
            "flex_flow": null,
            "grid_area": null,
            "grid_auto_columns": null,
            "grid_auto_flow": null,
            "grid_auto_rows": null,
            "grid_column": null,
            "grid_gap": null,
            "grid_row": null,
            "grid_template_areas": null,
            "grid_template_columns": null,
            "grid_template_rows": null,
            "height": null,
            "justify_content": null,
            "justify_items": null,
            "left": null,
            "margin": null,
            "max_height": null,
            "max_width": null,
            "min_height": null,
            "min_width": null,
            "object_fit": null,
            "object_position": null,
            "order": null,
            "overflow": null,
            "overflow_x": null,
            "overflow_y": null,
            "padding": null,
            "right": null,
            "top": null,
            "visibility": null,
            "width": null
          }
        },
        "a4bc97bb83624cdda1e9e8bfff918542": {
          "model_module": "@jupyter-widgets/base",
          "model_name": "LayoutModel",
          "model_module_version": "1.2.0",
          "state": {
            "_model_module": "@jupyter-widgets/base",
            "_model_module_version": "1.2.0",
            "_model_name": "LayoutModel",
            "_view_count": null,
            "_view_module": "@jupyter-widgets/base",
            "_view_module_version": "1.2.0",
            "_view_name": "LayoutView",
            "align_content": null,
            "align_items": null,
            "align_self": null,
            "border": null,
            "bottom": null,
            "display": null,
            "flex": null,
            "flex_flow": null,
            "grid_area": null,
            "grid_auto_columns": null,
            "grid_auto_flow": null,
            "grid_auto_rows": null,
            "grid_column": null,
            "grid_gap": null,
            "grid_row": null,
            "grid_template_areas": null,
            "grid_template_columns": null,
            "grid_template_rows": null,
            "height": null,
            "justify_content": null,
            "justify_items": null,
            "left": null,
            "margin": null,
            "max_height": null,
            "max_width": null,
            "min_height": null,
            "min_width": null,
            "object_fit": null,
            "object_position": null,
            "order": null,
            "overflow": null,
            "overflow_x": null,
            "overflow_y": null,
            "padding": null,
            "right": null,
            "top": null,
            "visibility": null,
            "width": null
          }
        },
        "9b9b2472bf6b40e5b194739612dcfd60": {
          "model_module": "@jupyter-widgets/controls",
          "model_name": "DescriptionStyleModel",
          "model_module_version": "1.5.0",
          "state": {
            "_model_module": "@jupyter-widgets/controls",
            "_model_module_version": "1.5.0",
            "_model_name": "DescriptionStyleModel",
            "_view_count": null,
            "_view_module": "@jupyter-widgets/base",
            "_view_module_version": "1.2.0",
            "_view_name": "StyleView",
            "description_width": ""
          }
        },
        "cb50dad494aa4aa58fd29d649086a591": {
          "model_module": "@jupyter-widgets/base",
          "model_name": "LayoutModel",
          "model_module_version": "1.2.0",
          "state": {
            "_model_module": "@jupyter-widgets/base",
            "_model_module_version": "1.2.0",
            "_model_name": "LayoutModel",
            "_view_count": null,
            "_view_module": "@jupyter-widgets/base",
            "_view_module_version": "1.2.0",
            "_view_name": "LayoutView",
            "align_content": null,
            "align_items": null,
            "align_self": null,
            "border": null,
            "bottom": null,
            "display": null,
            "flex": null,
            "flex_flow": null,
            "grid_area": null,
            "grid_auto_columns": null,
            "grid_auto_flow": null,
            "grid_auto_rows": null,
            "grid_column": null,
            "grid_gap": null,
            "grid_row": null,
            "grid_template_areas": null,
            "grid_template_columns": null,
            "grid_template_rows": null,
            "height": null,
            "justify_content": null,
            "justify_items": null,
            "left": null,
            "margin": null,
            "max_height": null,
            "max_width": null,
            "min_height": null,
            "min_width": null,
            "object_fit": null,
            "object_position": null,
            "order": null,
            "overflow": null,
            "overflow_x": null,
            "overflow_y": null,
            "padding": null,
            "right": null,
            "top": null,
            "visibility": null,
            "width": null
          }
        },
        "551d18d82cdc45b19402e6e85d7e83d6": {
          "model_module": "@jupyter-widgets/controls",
          "model_name": "ProgressStyleModel",
          "model_module_version": "1.5.0",
          "state": {
            "_model_module": "@jupyter-widgets/controls",
            "_model_module_version": "1.5.0",
            "_model_name": "ProgressStyleModel",
            "_view_count": null,
            "_view_module": "@jupyter-widgets/base",
            "_view_module_version": "1.2.0",
            "_view_name": "StyleView",
            "bar_color": null,
            "description_width": ""
          }
        },
        "eb7e759801b6455d82ed577e3bfbc120": {
          "model_module": "@jupyter-widgets/base",
          "model_name": "LayoutModel",
          "model_module_version": "1.2.0",
          "state": {
            "_model_module": "@jupyter-widgets/base",
            "_model_module_version": "1.2.0",
            "_model_name": "LayoutModel",
            "_view_count": null,
            "_view_module": "@jupyter-widgets/base",
            "_view_module_version": "1.2.0",
            "_view_name": "LayoutView",
            "align_content": null,
            "align_items": null,
            "align_self": null,
            "border": null,
            "bottom": null,
            "display": null,
            "flex": null,
            "flex_flow": null,
            "grid_area": null,
            "grid_auto_columns": null,
            "grid_auto_flow": null,
            "grid_auto_rows": null,
            "grid_column": null,
            "grid_gap": null,
            "grid_row": null,
            "grid_template_areas": null,
            "grid_template_columns": null,
            "grid_template_rows": null,
            "height": null,
            "justify_content": null,
            "justify_items": null,
            "left": null,
            "margin": null,
            "max_height": null,
            "max_width": null,
            "min_height": null,
            "min_width": null,
            "object_fit": null,
            "object_position": null,
            "order": null,
            "overflow": null,
            "overflow_x": null,
            "overflow_y": null,
            "padding": null,
            "right": null,
            "top": null,
            "visibility": null,
            "width": null
          }
        },
        "7e6881bf407047e4b75aa87e910afc66": {
          "model_module": "@jupyter-widgets/controls",
          "model_name": "DescriptionStyleModel",
          "model_module_version": "1.5.0",
          "state": {
            "_model_module": "@jupyter-widgets/controls",
            "_model_module_version": "1.5.0",
            "_model_name": "DescriptionStyleModel",
            "_view_count": null,
            "_view_module": "@jupyter-widgets/base",
            "_view_module_version": "1.2.0",
            "_view_name": "StyleView",
            "description_width": ""
          }
        },
        "4e6e6c264e2147d8bb4f1e971c7ddd8e": {
          "model_module": "@jupyter-widgets/controls",
          "model_name": "HBoxModel",
          "model_module_version": "1.5.0",
          "state": {
            "_dom_classes": [],
            "_model_module": "@jupyter-widgets/controls",
            "_model_module_version": "1.5.0",
            "_model_name": "HBoxModel",
            "_view_count": null,
            "_view_module": "@jupyter-widgets/controls",
            "_view_module_version": "1.5.0",
            "_view_name": "HBoxView",
            "box_style": "",
            "children": [
              "IPY_MODEL_0adb7bfd4f334ae4866c316de0fd6295",
              "IPY_MODEL_c1b52d7deb3c43dbb3238b65952191b4",
              "IPY_MODEL_a1464a084c344af8bf55f0b455e27ff9"
            ],
            "layout": "IPY_MODEL_7134598f401d45f697a77399a98599a6"
          }
        },
        "0adb7bfd4f334ae4866c316de0fd6295": {
          "model_module": "@jupyter-widgets/controls",
          "model_name": "HTMLModel",
          "model_module_version": "1.5.0",
          "state": {
            "_dom_classes": [],
            "_model_module": "@jupyter-widgets/controls",
            "_model_module_version": "1.5.0",
            "_model_name": "HTMLModel",
            "_view_count": null,
            "_view_module": "@jupyter-widgets/controls",
            "_view_module_version": "1.5.0",
            "_view_name": "HTMLView",
            "description": "",
            "description_tooltip": null,
            "layout": "IPY_MODEL_1bebc137947f461eaecbb83bb1575909",
            "placeholder": "​",
            "style": "IPY_MODEL_b4b7e3c1103f4515b7b52b74343a17a3",
            "value": "Loading checkpoint shards: 100%"
          }
        },
        "c1b52d7deb3c43dbb3238b65952191b4": {
          "model_module": "@jupyter-widgets/controls",
          "model_name": "FloatProgressModel",
          "model_module_version": "1.5.0",
          "state": {
            "_dom_classes": [],
            "_model_module": "@jupyter-widgets/controls",
            "_model_module_version": "1.5.0",
            "_model_name": "FloatProgressModel",
            "_view_count": null,
            "_view_module": "@jupyter-widgets/controls",
            "_view_module_version": "1.5.0",
            "_view_name": "ProgressView",
            "bar_style": "success",
            "description": "",
            "description_tooltip": null,
            "layout": "IPY_MODEL_4ccbf4eb4308437ab542318f74954f88",
            "max": 4,
            "min": 0,
            "orientation": "horizontal",
            "style": "IPY_MODEL_917ae942b1f54273a217902cc1c7ec6d",
            "value": 4
          }
        },
        "a1464a084c344af8bf55f0b455e27ff9": {
          "model_module": "@jupyter-widgets/controls",
          "model_name": "HTMLModel",
          "model_module_version": "1.5.0",
          "state": {
            "_dom_classes": [],
            "_model_module": "@jupyter-widgets/controls",
            "_model_module_version": "1.5.0",
            "_model_name": "HTMLModel",
            "_view_count": null,
            "_view_module": "@jupyter-widgets/controls",
            "_view_module_version": "1.5.0",
            "_view_name": "HTMLView",
            "description": "",
            "description_tooltip": null,
            "layout": "IPY_MODEL_d9605d4577f54d7c91e1b84ab8dc4874",
            "placeholder": "​",
            "style": "IPY_MODEL_bba5fee0ad9d4db8b64fcf973699e325",
            "value": " 4/4 [00:04&lt;00:00,  1.03it/s]"
          }
        },
        "7134598f401d45f697a77399a98599a6": {
          "model_module": "@jupyter-widgets/base",
          "model_name": "LayoutModel",
          "model_module_version": "1.2.0",
          "state": {
            "_model_module": "@jupyter-widgets/base",
            "_model_module_version": "1.2.0",
            "_model_name": "LayoutModel",
            "_view_count": null,
            "_view_module": "@jupyter-widgets/base",
            "_view_module_version": "1.2.0",
            "_view_name": "LayoutView",
            "align_content": null,
            "align_items": null,
            "align_self": null,
            "border": null,
            "bottom": null,
            "display": null,
            "flex": null,
            "flex_flow": null,
            "grid_area": null,
            "grid_auto_columns": null,
            "grid_auto_flow": null,
            "grid_auto_rows": null,
            "grid_column": null,
            "grid_gap": null,
            "grid_row": null,
            "grid_template_areas": null,
            "grid_template_columns": null,
            "grid_template_rows": null,
            "height": null,
            "justify_content": null,
            "justify_items": null,
            "left": null,
            "margin": null,
            "max_height": null,
            "max_width": null,
            "min_height": null,
            "min_width": null,
            "object_fit": null,
            "object_position": null,
            "order": null,
            "overflow": null,
            "overflow_x": null,
            "overflow_y": null,
            "padding": null,
            "right": null,
            "top": null,
            "visibility": null,
            "width": null
          }
        },
        "1bebc137947f461eaecbb83bb1575909": {
          "model_module": "@jupyter-widgets/base",
          "model_name": "LayoutModel",
          "model_module_version": "1.2.0",
          "state": {
            "_model_module": "@jupyter-widgets/base",
            "_model_module_version": "1.2.0",
            "_model_name": "LayoutModel",
            "_view_count": null,
            "_view_module": "@jupyter-widgets/base",
            "_view_module_version": "1.2.0",
            "_view_name": "LayoutView",
            "align_content": null,
            "align_items": null,
            "align_self": null,
            "border": null,
            "bottom": null,
            "display": null,
            "flex": null,
            "flex_flow": null,
            "grid_area": null,
            "grid_auto_columns": null,
            "grid_auto_flow": null,
            "grid_auto_rows": null,
            "grid_column": null,
            "grid_gap": null,
            "grid_row": null,
            "grid_template_areas": null,
            "grid_template_columns": null,
            "grid_template_rows": null,
            "height": null,
            "justify_content": null,
            "justify_items": null,
            "left": null,
            "margin": null,
            "max_height": null,
            "max_width": null,
            "min_height": null,
            "min_width": null,
            "object_fit": null,
            "object_position": null,
            "order": null,
            "overflow": null,
            "overflow_x": null,
            "overflow_y": null,
            "padding": null,
            "right": null,
            "top": null,
            "visibility": null,
            "width": null
          }
        },
        "b4b7e3c1103f4515b7b52b74343a17a3": {
          "model_module": "@jupyter-widgets/controls",
          "model_name": "DescriptionStyleModel",
          "model_module_version": "1.5.0",
          "state": {
            "_model_module": "@jupyter-widgets/controls",
            "_model_module_version": "1.5.0",
            "_model_name": "DescriptionStyleModel",
            "_view_count": null,
            "_view_module": "@jupyter-widgets/base",
            "_view_module_version": "1.2.0",
            "_view_name": "StyleView",
            "description_width": ""
          }
        },
        "4ccbf4eb4308437ab542318f74954f88": {
          "model_module": "@jupyter-widgets/base",
          "model_name": "LayoutModel",
          "model_module_version": "1.2.0",
          "state": {
            "_model_module": "@jupyter-widgets/base",
            "_model_module_version": "1.2.0",
            "_model_name": "LayoutModel",
            "_view_count": null,
            "_view_module": "@jupyter-widgets/base",
            "_view_module_version": "1.2.0",
            "_view_name": "LayoutView",
            "align_content": null,
            "align_items": null,
            "align_self": null,
            "border": null,
            "bottom": null,
            "display": null,
            "flex": null,
            "flex_flow": null,
            "grid_area": null,
            "grid_auto_columns": null,
            "grid_auto_flow": null,
            "grid_auto_rows": null,
            "grid_column": null,
            "grid_gap": null,
            "grid_row": null,
            "grid_template_areas": null,
            "grid_template_columns": null,
            "grid_template_rows": null,
            "height": null,
            "justify_content": null,
            "justify_items": null,
            "left": null,
            "margin": null,
            "max_height": null,
            "max_width": null,
            "min_height": null,
            "min_width": null,
            "object_fit": null,
            "object_position": null,
            "order": null,
            "overflow": null,
            "overflow_x": null,
            "overflow_y": null,
            "padding": null,
            "right": null,
            "top": null,
            "visibility": null,
            "width": null
          }
        },
        "917ae942b1f54273a217902cc1c7ec6d": {
          "model_module": "@jupyter-widgets/controls",
          "model_name": "ProgressStyleModel",
          "model_module_version": "1.5.0",
          "state": {
            "_model_module": "@jupyter-widgets/controls",
            "_model_module_version": "1.5.0",
            "_model_name": "ProgressStyleModel",
            "_view_count": null,
            "_view_module": "@jupyter-widgets/base",
            "_view_module_version": "1.2.0",
            "_view_name": "StyleView",
            "bar_color": null,
            "description_width": ""
          }
        },
        "d9605d4577f54d7c91e1b84ab8dc4874": {
          "model_module": "@jupyter-widgets/base",
          "model_name": "LayoutModel",
          "model_module_version": "1.2.0",
          "state": {
            "_model_module": "@jupyter-widgets/base",
            "_model_module_version": "1.2.0",
            "_model_name": "LayoutModel",
            "_view_count": null,
            "_view_module": "@jupyter-widgets/base",
            "_view_module_version": "1.2.0",
            "_view_name": "LayoutView",
            "align_content": null,
            "align_items": null,
            "align_self": null,
            "border": null,
            "bottom": null,
            "display": null,
            "flex": null,
            "flex_flow": null,
            "grid_area": null,
            "grid_auto_columns": null,
            "grid_auto_flow": null,
            "grid_auto_rows": null,
            "grid_column": null,
            "grid_gap": null,
            "grid_row": null,
            "grid_template_areas": null,
            "grid_template_columns": null,
            "grid_template_rows": null,
            "height": null,
            "justify_content": null,
            "justify_items": null,
            "left": null,
            "margin": null,
            "max_height": null,
            "max_width": null,
            "min_height": null,
            "min_width": null,
            "object_fit": null,
            "object_position": null,
            "order": null,
            "overflow": null,
            "overflow_x": null,
            "overflow_y": null,
            "padding": null,
            "right": null,
            "top": null,
            "visibility": null,
            "width": null
          }
        },
        "bba5fee0ad9d4db8b64fcf973699e325": {
          "model_module": "@jupyter-widgets/controls",
          "model_name": "DescriptionStyleModel",
          "model_module_version": "1.5.0",
          "state": {
            "_model_module": "@jupyter-widgets/controls",
            "_model_module_version": "1.5.0",
            "_model_name": "DescriptionStyleModel",
            "_view_count": null,
            "_view_module": "@jupyter-widgets/base",
            "_view_module_version": "1.2.0",
            "_view_name": "StyleView",
            "description_width": ""
          }
        },
        "4d62ed391928443fa7b8035f87d8d2ce": {
          "model_module": "@jupyter-widgets/controls",
          "model_name": "HBoxModel",
          "model_module_version": "1.5.0",
          "state": {
            "_dom_classes": [],
            "_model_module": "@jupyter-widgets/controls",
            "_model_module_version": "1.5.0",
            "_model_name": "HBoxModel",
            "_view_count": null,
            "_view_module": "@jupyter-widgets/controls",
            "_view_module_version": "1.5.0",
            "_view_name": "HBoxView",
            "box_style": "",
            "children": [
              "IPY_MODEL_2b467956be7a43ef81f4cdfb74e7c382",
              "IPY_MODEL_13ab57ac68ef4b0d973cc8a7542f7b07",
              "IPY_MODEL_a8bddba641c6421cbf96dec30566a783"
            ],
            "layout": "IPY_MODEL_b2112e00f84e49018ee718682732c448"
          }
        },
        "2b467956be7a43ef81f4cdfb74e7c382": {
          "model_module": "@jupyter-widgets/controls",
          "model_name": "HTMLModel",
          "model_module_version": "1.5.0",
          "state": {
            "_dom_classes": [],
            "_model_module": "@jupyter-widgets/controls",
            "_model_module_version": "1.5.0",
            "_model_name": "HTMLModel",
            "_view_count": null,
            "_view_module": "@jupyter-widgets/controls",
            "_view_module_version": "1.5.0",
            "_view_name": "HTMLView",
            "description": "",
            "description_tooltip": null,
            "layout": "IPY_MODEL_d5940d9d04474916b88d5c6b2824e427",
            "placeholder": "​",
            "style": "IPY_MODEL_509bae98785542689040351cc2fcdc72",
            "value": "generation_config.json: 100%"
          }
        },
        "13ab57ac68ef4b0d973cc8a7542f7b07": {
          "model_module": "@jupyter-widgets/controls",
          "model_name": "FloatProgressModel",
          "model_module_version": "1.5.0",
          "state": {
            "_dom_classes": [],
            "_model_module": "@jupyter-widgets/controls",
            "_model_module_version": "1.5.0",
            "_model_name": "FloatProgressModel",
            "_view_count": null,
            "_view_module": "@jupyter-widgets/controls",
            "_view_module_version": "1.5.0",
            "_view_name": "ProgressView",
            "bar_style": "success",
            "description": "",
            "description_tooltip": null,
            "layout": "IPY_MODEL_20f2f027e4a5463da2cc1a8b2035a043",
            "max": 187,
            "min": 0,
            "orientation": "horizontal",
            "style": "IPY_MODEL_c500fd978e40430e90685cedb20c13fd",
            "value": 187
          }
        },
        "a8bddba641c6421cbf96dec30566a783": {
          "model_module": "@jupyter-widgets/controls",
          "model_name": "HTMLModel",
          "model_module_version": "1.5.0",
          "state": {
            "_dom_classes": [],
            "_model_module": "@jupyter-widgets/controls",
            "_model_module_version": "1.5.0",
            "_model_name": "HTMLModel",
            "_view_count": null,
            "_view_module": "@jupyter-widgets/controls",
            "_view_module_version": "1.5.0",
            "_view_name": "HTMLView",
            "description": "",
            "description_tooltip": null,
            "layout": "IPY_MODEL_736e5de7a31540b6b71cb61840b1024d",
            "placeholder": "​",
            "style": "IPY_MODEL_cd9b5b61001341eba62930923d174ff3",
            "value": " 187/187 [00:00&lt;00:00, 22.3kB/s]"
          }
        },
        "b2112e00f84e49018ee718682732c448": {
          "model_module": "@jupyter-widgets/base",
          "model_name": "LayoutModel",
          "model_module_version": "1.2.0",
          "state": {
            "_model_module": "@jupyter-widgets/base",
            "_model_module_version": "1.2.0",
            "_model_name": "LayoutModel",
            "_view_count": null,
            "_view_module": "@jupyter-widgets/base",
            "_view_module_version": "1.2.0",
            "_view_name": "LayoutView",
            "align_content": null,
            "align_items": null,
            "align_self": null,
            "border": null,
            "bottom": null,
            "display": null,
            "flex": null,
            "flex_flow": null,
            "grid_area": null,
            "grid_auto_columns": null,
            "grid_auto_flow": null,
            "grid_auto_rows": null,
            "grid_column": null,
            "grid_gap": null,
            "grid_row": null,
            "grid_template_areas": null,
            "grid_template_columns": null,
            "grid_template_rows": null,
            "height": null,
            "justify_content": null,
            "justify_items": null,
            "left": null,
            "margin": null,
            "max_height": null,
            "max_width": null,
            "min_height": null,
            "min_width": null,
            "object_fit": null,
            "object_position": null,
            "order": null,
            "overflow": null,
            "overflow_x": null,
            "overflow_y": null,
            "padding": null,
            "right": null,
            "top": null,
            "visibility": null,
            "width": null
          }
        },
        "d5940d9d04474916b88d5c6b2824e427": {
          "model_module": "@jupyter-widgets/base",
          "model_name": "LayoutModel",
          "model_module_version": "1.2.0",
          "state": {
            "_model_module": "@jupyter-widgets/base",
            "_model_module_version": "1.2.0",
            "_model_name": "LayoutModel",
            "_view_count": null,
            "_view_module": "@jupyter-widgets/base",
            "_view_module_version": "1.2.0",
            "_view_name": "LayoutView",
            "align_content": null,
            "align_items": null,
            "align_self": null,
            "border": null,
            "bottom": null,
            "display": null,
            "flex": null,
            "flex_flow": null,
            "grid_area": null,
            "grid_auto_columns": null,
            "grid_auto_flow": null,
            "grid_auto_rows": null,
            "grid_column": null,
            "grid_gap": null,
            "grid_row": null,
            "grid_template_areas": null,
            "grid_template_columns": null,
            "grid_template_rows": null,
            "height": null,
            "justify_content": null,
            "justify_items": null,
            "left": null,
            "margin": null,
            "max_height": null,
            "max_width": null,
            "min_height": null,
            "min_width": null,
            "object_fit": null,
            "object_position": null,
            "order": null,
            "overflow": null,
            "overflow_x": null,
            "overflow_y": null,
            "padding": null,
            "right": null,
            "top": null,
            "visibility": null,
            "width": null
          }
        },
        "509bae98785542689040351cc2fcdc72": {
          "model_module": "@jupyter-widgets/controls",
          "model_name": "DescriptionStyleModel",
          "model_module_version": "1.5.0",
          "state": {
            "_model_module": "@jupyter-widgets/controls",
            "_model_module_version": "1.5.0",
            "_model_name": "DescriptionStyleModel",
            "_view_count": null,
            "_view_module": "@jupyter-widgets/base",
            "_view_module_version": "1.2.0",
            "_view_name": "StyleView",
            "description_width": ""
          }
        },
        "20f2f027e4a5463da2cc1a8b2035a043": {
          "model_module": "@jupyter-widgets/base",
          "model_name": "LayoutModel",
          "model_module_version": "1.2.0",
          "state": {
            "_model_module": "@jupyter-widgets/base",
            "_model_module_version": "1.2.0",
            "_model_name": "LayoutModel",
            "_view_count": null,
            "_view_module": "@jupyter-widgets/base",
            "_view_module_version": "1.2.0",
            "_view_name": "LayoutView",
            "align_content": null,
            "align_items": null,
            "align_self": null,
            "border": null,
            "bottom": null,
            "display": null,
            "flex": null,
            "flex_flow": null,
            "grid_area": null,
            "grid_auto_columns": null,
            "grid_auto_flow": null,
            "grid_auto_rows": null,
            "grid_column": null,
            "grid_gap": null,
            "grid_row": null,
            "grid_template_areas": null,
            "grid_template_columns": null,
            "grid_template_rows": null,
            "height": null,
            "justify_content": null,
            "justify_items": null,
            "left": null,
            "margin": null,
            "max_height": null,
            "max_width": null,
            "min_height": null,
            "min_width": null,
            "object_fit": null,
            "object_position": null,
            "order": null,
            "overflow": null,
            "overflow_x": null,
            "overflow_y": null,
            "padding": null,
            "right": null,
            "top": null,
            "visibility": null,
            "width": null
          }
        },
        "c500fd978e40430e90685cedb20c13fd": {
          "model_module": "@jupyter-widgets/controls",
          "model_name": "ProgressStyleModel",
          "model_module_version": "1.5.0",
          "state": {
            "_model_module": "@jupyter-widgets/controls",
            "_model_module_version": "1.5.0",
            "_model_name": "ProgressStyleModel",
            "_view_count": null,
            "_view_module": "@jupyter-widgets/base",
            "_view_module_version": "1.2.0",
            "_view_name": "StyleView",
            "bar_color": null,
            "description_width": ""
          }
        },
        "736e5de7a31540b6b71cb61840b1024d": {
          "model_module": "@jupyter-widgets/base",
          "model_name": "LayoutModel",
          "model_module_version": "1.2.0",
          "state": {
            "_model_module": "@jupyter-widgets/base",
            "_model_module_version": "1.2.0",
            "_model_name": "LayoutModel",
            "_view_count": null,
            "_view_module": "@jupyter-widgets/base",
            "_view_module_version": "1.2.0",
            "_view_name": "LayoutView",
            "align_content": null,
            "align_items": null,
            "align_self": null,
            "border": null,
            "bottom": null,
            "display": null,
            "flex": null,
            "flex_flow": null,
            "grid_area": null,
            "grid_auto_columns": null,
            "grid_auto_flow": null,
            "grid_auto_rows": null,
            "grid_column": null,
            "grid_gap": null,
            "grid_row": null,
            "grid_template_areas": null,
            "grid_template_columns": null,
            "grid_template_rows": null,
            "height": null,
            "justify_content": null,
            "justify_items": null,
            "left": null,
            "margin": null,
            "max_height": null,
            "max_width": null,
            "min_height": null,
            "min_width": null,
            "object_fit": null,
            "object_position": null,
            "order": null,
            "overflow": null,
            "overflow_x": null,
            "overflow_y": null,
            "padding": null,
            "right": null,
            "top": null,
            "visibility": null,
            "width": null
          }
        },
        "cd9b5b61001341eba62930923d174ff3": {
          "model_module": "@jupyter-widgets/controls",
          "model_name": "DescriptionStyleModel",
          "model_module_version": "1.5.0",
          "state": {
            "_model_module": "@jupyter-widgets/controls",
            "_model_module_version": "1.5.0",
            "_model_name": "DescriptionStyleModel",
            "_view_count": null,
            "_view_module": "@jupyter-widgets/base",
            "_view_module_version": "1.2.0",
            "_view_name": "StyleView",
            "description_width": ""
          }
        }
      }
    }
  },
  "cells": [
    {
      "cell_type": "code",
      "execution_count": 5,
      "metadata": {
        "colab": {
          "base_uri": "https://localhost:8080/",
          "height": 1000
        },
        "id": "3HNvadq286oL",
        "outputId": "c6ae8900-6a39-4648-c0cc-eaff0d0de278"
      },
      "outputs": [
        {
          "output_type": "stream",
          "name": "stdout",
          "text": [
            "Requirement already satisfied: transformers in /usr/local/lib/python3.11/dist-packages (4.52.2)\n",
            "Collecting transformers\n",
            "  Downloading transformers-4.52.4-py3-none-any.whl.metadata (38 kB)\n",
            "Requirement already satisfied: accelerate in /usr/local/lib/python3.11/dist-packages (1.7.0)\n",
            "Collecting bitsandbytes\n",
            "  Downloading bitsandbytes-0.46.0-py3-none-manylinux_2_24_x86_64.whl.metadata (10 kB)\n",
            "Requirement already satisfied: filelock in /usr/local/lib/python3.11/dist-packages (from transformers) (3.18.0)\n",
            "Requirement already satisfied: huggingface-hub<1.0,>=0.30.0 in /usr/local/lib/python3.11/dist-packages (from transformers) (0.31.4)\n",
            "Requirement already satisfied: numpy>=1.17 in /usr/local/lib/python3.11/dist-packages (from transformers) (2.0.2)\n",
            "Requirement already satisfied: packaging>=20.0 in /usr/local/lib/python3.11/dist-packages (from transformers) (24.2)\n",
            "Requirement already satisfied: pyyaml>=5.1 in /usr/local/lib/python3.11/dist-packages (from transformers) (6.0.2)\n",
            "Requirement already satisfied: regex!=2019.12.17 in /usr/local/lib/python3.11/dist-packages (from transformers) (2024.11.6)\n",
            "Requirement already satisfied: requests in /usr/local/lib/python3.11/dist-packages (from transformers) (2.32.3)\n",
            "Requirement already satisfied: tokenizers<0.22,>=0.21 in /usr/local/lib/python3.11/dist-packages (from transformers) (0.21.1)\n",
            "Requirement already satisfied: safetensors>=0.4.3 in /usr/local/lib/python3.11/dist-packages (from transformers) (0.5.3)\n",
            "Requirement already satisfied: tqdm>=4.27 in /usr/local/lib/python3.11/dist-packages (from transformers) (4.67.1)\n",
            "Requirement already satisfied: psutil in /usr/local/lib/python3.11/dist-packages (from accelerate) (5.9.5)\n",
            "Requirement already satisfied: torch>=2.0.0 in /usr/local/lib/python3.11/dist-packages (from accelerate) (2.6.0+cu124)\n",
            "Requirement already satisfied: fsspec>=2023.5.0 in /usr/local/lib/python3.11/dist-packages (from huggingface-hub<1.0,>=0.30.0->transformers) (2025.3.2)\n",
            "Requirement already satisfied: typing-extensions>=3.7.4.3 in /usr/local/lib/python3.11/dist-packages (from huggingface-hub<1.0,>=0.30.0->transformers) (4.13.2)\n",
            "Requirement already satisfied: networkx in /usr/local/lib/python3.11/dist-packages (from torch>=2.0.0->accelerate) (3.4.2)\n",
            "Requirement already satisfied: jinja2 in /usr/local/lib/python3.11/dist-packages (from torch>=2.0.0->accelerate) (3.1.6)\n",
            "Collecting nvidia-cuda-nvrtc-cu12==12.4.127 (from torch>=2.0.0->accelerate)\n",
            "  Downloading nvidia_cuda_nvrtc_cu12-12.4.127-py3-none-manylinux2014_x86_64.whl.metadata (1.5 kB)\n",
            "Collecting nvidia-cuda-runtime-cu12==12.4.127 (from torch>=2.0.0->accelerate)\n",
            "  Downloading nvidia_cuda_runtime_cu12-12.4.127-py3-none-manylinux2014_x86_64.whl.metadata (1.5 kB)\n",
            "Collecting nvidia-cuda-cupti-cu12==12.4.127 (from torch>=2.0.0->accelerate)\n",
            "  Downloading nvidia_cuda_cupti_cu12-12.4.127-py3-none-manylinux2014_x86_64.whl.metadata (1.6 kB)\n",
            "Collecting nvidia-cudnn-cu12==9.1.0.70 (from torch>=2.0.0->accelerate)\n",
            "  Downloading nvidia_cudnn_cu12-9.1.0.70-py3-none-manylinux2014_x86_64.whl.metadata (1.6 kB)\n",
            "Collecting nvidia-cublas-cu12==12.4.5.8 (from torch>=2.0.0->accelerate)\n",
            "  Downloading nvidia_cublas_cu12-12.4.5.8-py3-none-manylinux2014_x86_64.whl.metadata (1.5 kB)\n",
            "Collecting nvidia-cufft-cu12==11.2.1.3 (from torch>=2.0.0->accelerate)\n",
            "  Downloading nvidia_cufft_cu12-11.2.1.3-py3-none-manylinux2014_x86_64.whl.metadata (1.5 kB)\n",
            "Collecting nvidia-curand-cu12==10.3.5.147 (from torch>=2.0.0->accelerate)\n",
            "  Downloading nvidia_curand_cu12-10.3.5.147-py3-none-manylinux2014_x86_64.whl.metadata (1.5 kB)\n",
            "Collecting nvidia-cusolver-cu12==11.6.1.9 (from torch>=2.0.0->accelerate)\n",
            "  Downloading nvidia_cusolver_cu12-11.6.1.9-py3-none-manylinux2014_x86_64.whl.metadata (1.6 kB)\n",
            "Collecting nvidia-cusparse-cu12==12.3.1.170 (from torch>=2.0.0->accelerate)\n",
            "  Downloading nvidia_cusparse_cu12-12.3.1.170-py3-none-manylinux2014_x86_64.whl.metadata (1.6 kB)\n",
            "Requirement already satisfied: nvidia-cusparselt-cu12==0.6.2 in /usr/local/lib/python3.11/dist-packages (from torch>=2.0.0->accelerate) (0.6.2)\n",
            "Requirement already satisfied: nvidia-nccl-cu12==2.21.5 in /usr/local/lib/python3.11/dist-packages (from torch>=2.0.0->accelerate) (2.21.5)\n",
            "Requirement already satisfied: nvidia-nvtx-cu12==12.4.127 in /usr/local/lib/python3.11/dist-packages (from torch>=2.0.0->accelerate) (12.4.127)\n",
            "Collecting nvidia-nvjitlink-cu12==12.4.127 (from torch>=2.0.0->accelerate)\n",
            "  Downloading nvidia_nvjitlink_cu12-12.4.127-py3-none-manylinux2014_x86_64.whl.metadata (1.5 kB)\n",
            "Requirement already satisfied: triton==3.2.0 in /usr/local/lib/python3.11/dist-packages (from torch>=2.0.0->accelerate) (3.2.0)\n",
            "Requirement already satisfied: sympy==1.13.1 in /usr/local/lib/python3.11/dist-packages (from torch>=2.0.0->accelerate) (1.13.1)\n",
            "Requirement already satisfied: mpmath<1.4,>=1.1.0 in /usr/local/lib/python3.11/dist-packages (from sympy==1.13.1->torch>=2.0.0->accelerate) (1.3.0)\n",
            "Requirement already satisfied: charset-normalizer<4,>=2 in /usr/local/lib/python3.11/dist-packages (from requests->transformers) (3.4.2)\n",
            "Requirement already satisfied: idna<4,>=2.5 in /usr/local/lib/python3.11/dist-packages (from requests->transformers) (3.10)\n",
            "Requirement already satisfied: urllib3<3,>=1.21.1 in /usr/local/lib/python3.11/dist-packages (from requests->transformers) (2.4.0)\n",
            "Requirement already satisfied: certifi>=2017.4.17 in /usr/local/lib/python3.11/dist-packages (from requests->transformers) (2025.4.26)\n",
            "Requirement already satisfied: MarkupSafe>=2.0 in /usr/local/lib/python3.11/dist-packages (from jinja2->torch>=2.0.0->accelerate) (3.0.2)\n",
            "Downloading transformers-4.52.4-py3-none-any.whl (10.5 MB)\n",
            "\u001b[2K   \u001b[90m━━━━━━━━━━━━━━━━━━━━━━━━━━━━━━━━━━━━━━━━\u001b[0m \u001b[32m10.5/10.5 MB\u001b[0m \u001b[31m138.9 MB/s\u001b[0m eta \u001b[36m0:00:00\u001b[0m\n",
            "\u001b[?25hDownloading bitsandbytes-0.46.0-py3-none-manylinux_2_24_x86_64.whl (67.0 MB)\n",
            "\u001b[2K   \u001b[90m━━━━━━━━━━━━━━━━━━━━━━━━━━━━━━━━━━━━━━━━\u001b[0m \u001b[32m67.0/67.0 MB\u001b[0m \u001b[31m37.9 MB/s\u001b[0m eta \u001b[36m0:00:00\u001b[0m\n",
            "\u001b[?25hDownloading nvidia_cublas_cu12-12.4.5.8-py3-none-manylinux2014_x86_64.whl (363.4 MB)\n",
            "\u001b[2K   \u001b[90m━━━━━━━━━━━━━━━━━━━━━━━━━━━━━━━━━━━━━━━━\u001b[0m \u001b[32m363.4/363.4 MB\u001b[0m \u001b[31m2.8 MB/s\u001b[0m eta \u001b[36m0:00:00\u001b[0m\n",
            "\u001b[?25hDownloading nvidia_cuda_cupti_cu12-12.4.127-py3-none-manylinux2014_x86_64.whl (13.8 MB)\n",
            "\u001b[2K   \u001b[90m━━━━━━━━━━━━━━━━━━━━━━━━━━━━━━━━━━━━━━━━\u001b[0m \u001b[32m13.8/13.8 MB\u001b[0m \u001b[31m83.5 MB/s\u001b[0m eta \u001b[36m0:00:00\u001b[0m\n",
            "\u001b[?25hDownloading nvidia_cuda_nvrtc_cu12-12.4.127-py3-none-manylinux2014_x86_64.whl (24.6 MB)\n",
            "\u001b[2K   \u001b[90m━━━━━━━━━━━━━━━━━━━━━━━━━━━━━━━━━━━━━━━━\u001b[0m \u001b[32m24.6/24.6 MB\u001b[0m \u001b[31m83.7 MB/s\u001b[0m eta \u001b[36m0:00:00\u001b[0m\n",
            "\u001b[?25hDownloading nvidia_cuda_runtime_cu12-12.4.127-py3-none-manylinux2014_x86_64.whl (883 kB)\n",
            "\u001b[2K   \u001b[90m━━━━━━━━━━━━━━━━━━━━━━━━━━━━━━━━━━━━━━━━\u001b[0m \u001b[32m883.7/883.7 kB\u001b[0m \u001b[31m58.3 MB/s\u001b[0m eta \u001b[36m0:00:00\u001b[0m\n",
            "\u001b[?25hDownloading nvidia_cudnn_cu12-9.1.0.70-py3-none-manylinux2014_x86_64.whl (664.8 MB)\n",
            "\u001b[2K   \u001b[90m━━━━━━━━━━━━━━━━━━━━━━━━━━━━━━━━━━━━━━━━\u001b[0m \u001b[32m664.8/664.8 MB\u001b[0m \u001b[31m1.7 MB/s\u001b[0m eta \u001b[36m0:00:00\u001b[0m\n",
            "\u001b[?25hDownloading nvidia_cufft_cu12-11.2.1.3-py3-none-manylinux2014_x86_64.whl (211.5 MB)\n",
            "\u001b[2K   \u001b[90m━━━━━━━━━━━━━━━━━━━━━━━━━━━━━━━━━━━━━━━━\u001b[0m \u001b[32m211.5/211.5 MB\u001b[0m \u001b[31m11.5 MB/s\u001b[0m eta \u001b[36m0:00:00\u001b[0m\n",
            "\u001b[?25hDownloading nvidia_curand_cu12-10.3.5.147-py3-none-manylinux2014_x86_64.whl (56.3 MB)\n",
            "\u001b[2K   \u001b[90m━━━━━━━━━━━━━━━━━━━━━━━━━━━━━━━━━━━━━━━━\u001b[0m \u001b[32m56.3/56.3 MB\u001b[0m \u001b[31m43.3 MB/s\u001b[0m eta \u001b[36m0:00:00\u001b[0m\n",
            "\u001b[?25hDownloading nvidia_cusolver_cu12-11.6.1.9-py3-none-manylinux2014_x86_64.whl (127.9 MB)\n",
            "\u001b[2K   \u001b[90m━━━━━━━━━━━━━━━━━━━━━━━━━━━━━━━━━━━━━━━━\u001b[0m \u001b[32m127.9/127.9 MB\u001b[0m \u001b[31m20.2 MB/s\u001b[0m eta \u001b[36m0:00:00\u001b[0m\n",
            "\u001b[?25hDownloading nvidia_cusparse_cu12-12.3.1.170-py3-none-manylinux2014_x86_64.whl (207.5 MB)\n",
            "\u001b[2K   \u001b[90m━━━━━━━━━━━━━━━━━━━━━━━━━━━━━━━━━━━━━━━━\u001b[0m \u001b[32m207.5/207.5 MB\u001b[0m \u001b[31m3.3 MB/s\u001b[0m eta \u001b[36m0:00:00\u001b[0m\n",
            "\u001b[?25hDownloading nvidia_nvjitlink_cu12-12.4.127-py3-none-manylinux2014_x86_64.whl (21.1 MB)\n",
            "\u001b[2K   \u001b[90m━━━━━━━━━━━━━━━━━━━━━━━━━━━━━━━━━━━━━━━━\u001b[0m \u001b[32m21.1/21.1 MB\u001b[0m \u001b[31m107.3 MB/s\u001b[0m eta \u001b[36m0:00:00\u001b[0m\n",
            "\u001b[?25hInstalling collected packages: nvidia-nvjitlink-cu12, nvidia-curand-cu12, nvidia-cufft-cu12, nvidia-cuda-runtime-cu12, nvidia-cuda-nvrtc-cu12, nvidia-cuda-cupti-cu12, nvidia-cublas-cu12, nvidia-cusparse-cu12, nvidia-cudnn-cu12, nvidia-cusolver-cu12, transformers, bitsandbytes\n",
            "  Attempting uninstall: nvidia-nvjitlink-cu12\n",
            "    Found existing installation: nvidia-nvjitlink-cu12 12.5.82\n",
            "    Uninstalling nvidia-nvjitlink-cu12-12.5.82:\n",
            "      Successfully uninstalled nvidia-nvjitlink-cu12-12.5.82\n",
            "  Attempting uninstall: nvidia-curand-cu12\n",
            "    Found existing installation: nvidia-curand-cu12 10.3.6.82\n",
            "    Uninstalling nvidia-curand-cu12-10.3.6.82:\n",
            "      Successfully uninstalled nvidia-curand-cu12-10.3.6.82\n",
            "  Attempting uninstall: nvidia-cufft-cu12\n",
            "    Found existing installation: nvidia-cufft-cu12 11.2.3.61\n",
            "    Uninstalling nvidia-cufft-cu12-11.2.3.61:\n",
            "      Successfully uninstalled nvidia-cufft-cu12-11.2.3.61\n",
            "  Attempting uninstall: nvidia-cuda-runtime-cu12\n",
            "    Found existing installation: nvidia-cuda-runtime-cu12 12.5.82\n",
            "    Uninstalling nvidia-cuda-runtime-cu12-12.5.82:\n",
            "      Successfully uninstalled nvidia-cuda-runtime-cu12-12.5.82\n",
            "  Attempting uninstall: nvidia-cuda-nvrtc-cu12\n",
            "    Found existing installation: nvidia-cuda-nvrtc-cu12 12.5.82\n",
            "    Uninstalling nvidia-cuda-nvrtc-cu12-12.5.82:\n",
            "      Successfully uninstalled nvidia-cuda-nvrtc-cu12-12.5.82\n",
            "  Attempting uninstall: nvidia-cuda-cupti-cu12\n",
            "    Found existing installation: nvidia-cuda-cupti-cu12 12.5.82\n",
            "    Uninstalling nvidia-cuda-cupti-cu12-12.5.82:\n",
            "      Successfully uninstalled nvidia-cuda-cupti-cu12-12.5.82\n",
            "  Attempting uninstall: nvidia-cublas-cu12\n",
            "    Found existing installation: nvidia-cublas-cu12 12.5.3.2\n",
            "    Uninstalling nvidia-cublas-cu12-12.5.3.2:\n",
            "      Successfully uninstalled nvidia-cublas-cu12-12.5.3.2\n",
            "  Attempting uninstall: nvidia-cusparse-cu12\n",
            "    Found existing installation: nvidia-cusparse-cu12 12.5.1.3\n",
            "    Uninstalling nvidia-cusparse-cu12-12.5.1.3:\n",
            "      Successfully uninstalled nvidia-cusparse-cu12-12.5.1.3\n",
            "  Attempting uninstall: nvidia-cudnn-cu12\n",
            "    Found existing installation: nvidia-cudnn-cu12 9.3.0.75\n",
            "    Uninstalling nvidia-cudnn-cu12-9.3.0.75:\n",
            "      Successfully uninstalled nvidia-cudnn-cu12-9.3.0.75\n",
            "  Attempting uninstall: nvidia-cusolver-cu12\n",
            "    Found existing installation: nvidia-cusolver-cu12 11.6.3.83\n",
            "    Uninstalling nvidia-cusolver-cu12-11.6.3.83:\n",
            "      Successfully uninstalled nvidia-cusolver-cu12-11.6.3.83\n",
            "  Attempting uninstall: transformers\n",
            "    Found existing installation: transformers 4.52.2\n",
            "    Uninstalling transformers-4.52.2:\n",
            "      Successfully uninstalled transformers-4.52.2\n",
            "Successfully installed bitsandbytes-0.46.0 nvidia-cublas-cu12-12.4.5.8 nvidia-cuda-cupti-cu12-12.4.127 nvidia-cuda-nvrtc-cu12-12.4.127 nvidia-cuda-runtime-cu12-12.4.127 nvidia-cudnn-cu12-9.1.0.70 nvidia-cufft-cu12-11.2.1.3 nvidia-curand-cu12-10.3.5.147 nvidia-cusolver-cu12-11.6.1.9 nvidia-cusparse-cu12-12.3.1.170 nvidia-nvjitlink-cu12-12.4.127 transformers-4.52.4\n"
          ]
        },
        {
          "output_type": "display_data",
          "data": {
            "application/vnd.colab-display-data+json": {
              "pip_warning": {
                "packages": [
                  "transformers"
                ]
              },
              "id": "a526d06ffcb34fe9a7d8d6d51b77afe0"
            }
          },
          "metadata": {}
        }
      ],
      "source": [
        "!pip install -U transformers accelerate bitsandbytes\n"
      ]
    },
    {
      "cell_type": "code",
      "source": [
        "from transformers import AutoModelForCausalLM, AutoTokenizer\n",
        "\n",
        "# トークナイザーとモデルの準備\n",
        "tokenizer = AutoTokenizer.from_pretrained(\n",
        "    \"meta-llama/Meta-Llama-3-8B-Instruct\"\n",
        ")\n",
        "model = AutoModelForCausalLM.from_pretrained(\n",
        "    \"meta-llama/Meta-Llama-3-8B-Instruct\",\n",
        "    device_map=\"auto\",\n",
        "    torch_dtype=\"auto\",\n",
        ")"
      ],
      "metadata": {
        "colab": {
          "base_uri": "https://localhost:8080/",
          "height": 566,
          "referenced_widgets": [
            "e1a0c626860f4fcbb8d71a2f4cba44db",
            "03eef2ff5638427ea47e333b1e7366a1",
            "90ce7e10e0714d0290d6cef215aae168",
            "0d3fcd0544c64f22ae3ee6850978776c",
            "fd7acb5235c448a789fe59c186e78b65",
            "abf156faa4e54bb295444e52972eb443",
            "aedfbeb4b8d84442884ef737ffaf014a",
            "86082d6b9e3e4038b0d6d8cbbc433e28",
            "c28fb8116a594e3fbf3ceafbb792b838",
            "5b095cd584b34059982fa7d030d4285b",
            "43487fbf36d8437ebd8c89cecfa4d40d",
            "25b220449cbf4757aa0783d5a889f71c",
            "455ae2585dd744b48c2a626f6cb30ba9",
            "fefe17ca8edc4bf0a279474b5963daab",
            "16f379605d964092a206de1c6a5fcf3a",
            "435a90e9c84b4992853d296f81087787",
            "53d1d57e6d8e4b73b974186fcebe49cd",
            "c8bc0b8c20f742aea047001238006e0e",
            "477ddda652814179935446f9d92eea4a",
            "2ced94fea4e149bb8c6d8b05e536d027",
            "df3e1a68213a420196c07ee4ac9dfb47",
            "20c870d316964c348e53df8ce2b23558",
            "d13e802ee7924a36b2387c047a9d983c",
            "04003024892b4ffd814eee2efdd7183c",
            "8aa934399751498da197075259a6cdea",
            "45e49ab3d1f645b08b25a9e7e663e4cf",
            "c9a7f4610b854aa296941b64e11e424a",
            "899814537b0845d18f00b8dd59d1503d",
            "16cb2a82b6c04ebaaf010a41af59d749",
            "66e305ee7fa54e048acad3ca460993fb",
            "17d159b076c4430fbe8e285f9c2579df",
            "b85d799045674bbe83c6ec78b7b99ae3",
            "57257557f6674560a33749254d339419",
            "cdeafe04dec64009883f8114f4f95e62",
            "dc4934a691c342c099afb0256a620fee",
            "9b55ca7f731a4fd588b8fe573aef6303",
            "b0bdcf543ba547188f89a3b4c0ed5005",
            "4551d6f74ec143a8bf64c164330282d9",
            "b7bd6cb5838746a49ad9304cb942fd18",
            "0595a9ddcfc54388a1b79f3a3e1d4a4a",
            "b69892a819ef4fbe8e503df154c97fb0",
            "a598a746fe21452baeca8caeab15d989",
            "ae6f9b20aebd4c0985b45dbe9d96c7d2",
            "d512219a7fe64e9e8db4b763673c6faa",
            "01d846ed9ac941629afd12525be73242",
            "7ddbb4c664224677b0c9a8f71a79e63e",
            "76530209937d4dc6ad38fb64718f258c",
            "f5e4813a34cb4bdbb62c4dad16932ae6",
            "4a8ac7ccbf8c46369547c85d7dd33d19",
            "abdfe9de1d40464497bf031e18b51e30",
            "aee5c92ec8f84b1daa7f199ed876bba2",
            "7105da4a700444a2a58886a856a84ea1",
            "1c26a609d6f24dc1a9a50445dd43a3c1",
            "a0eccf5734f64bc9a9f0b56aebe746c9",
            "e1089ade65d7479c99fb835430380e28",
            "f79a7684350242ee94f077cfc32960de",
            "87558910337b48a08ce5cc5ed09fb82f",
            "0c4bf0c690b44a75afaeec66690f19fd",
            "158058dc1b01436b83af04a471a50b31",
            "ea840cc452bf47ceb2d269bad4d2147a",
            "c3beebff0bd74c6f8f42b02b502b9cb7",
            "8da2d971c74c4ad2b02266eb05028d28",
            "b5495010687444249cc0a5832d063bf4",
            "41e5373302d248afaacaf257fb4bf256",
            "6611371cd9654891b27c1cb9e9b7cefb",
            "5dc5eb58c20e4ebeb267d9ffaaeac1c0",
            "ac3808723b8c440589e8e72f073f3f55",
            "8a248f0f9e0b4aa3abbc57090ebe72fe",
            "b65da84142df44359d540493b32f3fab",
            "f887c14f62f74464b454d364ef0b32cc",
            "eb3fbd35da2c471699e3a0d1ff021e47",
            "58a4e661f7f8459f9b52cd5009f54139",
            "d2a43318ae9947fe8feac8a982987d0f",
            "70ffae3dd15e4787af2fe9117a002d2c",
            "a4ef0c6e065c4c90a186ba254280472c",
            "2b23657db3164f20a8027a7ac4e4df8d",
            "c2f3c3edf5fe413982272392a5e6f6fb",
            "82819360a80f4ea7a47c4c7f3d98944c",
            "54ee0dca47874592977d42fc2e3747f3",
            "42b605dc40db4bdfbf565be52277f9e1",
            "daddcd06b09e4ee6a943fd3b88b7622d",
            "07c300d362eb4699b009b4e03722e870",
            "b3812c565486472f8935cd5493b526f7",
            "2f135bde71d84df09eaf451aaf6c6303",
            "3ec3e1b86f284bb5aa51cbe121ec2338",
            "3a12a48024be4bb8960cfa182fb31c18",
            "05046863c36e49ac8bc87fbe9e015919",
            "c22a1da39bae41269217d42adb5b6265",
            "05fd3e3ad2724ea5ac239614288cbe1c",
            "a312c64bde7d4ff4b18819f8e9a7ef35",
            "5cc0dcad44254715aed99f7956833a12",
            "78c7cb572dff4b1997aa50ccfccb5c72",
            "1ef5cf48244c4996bf8551ffc88bfe82",
            "177a33351d364fe780717686e35f9730",
            "756051ef756f4598a58eabeece972424",
            "71bd81b646b5454bbe26cbfcb1080eb7",
            "a385bd9872564aa99a115aa753a6cc32",
            "7eab998e16434a16933ead4017ec990e",
            "5381cf11ab2d4eeb8b9f9831156e1051",
            "06a5a78b8fa84c3aa7f1ee3994d994e4",
            "9d98662712e14614acda67d6c6df7cca",
            "fc5c4a13c65c4cd28e9198684cba5708",
            "0042b1922b4e4d54b6d707a032a04992",
            "a9b0a118349443be8d7211fad4a747e1",
            "a4bc97bb83624cdda1e9e8bfff918542",
            "9b9b2472bf6b40e5b194739612dcfd60",
            "cb50dad494aa4aa58fd29d649086a591",
            "551d18d82cdc45b19402e6e85d7e83d6",
            "eb7e759801b6455d82ed577e3bfbc120",
            "7e6881bf407047e4b75aa87e910afc66",
            "4e6e6c264e2147d8bb4f1e971c7ddd8e",
            "0adb7bfd4f334ae4866c316de0fd6295",
            "c1b52d7deb3c43dbb3238b65952191b4",
            "a1464a084c344af8bf55f0b455e27ff9",
            "7134598f401d45f697a77399a98599a6",
            "1bebc137947f461eaecbb83bb1575909",
            "b4b7e3c1103f4515b7b52b74343a17a3",
            "4ccbf4eb4308437ab542318f74954f88",
            "917ae942b1f54273a217902cc1c7ec6d",
            "d9605d4577f54d7c91e1b84ab8dc4874",
            "bba5fee0ad9d4db8b64fcf973699e325",
            "4d62ed391928443fa7b8035f87d8d2ce",
            "2b467956be7a43ef81f4cdfb74e7c382",
            "13ab57ac68ef4b0d973cc8a7542f7b07",
            "a8bddba641c6421cbf96dec30566a783",
            "b2112e00f84e49018ee718682732c448",
            "d5940d9d04474916b88d5c6b2824e427",
            "509bae98785542689040351cc2fcdc72",
            "20f2f027e4a5463da2cc1a8b2035a043",
            "c500fd978e40430e90685cedb20c13fd",
            "736e5de7a31540b6b71cb61840b1024d",
            "cd9b5b61001341eba62930923d174ff3"
          ]
        },
        "id": "qP7SD8269BNj",
        "outputId": "44999eb4-c4f4-4945-df12-2441ba35dfa6"
      },
      "execution_count": 1,
      "outputs": [
        {
          "output_type": "display_data",
          "data": {
            "text/plain": [
              "tokenizer_config.json:   0%|          | 0.00/51.0k [00:00<?, ?B/s]"
            ],
            "application/vnd.jupyter.widget-view+json": {
              "version_major": 2,
              "version_minor": 0,
              "model_id": "e1a0c626860f4fcbb8d71a2f4cba44db"
            }
          },
          "metadata": {}
        },
        {
          "output_type": "display_data",
          "data": {
            "text/plain": [
              "tokenizer.json:   0%|          | 0.00/9.09M [00:00<?, ?B/s]"
            ],
            "application/vnd.jupyter.widget-view+json": {
              "version_major": 2,
              "version_minor": 0,
              "model_id": "25b220449cbf4757aa0783d5a889f71c"
            }
          },
          "metadata": {}
        },
        {
          "output_type": "display_data",
          "data": {
            "text/plain": [
              "special_tokens_map.json:   0%|          | 0.00/73.0 [00:00<?, ?B/s]"
            ],
            "application/vnd.jupyter.widget-view+json": {
              "version_major": 2,
              "version_minor": 0,
              "model_id": "d13e802ee7924a36b2387c047a9d983c"
            }
          },
          "metadata": {}
        },
        {
          "output_type": "display_data",
          "data": {
            "text/plain": [
              "config.json:   0%|          | 0.00/654 [00:00<?, ?B/s]"
            ],
            "application/vnd.jupyter.widget-view+json": {
              "version_major": 2,
              "version_minor": 0,
              "model_id": "cdeafe04dec64009883f8114f4f95e62"
            }
          },
          "metadata": {}
        },
        {
          "output_type": "display_data",
          "data": {
            "text/plain": [
              "model.safetensors.index.json:   0%|          | 0.00/23.9k [00:00<?, ?B/s]"
            ],
            "application/vnd.jupyter.widget-view+json": {
              "version_major": 2,
              "version_minor": 0,
              "model_id": "01d846ed9ac941629afd12525be73242"
            }
          },
          "metadata": {}
        },
        {
          "output_type": "display_data",
          "data": {
            "text/plain": [
              "Fetching 4 files:   0%|          | 0/4 [00:00<?, ?it/s]"
            ],
            "application/vnd.jupyter.widget-view+json": {
              "version_major": 2,
              "version_minor": 0,
              "model_id": "f79a7684350242ee94f077cfc32960de"
            }
          },
          "metadata": {}
        },
        {
          "output_type": "stream",
          "name": "stderr",
          "text": [
            "Xet Storage is enabled for this repo, but the 'hf_xet' package is not installed. Falling back to regular HTTP download. For better performance, install the package with: `pip install huggingface_hub[hf_xet]` or `pip install hf_xet`\n",
            "WARNING:huggingface_hub.file_download:Xet Storage is enabled for this repo, but the 'hf_xet' package is not installed. Falling back to regular HTTP download. For better performance, install the package with: `pip install huggingface_hub[hf_xet]` or `pip install hf_xet`\n",
            "Xet Storage is enabled for this repo, but the 'hf_xet' package is not installed. Falling back to regular HTTP download. For better performance, install the package with: `pip install huggingface_hub[hf_xet]` or `pip install hf_xet`\n",
            "WARNING:huggingface_hub.file_download:Xet Storage is enabled for this repo, but the 'hf_xet' package is not installed. Falling back to regular HTTP download. For better performance, install the package with: `pip install huggingface_hub[hf_xet]` or `pip install hf_xet`\n",
            "Xet Storage is enabled for this repo, but the 'hf_xet' package is not installed. Falling back to regular HTTP download. For better performance, install the package with: `pip install huggingface_hub[hf_xet]` or `pip install hf_xet`\n",
            "WARNING:huggingface_hub.file_download:Xet Storage is enabled for this repo, but the 'hf_xet' package is not installed. Falling back to regular HTTP download. For better performance, install the package with: `pip install huggingface_hub[hf_xet]` or `pip install hf_xet`\n",
            "Xet Storage is enabled for this repo, but the 'hf_xet' package is not installed. Falling back to regular HTTP download. For better performance, install the package with: `pip install huggingface_hub[hf_xet]` or `pip install hf_xet`\n",
            "WARNING:huggingface_hub.file_download:Xet Storage is enabled for this repo, but the 'hf_xet' package is not installed. Falling back to regular HTTP download. For better performance, install the package with: `pip install huggingface_hub[hf_xet]` or `pip install hf_xet`\n"
          ]
        },
        {
          "output_type": "display_data",
          "data": {
            "text/plain": [
              "model-00001-of-00004.safetensors:   0%|          | 0.00/4.98G [00:00<?, ?B/s]"
            ],
            "application/vnd.jupyter.widget-view+json": {
              "version_major": 2,
              "version_minor": 0,
              "model_id": "ac3808723b8c440589e8e72f073f3f55"
            }
          },
          "metadata": {}
        },
        {
          "output_type": "display_data",
          "data": {
            "text/plain": [
              "model-00003-of-00004.safetensors:   0%|          | 0.00/4.92G [00:00<?, ?B/s]"
            ],
            "application/vnd.jupyter.widget-view+json": {
              "version_major": 2,
              "version_minor": 0,
              "model_id": "82819360a80f4ea7a47c4c7f3d98944c"
            }
          },
          "metadata": {}
        },
        {
          "output_type": "display_data",
          "data": {
            "text/plain": [
              "model-00004-of-00004.safetensors:   0%|          | 0.00/1.17G [00:00<?, ?B/s]"
            ],
            "application/vnd.jupyter.widget-view+json": {
              "version_major": 2,
              "version_minor": 0,
              "model_id": "05fd3e3ad2724ea5ac239614288cbe1c"
            }
          },
          "metadata": {}
        },
        {
          "output_type": "display_data",
          "data": {
            "text/plain": [
              "model-00002-of-00004.safetensors:   0%|          | 0.00/5.00G [00:00<?, ?B/s]"
            ],
            "application/vnd.jupyter.widget-view+json": {
              "version_major": 2,
              "version_minor": 0,
              "model_id": "06a5a78b8fa84c3aa7f1ee3994d994e4"
            }
          },
          "metadata": {}
        },
        {
          "output_type": "display_data",
          "data": {
            "text/plain": [
              "Loading checkpoint shards:   0%|          | 0/4 [00:00<?, ?it/s]"
            ],
            "application/vnd.jupyter.widget-view+json": {
              "version_major": 2,
              "version_minor": 0,
              "model_id": "4e6e6c264e2147d8bb4f1e971c7ddd8e"
            }
          },
          "metadata": {}
        },
        {
          "output_type": "display_data",
          "data": {
            "text/plain": [
              "generation_config.json:   0%|          | 0.00/187 [00:00<?, ?B/s]"
            ],
            "application/vnd.jupyter.widget-view+json": {
              "version_major": 2,
              "version_minor": 0,
              "model_id": "4d62ed391928443fa7b8035f87d8d2ce"
            }
          },
          "metadata": {}
        }
      ]
    },
    {
      "cell_type": "code",
      "source": [
        "import torch\n",
        "from google.colab import drive\n",
        "import codecs\n",
        "import pandas as pd\n",
        "\n",
        "drive.mount('/content/drive')\n",
        "\n",
        "def create_prompt(text):\n",
        "  # プロンプトの準備\n",
        "  chat = [\n",
        "      { \"role\": \"system\", \"content\": \"you are exeellent assistant for natural language processing\" },\n",
        "      { \"role\": \"user\", \"content\": \"Followings are the reviews concerning sushi restaurant. Extract only the words representing the reviewers impressions.\\\n",
        "      reviews : {}\".format(text) },\n",
        "  ]\n",
        "  return chat\n",
        "\n",
        "path = '/content/drive/My Drive/flavorOAVdataset/'\n",
        "reviews = pd.read_csv(path + 'tabelog_reviews_en.csv',encoding='ms932', sep=',')\n",
        "\n",
        "impressions = []\n",
        "for i,(t,body) in enumerate(zip(reviews['title'],reviews['body'])):\n",
        "\n",
        "\n",
        "  prompt = tokenizer.apply_chat_template(create_prompt(body), tokenize=False, add_generation_prompt=True)\n",
        "\n",
        "  # 推論の実行\n",
        "  token_ids = tokenizer.encode(prompt, add_special_tokens=False, return_tensors=\"pt\")\n",
        "  with torch.no_grad():\n",
        "      output_ids = model.generate(\n",
        "          token_ids.to(model.device),\n",
        "          do_sample=True,\n",
        "          temperature=0.6,\n",
        "          top_p=0.9,\n",
        "          max_new_tokens=256,\n",
        "          eos_token_id=[\n",
        "              tokenizer.eos_token_id,\n",
        "              tokenizer.convert_tokens_to_ids(\"<|eot_id|>\")\n",
        "          ],\n",
        "      )\n",
        "  output = tokenizer.decode(output_ids.tolist()[0][token_ids.size(1) :], skip_special_tokens=True)\n",
        "  print(output)\n",
        "  impressions.append([t]+[body]+[output])\n",
        "\n",
        "\n",
        "df = pd.DataFrame(impressions,columns=['title','body','impression'])\n",
        "df.to_csv(path + 'impressions.csv')"
      ],
      "metadata": {
        "colab": {
          "base_uri": "https://localhost:8080/"
        },
        "id": "Agag_8IyHeHI",
        "outputId": "3e1933e4-08da-4c35-f632-7c92e15b0f98"
      },
      "execution_count": 5,
      "outputs": [
        {
          "output_type": "stream",
          "name": "stderr",
          "text": [
            "The attention mask and the pad token id were not set. As a consequence, you may observe unexpected behavior. Please pass your input's `attention_mask` to obtain reliable results.\n",
            "Setting `pad_token_id` to `eos_token_id`:128009 for open-end generation.\n"
          ]
        },
        {
          "output_type": "stream",
          "name": "stdout",
          "text": [
            "Drive already mounted at /content/drive; to attempt to forcibly remount, call drive.mount(\"/content/drive\", force_remount=True).\n"
          ]
        },
        {
          "output_type": "stream",
          "name": "stderr",
          "text": [
            "The attention mask and the pad token id were not set. As a consequence, you may observe unexpected behavior. Please pass your input's `attention_mask` to obtain reliable results.\n",
            "Setting `pad_token_id` to `eos_token_id`:128009 for open-end generation.\n"
          ]
        },
        {
          "output_type": "stream",
          "name": "stdout",
          "text": [
            "Here are the words representing the reviewer's impressions:\n",
            "\n",
            "* buzz (positive)\n",
            "* impressed (neutral)\n",
            "* disappointing (negative)\n",
            "* relieved (positive)\n",
            "* delicious (positive)\n",
            "* satisfying (positive)\n",
            "* disappointing (negative)\n",
            "* hesitant (neutral)\n",
            "* fearing (negative)\n",
            "* recommend (positive)\n",
            "\n",
            "Note that some words may have multiple connotations or nuances, but I've tried to extract the primary impression conveyed by each word.\n"
          ]
        },
        {
          "output_type": "stream",
          "name": "stderr",
          "text": [
            "The attention mask and the pad token id were not set. As a consequence, you may observe unexpected behavior. Please pass your input's `attention_mask` to obtain reliable results.\n",
            "Setting `pad_token_id` to `eos_token_id`:128009 for open-end generation.\n"
          ]
        },
        {
          "output_type": "stream",
          "name": "stdout",
          "text": [
            "Here are the words representing the reviewer's impressions:\n",
            "\n",
            "* fair\n",
            "* doesn't quite live up\n",
            "* impressive\n",
            "* luxurious\n",
            "* photogenic\n",
            "* decent\n",
            "* nothing stood out\n",
            "* didn't fully bring out\n",
            "* left no impression\n",
            "* hard\n",
            "* sour or sweet\n",
            "* harmony\n",
            "* mid-range\n",
            "* quite tasty\n",
            "* good\n",
            "\n",
            "These words convey the reviewer's mixed impressions of the sushi restaurant, ranging from positive (impressive, luxurious, photogenic, quite tasty) to neutral (decent, nothing stood out) to negative (doesn't quite live up, didn't fully bring out, left no impression, hard, sour or sweet, mid-range).\n"
          ]
        },
        {
          "output_type": "stream",
          "name": "stderr",
          "text": [
            "The attention mask and the pad token id were not set. As a consequence, you may observe unexpected behavior. Please pass your input's `attention_mask` to obtain reliable results.\n",
            "Setting `pad_token_id` to `eos_token_id`:128009 for open-end generation.\n"
          ]
        },
        {
          "output_type": "stream",
          "name": "stdout",
          "text": [
            "Here are the words representing the reviewer's impressions:\n",
            "\n",
            "* \"incredibly delicious\"\n",
            "* \"especially tasty\"\n",
            "* \"fun\"\n",
            "* \"not necessary\"\n",
            "\n",
            "These words convey the reviewer's positive and negative emotions towards their experience at the sushi restaurant.\n"
          ]
        },
        {
          "output_type": "stream",
          "name": "stderr",
          "text": [
            "The attention mask and the pad token id were not set. As a consequence, you may observe unexpected behavior. Please pass your input's `attention_mask` to obtain reliable results.\n",
            "Setting `pad_token_id` to `eos_token_id`:128009 for open-end generation.\n"
          ]
        },
        {
          "output_type": "stream",
          "name": "stdout",
          "text": [
            "Here are the words representing the reviewer's impressions:\n",
            "\n",
            "* \"incredibly\"\n",
            "* \"absolutely\"\n",
            "* \"delicious\"\n",
            "* \"rich\"\n",
            "* \"enhances\"\n",
            "* \"excellent\"\n",
            "* \"want to come back again and again\"\n",
            "* \"definitely\"\n",
            "\n",
            "These words convey a strong positive impression of the sushi restaurant, indicating that the reviewer was very pleased with their experience.\n"
          ]
        },
        {
          "output_type": "stream",
          "name": "stderr",
          "text": [
            "The attention mask and the pad token id were not set. As a consequence, you may observe unexpected behavior. Please pass your input's `attention_mask` to obtain reliable results.\n",
            "Setting `pad_token_id` to `eos_token_id`:128009 for open-end generation.\n"
          ]
        },
        {
          "output_type": "stream",
          "name": "stdout",
          "text": [
            "Here are the words representing the reviewer's impressions:\n",
            "\n",
            "* good\n",
            "* delicious\n",
            "* higher side\n",
            "* somewhat\n"
          ]
        },
        {
          "output_type": "stream",
          "name": "stderr",
          "text": [
            "The attention mask and the pad token id were not set. As a consequence, you may observe unexpected behavior. Please pass your input's `attention_mask` to obtain reliable results.\n",
            "Setting `pad_token_id` to `eos_token_id`:128009 for open-end generation.\n"
          ]
        },
        {
          "output_type": "stream",
          "name": "stdout",
          "text": [
            "Here are the words representing the reviewer's impressions:\n",
            "\n",
            "* dazzling\n",
            "* easy\n",
            "* light\n",
            "* unreliable\n",
            "* low-precision\n",
            "* recommended\n",
            "* delightful\n",
            "* wonderful\n",
            "* rich\n",
            "* delicious\n",
            "* loved\n",
            "* disappointing\n",
            "* higher\n",
            "* worth recommending\n",
            "\n",
            "Note that some of these words may have multiple connotations or nuances, and the reviewer's tone may vary throughout the review.\n"
          ]
        },
        {
          "output_type": "stream",
          "name": "stderr",
          "text": [
            "The attention mask and the pad token id were not set. As a consequence, you may observe unexpected behavior. Please pass your input's `attention_mask` to obtain reliable results.\n",
            "Setting `pad_token_id` to `eos_token_id`:128009 for open-end generation.\n"
          ]
        },
        {
          "output_type": "stream",
          "name": "stdout",
          "text": [
            "Here are the words representing the reviewer's impressions:\n",
            "\n",
            "* \"wanted\" (anticipation)\n",
            "* \"definitely\" (positive)\n",
            "* \"lacking\" (disappointment)\n",
            "* \"incredible\" (amazing)\n",
            "* \"difficult\" (negative)\n",
            "* \"great\" (positive)\n",
            "* \"estimate\" (caution)\n",
            "\n",
            "Note that some words may have multiple connotations, but I've extracted the primary impression-based words from the review.\n"
          ]
        },
        {
          "output_type": "stream",
          "name": "stderr",
          "text": [
            "The attention mask and the pad token id were not set. As a consequence, you may observe unexpected behavior. Please pass your input's `attention_mask` to obtain reliable results.\n",
            "Setting `pad_token_id` to `eos_token_id`:128009 for open-end generation.\n"
          ]
        },
        {
          "output_type": "stream",
          "name": "stdout",
          "text": [
            "Here are the words representing the reviewer's impressions:\n",
            "\n",
            "* incredibly delicious\n",
            "* high\n",
            "* incredibly tasty\n",
            "* melt-in-your-mouth delicious\n",
            "* loved\n",
            "* fresh\n",
            "* a bit pricey\n",
            "* definitely worth a visit\n",
            "\n",
            "Note that some of these words may have multiple connotations or nuances, but in general, they convey a positive impression of the sushi restaurant.\n"
          ]
        },
        {
          "output_type": "stream",
          "name": "stderr",
          "text": [
            "The attention mask and the pad token id were not set. As a consequence, you may observe unexpected behavior. Please pass your input's `attention_mask` to obtain reliable results.\n",
            "Setting `pad_token_id` to `eos_token_id`:128009 for open-end generation.\n"
          ]
        },
        {
          "output_type": "stream",
          "name": "stdout",
          "text": [
            "Here are the words representing the reviewers' impressions:\n",
            "\n",
            "* Exceptional\n",
            "* Huge hit\n",
            "* Incredible\n",
            "* Luxurious\n",
            "* Surprising\n",
            "* Outstanding\n",
            "* Delightful\n",
            "* Considerate\n",
            "* Nice\n",
            "* Lively\n",
            "\n",
            "These words convey the reviewers' positive emotions and impressions of the sushi restaurant, including their surprise, delight, and enthusiasm for the food and service.\n"
          ]
        },
        {
          "output_type": "stream",
          "name": "stderr",
          "text": [
            "The attention mask and the pad token id were not set. As a consequence, you may observe unexpected behavior. Please pass your input's `attention_mask` to obtain reliable results.\n",
            "Setting `pad_token_id` to `eos_token_id`:128009 for open-end generation.\n"
          ]
        },
        {
          "output_type": "stream",
          "name": "stdout",
          "text": [
            "Here are the words representing the reviewer's impressions:\n",
            "\n",
            "* Luxurious\n",
            "* Exceptional\n",
            "* Delightful\n",
            "* Astonishing\n",
            "* Finest\n",
            "* Relaxed\n",
            "* Wonderful\n",
            "* Great\n",
            "* Rich\n",
            "* Sweet\n",
            "* Incredible\n",
            "* Delicate\n",
            "* Fun\n",
            "* Delicious\n",
            "* Unbelievable\n",
            "* Best\n",
            "\n",
            "These words convey the reviewer's positive impressions of the sushi restaurant, including the quality of the food, the atmosphere, and the service.\n"
          ]
        },
        {
          "output_type": "stream",
          "name": "stderr",
          "text": [
            "The attention mask and the pad token id were not set. As a consequence, you may observe unexpected behavior. Please pass your input's `attention_mask` to obtain reliable results.\n",
            "Setting `pad_token_id` to `eos_token_id`:128009 for open-end generation.\n"
          ]
        },
        {
          "output_type": "stream",
          "name": "stdout",
          "text": [
            "Here are the words representing the reviewer's impressions:\n",
            "\n",
            "* expected\n",
            "* great\n",
            "* diverse\n",
            "* enjoyable\n",
            "* good\n",
            "* acceptable\n",
            "* delicious\n"
          ]
        },
        {
          "output_type": "stream",
          "name": "stderr",
          "text": [
            "The attention mask and the pad token id were not set. As a consequence, you may observe unexpected behavior. Please pass your input's `attention_mask` to obtain reliable results.\n",
            "Setting `pad_token_id` to `eos_token_id`:128009 for open-end generation.\n"
          ]
        },
        {
          "output_type": "stream",
          "name": "stdout",
          "text": [
            "Here are the words representing the reviewer's impressions:\n",
            "\n",
            "* incredibly\n",
            "* delicious\n",
            "* exquisite\n",
            "* delightful\n",
            "* excellent\n"
          ]
        },
        {
          "output_type": "stream",
          "name": "stderr",
          "text": [
            "The attention mask and the pad token id were not set. As a consequence, you may observe unexpected behavior. Please pass your input's `attention_mask` to obtain reliable results.\n",
            "Setting `pad_token_id` to `eos_token_id`:128009 for open-end generation.\n"
          ]
        },
        {
          "output_type": "stream",
          "name": "stdout",
          "text": [
            "Here are the words representing the reviewer's impressions:\n",
            "\n",
            "* incredibly delicious\n",
            "* good\n",
            "* savored\n",
            "* lively\n",
            "* refined\n",
            "* popular\n",
            "* high-quality\n",
            "* excellent\n",
            "* impressive\n",
            "\n",
            "Note that some of these words may be used to describe the food, atmosphere, or service, but they all convey a positive impression of the reviewer's experience.\n"
          ]
        },
        {
          "output_type": "stream",
          "name": "stderr",
          "text": [
            "The attention mask and the pad token id were not set. As a consequence, you may observe unexpected behavior. Please pass your input's `attention_mask` to obtain reliable results.\n",
            "Setting `pad_token_id` to `eos_token_id`:128009 for open-end generation.\n"
          ]
        },
        {
          "output_type": "stream",
          "name": "stdout",
          "text": [
            "Here are the words representing the reviewer's impressions:\n",
            "\n",
            "* incredibly\n",
            "* delicious\n",
            "* absolutely\n",
            "* rich\n",
            "* excellent\n",
            "* must-try\n",
            "* want\n",
            "\n",
            "These words convey the reviewer's positive emotions and opinions about the sushi restaurant, including their surprise and delight at the freshness and quality of the sushi, the excellence of the service and atmosphere, and their enthusiasm to return.\n"
          ]
        },
        {
          "output_type": "stream",
          "name": "stderr",
          "text": [
            "The attention mask and the pad token id were not set. As a consequence, you may observe unexpected behavior. Please pass your input's `attention_mask` to obtain reliable results.\n",
            "Setting `pad_token_id` to `eos_token_id`:128009 for open-end generation.\n"
          ]
        },
        {
          "output_type": "stream",
          "name": "stdout",
          "text": [
            "Here are the words representing the reviewer's impressions:\n",
            "\n",
            "* \"wait\" (negative)\n",
            "* \"hurried\" (positive)\n",
            "* \"lean cuts\" (positive)\n",
            "* \"sold out\" (negative)\n",
            "* \"light\" (neutral)\n",
            "* \"foreign spot\" (neutral/negative)\n",
            "* \"inbound restaurant\" (neutral)\n",
            "\n",
            "Note that the reviewer's tone is generally neutral to positive, with a few negative comments about the wait and availability of certain dishes.\n"
          ]
        },
        {
          "output_type": "stream",
          "name": "stderr",
          "text": [
            "The attention mask and the pad token id were not set. As a consequence, you may observe unexpected behavior. Please pass your input's `attention_mask` to obtain reliable results.\n",
            "Setting `pad_token_id` to `eos_token_id`:128009 for open-end generation.\n"
          ]
        },
        {
          "output_type": "stream",
          "name": "stdout",
          "text": [
            "Here are the words representing the reviewer's impressions:\n",
            "\n",
            "* impressive\n",
            "* satisfying\n",
            "* (´▽｀)ノ (a smiling face emoticon, indicating positive sentiment)\n",
            "* a bit on the higher side (neutral, but implies a slight drawback)\n",
            "\n",
            "Note that the reviewer's overall tone is positive, with the only negative comment being about the prices.\n"
          ]
        },
        {
          "output_type": "stream",
          "name": "stderr",
          "text": [
            "The attention mask and the pad token id were not set. As a consequence, you may observe unexpected behavior. Please pass your input's `attention_mask` to obtain reliable results.\n",
            "Setting `pad_token_id` to `eos_token_id`:128009 for open-end generation.\n"
          ]
        },
        {
          "output_type": "stream",
          "name": "stdout",
          "text": [
            "Here are the words representing the reviewer's impressions:\n",
            "\n",
            "* Disappointed\n",
            "* Incredibly delicious\n",
            "* Exceptionally good\n",
            "* Delightful\n",
            "* Great\n"
          ]
        },
        {
          "output_type": "stream",
          "name": "stderr",
          "text": [
            "The attention mask and the pad token id were not set. As a consequence, you may observe unexpected behavior. Please pass your input's `attention_mask` to obtain reliable results.\n",
            "Setting `pad_token_id` to `eos_token_id`:128009 for open-end generation.\n"
          ]
        },
        {
          "output_type": "stream",
          "name": "stdout",
          "text": [
            "Here are the words representing the reviewer's impressions:\n",
            "\n",
            "* excited\n",
            "* wonderful\n",
            "* delicious\n"
          ]
        },
        {
          "output_type": "stream",
          "name": "stderr",
          "text": [
            "The attention mask and the pad token id were not set. As a consequence, you may observe unexpected behavior. Please pass your input's `attention_mask` to obtain reliable results.\n",
            "Setting `pad_token_id` to `eos_token_id`:128009 for open-end generation.\n"
          ]
        },
        {
          "output_type": "stream",
          "name": "stdout",
          "text": [
            "Here are the words representing the reviewer's impressions:\n",
            "\n",
            "* Special\n",
            "* Authentic\n",
            "* Exciting\n",
            "* Thrilling\n",
            "* Popular\n",
            "* Casual\n",
            "* Lively\n",
            "* Reasonable\n",
            "* Especially\n",
            "* Recommended\n"
          ]
        },
        {
          "output_type": "stream",
          "name": "stderr",
          "text": [
            "The attention mask and the pad token id were not set. As a consequence, you may observe unexpected behavior. Please pass your input's `attention_mask` to obtain reliable results.\n",
            "Setting `pad_token_id` to `eos_token_id`:128009 for open-end generation.\n"
          ]
        },
        {
          "output_type": "stream",
          "name": "stdout",
          "text": [
            "Here are the words representing the reviewer's impressions:\n",
            "\n",
            "* dream come true\n",
            "* better value\n",
            "* holds its own value\n",
            "* delicious\n",
            "* loved\n",
            "* nice touch\n",
            "* great time\n",
            "\n",
            "These words convey the reviewer's positive emotions and opinions about their experience at the sushi restaurant.\n"
          ]
        },
        {
          "output_type": "stream",
          "name": "stderr",
          "text": [
            "The attention mask and the pad token id were not set. As a consequence, you may observe unexpected behavior. Please pass your input's `attention_mask` to obtain reliable results.\n",
            "Setting `pad_token_id` to `eos_token_id`:128009 for open-end generation.\n"
          ]
        },
        {
          "output_type": "stream",
          "name": "stdout",
          "text": [
            "Here are the words representing the reviewer's impressions:\n",
            "\n",
            "* Delicious\n",
            "* Reasonable\n",
            "* Quiet\n",
            "* Lively\n",
            "* Bland\n",
            "* Generous\n",
            "* Satisfied\n",
            "* Great\n"
          ]
        },
        {
          "output_type": "stream",
          "name": "stderr",
          "text": [
            "The attention mask and the pad token id were not set. As a consequence, you may observe unexpected behavior. Please pass your input's `attention_mask` to obtain reliable results.\n",
            "Setting `pad_token_id` to `eos_token_id`:128009 for open-end generation.\n"
          ]
        },
        {
          "output_type": "stream",
          "name": "stdout",
          "text": [
            "Here are the words representing the reviewer's impressions:\n",
            "\n",
            "* Delicious\n",
            "* Messy\n",
            "* Incredibly\n",
            "* Great\n"
          ]
        },
        {
          "output_type": "stream",
          "name": "stderr",
          "text": [
            "The attention mask and the pad token id were not set. As a consequence, you may observe unexpected behavior. Please pass your input's `attention_mask` to obtain reliable results.\n",
            "Setting `pad_token_id` to `eos_token_id`:128009 for open-end generation.\n"
          ]
        },
        {
          "output_type": "stream",
          "name": "stdout",
          "text": [
            "Here are the words representing the reviewer's impressions:\n",
            "\n",
            "* Delicious\n",
            "* Worth\n",
            "* Mediocre\n",
            "* Satisfied\n",
            "* Glad\n",
            "* Good\n",
            "* Overwhelming\n",
            "* Lively\n",
            "* Tranquil\n",
            "\n",
            "These words convey the reviewer's emotional response to their dining experience at the sushi restaurant, including their positive and negative impressions.\n"
          ]
        },
        {
          "output_type": "stream",
          "name": "stderr",
          "text": [
            "The attention mask and the pad token id were not set. As a consequence, you may observe unexpected behavior. Please pass your input's `attention_mask` to obtain reliable results.\n",
            "Setting `pad_token_id` to `eos_token_id`:128009 for open-end generation.\n"
          ]
        },
        {
          "output_type": "stream",
          "name": "stdout",
          "text": [
            "Here are the words representing the reviewers' impressions:\n",
            "\n",
            "* superior\n",
            "* tough\n",
            "* dilemma\n",
            "* delicious\n",
            "* nice\n",
            "* pleasant\n",
            "* great\n",
            "* thick\n",
            "* cold\n",
            "* generous\n",
            "* pleasant\n",
            "* mostly\n"
          ]
        },
        {
          "output_type": "stream",
          "name": "stderr",
          "text": [
            "The attention mask and the pad token id were not set. As a consequence, you may observe unexpected behavior. Please pass your input's `attention_mask` to obtain reliable results.\n",
            "Setting `pad_token_id` to `eos_token_id`:128009 for open-end generation.\n"
          ]
        },
        {
          "output_type": "stream",
          "name": "stdout",
          "text": [
            "Here are the words representing the reviewer's impressions:\n",
            "\n",
            "* \"pricier\"\n",
            "* \"justifies\"\n",
            "* \"very satisfied\"\n",
            "* \"great\"\n"
          ]
        },
        {
          "output_type": "stream",
          "name": "stderr",
          "text": [
            "The attention mask and the pad token id were not set. As a consequence, you may observe unexpected behavior. Please pass your input's `attention_mask` to obtain reliable results.\n",
            "Setting `pad_token_id` to `eos_token_id`:128009 for open-end generation.\n"
          ]
        },
        {
          "output_type": "stream",
          "name": "stdout",
          "text": [
            "Here are the words representing the reviewer's impressions:\n",
            "\n",
            "* \"great\"\n",
            "* \"delicious\"\n",
            "* \"instantly\" (implying a positive reaction)\n",
            "* \"such quality\" (implying high quality)\n",
            "* \"popular\" (implying a positive reputation)\n",
            "\n",
            "Note that some of these words may have multiple connotations, but in the context of the review, they seem to be conveying a positive impression of the sushi restaurant.\n"
          ]
        },
        {
          "output_type": "stream",
          "name": "stderr",
          "text": [
            "The attention mask and the pad token id were not set. As a consequence, you may observe unexpected behavior. Please pass your input's `attention_mask` to obtain reliable results.\n",
            "Setting `pad_token_id` to `eos_token_id`:128009 for open-end generation.\n"
          ]
        },
        {
          "output_type": "stream",
          "name": "stdout",
          "text": [
            "Here are the words representing the reviewer's impressions:\n",
            "\n",
            "* impressive\n",
            "* enviable\n",
            "* tasty\n",
            "* strange\n",
            "* luxurious\n",
            "* systematic\n",
            "* value-oriented\n",
            "* delicate\n",
            "\n",
            "These words convey the reviewer's emotional response to their experience at the sushi restaurant, including their positive and negative feelings about the food, atmosphere, and overall quality of the establishment.\n"
          ]
        },
        {
          "output_type": "stream",
          "name": "stderr",
          "text": [
            "The attention mask and the pad token id were not set. As a consequence, you may observe unexpected behavior. Please pass your input's `attention_mask` to obtain reliable results.\n",
            "Setting `pad_token_id` to `eos_token_id`:128009 for open-end generation.\n"
          ]
        },
        {
          "output_type": "stream",
          "name": "stdout",
          "text": [
            "Here are the words representing the reviewer's impressions:\n",
            "\n",
            "* delicious\n",
            "* convenient\n",
            "* absolutely\n",
            "* generous\n",
            "* tasty\n",
            "* reasonable\n",
            "* pricey\n"
          ]
        },
        {
          "output_type": "stream",
          "name": "stderr",
          "text": [
            "The attention mask and the pad token id were not set. As a consequence, you may observe unexpected behavior. Please pass your input's `attention_mask` to obtain reliable results.\n",
            "Setting `pad_token_id` to `eos_token_id`:128009 for open-end generation.\n"
          ]
        },
        {
          "output_type": "stream",
          "name": "stdout",
          "text": [
            "Here are the words representing the reviewer's impressions:\n",
            "\n",
            "* incredibly popular\n",
            "* lively\n",
            "* very enjoyable\n",
            "* entertaining\n",
            "* definitely worth visiting\n",
            "* delicious\n",
            "* fun\n",
            "* great\n",
            "* thrilled\n",
            "* incredible\n",
            "* perfect\n",
            "* firm\n",
            "* tasty\n",
            "* lived up to the hype\n",
            "* definitely want to go back\n"
          ]
        },
        {
          "output_type": "stream",
          "name": "stderr",
          "text": [
            "The attention mask and the pad token id were not set. As a consequence, you may observe unexpected behavior. Please pass your input's `attention_mask` to obtain reliable results.\n",
            "Setting `pad_token_id` to `eos_token_id`:128009 for open-end generation.\n"
          ]
        },
        {
          "output_type": "stream",
          "name": "stdout",
          "text": [
            "Here are the words representing the reviewers' impressions:\n",
            "\n",
            "* Luxurious\n",
            "* Sophisticated\n",
            "* Clean\n",
            "* Perfect\n",
            "* Exciting\n",
            "* Fun\n",
            "* Exquisite\n",
            "* Melt-in-your-mouth\n",
            "* Luxurious\n",
            "* Blissful\n",
            "* Super Delicious\n",
            "* So Delicious\n",
            "\n",
            "These words convey the reviewer's positive emotions and impressions of the sushi restaurant, including feelings of luxury, sophistication, and delight.\n"
          ]
        },
        {
          "output_type": "stream",
          "name": "stderr",
          "text": [
            "The attention mask and the pad token id were not set. As a consequence, you may observe unexpected behavior. Please pass your input's `attention_mask` to obtain reliable results.\n",
            "Setting `pad_token_id` to `eos_token_id`:128009 for open-end generation.\n"
          ]
        },
        {
          "output_type": "stream",
          "name": "stdout",
          "text": [
            "Here are the words representing the reviewer's impressions:\n",
            "\n",
            "* delicious\n",
            "* strong craving\n",
            "* positive\n",
            "* relieved\n",
            "* well-known\n",
            "* appreciative\n",
            "* slight acidity\n",
            "* preferred\n",
            "* rich\n",
            "* delicious\n",
            "* delightful\n",
            "* disappointed\n",
            "* realized\n",
            "* appreciated\n",
            "\n",
            "These words convey the reviewer's emotions and opinions about their experience at the sushi restaurant, including their enthusiasm, satisfaction, and disappointment.\n"
          ]
        },
        {
          "output_type": "stream",
          "name": "stderr",
          "text": [
            "The attention mask and the pad token id were not set. As a consequence, you may observe unexpected behavior. Please pass your input's `attention_mask` to obtain reliable results.\n",
            "Setting `pad_token_id` to `eos_token_id`:128009 for open-end generation.\n"
          ]
        },
        {
          "output_type": "stream",
          "name": "stdout",
          "text": [
            "Here are the words representing the reviewer's impressions:\n",
            "\n",
            "* \"delicious\" (positive impression)\n",
            "* \"outstanding\" (positive impression)\n",
            "* \"slight fishy smell\" (negative impression)\n",
            "\n",
            "Note that the reviewer also mentions a \"mix-up\" with their order, which could be considered a negative impression, but it's not directly related to the food quality, so I didn't include it in the list.\n"
          ]
        },
        {
          "output_type": "stream",
          "name": "stderr",
          "text": [
            "The attention mask and the pad token id were not set. As a consequence, you may observe unexpected behavior. Please pass your input's `attention_mask` to obtain reliable results.\n",
            "Setting `pad_token_id` to `eos_token_id`:128009 for open-end generation.\n"
          ]
        },
        {
          "output_type": "stream",
          "name": "stdout",
          "text": [
            "Here are the words representing the reviewer's impressions:\n",
            "\n",
            "* excellent\n",
            "* delicious\n",
            "* perfect\n",
            "* tasty\n",
            "* luxurious\n",
            "\n",
            "These words convey the reviewer's positive feelings about their experience at the sushi restaurant, including the quality of the food, the freshness of the ingredients, and the overall luxury of the dining experience.\n"
          ]
        },
        {
          "output_type": "stream",
          "name": "stderr",
          "text": [
            "The attention mask and the pad token id were not set. As a consequence, you may observe unexpected behavior. Please pass your input's `attention_mask` to obtain reliable results.\n",
            "Setting `pad_token_id` to `eos_token_id`:128009 for open-end generation.\n"
          ]
        },
        {
          "output_type": "stream",
          "name": "stdout",
          "text": [
            "Here are the words representing the reviewer's impressions:\n",
            "\n",
            "* curious\n",
            "* delicious\n",
            "* amusing\n",
            "* high (referring to prices)\n",
            "* great (referring to cost-performance ratio)\n",
            "* once (referring to the intention to visit the restaurant only once)\n"
          ]
        },
        {
          "output_type": "stream",
          "name": "stderr",
          "text": [
            "The attention mask and the pad token id were not set. As a consequence, you may observe unexpected behavior. Please pass your input's `attention_mask` to obtain reliable results.\n",
            "Setting `pad_token_id` to `eos_token_id`:128009 for open-end generation.\n"
          ]
        },
        {
          "output_type": "stream",
          "name": "stdout",
          "text": [
            "Here are the words representing the reviewer's impressions:\n",
            "\n",
            "* \"crowded\"\n",
            "* \"long wait\"\n",
            "* \"freezing cold\"\n",
            "* \"generous\" (referring to the portion size)\n",
            "* \"melt-in-your-mouth flavor\"\n",
            "* \"comforting\"\n",
            "* \"delicious\"\n",
            "* \"refreshing\"\n",
            "* \"incredibly fresh\"\n",
            "* \"crunchy texture\"\n",
            "* \"rich flavor\"\n",
            "* \"luxurious\"\n",
            "* \"happy\"\n",
            "* \"tasty\"\n",
            "* \"best way to savor\"\n",
            "* \"reasonably priced\"\n",
            "* \"definite advantage\"\n",
            "\n",
            "Note that some of these words may have multiple connotations or nuances depending on the context in which they are used.\n"
          ]
        },
        {
          "output_type": "stream",
          "name": "stderr",
          "text": [
            "The attention mask and the pad token id were not set. As a consequence, you may observe unexpected behavior. Please pass your input's `attention_mask` to obtain reliable results.\n",
            "Setting `pad_token_id` to `eos_token_id`:128009 for open-end generation.\n"
          ]
        },
        {
          "output_type": "stream",
          "name": "stdout",
          "text": [
            "Here are the words representing the reviewer's impressions:\n",
            "\n",
            "* Delicious\n",
            "* Absolutely delicious\n",
            "* Worth much more than the price paid\n",
            "\n",
            "These words convey the reviewer's positive impression of the sushi restaurant, indicating that the food was of high quality and exceeded their expectations.\n"
          ]
        },
        {
          "output_type": "stream",
          "name": "stderr",
          "text": [
            "The attention mask and the pad token id were not set. As a consequence, you may observe unexpected behavior. Please pass your input's `attention_mask` to obtain reliable results.\n",
            "Setting `pad_token_id` to `eos_token_id`:128009 for open-end generation.\n"
          ]
        },
        {
          "output_type": "stream",
          "name": "stdout",
          "text": [
            "Here are the words representing the reviewer's impressions:\n",
            "\n",
            "* trouble\n",
            "* found\n",
            "* spacious\n",
            "* quick\n",
            "* didn't have to wait long\n",
            "* many\n",
            "* didn't hear much Japanese\n",
            "* unfortunately\n",
            "* delicious\n",
            "* pricier side\n",
            "\n",
            "These words convey the reviewer's emotions and opinions about their experience at the sushi restaurant, including their initial difficulty finding a reservation, the pleasant atmosphere, the efficiency of the service, the variety of dishes, and the taste of the food.\n"
          ]
        },
        {
          "output_type": "stream",
          "name": "stderr",
          "text": [
            "The attention mask and the pad token id were not set. As a consequence, you may observe unexpected behavior. Please pass your input's `attention_mask` to obtain reliable results.\n",
            "Setting `pad_token_id` to `eos_token_id`:128009 for open-end generation.\n"
          ]
        },
        {
          "output_type": "stream",
          "name": "stdout",
          "text": [
            "Here are the words representing the reviewers' impressions:\n",
            "\n",
            "* Cold\n",
            "* Fresh\n",
            "* Live\n",
            "* Sweet\n",
            "* Excellent (implied by the high prices)\n",
            "\n",
            "Note that these words are not explicitly stated as opinions, but can be inferred from the context. The prices listed are likely to indicate a high level of quality or excellence, which is reflected in the reviewer's impression.\n"
          ]
        },
        {
          "output_type": "stream",
          "name": "stderr",
          "text": [
            "The attention mask and the pad token id were not set. As a consequence, you may observe unexpected behavior. Please pass your input's `attention_mask` to obtain reliable results.\n",
            "Setting `pad_token_id` to `eos_token_id`:128009 for open-end generation.\n"
          ]
        },
        {
          "output_type": "stream",
          "name": "stdout",
          "text": [
            "Here are the words representing the reviewer's impressions:\n",
            "\n",
            "* pleasant\n",
            "* good\n",
            "* best\n",
            "* great\n"
          ]
        },
        {
          "output_type": "stream",
          "name": "stderr",
          "text": [
            "The attention mask and the pad token id were not set. As a consequence, you may observe unexpected behavior. Please pass your input's `attention_mask` to obtain reliable results.\n",
            "Setting `pad_token_id` to `eos_token_id`:128009 for open-end generation.\n"
          ]
        },
        {
          "output_type": "stream",
          "name": "stdout",
          "text": [
            "Here are the words that represent the reviewer's impressions:\n",
            "\n",
            "* \"luxurious\"\n",
            "* \"fine\"\n",
            "* \"good\"\n",
            "* \"rivals\"\n",
            "* \"good price\"\n",
            "* \"bit messy\"\n",
            "* \"uniform\"\n",
            "* \"improve\"\n",
            "* \"bland\"\n",
            "* \"overwhelmingly strong\"\n",
            "* \"great\"\n",
            "* \"thriving\"\n",
            "* \"recognized\"\n",
            "* \"great meal\"\n",
            "* \"very much to my liking\"\n",
            "* \"to my liking\"\n",
            "* \"corresponding to price\"\n",
            "* \"not my liking\"\n",
            "* \"somewhat deviating from my preference\"\n",
            "* \"good restaurant\"\n",
            "* \"great satisfaction\"\n",
            "\n",
            "These words convey the reviewer's positive and negative impressions of the restaurant, including its atmosphere, food quality, service, and overall experience.\n"
          ]
        },
        {
          "output_type": "stream",
          "name": "stderr",
          "text": [
            "The attention mask and the pad token id were not set. As a consequence, you may observe unexpected behavior. Please pass your input's `attention_mask` to obtain reliable results.\n",
            "Setting `pad_token_id` to `eos_token_id`:128009 for open-end generation.\n"
          ]
        },
        {
          "output_type": "stream",
          "name": "stdout",
          "text": [
            "Here are the words representing the reviewer's impressions:\n",
            "\n",
            "* surprisingly\n",
            "* great\n",
            "* leisurely\n",
            "* hectic\n",
            "* rushed\n",
            "* fresh\n",
            "* delicious\n",
            "* exquisite\n",
            "\n",
            "These words convey the reviewer's emotions and opinions about their experience at the sushi restaurant, including their surprise, enjoyment, and disappointment.\n"
          ]
        },
        {
          "output_type": "stream",
          "name": "stderr",
          "text": [
            "The attention mask and the pad token id were not set. As a consequence, you may observe unexpected behavior. Please pass your input's `attention_mask` to obtain reliable results.\n",
            "Setting `pad_token_id` to `eos_token_id`:128009 for open-end generation.\n"
          ]
        },
        {
          "output_type": "stream",
          "name": "stdout",
          "text": [
            "Here are the words representing the reviewer's impressions:\n",
            "\n",
            "* Exquisite\n",
            "* Indeed\n",
            "* More than sufficient\n",
            "* Larger than usual\n"
          ]
        },
        {
          "output_type": "stream",
          "name": "stderr",
          "text": [
            "The attention mask and the pad token id were not set. As a consequence, you may observe unexpected behavior. Please pass your input's `attention_mask` to obtain reliable results.\n",
            "Setting `pad_token_id` to `eos_token_id`:128009 for open-end generation.\n"
          ]
        },
        {
          "output_type": "stream",
          "name": "stdout",
          "text": [
            "Here are the words representing the reviewer's impressions:\n",
            "\n",
            "* \"delicious\"\n",
            "* \"luxury\"\n",
            "* \"reasonable\"\n",
            "* \"little indulgence\"\n",
            "\n",
            "These words convey the reviewer's positive impression of the sushi restaurant, highlighting the quality of the food, the luxurious atmosphere, and the affordability of the prices.\n"
          ]
        },
        {
          "output_type": "stream",
          "name": "stderr",
          "text": [
            "The attention mask and the pad token id were not set. As a consequence, you may observe unexpected behavior. Please pass your input's `attention_mask` to obtain reliable results.\n",
            "Setting `pad_token_id` to `eos_token_id`:128009 for open-end generation.\n"
          ]
        },
        {
          "output_type": "stream",
          "name": "stdout",
          "text": [
            "Here are the words representing the reviewer's impressions:\n",
            "\n",
            "* happy\n",
            "* great\n"
          ]
        },
        {
          "output_type": "stream",
          "name": "stderr",
          "text": [
            "The attention mask and the pad token id were not set. As a consequence, you may observe unexpected behavior. Please pass your input's `attention_mask` to obtain reliable results.\n",
            "Setting `pad_token_id` to `eos_token_id`:128009 for open-end generation.\n"
          ]
        },
        {
          "output_type": "stream",
          "name": "stdout",
          "text": [
            "Here are the words representing the reviewer's impressions:\n",
            "\n",
            "* appealing\n",
            "* incredibly delicious\n",
            "* outstanding\n",
            "* MAX (maximum satisfaction)\n",
            "* wonderfully delicious\n",
            "* best\n",
            "* incredibly\n",
            "* delightful\n",
            "* MAX (maximum satisfaction)\n",
            "\n",
            "Note that some of these words may have been used to describe specific dishes or experiences, but they also convey the reviewer's overall positive impression of the restaurant and its food.\n"
          ]
        },
        {
          "output_type": "stream",
          "name": "stderr",
          "text": [
            "The attention mask and the pad token id were not set. As a consequence, you may observe unexpected behavior. Please pass your input's `attention_mask` to obtain reliable results.\n",
            "Setting `pad_token_id` to `eos_token_id`:128009 for open-end generation.\n"
          ]
        },
        {
          "output_type": "stream",
          "name": "stdout",
          "text": [
            "Here are the words representing the reviewer's impressions:\n",
            "\n",
            "* wonderful\n",
            "* divinely\n",
            "* incredible\n",
            "* excellent\n",
            "* melt-in-your-mouth\n",
            "* delicious\n",
            "* grateful\n",
            "* so delicious\n",
            "* beautiful\n",
            "\n",
            "These words convey the reviewer's positive emotions and impressions of the sushi restaurant, specifically the quality of the bluefin tuna and the overall dining experience.\n"
          ]
        },
        {
          "output_type": "stream",
          "name": "stderr",
          "text": [
            "The attention mask and the pad token id were not set. As a consequence, you may observe unexpected behavior. Please pass your input's `attention_mask` to obtain reliable results.\n",
            "Setting `pad_token_id` to `eos_token_id`:128009 for open-end generation.\n"
          ]
        },
        {
          "output_type": "stream",
          "name": "stdout",
          "text": [
            "Here are the words representing the reviewer's impressions:\n",
            "\n",
            "* astonishing\n",
            "* exclusive\n",
            "* worth it\n",
            "* great\n"
          ]
        },
        {
          "output_type": "stream",
          "name": "stderr",
          "text": [
            "The attention mask and the pad token id were not set. As a consequence, you may observe unexpected behavior. Please pass your input's `attention_mask` to obtain reliable results.\n",
            "Setting `pad_token_id` to `eos_token_id`:128009 for open-end generation.\n"
          ]
        },
        {
          "output_type": "stream",
          "name": "stdout",
          "text": [
            "Here are the words representing the reviewer's impressions:\n",
            "\n",
            "* Disappointed\n",
            "* Incredibly delicious\n",
            "* Exceptionally good\n",
            "* Delightful\n",
            "* Great\n"
          ]
        },
        {
          "output_type": "stream",
          "name": "stderr",
          "text": [
            "The attention mask and the pad token id were not set. As a consequence, you may observe unexpected behavior. Please pass your input's `attention_mask` to obtain reliable results.\n",
            "Setting `pad_token_id` to `eos_token_id`:128009 for open-end generation.\n"
          ]
        },
        {
          "output_type": "stream",
          "name": "stdout",
          "text": [
            "Here are the words representing the reviewer's impressions:\n",
            "\n",
            "* delicious\n",
            "* just as I remembered\n",
            "* good option\n",
            "* quality\n"
          ]
        },
        {
          "output_type": "stream",
          "name": "stderr",
          "text": [
            "The attention mask and the pad token id were not set. As a consequence, you may observe unexpected behavior. Please pass your input's `attention_mask` to obtain reliable results.\n",
            "Setting `pad_token_id` to `eos_token_id`:128009 for open-end generation.\n"
          ]
        },
        {
          "output_type": "stream",
          "name": "stdout",
          "text": [
            "Here are the words representing the reviewer's impressions:\n",
            "\n",
            "* delicious\n",
            "* fantastic\n",
            "* affordable\n",
            "* tasty\n",
            "* extremely popular\n"
          ]
        },
        {
          "output_type": "stream",
          "name": "stderr",
          "text": [
            "The attention mask and the pad token id were not set. As a consequence, you may observe unexpected behavior. Please pass your input's `attention_mask` to obtain reliable results.\n",
            "Setting `pad_token_id` to `eos_token_id`:128009 for open-end generation.\n"
          ]
        },
        {
          "output_type": "stream",
          "name": "stdout",
          "text": [
            "Here are the words representing the reviewer's impressions:\n",
            "\n",
            "* Love\n",
            "* Bustling\n",
            "* Dazzling\n",
            "* Exceeds\n",
            "* Reasonable\n",
            "* Quality\n",
            "* Perfect\n",
            "* Delicious\n",
            "* Addictive\n",
            "* Standout\n",
            "* Great\n",
            "* Wonderful\n",
            "\n",
            "These words convey the reviewer's positive emotions and impressions of the restaurant, including its atmosphere, food quality, and value for money.\n"
          ]
        },
        {
          "output_type": "stream",
          "name": "stderr",
          "text": [
            "The attention mask and the pad token id were not set. As a consequence, you may observe unexpected behavior. Please pass your input's `attention_mask` to obtain reliable results.\n",
            "Setting `pad_token_id` to `eos_token_id`:128009 for open-end generation.\n"
          ]
        },
        {
          "output_type": "stream",
          "name": "stdout",
          "text": [
            "Here are the words representing the reviewer's impressions:\n",
            "\n",
            "* delicious\n",
            "* recommended\n",
            "* early\n",
            "* waiting\n",
            "* noticeable\n",
            "* busy\n",
            "\n",
            "These words convey the reviewer's positive experience, such as enjoying the food (delicious) and recommending the restaurant (recommended), as well as the challenges they faced, like waiting in line (waiting) and the busy atmosphere (busy).\n"
          ]
        },
        {
          "output_type": "stream",
          "name": "stderr",
          "text": [
            "The attention mask and the pad token id were not set. As a consequence, you may observe unexpected behavior. Please pass your input's `attention_mask` to obtain reliable results.\n",
            "Setting `pad_token_id` to `eos_token_id`:128009 for open-end generation.\n"
          ]
        },
        {
          "output_type": "stream",
          "name": "stdout",
          "text": [
            "Here are the words representing the reviewer's impressions:\n",
            "\n",
            "* Delicious\n",
            "* Flavorful\n",
            "* Effective\n",
            "* Pleasant\n",
            "* Guaranteed\n",
            "* Not exactly cheap\n",
            "\n",
            "These words convey the reviewer's positive impressions of the sushi, the restaurant's marketing, and the quality of the food.\n"
          ]
        },
        {
          "output_type": "stream",
          "name": "stderr",
          "text": [
            "The attention mask and the pad token id were not set. As a consequence, you may observe unexpected behavior. Please pass your input's `attention_mask` to obtain reliable results.\n",
            "Setting `pad_token_id` to `eos_token_id`:128009 for open-end generation.\n"
          ]
        },
        {
          "output_type": "stream",
          "name": "stdout",
          "text": [
            "Here are the words representing the reviewer's impressions:\n",
            "\n",
            "* delicious\n",
            "* standout\n",
            "* noticeable\n",
            "* recommend\n",
            "* arriving\n"
          ]
        },
        {
          "output_type": "stream",
          "name": "stderr",
          "text": [
            "The attention mask and the pad token id were not set. As a consequence, you may observe unexpected behavior. Please pass your input's `attention_mask` to obtain reliable results.\n",
            "Setting `pad_token_id` to `eos_token_id`:128009 for open-end generation.\n"
          ]
        },
        {
          "output_type": "stream",
          "name": "stdout",
          "text": [
            "Here are the words representing the reviewer's impressions:\n",
            "\n",
            "* Delightful\n",
            "* Lively\n",
            "* Enjoyable\n",
            "* Fabulous\n",
            "* Tender\n",
            "* Firm\n",
            "* Subtly sweet\n",
            "* Perfectly complemented\n",
            "* Excellent\n",
            "* Freshly sliced\n",
            "* Melting away\n",
            "* Happy\n",
            "* Satisfying\n",
            "* Absolutely delicious\n"
          ]
        },
        {
          "output_type": "stream",
          "name": "stderr",
          "text": [
            "The attention mask and the pad token id were not set. As a consequence, you may observe unexpected behavior. Please pass your input's `attention_mask` to obtain reliable results.\n",
            "Setting `pad_token_id` to `eos_token_id`:128009 for open-end generation.\n"
          ]
        },
        {
          "output_type": "stream",
          "name": "stdout",
          "text": [
            "Here are the words representing the reviewer's impressions:\n",
            "\n",
            "* \"apparently\" (neutral)\n",
            "* \"deliciousness\" (positive)\n",
            "* \"as expected\" (neutral)\n",
            "* \"enjoyed\" (positive)\n",
            "\n",
            "Note that the reviewer's tone is generally positive, with a focus on the quality of the food (deliciousness) and their experience with the ordering process (enjoyed). The use of \"miraculously\" also suggests a positive surprise.\n"
          ]
        },
        {
          "output_type": "stream",
          "name": "stderr",
          "text": [
            "The attention mask and the pad token id were not set. As a consequence, you may observe unexpected behavior. Please pass your input's `attention_mask` to obtain reliable results.\n",
            "Setting `pad_token_id` to `eos_token_id`:128009 for open-end generation.\n"
          ]
        },
        {
          "output_type": "stream",
          "name": "stdout",
          "text": [
            "Here are the words representing the reviewer's impressions:\n",
            "\n",
            "* Exquisite\n",
            "* Indeed\n"
          ]
        },
        {
          "output_type": "stream",
          "name": "stderr",
          "text": [
            "The attention mask and the pad token id were not set. As a consequence, you may observe unexpected behavior. Please pass your input's `attention_mask` to obtain reliable results.\n",
            "Setting `pad_token_id` to `eos_token_id`:128009 for open-end generation.\n"
          ]
        },
        {
          "output_type": "stream",
          "name": "stdout",
          "text": [
            "Here are the words representing the reviewer's impressions:\n",
            "\n",
            "* delicious\n",
            "* outstanding\n",
            "* slight\n"
          ]
        },
        {
          "output_type": "stream",
          "name": "stderr",
          "text": [
            "The attention mask and the pad token id were not set. As a consequence, you may observe unexpected behavior. Please pass your input's `attention_mask` to obtain reliable results.\n",
            "Setting `pad_token_id` to `eos_token_id`:128009 for open-end generation.\n"
          ]
        },
        {
          "output_type": "stream",
          "name": "stdout",
          "text": [
            "Here are the words representing the reviewer's impressions:\n",
            "\n",
            "* exceeded\n",
            "* rich\n",
            "* surprisingly delicious\n",
            "* pure joy\n",
            "* generously sized\n",
            "* unusual\n",
            "* interesting\n",
            "* delicious\n",
            "\n",
            "These words convey the reviewer's positive emotions and satisfaction with their experience at the sushi restaurant.\n"
          ]
        },
        {
          "output_type": "stream",
          "name": "stderr",
          "text": [
            "The attention mask and the pad token id were not set. As a consequence, you may observe unexpected behavior. Please pass your input's `attention_mask` to obtain reliable results.\n",
            "Setting `pad_token_id` to `eos_token_id`:128009 for open-end generation.\n"
          ]
        },
        {
          "output_type": "stream",
          "name": "stdout",
          "text": [
            "Here are the words representing the reviewer's impressions:\n",
            "\n",
            "* excellent (implied by \"able to enter with just a short wait\")\n",
            "* must-try (implied by \"the tuna is a must-try\")\n",
            "\n",
            "Note that the review is quite brief and doesn't contain many emotional or evaluative words, so the impressions are somewhat limited.\n"
          ]
        },
        {
          "output_type": "stream",
          "name": "stderr",
          "text": [
            "The attention mask and the pad token id were not set. As a consequence, you may observe unexpected behavior. Please pass your input's `attention_mask` to obtain reliable results.\n",
            "Setting `pad_token_id` to `eos_token_id`:128009 for open-end generation.\n"
          ]
        },
        {
          "output_type": "stream",
          "name": "stdout",
          "text": [
            "Here are the words representing the reviewer's impressions:\n",
            "\n",
            "* excellent\n",
            "* delicious\n",
            "* worth it\n",
            "* high-end\n",
            "* absolutely\n",
            "* fully satisfied\n",
            "\n",
            "These words convey a positive and enthusiastic tone, indicating that the reviewer was impressed with their dining experience at Kaiten Sushi Onodera.\n"
          ]
        },
        {
          "output_type": "stream",
          "name": "stderr",
          "text": [
            "The attention mask and the pad token id were not set. As a consequence, you may observe unexpected behavior. Please pass your input's `attention_mask` to obtain reliable results.\n",
            "Setting `pad_token_id` to `eos_token_id`:128009 for open-end generation.\n"
          ]
        },
        {
          "output_type": "stream",
          "name": "stdout",
          "text": [
            "Here are the words representing the reviewer's impressions:\n",
            "\n",
            "* Exquisite\n",
            "* Indeed\n",
            "* More than sufficient\n",
            "* Larger than usual\n",
            "\n",
            "These words convey the reviewer's positive impressions of the sushi, the service, and the overall dining experience.\n"
          ]
        },
        {
          "output_type": "stream",
          "name": "stderr",
          "text": [
            "The attention mask and the pad token id were not set. As a consequence, you may observe unexpected behavior. Please pass your input's `attention_mask` to obtain reliable results.\n",
            "Setting `pad_token_id` to `eos_token_id`:128009 for open-end generation.\n"
          ]
        },
        {
          "output_type": "stream",
          "name": "stdout",
          "text": [
            "Here are the words representing the reviewers' impressions:\n",
            "\n",
            "* Cold\n",
            "* Fresh\n",
            "* Sweet\n",
            "* Live\n",
            "\n",
            "These words convey the reviewers' positive impressions of the sushi restaurant, specifically highlighting the freshness, quality, and freshness of the ingredients.\n"
          ]
        },
        {
          "output_type": "stream",
          "name": "stderr",
          "text": [
            "The attention mask and the pad token id were not set. As a consequence, you may observe unexpected behavior. Please pass your input's `attention_mask` to obtain reliable results.\n",
            "Setting `pad_token_id` to `eos_token_id`:128009 for open-end generation.\n"
          ]
        },
        {
          "output_type": "stream",
          "name": "stdout",
          "text": [
            "Here are the words representing the reviewers' impressions:\n",
            "\n",
            "* extremely\n",
            "* delicious\n",
            "* different\n",
            "* exceptionally\n",
            "* tasty\n",
            "* worth\n",
            "* greater\n",
            "* satisfying\n",
            "\n",
            "These words convey the reviewer's positive emotions and opinions about the sushi restaurant, including its popularity, food quality, and value for money.\n"
          ]
        },
        {
          "output_type": "stream",
          "name": "stderr",
          "text": [
            "The attention mask and the pad token id were not set. As a consequence, you may observe unexpected behavior. Please pass your input's `attention_mask` to obtain reliable results.\n",
            "Setting `pad_token_id` to `eos_token_id`:128009 for open-end generation.\n"
          ]
        },
        {
          "output_type": "stream",
          "name": "stdout",
          "text": [
            "Here are the words representing the reviewer's impressions:\n",
            "\n",
            "* \"high-end\"\n",
            "* \"pricier\"\n",
            "* \"catering to inbound tourists\"\n",
            "* \"lively\"\n",
            "* \"great atmosphere\"\n",
            "* \"delicious\"\n",
            "* \"great meal\"\n",
            "\n",
            "These words convey the reviewer's positive impressions of the restaurant, including its upscale atmosphere, generous portions, and tasty food.\n"
          ]
        },
        {
          "output_type": "stream",
          "name": "stderr",
          "text": [
            "The attention mask and the pad token id were not set. As a consequence, you may observe unexpected behavior. Please pass your input's `attention_mask` to obtain reliable results.\n",
            "Setting `pad_token_id` to `eos_token_id`:128009 for open-end generation.\n"
          ]
        },
        {
          "output_type": "stream",
          "name": "stdout",
          "text": [
            "Here are the words representing the reviewer's impressions:\n",
            "\n",
            "* appreciate\n",
            "* impressed\n",
            "* changed\n",
            "* didn't feel\n"
          ]
        },
        {
          "output_type": "stream",
          "name": "stderr",
          "text": [
            "The attention mask and the pad token id were not set. As a consequence, you may observe unexpected behavior. Please pass your input's `attention_mask` to obtain reliable results.\n",
            "Setting `pad_token_id` to `eos_token_id`:128009 for open-end generation.\n"
          ]
        },
        {
          "output_type": "stream",
          "name": "stdout",
          "text": [
            "Here are the words representing the reviewer's impressions:\n",
            "\n",
            "* seems\n",
            "* unique\n",
            "* delicious\n",
            "* impressive\n"
          ]
        },
        {
          "output_type": "stream",
          "name": "stderr",
          "text": [
            "The attention mask and the pad token id were not set. As a consequence, you may observe unexpected behavior. Please pass your input's `attention_mask` to obtain reliable results.\n",
            "Setting `pad_token_id` to `eos_token_id`:128009 for open-end generation.\n"
          ]
        },
        {
          "output_type": "stream",
          "name": "stdout",
          "text": [
            "Here are the words representing the reviewer's impressions:\n",
            "\n",
            "* \"quite busy\"\n",
            "* \"high quality\"\n",
            "* \"great meal\"\n",
            "\n",
            "These words convey the reviewer's positive impressions of the sushi restaurant, specifically the quality of the food and the overall dining experience.\n"
          ]
        },
        {
          "output_type": "stream",
          "name": "stderr",
          "text": [
            "The attention mask and the pad token id were not set. As a consequence, you may observe unexpected behavior. Please pass your input's `attention_mask` to obtain reliable results.\n",
            "Setting `pad_token_id` to `eos_token_id`:128009 for open-end generation.\n"
          ]
        },
        {
          "output_type": "stream",
          "name": "stdout",
          "text": [
            "Here are the words representing the reviewers' impressions:\n",
            "\n",
            "* Delicious\n",
            "* Perfect\n",
            "* Good\n",
            "* Exceptional\n",
            "* Entertaining\n",
            "* Exciting\n",
            "* Delightful\n",
            "* Ultra-fresh\n",
            "* Nice\n",
            "* Welcoming\n",
            "* Versatile\n",
            "* Incredible\n"
          ]
        },
        {
          "output_type": "stream",
          "name": "stderr",
          "text": [
            "The attention mask and the pad token id were not set. As a consequence, you may observe unexpected behavior. Please pass your input's `attention_mask` to obtain reliable results.\n",
            "Setting `pad_token_id` to `eos_token_id`:128009 for open-end generation.\n"
          ]
        },
        {
          "output_type": "stream",
          "name": "stdout",
          "text": [
            "Here are the words representing the reviewer's impressions:\n",
            "\n",
            "* \"delicious\"\n",
            "* \"excited\"\n",
            "* \"best\"\n",
            "* \"want\" (implying a positive desire to return)\n",
            "* \"highly recommend\" (implying strong endorsement)\n",
            "\n",
            "These words convey a positive impression of the sushi restaurant, indicating that the reviewer enjoyed their experience and would recommend it to others.\n"
          ]
        },
        {
          "output_type": "stream",
          "name": "stderr",
          "text": [
            "The attention mask and the pad token id were not set. As a consequence, you may observe unexpected behavior. Please pass your input's `attention_mask` to obtain reliable results.\n",
            "Setting `pad_token_id` to `eos_token_id`:128009 for open-end generation.\n"
          ]
        },
        {
          "output_type": "stream",
          "name": "stdout",
          "text": [
            "Here are the words representing the reviewer's impressions:\n",
            "\n",
            "* Enticing\n",
            "* Accessible\n",
            "* Delicious\n",
            "* Standout\n",
            "* Impressive\n",
            "* Tasty\n",
            "* Luxurious\n",
            "* Average\n",
            "* Special\n",
            "* Friendly\n",
            "* Attentive\n",
            "* Busy\n",
            "* Stressed\n",
            "* Good\n",
            "\n",
            "These words give an idea of the reviewer's overall experience and opinions about the sushi restaurant, including their expectations, likes, and dislikes.\n"
          ]
        },
        {
          "output_type": "stream",
          "name": "stderr",
          "text": [
            "The attention mask and the pad token id were not set. As a consequence, you may observe unexpected behavior. Please pass your input's `attention_mask` to obtain reliable results.\n",
            "Setting `pad_token_id` to `eos_token_id`:128009 for open-end generation.\n"
          ]
        },
        {
          "output_type": "stream",
          "name": "stdout",
          "text": [
            "Here are the words representing the reviewer's impressions:\n",
            "\n",
            "* delicious\n",
            "* fantastic\n",
            "* melt-in-your-mouth\n",
            "* sweet\n",
            "* rich\n",
            "* excellent\n",
            "* impressive\n",
            "* fluffy\n",
            "* firm\n",
            "* al dente\n",
            "* satisfying\n",
            "\n",
            "These words convey the reviewer's positive and negative emotions towards the sushi restaurant, including their delight in the taste, texture, and quality of the dishes, as well as their curiosity and uncertainty about the rice.\n"
          ]
        },
        {
          "output_type": "stream",
          "name": "stderr",
          "text": [
            "The attention mask and the pad token id were not set. As a consequence, you may observe unexpected behavior. Please pass your input's `attention_mask` to obtain reliable results.\n",
            "Setting `pad_token_id` to `eos_token_id`:128009 for open-end generation.\n"
          ]
        },
        {
          "output_type": "stream",
          "name": "stdout",
          "text": [
            "Here are the words representing the reviewer's impressions:\n",
            "\n",
            "* Delicious\n",
            "* Great\n",
            "* Enjoyed\n",
            "* Loved\n",
            "* Satisfied\n",
            "* Would definitely return soon\n",
            "* Would like to revisit\n",
            "\n",
            "Note that some of these words may be inferred from the context, but they generally convey a positive impression of the reviewer's experience at the sushi restaurant.\n"
          ]
        },
        {
          "output_type": "stream",
          "name": "stderr",
          "text": [
            "The attention mask and the pad token id were not set. As a consequence, you may observe unexpected behavior. Please pass your input's `attention_mask` to obtain reliable results.\n",
            "Setting `pad_token_id` to `eos_token_id`:128009 for open-end generation.\n"
          ]
        },
        {
          "output_type": "stream",
          "name": "stdout",
          "text": [
            "Here are the words representing the reviewer's impressions:\n",
            "\n",
            "* thrilling\n",
            "* amazing\n",
            "* fantastic\n"
          ]
        },
        {
          "output_type": "stream",
          "name": "stderr",
          "text": [
            "The attention mask and the pad token id were not set. As a consequence, you may observe unexpected behavior. Please pass your input's `attention_mask` to obtain reliable results.\n",
            "Setting `pad_token_id` to `eos_token_id`:128009 for open-end generation.\n"
          ]
        },
        {
          "output_type": "stream",
          "name": "stdout",
          "text": [
            "Here are the words representing the reviewer's impressions:\n",
            "\n",
            "* excited\n",
            "* surreal\n",
            "* indulged\n",
            "* filled\n",
            "* pricey\n",
            "* great\n",
            "\n",
            "These words convey the reviewer's emotions and thoughts about their experience at the sushi restaurant, including their initial enthusiasm, surprise, satisfaction, and value judgment.\n"
          ]
        },
        {
          "output_type": "stream",
          "name": "stderr",
          "text": [
            "The attention mask and the pad token id were not set. As a consequence, you may observe unexpected behavior. Please pass your input's `attention_mask` to obtain reliable results.\n",
            "Setting `pad_token_id` to `eos_token_id`:128009 for open-end generation.\n"
          ]
        },
        {
          "output_type": "stream",
          "name": "stdout",
          "text": [
            "Here are the words representing the reviewer's impressions:\n",
            "\n",
            "* exquisite\n",
            "* significant\n",
            "* excellent\n",
            "* sufficient\n",
            "* indeed\n"
          ]
        },
        {
          "output_type": "stream",
          "name": "stderr",
          "text": [
            "The attention mask and the pad token id were not set. As a consequence, you may observe unexpected behavior. Please pass your input's `attention_mask` to obtain reliable results.\n",
            "Setting `pad_token_id` to `eos_token_id`:128009 for open-end generation.\n"
          ]
        },
        {
          "output_type": "stream",
          "name": "stdout",
          "text": [
            "Here are the words representing the reviewer's impressions:\n",
            "\n",
            "* rich\n",
            "* superbly\n",
            "* delicious\n",
            "* bit hard\n",
            "* crumbled\n",
            "* fresh\n",
            "* good\n",
            "* okay\n",
            "* best\n",
            "* reliably\n",
            "* delicious\n",
            "* weak\n",
            "* wished\n",
            "* delicious\n",
            "\n",
            "Note that some of these words may have a neutral or objective connotation, but in the context of the review, they are used to express the reviewer's subjective impressions and opinions.\n"
          ]
        },
        {
          "output_type": "stream",
          "name": "stderr",
          "text": [
            "The attention mask and the pad token id were not set. As a consequence, you may observe unexpected behavior. Please pass your input's `attention_mask` to obtain reliable results.\n",
            "Setting `pad_token_id` to `eos_token_id`:128009 for open-end generation.\n"
          ]
        },
        {
          "output_type": "stream",
          "name": "stdout",
          "text": [
            "Here are the words representing the reviewer's impressions:\n",
            "\n",
            "* excellent\n",
            "* outstanding\n",
            "* delicious\n",
            "* great\n",
            "\n",
            "These words convey a positive impression of the reviewer's experience at the sushi restaurant.\n"
          ]
        },
        {
          "output_type": "stream",
          "name": "stderr",
          "text": [
            "The attention mask and the pad token id were not set. As a consequence, you may observe unexpected behavior. Please pass your input's `attention_mask` to obtain reliable results.\n",
            "Setting `pad_token_id` to `eos_token_id`:128009 for open-end generation.\n"
          ]
        },
        {
          "output_type": "stream",
          "name": "stdout",
          "text": [
            "Here are the words representing the reviewer's impressions:\n",
            "\n",
            "* \"great\" (implying that the cost performance is not great)\n",
            "* \"tasty\" (implying that the food is delicious)\n",
            "* \"probably wouldn't come here specifically for sushi\" (implying that the reviewer is not very enthusiastic about the restaurant)\n",
            "* \"good option\" (implying that the restaurant is decent, but not exceptional)\n"
          ]
        },
        {
          "output_type": "stream",
          "name": "stderr",
          "text": [
            "The attention mask and the pad token id were not set. As a consequence, you may observe unexpected behavior. Please pass your input's `attention_mask` to obtain reliable results.\n",
            "Setting `pad_token_id` to `eos_token_id`:128009 for open-end generation.\n"
          ]
        },
        {
          "output_type": "stream",
          "name": "stdout",
          "text": [
            "Here are the words representing the reviewer's impressions:\n",
            "\n",
            "* incredible (surprise)\n",
            "* high (negative impression)\n",
            "* didn't think I would return (negative expectation)\n",
            "* faster (positive surprise)\n",
            "* delicious (positive taste)\n",
            "* different (positive surprise)\n",
            "* definitely want to go back (positive intention)\n",
            "* really enjoyed (positive feeling)\n",
            "* leisurely pace (positive experience)\n",
            "\n",
            "Note that some words may have multiple connotations or nuances, but I've tried to extract the most representative impressions from the text.\n"
          ]
        },
        {
          "output_type": "stream",
          "name": "stderr",
          "text": [
            "The attention mask and the pad token id were not set. As a consequence, you may observe unexpected behavior. Please pass your input's `attention_mask` to obtain reliable results.\n",
            "Setting `pad_token_id` to `eos_token_id`:128009 for open-end generation.\n"
          ]
        },
        {
          "output_type": "stream",
          "name": "stdout",
          "text": [
            "Here are the words representing the reviewer's impressions:\n",
            "\n",
            "* excellent\n",
            "* delicious\n",
            "* unfortunate\n",
            "* love\n"
          ]
        },
        {
          "output_type": "stream",
          "name": "stderr",
          "text": [
            "The attention mask and the pad token id were not set. As a consequence, you may observe unexpected behavior. Please pass your input's `attention_mask` to obtain reliable results.\n",
            "Setting `pad_token_id` to `eos_token_id`:128009 for open-end generation.\n"
          ]
        },
        {
          "output_type": "stream",
          "name": "stdout",
          "text": [
            "Here are the words representing the reviewer's impressions:\n",
            "\n",
            "* disappointing\n",
            "* mediocre\n",
            "* firm\n",
            "* tough\n",
            "* okay\n",
            "* delightful\n",
            "* overpowered\n",
            "* average\n",
            "* fluffy\n",
            "* sweet\n",
            "* over-marinated\n",
            "* charming\n",
            "* strong\n",
            "* overshadowing\n",
            "* delicious\n",
            "* tasty\n",
            "* thin\n",
            "* enjoyable\n",
            "* very delicious\n",
            "* easily makeable\n",
            "\n",
            "These words convey the reviewer's mixed opinions about the sushi restaurant, ranging from disappointment and mediocrity to delight and enjoyment.\n"
          ]
        },
        {
          "output_type": "stream",
          "name": "stderr",
          "text": [
            "The attention mask and the pad token id were not set. As a consequence, you may observe unexpected behavior. Please pass your input's `attention_mask` to obtain reliable results.\n",
            "Setting `pad_token_id` to `eos_token_id`:128009 for open-end generation.\n"
          ]
        },
        {
          "output_type": "stream",
          "name": "stdout",
          "text": [
            "Here are the words representing the reviewer's impressions:\n",
            "\n",
            "* \"sparkling\"\n",
            "* \"appeal\"\n",
            "* \"delicious\"\n",
            "* \"great\"\n",
            "* \"tasty\"\n",
            "\n",
            "These words convey the reviewer's positive emotions and opinions about the sushi restaurant, including the ambiance, ordering process, and taste of the food.\n"
          ]
        },
        {
          "output_type": "stream",
          "name": "stderr",
          "text": [
            "The attention mask and the pad token id were not set. As a consequence, you may observe unexpected behavior. Please pass your input's `attention_mask` to obtain reliable results.\n",
            "Setting `pad_token_id` to `eos_token_id`:128009 for open-end generation.\n"
          ]
        },
        {
          "output_type": "stream",
          "name": "stdout",
          "text": [
            "Here are the words representing the reviewer's impressions:\n",
            "\n",
            "* exceptional\n",
            "* highly recommend\n",
            "* great\n",
            "* want to eat it again\n"
          ]
        },
        {
          "output_type": "stream",
          "name": "stderr",
          "text": [
            "The attention mask and the pad token id were not set. As a consequence, you may observe unexpected behavior. Please pass your input's `attention_mask` to obtain reliable results.\n",
            "Setting `pad_token_id` to `eos_token_id`:128009 for open-end generation.\n"
          ]
        },
        {
          "output_type": "stream",
          "name": "stdout",
          "text": [
            "Here are the words representing the reviewer's impressions:\n",
            "\n",
            "* drawn in (positive)\n",
            "* delicious (positive)\n",
            "* overwhelmed (positive)\n",
            "* authentic (positive)\n",
            "* highly recommended (positive)\n",
            "* good (positive)\n",
            "* delicious (positive)\n",
            "* worried (negative)\n",
            "* bland (negative)\n",
            "* will definitely come back again (positive)\n",
            "\n",
            "Note that some words may have multiple connotations or nuances, but based on the context, I've categorized them as positive or negative impressions.\n"
          ]
        },
        {
          "output_type": "stream",
          "name": "stderr",
          "text": [
            "The attention mask and the pad token id were not set. As a consequence, you may observe unexpected behavior. Please pass your input's `attention_mask` to obtain reliable results.\n",
            "Setting `pad_token_id` to `eos_token_id`:128009 for open-end generation.\n"
          ]
        },
        {
          "output_type": "stream",
          "name": "stdout",
          "text": [
            "Here are the words representing the reviewer's impressions:\n",
            "\n",
            "* Delicious\n",
            "* Captivated\n",
            "* Want\n"
          ]
        },
        {
          "output_type": "stream",
          "name": "stderr",
          "text": [
            "The attention mask and the pad token id were not set. As a consequence, you may observe unexpected behavior. Please pass your input's `attention_mask` to obtain reliable results.\n",
            "Setting `pad_token_id` to `eos_token_id`:128009 for open-end generation.\n"
          ]
        },
        {
          "output_type": "stream",
          "name": "stdout",
          "text": [
            "Here are the words representing the reviewer's impressions:\n",
            "\n",
            "* outstanding\n",
            "* exceptional\n",
            "* impressed\n",
            "* amazing\n",
            "* strong\n",
            "* rich\n",
            "* crisp\n",
            "* great\n",
            "\n",
            "These words convey the reviewer's positive emotions and reactions to their dining experience at the sushi restaurant.\n"
          ]
        },
        {
          "output_type": "stream",
          "name": "stderr",
          "text": [
            "The attention mask and the pad token id were not set. As a consequence, you may observe unexpected behavior. Please pass your input's `attention_mask` to obtain reliable results.\n",
            "Setting `pad_token_id` to `eos_token_id`:128009 for open-end generation.\n"
          ]
        },
        {
          "output_type": "stream",
          "name": "stdout",
          "text": [
            "Here are the words representing the reviewer's impressions:\n",
            "\n",
            "* surprisingly\n",
            "* smooth\n",
            "* delicious\n",
            "* disappointing\n",
            "* reasonably\n",
            "* not (implying a lack of motivation to return)\n",
            "\n",
            "These words convey the reviewer's positive and negative feelings about their experience at the sushi restaurant.\n"
          ]
        },
        {
          "output_type": "stream",
          "name": "stderr",
          "text": [
            "The attention mask and the pad token id were not set. As a consequence, you may observe unexpected behavior. Please pass your input's `attention_mask` to obtain reliable results.\n",
            "Setting `pad_token_id` to `eos_token_id`:128009 for open-end generation.\n"
          ]
        },
        {
          "output_type": "stream",
          "name": "stdout",
          "text": [
            "Here are the words representing the reviewer's impressions:\n",
            "\n",
            "* Excellent (implied by \"definitely worth the wait\")\n",
            "* Busy (mentioned as a fact, but also implies a positive atmosphere)\n",
            "* Worth the wait (expresses satisfaction and approval)\n"
          ]
        },
        {
          "output_type": "stream",
          "name": "stderr",
          "text": [
            "The attention mask and the pad token id were not set. As a consequence, you may observe unexpected behavior. Please pass your input's `attention_mask` to obtain reliable results.\n",
            "Setting `pad_token_id` to `eos_token_id`:128009 for open-end generation.\n"
          ]
        },
        {
          "output_type": "stream",
          "name": "stdout",
          "text": [
            "Here are the words representing the reviewer's impressions:\n",
            "\n",
            "* Amazing\n",
            "* Delicious\n",
            "* Nice\n",
            "* Skilled\n",
            "* Beautifully\n",
            "* Excellent\n",
            "* Lucky\n"
          ]
        },
        {
          "output_type": "stream",
          "name": "stderr",
          "text": [
            "The attention mask and the pad token id were not set. As a consequence, you may observe unexpected behavior. Please pass your input's `attention_mask` to obtain reliable results.\n",
            "Setting `pad_token_id` to `eos_token_id`:128009 for open-end generation.\n"
          ]
        },
        {
          "output_type": "stream",
          "name": "stdout",
          "text": [
            "Here are the words representing the reviewer's impressions:\n",
            "\n",
            "* exceptional\n"
          ]
        },
        {
          "output_type": "stream",
          "name": "stderr",
          "text": [
            "The attention mask and the pad token id were not set. As a consequence, you may observe unexpected behavior. Please pass your input's `attention_mask` to obtain reliable results.\n",
            "Setting `pad_token_id` to `eos_token_id`:128009 for open-end generation.\n"
          ]
        },
        {
          "output_type": "stream",
          "name": "stdout",
          "text": [
            "Here are the words representing the reviewer's impressions:\n",
            "\n",
            "* \"delicious\"\n",
            "* \"surprisingly\"\n",
            "* \"good\"\n",
            "* \"thick\"\n",
            "* \"tasty\"\n",
            "* \"quite a deal\"\n",
            "* \"expected\"\n",
            "* \"high-ranking\"\n",
            "\n",
            "These words convey the reviewer's positive emotions and opinions about the restaurant, including their satisfaction with the food, value for money, and overall experience.\n"
          ]
        },
        {
          "output_type": "stream",
          "name": "stderr",
          "text": [
            "The attention mask and the pad token id were not set. As a consequence, you may observe unexpected behavior. Please pass your input's `attention_mask` to obtain reliable results.\n",
            "Setting `pad_token_id` to `eos_token_id`:128009 for open-end generation.\n"
          ]
        },
        {
          "output_type": "stream",
          "name": "stdout",
          "text": [
            "Here are the words that represent the reviewer's impressions:\n",
            "\n",
            "* \"drawn in\" (positive)\n",
            "* \"delicious\" (positive)\n",
            "* \"surprisingly authentic\" (positive)\n",
            "* \"highly recommended\" (positive)\n",
            "* \"good\" (positive)\n",
            "* \"overwhelmed\" (neutral)\n",
            "* \"lacking in flavor\" (negative)\n",
            "* \"bland\" (negative)\n",
            "* \"will definitely come back again\" (positive)\n",
            "\n",
            "Note that some of these words may have a nuance of opinion, but overall they give an impression of the reviewer's feelings about their experience at the sushi restaurant.\n"
          ]
        },
        {
          "output_type": "stream",
          "name": "stderr",
          "text": [
            "The attention mask and the pad token id were not set. As a consequence, you may observe unexpected behavior. Please pass your input's `attention_mask` to obtain reliable results.\n",
            "Setting `pad_token_id` to `eos_token_id`:128009 for open-end generation.\n"
          ]
        },
        {
          "output_type": "stream",
          "name": "stdout",
          "text": [
            "Here are the words representing the reviewer's impressions:\n",
            "\n",
            "* \"high-end\"\n",
            "* \"trendy\"\n",
            "* \"high-quality\"\n",
            "* \"far beyond\"\n",
            "* \"surprised\"\n",
            "\n",
            "These words convey the reviewer's positive and impressed tone about the sushi restaurant, highlighting its upscale atmosphere, quality of sushi, and unique experience.\n"
          ]
        },
        {
          "output_type": "stream",
          "name": "stderr",
          "text": [
            "The attention mask and the pad token id were not set. As a consequence, you may observe unexpected behavior. Please pass your input's `attention_mask` to obtain reliable results.\n",
            "Setting `pad_token_id` to `eos_token_id`:128009 for open-end generation.\n"
          ]
        },
        {
          "output_type": "stream",
          "name": "stdout",
          "text": [
            "Here are the words representing the reviewer's impressions:\n",
            "\n",
            "* Captivating\n",
            "* Incredibly\n",
            "* Delicious\n",
            "* Great\n"
          ]
        },
        {
          "output_type": "stream",
          "name": "stderr",
          "text": [
            "The attention mask and the pad token id were not set. As a consequence, you may observe unexpected behavior. Please pass your input's `attention_mask` to obtain reliable results.\n",
            "Setting `pad_token_id` to `eos_token_id`:128009 for open-end generation.\n"
          ]
        },
        {
          "output_type": "stream",
          "name": "stdout",
          "text": [
            "Here are the words representing the reviewer's impressions:\n",
            "\n",
            "* better\n",
            "* slow\n",
            "* worse\n",
            "* acceptable\n"
          ]
        },
        {
          "output_type": "stream",
          "name": "stderr",
          "text": [
            "The attention mask and the pad token id were not set. As a consequence, you may observe unexpected behavior. Please pass your input's `attention_mask` to obtain reliable results.\n",
            "Setting `pad_token_id` to `eos_token_id`:128009 for open-end generation.\n"
          ]
        },
        {
          "output_type": "stream",
          "name": "stdout",
          "text": [
            "Here are the words representing the reviewer's impressions:\n",
            "\n",
            "* \"quite fast\" (impression of the turnover)\n",
            "* \"very delicious\" (impression of the food)\n",
            "* \"didn't quite match\" (impression of the prices and quality)\n",
            "* \"tasty\" (impression of the food)\n",
            "\n",
            "These words convey the reviewer's subjective opinions and feelings about their experience at the sushi restaurant.\n"
          ]
        },
        {
          "output_type": "stream",
          "name": "stderr",
          "text": [
            "The attention mask and the pad token id were not set. As a consequence, you may observe unexpected behavior. Please pass your input's `attention_mask` to obtain reliable results.\n",
            "Setting `pad_token_id` to `eos_token_id`:128009 for open-end generation.\n"
          ]
        },
        {
          "output_type": "stream",
          "name": "stdout",
          "text": [
            "Here are the words representing the reviewer's impressions:\n",
            "\n",
            "* Delicious (tuna)\n",
            "* Interesting (drink menu)\n",
            "* Fishy (abalone and grouper)\n",
            "* Not tasty (abalone and grouper)\n",
            "* Good (sea urchin)\n",
            "* Average (chawanmushi)\n",
            "* Stable (rice)\n",
            "* Mediocre (price and quality)\n",
            "\n",
            "Note that the reviewer also expresses their preferences and comparisons to other sushi restaurants, but the above words specifically represent their impressions of the food and service at the restaurant.\n"
          ]
        },
        {
          "output_type": "stream",
          "name": "stderr",
          "text": [
            "The attention mask and the pad token id were not set. As a consequence, you may observe unexpected behavior. Please pass your input's `attention_mask` to obtain reliable results.\n",
            "Setting `pad_token_id` to `eos_token_id`:128009 for open-end generation.\n"
          ]
        },
        {
          "output_type": "stream",
          "name": "stdout",
          "text": [
            "Here are the words representing the reviewer's impressions:\n",
            "\n",
            "* \"blessing\"\n",
            "* \"incredibly delicious\"\n",
            "* \"freshly filleted\"\n",
            "* \"delicious\"\n",
            "* \"creamy\"\n",
            "* \"edible\"\n",
            "\n",
            "These words convey the reviewer's positive emotions and satisfaction with their dining experience at the sushi restaurant.\n"
          ]
        },
        {
          "output_type": "stream",
          "name": "stderr",
          "text": [
            "The attention mask and the pad token id were not set. As a consequence, you may observe unexpected behavior. Please pass your input's `attention_mask` to obtain reliable results.\n",
            "Setting `pad_token_id` to `eos_token_id`:128009 for open-end generation.\n"
          ]
        },
        {
          "output_type": "stream",
          "name": "stdout",
          "text": [
            "Here are the words representing the reviewer's impressions:\n",
            "\n",
            "* exquisite\n",
            "* significant\n",
            "* excellent (implied by \"I think you'll find it more than sufficient\")\n",
            "* indeed\n",
            "* sufficient\n",
            "* larger (used to describe the scallops)\n",
            "\n",
            "These words convey the reviewer's positive impressions of the sushi restaurant, including the quality of the food, the convenience of online reservations, and the satisfaction with the meal.\n"
          ]
        },
        {
          "output_type": "stream",
          "name": "stderr",
          "text": [
            "The attention mask and the pad token id were not set. As a consequence, you may observe unexpected behavior. Please pass your input's `attention_mask` to obtain reliable results.\n",
            "Setting `pad_token_id` to `eos_token_id`:128009 for open-end generation.\n"
          ]
        },
        {
          "output_type": "stream",
          "name": "stdout",
          "text": [
            "Here are the words representing the reviewer's impressions:\n",
            "\n",
            "* curious\n",
            "* lucky\n",
            "* lively\n",
            "* overpriced\n",
            "* worth it\n",
            "* upscale\n",
            "* happy\n",
            "\n",
            "These words convey the reviewer's emotions and opinions about their experience at the sushi restaurant, including their initial curiosity, feeling of good fortune, excitement, and satisfaction with the food and atmosphere.\n"
          ]
        },
        {
          "output_type": "stream",
          "name": "stderr",
          "text": [
            "The attention mask and the pad token id were not set. As a consequence, you may observe unexpected behavior. Please pass your input's `attention_mask` to obtain reliable results.\n",
            "Setting `pad_token_id` to `eos_token_id`:128009 for open-end generation.\n"
          ]
        },
        {
          "output_type": "stream",
          "name": "stdout",
          "text": [
            "Here are the words representing the reviewer's impressions:\n",
            "\n",
            "* \"short wait\" (positive impression)\n",
            "* \"must-try\" (positive impression)\n",
            "\n",
            "Note that these words convey a positive tone, indicating that the reviewer had a good experience at the restaurant.\n"
          ]
        },
        {
          "output_type": "stream",
          "name": "stderr",
          "text": [
            "The attention mask and the pad token id were not set. As a consequence, you may observe unexpected behavior. Please pass your input's `attention_mask` to obtain reliable results.\n",
            "Setting `pad_token_id` to `eos_token_id`:128009 for open-end generation.\n"
          ]
        },
        {
          "output_type": "stream",
          "name": "stdout",
          "text": [
            "Here are the words representing the reviewer's impressions:\n",
            "\n",
            "* Disappointed\n",
            "* Unimpressed\n",
            "* Lacking\n",
            "* Tough\n",
            "* Unsatisfying\n",
            "* Cold\n",
            "* Busy\n",
            "* Lacking\n",
            "\n",
            "These words convey the reviewer's negative feelings about the taste, freshness, and quality of the sushi, as well as the service.\n"
          ]
        },
        {
          "output_type": "stream",
          "name": "stderr",
          "text": [
            "The attention mask and the pad token id were not set. As a consequence, you may observe unexpected behavior. Please pass your input's `attention_mask` to obtain reliable results.\n",
            "Setting `pad_token_id` to `eos_token_id`:128009 for open-end generation.\n"
          ]
        },
        {
          "output_type": "stream",
          "name": "stdout",
          "text": [
            "Here are the words representing the reviewer's impressions:\n",
            "\n",
            "* Relaxed\n",
            "* Overwhelmingly better\n",
            "* Huge\n",
            "* Great\n",
            "* Incredibly delicious\n"
          ]
        },
        {
          "output_type": "stream",
          "name": "stderr",
          "text": [
            "The attention mask and the pad token id were not set. As a consequence, you may observe unexpected behavior. Please pass your input's `attention_mask` to obtain reliable results.\n",
            "Setting `pad_token_id` to `eos_token_id`:128009 for open-end generation.\n"
          ]
        },
        {
          "output_type": "stream",
          "name": "stdout",
          "text": [
            "Here are the words representing the reviewer's impressions:\n",
            "\n",
            "* \"good\"\n",
            "* \"delicious\"\n",
            "* \"higher side\" (implying a negative impression of the prices)\n",
            "* \"skeptical\"\n",
            "* \"average\" (implying a neutral or mediocre impression of the service)\n",
            "\n",
            "Note that some words may have multiple connotations or nuances, but based on the context, these words seem to be the most representative of the reviewer's impressions.\n"
          ]
        },
        {
          "output_type": "stream",
          "name": "stderr",
          "text": [
            "The attention mask and the pad token id were not set. As a consequence, you may observe unexpected behavior. Please pass your input's `attention_mask` to obtain reliable results.\n",
            "Setting `pad_token_id` to `eos_token_id`:128009 for open-end generation.\n"
          ]
        },
        {
          "output_type": "stream",
          "name": "stdout",
          "text": [
            "Here are the words representing the reviewer's impressions:\n",
            "\n",
            "* Extremely satisfied\n",
            "* Excellent\n",
            "* Incredibly fresh\n",
            "* Great\n"
          ]
        },
        {
          "output_type": "stream",
          "name": "stderr",
          "text": [
            "The attention mask and the pad token id were not set. As a consequence, you may observe unexpected behavior. Please pass your input's `attention_mask` to obtain reliable results.\n",
            "Setting `pad_token_id` to `eos_token_id`:128009 for open-end generation.\n"
          ]
        },
        {
          "output_type": "stream",
          "name": "stdout",
          "text": [
            "Here are the words representing the reviewer's impressions:\n",
            "\n",
            "* least tasty\n",
            "* least impressive\n",
            "* unpleasant\n",
            "* disappointing\n",
            "* unprofessional\n",
            "* not delicious\n",
            "* not good\n",
            "* high\n",
            "* comparable\n",
            "* worse\n",
            "\n",
            "These words convey the reviewer's negative emotions and opinions about their experience at the sushi restaurant, including their disappointment with the food and service.\n"
          ]
        },
        {
          "output_type": "stream",
          "name": "stderr",
          "text": [
            "The attention mask and the pad token id were not set. As a consequence, you may observe unexpected behavior. Please pass your input's `attention_mask` to obtain reliable results.\n",
            "Setting `pad_token_id` to `eos_token_id`:128009 for open-end generation.\n"
          ]
        },
        {
          "output_type": "stream",
          "name": "stdout",
          "text": [
            "Here are the words representing the reviewers' impressions:\n",
            "\n",
            "* delicious\n",
            "* incredibly\n",
            "* cold\n",
            "* delightful\n",
            "* lost\n",
            "* too much\n",
            "* great\n",
            "* couldn't taste\n",
            "* liked\n",
            "* generally don't like\n"
          ]
        },
        {
          "output_type": "stream",
          "name": "stderr",
          "text": [
            "The attention mask and the pad token id were not set. As a consequence, you may observe unexpected behavior. Please pass your input's `attention_mask` to obtain reliable results.\n",
            "Setting `pad_token_id` to `eos_token_id`:128009 for open-end generation.\n"
          ]
        },
        {
          "output_type": "stream",
          "name": "stdout",
          "text": [
            "Here are the words representing the reviewer's impressions:\n",
            "\n",
            "* delightful\n",
            "* delicious\n",
            "* great\n"
          ]
        },
        {
          "output_type": "stream",
          "name": "stderr",
          "text": [
            "The attention mask and the pad token id were not set. As a consequence, you may observe unexpected behavior. Please pass your input's `attention_mask` to obtain reliable results.\n",
            "Setting `pad_token_id` to `eos_token_id`:128009 for open-end generation.\n"
          ]
        },
        {
          "output_type": "stream",
          "name": "stdout",
          "text": [
            "Here are the words representing the reviewer's impressions:\n",
            "\n",
            "* Incredible\n",
            "* Delicious\n",
            "* Simply\n",
            "* Best\n",
            "* Great\n",
            "\n",
            "These words convey a positive impression of the reviewer's experience at the sushi restaurant.\n"
          ]
        },
        {
          "output_type": "stream",
          "name": "stderr",
          "text": [
            "The attention mask and the pad token id were not set. As a consequence, you may observe unexpected behavior. Please pass your input's `attention_mask` to obtain reliable results.\n",
            "Setting `pad_token_id` to `eos_token_id`:128009 for open-end generation.\n"
          ]
        },
        {
          "output_type": "stream",
          "name": "stdout",
          "text": [
            "Here are the words representing the reviewer's impressions:\n",
            "\n",
            "* Delicious\n",
            "* Great\n",
            "* Outstanding\n",
            "* Regular\n",
            "\n",
            "These words convey the reviewer's positive emotions and opinions about their experience at the sushi restaurant.\n"
          ]
        },
        {
          "output_type": "stream",
          "name": "stderr",
          "text": [
            "The attention mask and the pad token id were not set. As a consequence, you may observe unexpected behavior. Please pass your input's `attention_mask` to obtain reliable results.\n",
            "Setting `pad_token_id` to `eos_token_id`:128009 for open-end generation.\n"
          ]
        },
        {
          "output_type": "stream",
          "name": "stdout",
          "text": [
            "Here are the words representing the reviewer's impressions:\n",
            "\n",
            "* \"delicious\"\n",
            "* \"so good\"\n",
            "* \"extremely satisfied\"\n",
            "\n",
            "These words convey the reviewer's positive emotions and satisfaction with their dining experience at the sushi restaurant.\n"
          ]
        },
        {
          "output_type": "stream",
          "name": "stderr",
          "text": [
            "The attention mask and the pad token id were not set. As a consequence, you may observe unexpected behavior. Please pass your input's `attention_mask` to obtain reliable results.\n",
            "Setting `pad_token_id` to `eos_token_id`:128009 for open-end generation.\n"
          ]
        },
        {
          "output_type": "stream",
          "name": "stdout",
          "text": [
            "Here are the words representing the reviewer's impressions:\n",
            "\n",
            "* Delicious\n",
            "* Highly recommend\n",
            "* Perfect\n",
            "* All delicious\n",
            "* Enjoy\n",
            "* Authentic\n",
            "* Skilled\n"
          ]
        },
        {
          "output_type": "stream",
          "name": "stderr",
          "text": [
            "The attention mask and the pad token id were not set. As a consequence, you may observe unexpected behavior. Please pass your input's `attention_mask` to obtain reliable results.\n",
            "Setting `pad_token_id` to `eos_token_id`:128009 for open-end generation.\n"
          ]
        },
        {
          "output_type": "stream",
          "name": "stdout",
          "text": [
            "Here are the words representing the reviewer's impressions:\n",
            "\n",
            "* \"delicious\" (impression of the taste)\n",
            "* \"casual\" (impression of the atmosphere)\n",
            "* \"great value for money\" (impression of the price)\n",
            "* \"highly recommend\" (impression of the overall experience)\n",
            "* \"won't be disappointed\" (impression of the expectation)\n",
            "\n",
            "These words convey the reviewer's positive impressions of the sushi restaurant, highlighting the quality of the food, the value for money, and the convenience of the dining experience.\n"
          ]
        },
        {
          "output_type": "stream",
          "name": "stderr",
          "text": [
            "The attention mask and the pad token id were not set. As a consequence, you may observe unexpected behavior. Please pass your input's `attention_mask` to obtain reliable results.\n",
            "Setting `pad_token_id` to `eos_token_id`:128009 for open-end generation.\n"
          ]
        },
        {
          "output_type": "stream",
          "name": "stdout",
          "text": [
            "Here are the words representing the reviewer's impressions:\n",
            "\n",
            "* \"wait\" (negative)\n",
            "* \"able to get in\" (positive)\n",
            "* \"definitely plan\" (positive)\n",
            "\n",
            "Note that the reviewer does not explicitly express their impressions of the food, but their willingness to order certain dishes again implies a positive impression.\n"
          ]
        },
        {
          "output_type": "stream",
          "name": "stderr",
          "text": [
            "The attention mask and the pad token id were not set. As a consequence, you may observe unexpected behavior. Please pass your input's `attention_mask` to obtain reliable results.\n",
            "Setting `pad_token_id` to `eos_token_id`:128009 for open-end generation.\n"
          ]
        },
        {
          "output_type": "stream",
          "name": "stdout",
          "text": [
            "Here are the words representing the reviewer's impressions:\n",
            "\n",
            "* surprising\n",
            "* exceptional\n",
            "* clearly exceeding\n",
            "* must-try\n",
            "* nostalgic\n",
            "* great\n"
          ]
        },
        {
          "output_type": "stream",
          "name": "stderr",
          "text": [
            "The attention mask and the pad token id were not set. As a consequence, you may observe unexpected behavior. Please pass your input's `attention_mask` to obtain reliable results.\n",
            "Setting `pad_token_id` to `eos_token_id`:128009 for open-end generation.\n"
          ]
        },
        {
          "output_type": "stream",
          "name": "stdout",
          "text": [
            "Here are the words representing the reviewers' impressions:\n",
            "\n",
            "* Good (relatively good, far superior)\n",
            "* Not particularly delicious\n",
            "* Expensive\n",
            "* Long (nearly two hours)\n",
            "* Entertaining\n",
            "* Convenient\n",
            "* Cheerful\n",
            "* Pleasant\n",
            "* Letdown\n",
            "\n",
            "Note that some words may have multiple connotations or nuances, but I've tried to extract the most representative words that convey the reviewer's overall impression.\n"
          ]
        },
        {
          "output_type": "stream",
          "name": "stderr",
          "text": [
            "The attention mask and the pad token id were not set. As a consequence, you may observe unexpected behavior. Please pass your input's `attention_mask` to obtain reliable results.\n",
            "Setting `pad_token_id` to `eos_token_id`:128009 for open-end generation.\n"
          ]
        },
        {
          "output_type": "stream",
          "name": "stdout",
          "text": [
            "Here are the words representing the reviewer's impressions:\n",
            "\n",
            "* high expectations\n",
            "* delicious\n",
            "* reasonable\n",
            "* efficient\n",
            "* higher side\n",
            "* quality\n",
            "* larger\n",
            "* right\n",
            "* lukewarm\n",
            "* fresh\n",
            "* not bad\n",
            "* lacking\n",
            "* tastier\n",
            "* impressive\n",
            "* well-seasoned\n",
            "* enjoyed\n",
            "* average\n",
            "* underwhelming\n",
            "* rich\n",
            "* better\n",
            "* satisfying\n",
            "* worth\n",
            "* stronger\n",
            "* average\n",
            "* better\n",
            "\n",
            "Note that some of these words may have multiple connotations or nuances, and the reviewer's tone may vary throughout the review. However, these words generally convey the reviewer's impressions and opinions about the restaurant.\n"
          ]
        },
        {
          "output_type": "stream",
          "name": "stderr",
          "text": [
            "The attention mask and the pad token id were not set. As a consequence, you may observe unexpected behavior. Please pass your input's `attention_mask` to obtain reliable results.\n",
            "Setting `pad_token_id` to `eos_token_id`:128009 for open-end generation.\n"
          ]
        },
        {
          "output_type": "stream",
          "name": "stdout",
          "text": [
            "Here are the words representing the reviewer's impressions:\n",
            "\n",
            "* busy\n",
            "* fortunately\n",
            "* delicious\n",
            "* outstanding\n",
            "* late\n",
            "* definitely\n",
            "\n",
            "These words convey the reviewer's positive and negative emotions, such as:\n",
            "\n",
            "* Surprise (busy)\n",
            "* Relief (fortunately)\n",
            "* Enthusiasm (delicious, outstanding)\n",
            "* Disappointment (late)\n",
            "* Desire (definitely)\n"
          ]
        },
        {
          "output_type": "stream",
          "name": "stderr",
          "text": [
            "The attention mask and the pad token id were not set. As a consequence, you may observe unexpected behavior. Please pass your input's `attention_mask` to obtain reliable results.\n",
            "Setting `pad_token_id` to `eos_token_id`:128009 for open-end generation.\n"
          ]
        },
        {
          "output_type": "stream",
          "name": "stdout",
          "text": [
            "Here are the words representing the reviewer's impressions:\n",
            "\n",
            "* Thrilling\n",
            "* Amazing\n",
            "* Fantastic\n"
          ]
        },
        {
          "output_type": "stream",
          "name": "stderr",
          "text": [
            "The attention mask and the pad token id were not set. As a consequence, you may observe unexpected behavior. Please pass your input's `attention_mask` to obtain reliable results.\n",
            "Setting `pad_token_id` to `eos_token_id`:128009 for open-end generation.\n"
          ]
        },
        {
          "output_type": "stream",
          "name": "stdout",
          "text": [
            "Here are the words representing the reviewer's impressions:\n",
            "\n",
            "* good\n",
            "* delicious\n",
            "* higher side\n",
            "* somewhat\n"
          ]
        },
        {
          "output_type": "stream",
          "name": "stderr",
          "text": [
            "The attention mask and the pad token id were not set. As a consequence, you may observe unexpected behavior. Please pass your input's `attention_mask` to obtain reliable results.\n",
            "Setting `pad_token_id` to `eos_token_id`:128009 for open-end generation.\n"
          ]
        },
        {
          "output_type": "stream",
          "name": "stdout",
          "text": [
            "Here are the words representing the reviewer's impressions:\n",
            "\n",
            "* exquisite\n",
            "* indeed\n",
            "* sufficient\n",
            "* don't hesitate\n"
          ]
        },
        {
          "output_type": "stream",
          "name": "stderr",
          "text": [
            "The attention mask and the pad token id were not set. As a consequence, you may observe unexpected behavior. Please pass your input's `attention_mask` to obtain reliable results.\n",
            "Setting `pad_token_id` to `eos_token_id`:128009 for open-end generation.\n"
          ]
        },
        {
          "output_type": "stream",
          "name": "stdout",
          "text": [
            "Here are the words representing the reviewer's impressions:\n",
            "\n",
            "* enjoyable\n",
            "* exciting\n",
            "* highlights\n",
            "* delicious\n",
            "* thrilled\n",
            "* fun\n",
            "* great\n"
          ]
        },
        {
          "output_type": "stream",
          "name": "stderr",
          "text": [
            "The attention mask and the pad token id were not set. As a consequence, you may observe unexpected behavior. Please pass your input's `attention_mask` to obtain reliable results.\n",
            "Setting `pad_token_id` to `eos_token_id`:128009 for open-end generation.\n"
          ]
        },
        {
          "output_type": "stream",
          "name": "stdout",
          "text": [
            "Here are the words representing the reviewer's impressions:\n",
            "\n",
            "* lucky\n",
            "* beautifully\n",
            "* luxurious\n",
            "* delicious-looking\n",
            "* fresh\n",
            "* delightful\n",
            "* highly satisfying\n",
            "* pricey\n",
            "* popular\n"
          ]
        },
        {
          "output_type": "stream",
          "name": "stderr",
          "text": [
            "The attention mask and the pad token id were not set. As a consequence, you may observe unexpected behavior. Please pass your input's `attention_mask` to obtain reliable results.\n",
            "Setting `pad_token_id` to `eos_token_id`:128009 for open-end generation.\n"
          ]
        },
        {
          "output_type": "stream",
          "name": "stdout",
          "text": [
            "Here are the words representing the reviewer's impressions:\n",
            "\n",
            "* \"incredibly delicious\"\n",
            "* \"truly felt like the essence\"\n",
            "* \"fun\"\n",
            "* \"lively\"\n",
            "* \"always filled with customers\"\n",
            "* \"definitely want to visit again\"\n"
          ]
        },
        {
          "output_type": "stream",
          "name": "stderr",
          "text": [
            "The attention mask and the pad token id were not set. As a consequence, you may observe unexpected behavior. Please pass your input's `attention_mask` to obtain reliable results.\n",
            "Setting `pad_token_id` to `eos_token_id`:128009 for open-end generation.\n"
          ]
        },
        {
          "output_type": "stream",
          "name": "stdout",
          "text": [
            "Here are the words representing the reviewer's impressions:\n",
            "\n",
            "* pleasant\n",
            "* surprise\n",
            "* passion\n",
            "* fantastic\n"
          ]
        },
        {
          "output_type": "stream",
          "name": "stderr",
          "text": [
            "The attention mask and the pad token id were not set. As a consequence, you may observe unexpected behavior. Please pass your input's `attention_mask` to obtain reliable results.\n",
            "Setting `pad_token_id` to `eos_token_id`:128009 for open-end generation.\n"
          ]
        },
        {
          "output_type": "stream",
          "name": "stdout",
          "text": [
            "Here are the words representing the reviewer's impressions:\n",
            "\n",
            "* satisfying\n",
            "* thick\n",
            "* fantastic\n",
            "* delicious\n",
            "* very satisfied\n",
            "* highly recommend\n"
          ]
        },
        {
          "output_type": "stream",
          "name": "stderr",
          "text": [
            "The attention mask and the pad token id were not set. As a consequence, you may observe unexpected behavior. Please pass your input's `attention_mask` to obtain reliable results.\n",
            "Setting `pad_token_id` to `eos_token_id`:128009 for open-end generation.\n"
          ]
        },
        {
          "output_type": "stream",
          "name": "stdout",
          "text": [
            "Here are the words representing the reviewer's impressions:\n",
            "\n",
            "* great\n",
            "* quiet\n",
            "* top-notch\n",
            "* easy\n",
            "* delicious\n",
            "* limited\n",
            "\n",
            "Note that the reviewer also mentions some criticisms, such as the limited selection, but the above words represent their overall positive impressions of the restaurant.\n"
          ]
        },
        {
          "output_type": "stream",
          "name": "stderr",
          "text": [
            "The attention mask and the pad token id were not set. As a consequence, you may observe unexpected behavior. Please pass your input's `attention_mask` to obtain reliable results.\n",
            "Setting `pad_token_id` to `eos_token_id`:128009 for open-end generation.\n"
          ]
        },
        {
          "output_type": "stream",
          "name": "stdout",
          "text": [
            "Here are the words representing the reviewer's impressions:\n",
            "\n",
            "* excellent\n",
            "* fast\n",
            "* high\n",
            "* favorite\n"
          ]
        },
        {
          "output_type": "stream",
          "name": "stderr",
          "text": [
            "The attention mask and the pad token id were not set. As a consequence, you may observe unexpected behavior. Please pass your input's `attention_mask` to obtain reliable results.\n",
            "Setting `pad_token_id` to `eos_token_id`:128009 for open-end generation.\n"
          ]
        },
        {
          "output_type": "stream",
          "name": "stdout",
          "text": [
            "Here are the words representing the reviewers' impressions:\n",
            "\n",
            "* \"let down\"\n",
            "* \"nothing that truly amazes you\"\n",
            "* \"100 yen sushi\" (implying a negative comparison)\n",
            "* \"hard to bite through\"\n",
            "* \"resembles that of a 100 yen sushi\" (again, implying a negative comparison)\n",
            "\n",
            "Note that the reviewer's tone is generally neutral to slightly negative, with a hint of disappointment.\n"
          ]
        },
        {
          "output_type": "stream",
          "name": "stderr",
          "text": [
            "The attention mask and the pad token id were not set. As a consequence, you may observe unexpected behavior. Please pass your input's `attention_mask` to obtain reliable results.\n",
            "Setting `pad_token_id` to `eos_token_id`:128009 for open-end generation.\n"
          ]
        },
        {
          "output_type": "stream",
          "name": "stdout",
          "text": [
            "Here are the words representing the reviewer's impressions:\n",
            "\n",
            "* delicious\n",
            "* affordable\n",
            "* fun\n",
            "* satisfying\n",
            "* fresh\n",
            "* thick\n",
            "* indulgent\n",
            "* mild\n",
            "* good (implied by the phrase \"I definitely want to come back again\")\n",
            "\n",
            "Note that some of these words may have multiple connotations or nuances, but in this context, they generally convey a positive impression of the reviewer's experience at the sushi restaurant.\n"
          ]
        },
        {
          "output_type": "stream",
          "name": "stderr",
          "text": [
            "The attention mask and the pad token id were not set. As a consequence, you may observe unexpected behavior. Please pass your input's `attention_mask` to obtain reliable results.\n",
            "Setting `pad_token_id` to `eos_token_id`:128009 for open-end generation.\n"
          ]
        },
        {
          "output_type": "stream",
          "name": "stdout",
          "text": [
            "Here are the words representing the reviewer's impressions:\n",
            "\n",
            "* disappointing\n",
            "* delicious\n",
            "* satisfied\n"
          ]
        },
        {
          "output_type": "stream",
          "name": "stderr",
          "text": [
            "The attention mask and the pad token id were not set. As a consequence, you may observe unexpected behavior. Please pass your input's `attention_mask` to obtain reliable results.\n",
            "Setting `pad_token_id` to `eos_token_id`:128009 for open-end generation.\n"
          ]
        },
        {
          "output_type": "stream",
          "name": "stdout",
          "text": [
            "Here are the words representing the reviewer's impressions:\n",
            "\n",
            "* \"incredibly delicious\"\n",
            "* \"fresh\"\n",
            "* \"satisfied\"\n",
            "\n",
            "These words convey the reviewer's positive feelings about the sushi, its quality, and their overall dining experience.\n"
          ]
        },
        {
          "output_type": "stream",
          "name": "stderr",
          "text": [
            "The attention mask and the pad token id were not set. As a consequence, you may observe unexpected behavior. Please pass your input's `attention_mask` to obtain reliable results.\n",
            "Setting `pad_token_id` to `eos_token_id`:128009 for open-end generation.\n"
          ]
        },
        {
          "output_type": "stream",
          "name": "stdout",
          "text": [
            "Here are the words representing the reviewer's impressions:\n",
            "\n",
            "* \"worth the wait\" (positive impression)\n",
            "* \"busy as usual\" (neutral impression, implying that the restaurant is consistently popular)\n",
            "\n",
            "Note that the review is mostly focused on the menu items ordered and the fact that the restaurant is still busy, rather than expressing a strong emotional tone. The reviewer seems to be conveying a sense of satisfaction and enthusiasm, but it's not an overly emotional or dramatic review.\n"
          ]
        },
        {
          "output_type": "stream",
          "name": "stderr",
          "text": [
            "The attention mask and the pad token id were not set. As a consequence, you may observe unexpected behavior. Please pass your input's `attention_mask` to obtain reliable results.\n",
            "Setting `pad_token_id` to `eos_token_id`:128009 for open-end generation.\n"
          ]
        },
        {
          "output_type": "stream",
          "name": "stdout",
          "text": [
            "Here are the words representing the reviewer's impressions:\n",
            "\n",
            "* high-quality\n",
            "* justifies\n",
            "* highly recommended\n",
            "* approachable\n"
          ]
        },
        {
          "output_type": "stream",
          "name": "stderr",
          "text": [
            "The attention mask and the pad token id were not set. As a consequence, you may observe unexpected behavior. Please pass your input's `attention_mask` to obtain reliable results.\n",
            "Setting `pad_token_id` to `eos_token_id`:128009 for open-end generation.\n"
          ]
        },
        {
          "output_type": "stream",
          "name": "stdout",
          "text": [
            "Here are the words representing the reviewers' impressions:\n",
            "\n",
            "* delightful\n",
            "* delicious\n",
            "* great\n"
          ]
        },
        {
          "output_type": "stream",
          "name": "stderr",
          "text": [
            "The attention mask and the pad token id were not set. As a consequence, you may observe unexpected behavior. Please pass your input's `attention_mask` to obtain reliable results.\n",
            "Setting `pad_token_id` to `eos_token_id`:128009 for open-end generation.\n"
          ]
        },
        {
          "output_type": "stream",
          "name": "stdout",
          "text": [
            "Here are the words representing the reviewer's impressions:\n",
            "\n",
            "* enjoyable\n",
            "* large\n",
            "* satisfying\n",
            "* enjoyable (again, emphasizing the positive experience)\n",
            "\n",
            "These words convey a positive impression of the sushi restaurant, indicating that the reviewer found the food to be satisfying and enjoyable.\n"
          ]
        },
        {
          "output_type": "stream",
          "name": "stderr",
          "text": [
            "The attention mask and the pad token id were not set. As a consequence, you may observe unexpected behavior. Please pass your input's `attention_mask` to obtain reliable results.\n",
            "Setting `pad_token_id` to `eos_token_id`:128009 for open-end generation.\n"
          ]
        },
        {
          "output_type": "stream",
          "name": "stdout",
          "text": [
            "Here are the words representing the reviewer's impressions:\n",
            "\n",
            "* Delicious\n",
            "* Fresh\n",
            "* Incredibly\n",
            "* Satisfied\n",
            "* Reasonable\n",
            "* Completely\n"
          ]
        },
        {
          "output_type": "stream",
          "name": "stderr",
          "text": [
            "The attention mask and the pad token id were not set. As a consequence, you may observe unexpected behavior. Please pass your input's `attention_mask` to obtain reliable results.\n",
            "Setting `pad_token_id` to `eos_token_id`:128009 for open-end generation.\n"
          ]
        },
        {
          "output_type": "stream",
          "name": "stdout",
          "text": [
            "Here are the words representing the reviewer's impressions:\n",
            "\n",
            "* curious\n",
            "* delicious\n",
            "* truly\n"
          ]
        },
        {
          "output_type": "stream",
          "name": "stderr",
          "text": [
            "The attention mask and the pad token id were not set. As a consequence, you may observe unexpected behavior. Please pass your input's `attention_mask` to obtain reliable results.\n",
            "Setting `pad_token_id` to `eos_token_id`:128009 for open-end generation.\n"
          ]
        },
        {
          "output_type": "stream",
          "name": "stdout",
          "text": [
            "Here are the words representing the reviewer's impressions:\n",
            "\n",
            "* Delicious\n",
            "* Rich\n",
            "* Flavorful\n",
            "* My favorite\n",
            "* Okay\n",
            "* So much more delicious\n",
            "* A gem-like\n",
            "* Perfect\n",
            "* Feeling good\n",
            "* High-quality\n",
            "* Better\n",
            "* Delightful\n",
            "* Perfect\n",
            "* Extremely fresh\n",
            "* Worth it\n",
            "* Mended\n",
            "* Heartfelt\n",
            "* Wonderful\n",
            "* Great\n"
          ]
        },
        {
          "output_type": "stream",
          "name": "stderr",
          "text": [
            "The attention mask and the pad token id were not set. As a consequence, you may observe unexpected behavior. Please pass your input's `attention_mask` to obtain reliable results.\n",
            "Setting `pad_token_id` to `eos_token_id`:128009 for open-end generation.\n"
          ]
        },
        {
          "output_type": "stream",
          "name": "stdout",
          "text": [
            "Here are the words representing the reviewer's impressions:\n",
            "\n",
            "* \"satisfaction\"\n",
            "* \"easy\"\n"
          ]
        },
        {
          "output_type": "stream",
          "name": "stderr",
          "text": [
            "The attention mask and the pad token id were not set. As a consequence, you may observe unexpected behavior. Please pass your input's `attention_mask` to obtain reliable results.\n",
            "Setting `pad_token_id` to `eos_token_id`:128009 for open-end generation.\n"
          ]
        },
        {
          "output_type": "stream",
          "name": "stdout",
          "text": [
            "Here are the words representing the reviewer's impressions:\n",
            "\n",
            "* wonderful\n",
            "* love\n",
            "* luxury\n",
            "* vibrancy\n",
            "* unbelievable\n",
            "* gentle\n",
            "* perfect\n",
            "* exquisite\n",
            "* incredible\n",
            "* generous\n",
            "* rich\n",
            "* must-try\n",
            "* authentic\n",
            "* exquisite\n",
            "* incredible\n",
            "* satisfied\n",
            "* truly\n",
            "* great\n",
            "\n",
            "Note that some of these words may have multiple connotations or nuances, but overall they convey a positive and enthusiastic tone from the reviewer.\n"
          ]
        },
        {
          "output_type": "stream",
          "name": "stderr",
          "text": [
            "The attention mask and the pad token id were not set. As a consequence, you may observe unexpected behavior. Please pass your input's `attention_mask` to obtain reliable results.\n",
            "Setting `pad_token_id` to `eos_token_id`:128009 for open-end generation.\n"
          ]
        },
        {
          "output_type": "stream",
          "name": "stdout",
          "text": [
            "Here are the words representing the reviewer's impressions:\n",
            "\n",
            "* pressure\n",
            "* high\n",
            "* impressive\n",
            "* strong\n",
            "* lower\n",
            "* better\n"
          ]
        },
        {
          "output_type": "stream",
          "name": "stderr",
          "text": [
            "The attention mask and the pad token id were not set. As a consequence, you may observe unexpected behavior. Please pass your input's `attention_mask` to obtain reliable results.\n",
            "Setting `pad_token_id` to `eos_token_id`:128009 for open-end generation.\n"
          ]
        },
        {
          "output_type": "stream",
          "name": "stdout",
          "text": [
            "Here are the words representing the reviewer's impressions:\n",
            "\n",
            "* Reliably delicious\n",
            "* Amazed\n",
            "* Richness\n",
            "* Must-tries\n",
            "* Hearty\n",
            "* Good\n",
            "* Great\n"
          ]
        },
        {
          "output_type": "stream",
          "name": "stderr",
          "text": [
            "The attention mask and the pad token id were not set. As a consequence, you may observe unexpected behavior. Please pass your input's `attention_mask` to obtain reliable results.\n",
            "Setting `pad_token_id` to `eos_token_id`:128009 for open-end generation.\n"
          ]
        },
        {
          "output_type": "stream",
          "name": "stdout",
          "text": [
            "Here are the words representing the reviewer's impressions:\n",
            "\n",
            "* eager\n",
            "* satisfied\n",
            "* perfect\n"
          ]
        },
        {
          "output_type": "stream",
          "name": "stderr",
          "text": [
            "The attention mask and the pad token id were not set. As a consequence, you may observe unexpected behavior. Please pass your input's `attention_mask` to obtain reliable results.\n",
            "Setting `pad_token_id` to `eos_token_id`:128009 for open-end generation.\n"
          ]
        },
        {
          "output_type": "stream",
          "name": "stdout",
          "text": [
            "Here are the words representing the reviewer's impressions:\n",
            "\n",
            "* \"delicious\"\n",
            "* \"luxury\"\n",
            "* \"reasonable\"\n",
            "\n",
            "These words convey the reviewer's positive feelings about the sushi restaurant, specifically the taste of the sushi, the atmosphere, and the affordability.\n"
          ]
        },
        {
          "output_type": "stream",
          "name": "stderr",
          "text": [
            "The attention mask and the pad token id were not set. As a consequence, you may observe unexpected behavior. Please pass your input's `attention_mask` to obtain reliable results.\n",
            "Setting `pad_token_id` to `eos_token_id`:128009 for open-end generation.\n"
          ]
        },
        {
          "output_type": "stream",
          "name": "stdout",
          "text": [
            "Here are the words representing the reviewer's impressions:\n",
            "\n",
            "* 印象的 (impressive)\n",
            "* 良く (good)\n",
            "* 大変印象的 (very impressive)\n",
            "* 気持ちの盛り上がり (exciting)\n",
            "* 良い (good)\n",
            "* 大変楽しめました (enjoyed very much)\n",
            "* 印象的 (impressive)\n",
            "\n",
            "Note that some of these words may have multiple meanings or connotations, but in the context of the review, they seem to convey a positive impression of the sushi restaurant.\n"
          ]
        },
        {
          "output_type": "stream",
          "name": "stderr",
          "text": [
            "The attention mask and the pad token id were not set. As a consequence, you may observe unexpected behavior. Please pass your input's `attention_mask` to obtain reliable results.\n",
            "Setting `pad_token_id` to `eos_token_id`:128009 for open-end generation.\n"
          ]
        },
        {
          "output_type": "stream",
          "name": "stdout",
          "text": [
            "Here are the words representing the reviewer's impressions:\n",
            "\n",
            "* Thrilling\n",
            "* Amazing\n",
            "* Fantastic\n"
          ]
        },
        {
          "output_type": "stream",
          "name": "stderr",
          "text": [
            "The attention mask and the pad token id were not set. As a consequence, you may observe unexpected behavior. Please pass your input's `attention_mask` to obtain reliable results.\n",
            "Setting `pad_token_id` to `eos_token_id`:128009 for open-end generation.\n"
          ]
        },
        {
          "output_type": "stream",
          "name": "stdout",
          "text": [
            "Here are the words representing the reviewer's impressions:\n",
            "\n",
            "* incredibly\n",
            "* busy\n",
            "* hardly\n",
            "* many\n",
            "* give up\n",
            "* leave\n",
            "* finally\n",
            "* able\n",
            "* get in\n",
            "* delicious\n",
            "* really\n",
            "* want\n",
            "* enjoy\n",
            "* youthful\n",
            "* fun\n",
            "* great\n",
            "* atmosphere\n",
            "* definitely\n",
            "* want\n",
            "* come back\n",
            "\n",
            "These words convey the reviewer's feelings of excitement, satisfaction, and enthusiasm for their experience at the sushi restaurant.\n"
          ]
        },
        {
          "output_type": "stream",
          "name": "stderr",
          "text": [
            "The attention mask and the pad token id were not set. As a consequence, you may observe unexpected behavior. Please pass your input's `attention_mask` to obtain reliable results.\n",
            "Setting `pad_token_id` to `eos_token_id`:128009 for open-end generation.\n"
          ]
        },
        {
          "output_type": "stream",
          "name": "stdout",
          "text": [
            "Here are the words representing the reviewer's impressions:\n",
            "\n",
            "* excellent\n",
            "* fast\n",
            "* high\n",
            "* favorite\n"
          ]
        },
        {
          "output_type": "stream",
          "name": "stderr",
          "text": [
            "The attention mask and the pad token id were not set. As a consequence, you may observe unexpected behavior. Please pass your input's `attention_mask` to obtain reliable results.\n",
            "Setting `pad_token_id` to `eos_token_id`:128009 for open-end generation.\n"
          ]
        },
        {
          "output_type": "stream",
          "name": "stdout",
          "text": [
            "Here are the words representing the reviewer's impressions:\n",
            "\n",
            "* excellent\n",
            "* better\n",
            "* remarkable\n",
            "* high\n",
            "* unbeatable\n",
            "* full\n",
            "\n",
            "These words convey the reviewer's positive impressions of the sushi restaurant, including its quality, freshness, affordability, and overall value.\n"
          ]
        },
        {
          "output_type": "stream",
          "name": "stderr",
          "text": [
            "The attention mask and the pad token id were not set. As a consequence, you may observe unexpected behavior. Please pass your input's `attention_mask` to obtain reliable results.\n",
            "Setting `pad_token_id` to `eos_token_id`:128009 for open-end generation.\n"
          ]
        },
        {
          "output_type": "stream",
          "name": "stdout",
          "text": [
            "Here are the words representing the reviewer's impressions:\n",
            "\n",
            "* delightful\n",
            "* great\n"
          ]
        },
        {
          "output_type": "stream",
          "name": "stderr",
          "text": [
            "The attention mask and the pad token id were not set. As a consequence, you may observe unexpected behavior. Please pass your input's `attention_mask` to obtain reliable results.\n",
            "Setting `pad_token_id` to `eos_token_id`:128009 for open-end generation.\n"
          ]
        },
        {
          "output_type": "stream",
          "name": "stdout",
          "text": [
            "Here are the words representing the reviewer's impressions:\n",
            "\n",
            "* exquisite\n",
            "* reasonable\n",
            "* delicious\n",
            "* great\n"
          ]
        },
        {
          "output_type": "stream",
          "name": "stderr",
          "text": [
            "The attention mask and the pad token id were not set. As a consequence, you may observe unexpected behavior. Please pass your input's `attention_mask` to obtain reliable results.\n",
            "Setting `pad_token_id` to `eos_token_id`:128009 for open-end generation.\n"
          ]
        },
        {
          "output_type": "stream",
          "name": "stdout",
          "text": [
            "Here are the words representing the reviewer's impressions:\n",
            "\n",
            "* disappointing\n",
            "* delicious\n",
            "* satisfied\n"
          ]
        },
        {
          "output_type": "stream",
          "name": "stderr",
          "text": [
            "The attention mask and the pad token id were not set. As a consequence, you may observe unexpected behavior. Please pass your input's `attention_mask` to obtain reliable results.\n",
            "Setting `pad_token_id` to `eos_token_id`:128009 for open-end generation.\n"
          ]
        },
        {
          "output_type": "stream",
          "name": "stdout",
          "text": [
            "Here are the words representing the reviewer's impressions:\n",
            "\n",
            "* exciting\n",
            "* fun\n",
            "* high-class\n",
            "* casual\n",
            "* entertaining\n",
            "* worth trying\n",
            "* reasonable\n",
            "* exquisite\n",
            "* outstanding\n",
            "* incredibly delicious\n",
            "* definitely\n",
            "* worth it\n",
            "* fantastic\n",
            "\n",
            "These words convey the reviewer's positive impressions of the restaurant, highlighting its unique concept, quality of food, and enjoyable atmosphere.\n"
          ]
        },
        {
          "output_type": "stream",
          "name": "stderr",
          "text": [
            "The attention mask and the pad token id were not set. As a consequence, you may observe unexpected behavior. Please pass your input's `attention_mask` to obtain reliable results.\n",
            "Setting `pad_token_id` to `eos_token_id`:128009 for open-end generation.\n"
          ]
        },
        {
          "output_type": "stream",
          "name": "stdout",
          "text": [
            "Here are the words representing the reviewer's impressions:\n",
            "\n",
            "* \"wait\" (implying a negative impression)\n",
            "* \"able to get in\" (implying a positive impression)\n",
            "* \"definitely plan to order\" (implying a positive impression)\n",
            "\n",
            "Note that the review is generally positive, with the reviewer mentioning specific dishes they enjoyed and plan to order again. The only negative comment is the wait, but it's not a major complaint.\n"
          ]
        },
        {
          "output_type": "stream",
          "name": "stderr",
          "text": [
            "The attention mask and the pad token id were not set. As a consequence, you may observe unexpected behavior. Please pass your input's `attention_mask` to obtain reliable results.\n",
            "Setting `pad_token_id` to `eos_token_id`:128009 for open-end generation.\n"
          ]
        },
        {
          "output_type": "stream",
          "name": "stdout",
          "text": [
            "Here are the words representing the reviewer's impressions:\n",
            "\n",
            "* rare gem\n",
            "* bustling\n",
            "* luckily\n",
            "* slightly better\n",
            "* smiling\n",
            "* enjoying\n",
            "* great\n"
          ]
        },
        {
          "output_type": "stream",
          "name": "stderr",
          "text": [
            "The attention mask and the pad token id were not set. As a consequence, you may observe unexpected behavior. Please pass your input's `attention_mask` to obtain reliable results.\n",
            "Setting `pad_token_id` to `eos_token_id`:128009 for open-end generation.\n"
          ]
        },
        {
          "output_type": "stream",
          "name": "stdout",
          "text": [
            "Here are the words representing the reviewer's impressions:\n",
            "\n",
            "* Dazzling\n",
            "* Sparkly\n",
            "* Superb\n",
            "* Delicious\n",
            "* Forever\n",
            "* Incredibly\n",
            "* Sweet\n",
            "* Exceptionally\n",
            "* Real\n",
            "* Authentic\n",
            "* Wonderful\n",
            "* Tasty\n",
            "* Great\n",
            "\n",
            "These words convey the reviewer's positive emotions and reactions to their dining experience at Kaiten Sushi Ginza Onodera.\n"
          ]
        },
        {
          "output_type": "stream",
          "name": "stderr",
          "text": [
            "The attention mask and the pad token id were not set. As a consequence, you may observe unexpected behavior. Please pass your input's `attention_mask` to obtain reliable results.\n",
            "Setting `pad_token_id` to `eos_token_id`:128009 for open-end generation.\n"
          ]
        },
        {
          "output_type": "stream",
          "name": "stdout",
          "text": [
            "Here are the words representing the reviewer's impressions:\n",
            "\n",
            "* astonishingly\n",
            "* delicious\n",
            "* excellent\n",
            "* exceptional\n",
            "* best\n",
            "* great\n",
            "* strong\n",
            "* strong\n",
            "* great\n",
            "* recommend\n",
            "* fantastic (implied by \"astonishingly delicious\", \"exceptional\", and \"best\")\n",
            "\n",
            "Note that some of these words may have a slightly different connotation depending on the context in which they are used, but overall they convey a positive impression of the reviewer's experience at the sushi restaurant.\n"
          ]
        },
        {
          "output_type": "stream",
          "name": "stderr",
          "text": [
            "The attention mask and the pad token id were not set. As a consequence, you may observe unexpected behavior. Please pass your input's `attention_mask` to obtain reliable results.\n",
            "Setting `pad_token_id` to `eos_token_id`:128009 for open-end generation.\n"
          ]
        },
        {
          "output_type": "stream",
          "name": "stdout",
          "text": [
            "Here are the words representing the reviewer's impressions:\n",
            "\n",
            "* No line (positive)\n",
            "* Love (positive)\n",
            "* Delicious (positive)\n",
            "* Appreciate (positive)\n",
            "* Dreamed (positive)\n",
            "* Come true (positive)\n",
            "* Joy (positive)\n",
            "* Satisfied (positive)\n",
            "* Decent (neutral)\n",
            "* Not particularly tasty (negative)\n",
            "* Lacked texture (negative)\n",
            "* Not extraordinarily delicious (neutral)\n",
            "* Breathtaking (positive)\n",
            "\n",
            "Note that some of the words may have multiple connotations or nuances, but based on the context, I've categorized them as positive, neutral, or negative.\n"
          ]
        },
        {
          "output_type": "stream",
          "name": "stderr",
          "text": [
            "The attention mask and the pad token id were not set. As a consequence, you may observe unexpected behavior. Please pass your input's `attention_mask` to obtain reliable results.\n",
            "Setting `pad_token_id` to `eos_token_id`:128009 for open-end generation.\n"
          ]
        },
        {
          "output_type": "stream",
          "name": "stdout",
          "text": [
            "Here are the words representing the reviewer's impressions:\n",
            "\n",
            "* good\n",
            "* delicious\n",
            "* higher side\n",
            "* somewhat\n"
          ]
        },
        {
          "output_type": "stream",
          "name": "stderr",
          "text": [
            "The attention mask and the pad token id were not set. As a consequence, you may observe unexpected behavior. Please pass your input's `attention_mask` to obtain reliable results.\n",
            "Setting `pad_token_id` to `eos_token_id`:128009 for open-end generation.\n"
          ]
        },
        {
          "output_type": "stream",
          "name": "stdout",
          "text": [
            "Here are the words representing the reviewer's impressions:\n",
            "\n",
            "* appreciate\n",
            "* impressed\n",
            "* changed\n",
            "* didn't feel\n"
          ]
        },
        {
          "output_type": "stream",
          "name": "stderr",
          "text": [
            "The attention mask and the pad token id were not set. As a consequence, you may observe unexpected behavior. Please pass your input's `attention_mask` to obtain reliable results.\n",
            "Setting `pad_token_id` to `eos_token_id`:128009 for open-end generation.\n"
          ]
        },
        {
          "output_type": "stream",
          "name": "stdout",
          "text": [
            "Here are the words representing the reviewer's impressions:\n",
            "\n",
            "* incredibly\n",
            "* delicious\n",
            "* really\n",
            "* liked\n",
            "* satisfied\n"
          ]
        },
        {
          "output_type": "stream",
          "name": "stderr",
          "text": [
            "The attention mask and the pad token id were not set. As a consequence, you may observe unexpected behavior. Please pass your input's `attention_mask` to obtain reliable results.\n",
            "Setting `pad_token_id` to `eos_token_id`:128009 for open-end generation.\n"
          ]
        },
        {
          "output_type": "stream",
          "name": "stdout",
          "text": [
            "Here are the words representing the reviewer's impressions:\n",
            "\n",
            "* very popular\n",
            "* exceptionally delicious\n",
            "* prompt\n",
            "* large\n",
            "* melted in my mouth\n",
            "\n",
            "These words convey the reviewer's positive impressions of the restaurant, including its popularity, the quality of the food, and the efficiency of the service.\n"
          ]
        },
        {
          "output_type": "stream",
          "name": "stderr",
          "text": [
            "The attention mask and the pad token id were not set. As a consequence, you may observe unexpected behavior. Please pass your input's `attention_mask` to obtain reliable results.\n",
            "Setting `pad_token_id` to `eos_token_id`:128009 for open-end generation.\n"
          ]
        },
        {
          "output_type": "stream",
          "name": "stdout",
          "text": [
            "Here are the words representing the reviewer's impressions:\n",
            "\n",
            "* incredibly delicious\n",
            "* melt-in-your-mouth\n",
            "* tender\n",
            "* not overly rich\n",
            "* easy to eat\n",
            "* distinct presence\n",
            "* indulgent\n",
            "\n",
            "These words convey a positive impression of the sushi restaurant, indicating that the reviewer enjoyed the food and had a pleasant experience.\n"
          ]
        },
        {
          "output_type": "stream",
          "name": "stderr",
          "text": [
            "The attention mask and the pad token id were not set. As a consequence, you may observe unexpected behavior. Please pass your input's `attention_mask` to obtain reliable results.\n",
            "Setting `pad_token_id` to `eos_token_id`:128009 for open-end generation.\n"
          ]
        },
        {
          "output_type": "stream",
          "name": "stdout",
          "text": [
            "Here are the words representing the reviewer's impressions:\n",
            "\n",
            "* exceeded\n",
            "* cheerful\n",
            "* beautifully\n",
            "* delicious\n",
            "* indulgently\n",
            "* rich\n",
            "* interesting\n",
            "* stylish\n",
            "* attention\n",
            "* perfectly\n",
            "* balanced\n",
            "* luxurious\n",
            "* gorgeous\n",
            "* satisfied\n"
          ]
        },
        {
          "output_type": "stream",
          "name": "stderr",
          "text": [
            "The attention mask and the pad token id were not set. As a consequence, you may observe unexpected behavior. Please pass your input's `attention_mask` to obtain reliable results.\n",
            "Setting `pad_token_id` to `eos_token_id`:128009 for open-end generation.\n"
          ]
        },
        {
          "output_type": "stream",
          "name": "stdout",
          "text": [
            "Here are the words representing the reviewer's impressions:\n",
            "\n",
            "* Great\n",
            "* Affordable\n",
            "* Enjoyable\n",
            "* Delicious\n",
            "* Well worth a visit\n"
          ]
        },
        {
          "output_type": "stream",
          "name": "stderr",
          "text": [
            "The attention mask and the pad token id were not set. As a consequence, you may observe unexpected behavior. Please pass your input's `attention_mask` to obtain reliable results.\n",
            "Setting `pad_token_id` to `eos_token_id`:128009 for open-end generation.\n"
          ]
        },
        {
          "output_type": "stream",
          "name": "stdout",
          "text": [
            "Here are the words representing the reviewer's impressions:\n",
            "\n",
            "* highest\n",
            "* excellent\n",
            "* great\n",
            "* impressive\n"
          ]
        },
        {
          "output_type": "stream",
          "name": "stderr",
          "text": [
            "The attention mask and the pad token id were not set. As a consequence, you may observe unexpected behavior. Please pass your input's `attention_mask` to obtain reliable results.\n",
            "Setting `pad_token_id` to `eos_token_id`:128009 for open-end generation.\n"
          ]
        },
        {
          "output_type": "stream",
          "name": "stdout",
          "text": [
            "Here are the words representing the reviewer's impressions:\n",
            "\n",
            "* trouble\n",
            "* found\n",
            "* spacious\n",
            "* quick\n",
            "* many\n",
            "* international\n",
            "* didn't hear much Japanese\n",
            "* unfortunately\n",
            "* delicious\n"
          ]
        },
        {
          "output_type": "stream",
          "name": "stderr",
          "text": [
            "The attention mask and the pad token id were not set. As a consequence, you may observe unexpected behavior. Please pass your input's `attention_mask` to obtain reliable results.\n",
            "Setting `pad_token_id` to `eos_token_id`:128009 for open-end generation.\n"
          ]
        },
        {
          "output_type": "stream",
          "name": "stdout",
          "text": [
            "Here are the words representing the reviewer's impressions:\n",
            "\n",
            "* \"Wow!\"\n",
            "* \"Drooling\" (´`*)\n",
            "* \"Mmm, delicious!\"\n",
            "* \"Unforgettable and intense deliciousness\"\n",
            "* \"Incredibly lively\"\n",
            "* \"Bright and cheerful\"\n",
            "* \"Wonderful meal\"\n",
            "* \"Good fit\"\n",
            "* \"Best sushi I've had so far in terms of flavor and cost performance\"\n",
            "* \"Relaxing\"\n",
            "\n",
            "These words convey a sense of excitement, enjoyment, and satisfaction with the meal and dining experience.\n"
          ]
        },
        {
          "output_type": "stream",
          "name": "stderr",
          "text": [
            "The attention mask and the pad token id were not set. As a consequence, you may observe unexpected behavior. Please pass your input's `attention_mask` to obtain reliable results.\n",
            "Setting `pad_token_id` to `eos_token_id`:128009 for open-end generation.\n"
          ]
        },
        {
          "output_type": "stream",
          "name": "stdout",
          "text": [
            "Here are the words representing the reviewer's impressions:\n",
            "\n",
            "* outstanding\n",
            "* delicious\n",
            "* fresh\n",
            "* surprising\n",
            "* definitely\n",
            "* want to return\n"
          ]
        },
        {
          "output_type": "stream",
          "name": "stderr",
          "text": [
            "The attention mask and the pad token id were not set. As a consequence, you may observe unexpected behavior. Please pass your input's `attention_mask` to obtain reliable results.\n",
            "Setting `pad_token_id` to `eos_token_id`:128009 for open-end generation.\n"
          ]
        },
        {
          "output_type": "stream",
          "name": "stdout",
          "text": [
            "Here are the words representing the reviewers' impressions:\n",
            "\n",
            "* beautifully\n",
            "* delicious\n",
            "* less than favorable\n"
          ]
        },
        {
          "output_type": "stream",
          "name": "stderr",
          "text": [
            "The attention mask and the pad token id were not set. As a consequence, you may observe unexpected behavior. Please pass your input's `attention_mask` to obtain reliable results.\n",
            "Setting `pad_token_id` to `eos_token_id`:128009 for open-end generation.\n"
          ]
        },
        {
          "output_type": "stream",
          "name": "stdout",
          "text": [
            "Here are the words representing the reviewer's impressions:\n",
            "\n",
            "* great\n",
            "* amazing\n",
            "* different\n",
            "* truly\n",
            "* happy\n",
            "* delicious\n",
            "* great\n"
          ]
        },
        {
          "output_type": "stream",
          "name": "stderr",
          "text": [
            "The attention mask and the pad token id were not set. As a consequence, you may observe unexpected behavior. Please pass your input's `attention_mask` to obtain reliable results.\n",
            "Setting `pad_token_id` to `eos_token_id`:128009 for open-end generation.\n"
          ]
        },
        {
          "output_type": "stream",
          "name": "stdout",
          "text": [
            "Here are the words representing the reviewer's impressions:\n",
            "\n",
            "* \"delicious\"\n",
            "* \"irresistible\"\n",
            "* \"great\"\n",
            "* \"what a great deal!\"\n",
            "* \"top spot\"\n",
            "\n",
            "These words convey the reviewer's positive emotions and satisfaction with their dining experience at the sushi restaurant.\n"
          ]
        },
        {
          "output_type": "stream",
          "name": "stderr",
          "text": [
            "The attention mask and the pad token id were not set. As a consequence, you may observe unexpected behavior. Please pass your input's `attention_mask` to obtain reliable results.\n",
            "Setting `pad_token_id` to `eos_token_id`:128009 for open-end generation.\n"
          ]
        },
        {
          "output_type": "stream",
          "name": "stdout",
          "text": [
            "Here are the words representing the reviewer's impressions:\n",
            "\n",
            "* overpriced\n",
            "* not particularly tasty\n",
            "* might appeal\n",
            "* worth a visit\n",
            "* probably won't come back\n",
            "* much more satisfaction\n"
          ]
        },
        {
          "output_type": "stream",
          "name": "stderr",
          "text": [
            "The attention mask and the pad token id were not set. As a consequence, you may observe unexpected behavior. Please pass your input's `attention_mask` to obtain reliable results.\n",
            "Setting `pad_token_id` to `eos_token_id`:128009 for open-end generation.\n"
          ]
        },
        {
          "output_type": "stream",
          "name": "stdout",
          "text": [
            "Here are the words representing the reviewer's impressions:\n",
            "\n",
            "* Amazing\n",
            "* Exceptional\n",
            "* Truly\n",
            "* Great\n",
            "* Delighted\n",
            "\n",
            "These words convey a positive impression of the reviewer's experience at the sushi restaurant, highlighting the quality of the food and the generous portions.\n"
          ]
        },
        {
          "output_type": "stream",
          "name": "stderr",
          "text": [
            "The attention mask and the pad token id were not set. As a consequence, you may observe unexpected behavior. Please pass your input's `attention_mask` to obtain reliable results.\n",
            "Setting `pad_token_id` to `eos_token_id`:128009 for open-end generation.\n"
          ]
        },
        {
          "output_type": "stream",
          "name": "stdout",
          "text": [
            "Here are the words representing the reviewer's impressions:\n",
            "\n",
            "* excellent\n",
            "* high-end\n",
            "* impossible\n",
            "* reasonable\n",
            "* impressive\n",
            "* exceptional\n",
            "* good\n",
            "* quite good\n"
          ]
        },
        {
          "output_type": "stream",
          "name": "stderr",
          "text": [
            "The attention mask and the pad token id were not set. As a consequence, you may observe unexpected behavior. Please pass your input's `attention_mask` to obtain reliable results.\n",
            "Setting `pad_token_id` to `eos_token_id`:128009 for open-end generation.\n"
          ]
        },
        {
          "output_type": "stream",
          "name": "stdout",
          "text": [
            "Here are the words representing the reviewer's impressions:\n",
            "\n",
            "* Fantastic\n",
            "* Impressive\n",
            "* Lively\n",
            "* Extraordinary\n",
            "* Tender\n",
            "* Pure bliss\n"
          ]
        },
        {
          "output_type": "stream",
          "name": "stderr",
          "text": [
            "The attention mask and the pad token id were not set. As a consequence, you may observe unexpected behavior. Please pass your input's `attention_mask` to obtain reliable results.\n",
            "Setting `pad_token_id` to `eos_token_id`:128009 for open-end generation.\n"
          ]
        },
        {
          "output_type": "stream",
          "name": "stdout",
          "text": [
            "Here are the words representing the reviewer's impressions:\n",
            "\n",
            "* eager\n",
            "* satisfied\n",
            "* perfect\n"
          ]
        },
        {
          "output_type": "stream",
          "name": "stderr",
          "text": [
            "The attention mask and the pad token id were not set. As a consequence, you may observe unexpected behavior. Please pass your input's `attention_mask` to obtain reliable results.\n",
            "Setting `pad_token_id` to `eos_token_id`:128009 for open-end generation.\n"
          ]
        },
        {
          "output_type": "stream",
          "name": "stdout",
          "text": [
            "Here are the words representing the reviewer's impressions:\n",
            "\n",
            "* Extremely\n",
            "* Busy\n",
            "* Surprisingly\n",
            "* Lively\n",
            "* Delicious\n",
            "* Great\n",
            "* Incredibly\n",
            "* Bargain\n",
            "* Rich\n",
            "* Tasty\n",
            "* Unfortunate\n",
            "* Incredible\n",
            "\n",
            "These words convey the reviewer's positive and negative emotions about their experience at the sushi restaurant, including their surprise, enjoyment, and satisfaction with the food and atmosphere, as well as their disappointment and frustration with the sudden rain and thunderstorm.\n"
          ]
        },
        {
          "output_type": "stream",
          "name": "stderr",
          "text": [
            "The attention mask and the pad token id were not set. As a consequence, you may observe unexpected behavior. Please pass your input's `attention_mask` to obtain reliable results.\n",
            "Setting `pad_token_id` to `eos_token_id`:128009 for open-end generation.\n"
          ]
        },
        {
          "output_type": "stream",
          "name": "stdout",
          "text": [
            "Here are the words representing the reviewer's impressions:\n",
            "\n",
            "* Amazement\n",
            "* Great\n",
            "* Nice\n",
            "* Lacking\n",
            "* Delicious\n",
            "* Impressed\n",
            "* Exceptional\n",
            "* Excitement\n",
            "* Truly\n",
            "* Disappointing\n",
            "* Unpleasant\n",
            "* Lovely\n",
            "* Perfect\n"
          ]
        },
        {
          "output_type": "stream",
          "name": "stderr",
          "text": [
            "The attention mask and the pad token id were not set. As a consequence, you may observe unexpected behavior. Please pass your input's `attention_mask` to obtain reliable results.\n",
            "Setting `pad_token_id` to `eos_token_id`:128009 for open-end generation.\n"
          ]
        },
        {
          "output_type": "stream",
          "name": "stdout",
          "text": [
            "Here are the words representing the reviewer's impressions:\n",
            "\n",
            "* exceptional\n",
            "* beautifully\n",
            "* heartfelt\n",
            "* authentic\n",
            "* great\n",
            "* smooth\n",
            "* delightful\n",
            "* exceptional\n",
            "\n",
            "These words convey the reviewer's positive emotions and impressions of their dining experience at Kaiten Sushi Ginza Onodera.\n"
          ]
        },
        {
          "output_type": "stream",
          "name": "stderr",
          "text": [
            "The attention mask and the pad token id were not set. As a consequence, you may observe unexpected behavior. Please pass your input's `attention_mask` to obtain reliable results.\n",
            "Setting `pad_token_id` to `eos_token_id`:128009 for open-end generation.\n"
          ]
        },
        {
          "output_type": "stream",
          "name": "stdout",
          "text": [
            "Here are the words representing the reviewer's impressions:\n",
            "\n",
            "* \"absolutely delicious\"\n",
            "* \"tasty\"\n",
            "* \"top-notch\"\n",
            "\n",
            "These words convey a positive impression of the reviewer's experience at the sushi restaurant, indicating that they enjoyed the food and would like to return.\n"
          ]
        },
        {
          "output_type": "stream",
          "name": "stderr",
          "text": [
            "The attention mask and the pad token id were not set. As a consequence, you may observe unexpected behavior. Please pass your input's `attention_mask` to obtain reliable results.\n",
            "Setting `pad_token_id` to `eos_token_id`:128009 for open-end generation.\n"
          ]
        },
        {
          "output_type": "stream",
          "name": "stdout",
          "text": [
            "Here are the words representing the reviewer's impressions:\n",
            "\n",
            "* casual\n",
            "* respectable\n",
            "* clear\n",
            "* easy\n",
            "* enjoyable\n",
            "* small\n",
            "* tasty\n",
            "* good\n",
            "* pricier\n",
            "* nice\n"
          ]
        },
        {
          "output_type": "stream",
          "name": "stderr",
          "text": [
            "The attention mask and the pad token id were not set. As a consequence, you may observe unexpected behavior. Please pass your input's `attention_mask` to obtain reliable results.\n",
            "Setting `pad_token_id` to `eos_token_id`:128009 for open-end generation.\n"
          ]
        },
        {
          "output_type": "stream",
          "name": "stdout",
          "text": [
            "Here are the words representing the reviewer's impressions:\n",
            "\n",
            "* fortunately\n",
            "* interesting\n",
            "* definitely\n",
            "* didn't\n",
            "* didn't (again, implying disappointment)\n",
            "* enjoyed\n",
            "* good-natured\n",
            "\n",
            "These words convey the reviewer's emotions and opinions about their experience at the sushi restaurant, including their surprise at not having to wait, their disappointment with the Kitakuri clam, their enjoyment of the reliable fish, and their positive interaction with the staff.\n"
          ]
        },
        {
          "output_type": "stream",
          "name": "stderr",
          "text": [
            "The attention mask and the pad token id were not set. As a consequence, you may observe unexpected behavior. Please pass your input's `attention_mask` to obtain reliable results.\n",
            "Setting `pad_token_id` to `eos_token_id`:128009 for open-end generation.\n"
          ]
        },
        {
          "output_type": "stream",
          "name": "stdout",
          "text": [
            "Here are the words representing the reviewer's impressions:\n",
            "\n",
            "* slightly higher-priced\n",
            "* refinement\n",
            "* delicious\n",
            "* quickly\n",
            "* good\n",
            "* definitely\n"
          ]
        },
        {
          "output_type": "stream",
          "name": "stderr",
          "text": [
            "The attention mask and the pad token id were not set. As a consequence, you may observe unexpected behavior. Please pass your input's `attention_mask` to obtain reliable results.\n",
            "Setting `pad_token_id` to `eos_token_id`:128009 for open-end generation.\n"
          ]
        },
        {
          "output_type": "stream",
          "name": "stdout",
          "text": [
            "The words representing the reviewer's impressions are:\n",
            "\n",
            "* convenient\n",
            "* easy\n",
            "* great\n"
          ]
        },
        {
          "output_type": "stream",
          "name": "stderr",
          "text": [
            "The attention mask and the pad token id were not set. As a consequence, you may observe unexpected behavior. Please pass your input's `attention_mask` to obtain reliable results.\n",
            "Setting `pad_token_id` to `eos_token_id`:128009 for open-end generation.\n"
          ]
        },
        {
          "output_type": "stream",
          "name": "stdout",
          "text": [
            "Here are the words representing the reviewer's impressions:\n",
            "\n",
            "* \"distinctive\"\n",
            "* \"melted in my mouth\"\n",
            "* \"completely different\"\n",
            "* \"innovative\"\n",
            "* \"well\"\n",
            "* \"too full\" (implying satisfaction)\n",
            "* \"I will definitely come back\" (implying positive overall impression)\n",
            "\n",
            "Note that some of these words may have multiple connotations, but in this context, they are used to express the reviewer's positive impressions of the food and experience at the sushi restaurant.\n"
          ]
        },
        {
          "output_type": "stream",
          "name": "stderr",
          "text": [
            "The attention mask and the pad token id were not set. As a consequence, you may observe unexpected behavior. Please pass your input's `attention_mask` to obtain reliable results.\n",
            "Setting `pad_token_id` to `eos_token_id`:128009 for open-end generation.\n"
          ]
        },
        {
          "output_type": "stream",
          "name": "stdout",
          "text": [
            "Here are the words representing the reviewer's impressions:\n",
            "\n",
            "* average\n",
            "* standard\n",
            "* high quality\n",
            "* bland\n",
            "* lacking\n",
            "\n",
            "Note that the reviewer's impressions are not overwhelmingly positive, with words like \"bland\" and \"lacking\" indicating a sense of disappointment. However, they do acknowledge the high quality of the ingredients and craftsmanship, suggesting that the restaurant has some redeeming qualities.\n"
          ]
        },
        {
          "output_type": "stream",
          "name": "stderr",
          "text": [
            "The attention mask and the pad token id were not set. As a consequence, you may observe unexpected behavior. Please pass your input's `attention_mask` to obtain reliable results.\n",
            "Setting `pad_token_id` to `eos_token_id`:128009 for open-end generation.\n"
          ]
        },
        {
          "output_type": "stream",
          "name": "stdout",
          "text": [
            "Here are the words representing the reviewer's impressions:\n",
            "\n",
            "* lively\n",
            "* delicious\n"
          ]
        },
        {
          "output_type": "stream",
          "name": "stderr",
          "text": [
            "The attention mask and the pad token id were not set. As a consequence, you may observe unexpected behavior. Please pass your input's `attention_mask` to obtain reliable results.\n",
            "Setting `pad_token_id` to `eos_token_id`:128009 for open-end generation.\n"
          ]
        },
        {
          "output_type": "stream",
          "name": "stdout",
          "text": [
            "Here are the words representing the reviewer's impressions:\n",
            "\n",
            "* Delicious\n",
            "* Crispy\n",
            "* Promptly\n",
            "* Satisfying\n",
            "* Great\n"
          ]
        },
        {
          "output_type": "stream",
          "name": "stderr",
          "text": [
            "The attention mask and the pad token id were not set. As a consequence, you may observe unexpected behavior. Please pass your input's `attention_mask` to obtain reliable results.\n",
            "Setting `pad_token_id` to `eos_token_id`:128009 for open-end generation.\n"
          ]
        },
        {
          "output_type": "stream",
          "name": "stdout",
          "text": [
            "Here are the words representing the reviewer's impressions:\n",
            "\n",
            "* great\n",
            "* extremely\n",
            "* attentive\n",
            "* comfortably\n",
            "* incredibly\n",
            "* delicious\n",
            "* high\n",
            "* must-visit\n"
          ]
        },
        {
          "output_type": "stream",
          "name": "stderr",
          "text": [
            "The attention mask and the pad token id were not set. As a consequence, you may observe unexpected behavior. Please pass your input's `attention_mask` to obtain reliable results.\n",
            "Setting `pad_token_id` to `eos_token_id`:128009 for open-end generation.\n"
          ]
        },
        {
          "output_type": "stream",
          "name": "stdout",
          "text": [
            "Here are the words representing the reviewer's impressions:\n",
            "\n",
            "* curious\n",
            "* affordable\n",
            "* enjoyed\n",
            "* variety\n",
            "* high-end\n",
            "* casual\n",
            "* appreciated\n"
          ]
        },
        {
          "output_type": "stream",
          "name": "stderr",
          "text": [
            "The attention mask and the pad token id were not set. As a consequence, you may observe unexpected behavior. Please pass your input's `attention_mask` to obtain reliable results.\n",
            "Setting `pad_token_id` to `eos_token_id`:128009 for open-end generation.\n"
          ]
        },
        {
          "output_type": "stream",
          "name": "stdout",
          "text": [
            "Here are the words representing the reviewer's impressions:\n",
            "\n",
            "* curious\n",
            "* great\n",
            "* delicious\n",
            "* convenient\n",
            "* wonderful (implied by \"What a great price!\")\n"
          ]
        },
        {
          "output_type": "stream",
          "name": "stderr",
          "text": [
            "The attention mask and the pad token id were not set. As a consequence, you may observe unexpected behavior. Please pass your input's `attention_mask` to obtain reliable results.\n",
            "Setting `pad_token_id` to `eos_token_id`:128009 for open-end generation.\n"
          ]
        },
        {
          "output_type": "stream",
          "name": "stdout",
          "text": [
            "Here are the words representing the reviewer's impressions:\n",
            "\n",
            "* disappointing\n",
            "* great\n"
          ]
        },
        {
          "output_type": "stream",
          "name": "stderr",
          "text": [
            "The attention mask and the pad token id were not set. As a consequence, you may observe unexpected behavior. Please pass your input's `attention_mask` to obtain reliable results.\n",
            "Setting `pad_token_id` to `eos_token_id`:128009 for open-end generation.\n"
          ]
        },
        {
          "output_type": "stream",
          "name": "stdout",
          "text": [
            "Here are the words representing the reviewer's impressions:\n",
            "\n",
            "* Delicious\n",
            "* Happy\n",
            "* Top-notch\n",
            "* Amazing\n",
            "* Good\n",
            "* Luxurious\n",
            "* Weak\n",
            "* Better\n",
            "\n",
            "These words convey the reviewer's positive and negative emotions and opinions about their experience at the sushi restaurant.\n"
          ]
        },
        {
          "output_type": "stream",
          "name": "stderr",
          "text": [
            "The attention mask and the pad token id were not set. As a consequence, you may observe unexpected behavior. Please pass your input's `attention_mask` to obtain reliable results.\n",
            "Setting `pad_token_id` to `eos_token_id`:128009 for open-end generation.\n"
          ]
        },
        {
          "output_type": "stream",
          "name": "stdout",
          "text": [
            "Here are the words representing the reviewer's impressions:\n",
            "\n",
            "* convenient\n",
            "* hard to read\n",
            "* normally tasty\n",
            "* outstanding\n",
            "* high\n",
            "* satisfied\n",
            "* disappointed\n",
            "* confused\n",
            "* unsatisfied\n",
            "* high (again, emphasizing the price)\n",
            "\n",
            "These words convey the reviewer's overall impression of the restaurant, which is mixed. They found some things convenient and tasty, but were disappointed with the value and pricing.\n"
          ]
        },
        {
          "output_type": "stream",
          "name": "stderr",
          "text": [
            "The attention mask and the pad token id were not set. As a consequence, you may observe unexpected behavior. Please pass your input's `attention_mask` to obtain reliable results.\n",
            "Setting `pad_token_id` to `eos_token_id`:128009 for open-end generation.\n"
          ]
        },
        {
          "output_type": "stream",
          "name": "stdout",
          "text": [
            "Here are the words representing the reviewer's impressions:\n",
            "\n",
            "* Convenient\n",
            "* Reassuring\n"
          ]
        },
        {
          "output_type": "stream",
          "name": "stderr",
          "text": [
            "The attention mask and the pad token id were not set. As a consequence, you may observe unexpected behavior. Please pass your input's `attention_mask` to obtain reliable results.\n",
            "Setting `pad_token_id` to `eos_token_id`:128009 for open-end generation.\n"
          ]
        },
        {
          "output_type": "stream",
          "name": "stdout",
          "text": [
            "Here are the words representing the reviewer's impressions:\n",
            "\n",
            "* Excellent\n",
            "* Delicious\n",
            "* Enjoyable\n",
            "* Crunchy\n",
            "* Packed with flavor\n",
            "* Nice\n",
            "* Spicy\n",
            "* Wonderful\n",
            "* Great\n",
            "\n",
            "These words convey a positive and enthusiastic tone, indicating that the reviewer had a very good experience at the sushi restaurant.\n"
          ]
        },
        {
          "output_type": "stream",
          "name": "stderr",
          "text": [
            "The attention mask and the pad token id were not set. As a consequence, you may observe unexpected behavior. Please pass your input's `attention_mask` to obtain reliable results.\n",
            "Setting `pad_token_id` to `eos_token_id`:128009 for open-end generation.\n"
          ]
        },
        {
          "output_type": "stream",
          "name": "stdout",
          "text": [
            "Here are the words representing the reviewer's impressions:\n",
            "\n",
            "* skeptical\n",
            "* pleasantly surprised\n",
            "* disappointing\n",
            "* underwhelming\n",
            "* fantastic\n",
            "* delicious\n",
            "* exceeded\n"
          ]
        },
        {
          "output_type": "stream",
          "name": "stderr",
          "text": [
            "The attention mask and the pad token id were not set. As a consequence, you may observe unexpected behavior. Please pass your input's `attention_mask` to obtain reliable results.\n",
            "Setting `pad_token_id` to `eos_token_id`:128009 for open-end generation.\n"
          ]
        },
        {
          "output_type": "stream",
          "name": "stdout",
          "text": [
            "Here are the words representing the reviewer's impressions:\n",
            "\n",
            "* fantastic\n"
          ]
        },
        {
          "output_type": "stream",
          "name": "stderr",
          "text": [
            "The attention mask and the pad token id were not set. As a consequence, you may observe unexpected behavior. Please pass your input's `attention_mask` to obtain reliable results.\n",
            "Setting `pad_token_id` to `eos_token_id`:128009 for open-end generation.\n"
          ]
        },
        {
          "output_type": "stream",
          "name": "stdout",
          "text": [
            "Here are the words representing the reviewer's impressions:\n",
            "\n",
            "* Outstanding\n",
            "* Good\n",
            "* Fantastic\n",
            "* Shocked\n"
          ]
        },
        {
          "output_type": "stream",
          "name": "stderr",
          "text": [
            "The attention mask and the pad token id were not set. As a consequence, you may observe unexpected behavior. Please pass your input's `attention_mask` to obtain reliable results.\n",
            "Setting `pad_token_id` to `eos_token_id`:128009 for open-end generation.\n"
          ]
        },
        {
          "output_type": "stream",
          "name": "stdout",
          "text": [
            "Here are the words representing the reviewer's impressions:\n",
            "\n",
            "* Fortunately\n",
            "* Interesting\n",
            "* Definitely\n",
            "* Enjoyed\n",
            "* Good-natured\n"
          ]
        },
        {
          "output_type": "stream",
          "name": "stderr",
          "text": [
            "The attention mask and the pad token id were not set. As a consequence, you may observe unexpected behavior. Please pass your input's `attention_mask` to obtain reliable results.\n",
            "Setting `pad_token_id` to `eos_token_id`:128009 for open-end generation.\n"
          ]
        },
        {
          "output_type": "stream",
          "name": "stdout",
          "text": [
            "Here are the words representing the reviewers' impressions:\n",
            "\n",
            "* Undeniably delicious\n",
            "* Good\n",
            "* Very firm\n",
            "* Lacking\n"
          ]
        },
        {
          "output_type": "stream",
          "name": "stderr",
          "text": [
            "The attention mask and the pad token id were not set. As a consequence, you may observe unexpected behavior. Please pass your input's `attention_mask` to obtain reliable results.\n",
            "Setting `pad_token_id` to `eos_token_id`:128009 for open-end generation.\n"
          ]
        },
        {
          "output_type": "stream",
          "name": "stdout",
          "text": [
            "Here are the words representing the reviewers' impressions:\n",
            "\n",
            "* Delicious\n",
            "* Tasty\n",
            "* Perfect\n",
            "* Pleasant\n"
          ]
        },
        {
          "output_type": "stream",
          "name": "stderr",
          "text": [
            "The attention mask and the pad token id were not set. As a consequence, you may observe unexpected behavior. Please pass your input's `attention_mask` to obtain reliable results.\n",
            "Setting `pad_token_id` to `eos_token_id`:128009 for open-end generation.\n"
          ]
        },
        {
          "output_type": "stream",
          "name": "stdout",
          "text": [
            "Here are the words representing the reviewer's impressions:\n",
            "\n",
            "* casual\n",
            "* high-quality\n",
            "* amazing\n",
            "* fresh\n",
            "* delicious\n",
            "* exceptional\n",
            "* delightful\n",
            "* fantastic\n",
            "* pleasant\n",
            "\n",
            "These words convey the reviewer's positive impressions of the sushi restaurant, including its atmosphere, food quality, and value.\n"
          ]
        },
        {
          "output_type": "stream",
          "name": "stderr",
          "text": [
            "The attention mask and the pad token id were not set. As a consequence, you may observe unexpected behavior. Please pass your input's `attention_mask` to obtain reliable results.\n",
            "Setting `pad_token_id` to `eos_token_id`:128009 for open-end generation.\n"
          ]
        },
        {
          "output_type": "stream",
          "name": "stdout",
          "text": [
            "Here are the words representing the reviewer's impressions:\n",
            "\n",
            "* Sigh\n",
            "* Empty\n",
            "* Just\n",
            "* Tasty\n",
            "* Poorly\n",
            "* Not fresh\n",
            "* Cheap\n",
            "* Same level\n",
            "* Shock\n",
            "* Sad\n"
          ]
        },
        {
          "output_type": "stream",
          "name": "stderr",
          "text": [
            "The attention mask and the pad token id were not set. As a consequence, you may observe unexpected behavior. Please pass your input's `attention_mask` to obtain reliable results.\n",
            "Setting `pad_token_id` to `eos_token_id`:128009 for open-end generation.\n"
          ]
        },
        {
          "output_type": "stream",
          "name": "stdout",
          "text": [
            "Here are the words representing the reviewer's impressions:\n",
            "\n",
            "* Delicious\n",
            "* Strong craving\n",
            "* Positive experience\n",
            "* Relief\n",
            "* Well-known\n",
            "* Appreciate\n",
            "* Slight acidity\n",
            "* Preferred\n",
            "* Rich\n",
            "* Delicious\n",
            "* Disappointed\n",
            "* Delightful\n",
            "* Better\n",
            "* Appreciated\n",
            "\n",
            "These words convey the reviewer's emotions and opinions about their experience at the sushi restaurant, including their satisfaction, surprise, and disappointment.\n"
          ]
        },
        {
          "output_type": "stream",
          "name": "stderr",
          "text": [
            "The attention mask and the pad token id were not set. As a consequence, you may observe unexpected behavior. Please pass your input's `attention_mask` to obtain reliable results.\n",
            "Setting `pad_token_id` to `eos_token_id`:128009 for open-end generation.\n"
          ]
        },
        {
          "output_type": "stream",
          "name": "stdout",
          "text": [
            "Here are the words representing the reviewer's impressions:\n",
            "\n",
            "* lively\n",
            "* never been able to enter without waiting\n",
            "* often come here\n"
          ]
        },
        {
          "output_type": "stream",
          "name": "stderr",
          "text": [
            "The attention mask and the pad token id were not set. As a consequence, you may observe unexpected behavior. Please pass your input's `attention_mask` to obtain reliable results.\n",
            "Setting `pad_token_id` to `eos_token_id`:128009 for open-end generation.\n"
          ]
        },
        {
          "output_type": "stream",
          "name": "stdout",
          "text": [
            "Here are the words representing the reviewer's impressions:\n",
            "\n",
            "* underestimated\n",
            "* long\n",
            "* quicker\n",
            "* absolutely\n",
            "* delicious\n",
            "* surprising\n",
            "* incredibly\n",
            "* high\n",
            "* satisfied\n",
            "* entertaining\n",
            "* love\n",
            "\n",
            "These words convey the reviewer's positive emotions and opinions about their experience at the sushi restaurant, including their surprise at the quality of the food, their satisfaction with the meal, and their enthusiasm for returning.\n"
          ]
        },
        {
          "output_type": "stream",
          "name": "stderr",
          "text": [
            "The attention mask and the pad token id were not set. As a consequence, you may observe unexpected behavior. Please pass your input's `attention_mask` to obtain reliable results.\n",
            "Setting `pad_token_id` to `eos_token_id`:128009 for open-end generation.\n"
          ]
        },
        {
          "output_type": "stream",
          "name": "stdout",
          "text": [
            "Here are the words representing the reviewer's impressions:\n",
            "\n",
            "* Impressive\n",
            "* Dazzling\n",
            "* Luxurious\n",
            "* Wonderful\n",
            "* Absolutely wonderful\n",
            "* Exceptional\n",
            "* Delicious\n",
            "* Tasty\n",
            "* Expert\n",
            "* Fresh\n",
            "* Careful\n",
            "* Smiling\n",
            "* Bargain\n",
            "* Fantastic\n",
            "* Impressed\n",
            "* Quality\n",
            "* Excellent\n",
            "* Wonderful\n",
            "* Affordable\n",
            "* Authentic\n",
            "* Luxurious\n",
            "\n",
            "Note that some of these words may appear multiple times in the review, but I have only listed each word once in the above list.\n"
          ]
        },
        {
          "output_type": "stream",
          "name": "stderr",
          "text": [
            "The attention mask and the pad token id were not set. As a consequence, you may observe unexpected behavior. Please pass your input's `attention_mask` to obtain reliable results.\n",
            "Setting `pad_token_id` to `eos_token_id`:128009 for open-end generation.\n"
          ]
        },
        {
          "output_type": "stream",
          "name": "stdout",
          "text": [
            "Here are the words representing the reviewer's impressions:\n",
            "\n",
            "* lucky\n",
            "* delicious\n",
            "* incredible\n",
            "* truly delightful\n",
            "* must try\n",
            "* change your perspective\n"
          ]
        },
        {
          "output_type": "stream",
          "name": "stderr",
          "text": [
            "The attention mask and the pad token id were not set. As a consequence, you may observe unexpected behavior. Please pass your input's `attention_mask` to obtain reliable results.\n",
            "Setting `pad_token_id` to `eos_token_id`:128009 for open-end generation.\n"
          ]
        },
        {
          "output_type": "stream",
          "name": "stdout",
          "text": [
            "Here are the words representing the reviewer's impressions:\n",
            "\n",
            "* Impressive\n",
            "* Beautiful\n",
            "* Delicious\n",
            "* Nice\n",
            "* Great\n",
            "* Convenient\n",
            "* Peaceful\n",
            "* Disappointing\n",
            "* Mediocre\n",
            "* Enjoyable\n",
            "* Notable\n",
            "* Better\n",
            "* Average\n",
            "* Incredible\n",
            "* Vastly superior\n",
            "* Noticeable\n",
            "* Good\n",
            "* Curious\n",
            "* Lacking\n",
            "* Truly impressive\n",
            "* Thrilled\n",
            "* Deeply moved\n",
            "* Reasonable\n",
            "* Regretted\n",
            "* Proudly reaffirmed\n",
            "\n",
            "These words convey the reviewer's emotions and opinions about their experience at Kaiten Sushi Ginza Onodera, ranging from positive (e.g. \"beautiful\", \"delicious\", \"impressive\") to neutral (e.g. \"average\", \"good\") to negative (e.g. \"disappointing\", \"mediocre\").\n"
          ]
        },
        {
          "output_type": "stream",
          "name": "stderr",
          "text": [
            "The attention mask and the pad token id were not set. As a consequence, you may observe unexpected behavior. Please pass your input's `attention_mask` to obtain reliable results.\n",
            "Setting `pad_token_id` to `eos_token_id`:128009 for open-end generation.\n"
          ]
        },
        {
          "output_type": "stream",
          "name": "stdout",
          "text": [
            "Here are the words representing the reviewer's impressions:\n",
            "\n",
            "* great\n",
            "* easy\n",
            "* elevated\n"
          ]
        },
        {
          "output_type": "stream",
          "name": "stderr",
          "text": [
            "The attention mask and the pad token id were not set. As a consequence, you may observe unexpected behavior. Please pass your input's `attention_mask` to obtain reliable results.\n",
            "Setting `pad_token_id` to `eos_token_id`:128009 for open-end generation.\n"
          ]
        },
        {
          "output_type": "stream",
          "name": "stdout",
          "text": [
            "Here are the words representing the reviewer's impressions:\n",
            "\n",
            "* (^ ^) - happy, excited\n",
            "* (^O^) - happy, pleased\n",
            "* (^ ^) - impressed, surprised\n",
            "* (^O^) - happy, pleased\n",
            "* (^ ^) - happy, content\n",
            "* (lol) - amused, playful\n",
            "* (T▽T) - slightly annoyed, disappointed\n",
            "* (　ﾟдﾟ) - surprised, amazed\n",
            "* (^O^) - happy, pleased\n",
            "* (^ ^) - happy, content\n",
            "* (^O^) - happy, pleased\n",
            "* (^ ^) - happy, content\n",
            "* (^O^) - happy, pleased\n",
            "* (^ ^) - happy, content\n",
            "* (^O^) - happy, pleased\n",
            "\n",
            "These words convey the reviewer's positive emotions and reactions to their dining experience at Kaiten Sushi Ginza Onodera.\n"
          ]
        },
        {
          "output_type": "stream",
          "name": "stderr",
          "text": [
            "The attention mask and the pad token id were not set. As a consequence, you may observe unexpected behavior. Please pass your input's `attention_mask` to obtain reliable results.\n",
            "Setting `pad_token_id` to `eos_token_id`:128009 for open-end generation.\n"
          ]
        },
        {
          "output_type": "stream",
          "name": "stdout",
          "text": [
            "Here are the words representing the reviewer's impressions:\n",
            "\n",
            "* brighter\n",
            "* average\n",
            "* delightful\n",
            "* mild\n"
          ]
        },
        {
          "output_type": "stream",
          "name": "stderr",
          "text": [
            "The attention mask and the pad token id were not set. As a consequence, you may observe unexpected behavior. Please pass your input's `attention_mask` to obtain reliable results.\n",
            "Setting `pad_token_id` to `eos_token_id`:128009 for open-end generation.\n"
          ]
        },
        {
          "output_type": "stream",
          "name": "stdout",
          "text": [
            "Here are the words representing the reviewer's impressions:\n",
            "\n",
            "* delighted\n",
            "* truly\n",
            "* delicious\n",
            "* favorite\n",
            "* fun\n",
            "* enjoyable\n",
            "\n",
            "These words convey the reviewer's positive emotions and opinions about the sushi restaurant.\n"
          ]
        },
        {
          "output_type": "stream",
          "name": "stderr",
          "text": [
            "The attention mask and the pad token id were not set. As a consequence, you may observe unexpected behavior. Please pass your input's `attention_mask` to obtain reliable results.\n",
            "Setting `pad_token_id` to `eos_token_id`:128009 for open-end generation.\n"
          ]
        },
        {
          "output_type": "stream",
          "name": "stdout",
          "text": [
            "Here are the words representing the reviewer's impressions:\n",
            "\n",
            "* excellent\n",
            "* surprisingly\n",
            "* reasonable\n"
          ]
        },
        {
          "output_type": "stream",
          "name": "stderr",
          "text": [
            "The attention mask and the pad token id were not set. As a consequence, you may observe unexpected behavior. Please pass your input's `attention_mask` to obtain reliable results.\n",
            "Setting `pad_token_id` to `eos_token_id`:128009 for open-end generation.\n"
          ]
        },
        {
          "output_type": "stream",
          "name": "stdout",
          "text": [
            "Here are the words representing the reviewer's impressions:\n",
            "\n",
            "* Delicious\n",
            "* Disappointing\n",
            "* Quite good\n",
            "* Decent\n",
            "* Excellent\n",
            "* Soft\n",
            "* Flavorful\n",
            "* Well-prepared\n",
            "* Rich\n",
            "* Understandable\n",
            "* Okay\n",
            "* Better\n",
            "* Exceeded expectations\n",
            "* Worthwhile\n"
          ]
        },
        {
          "output_type": "stream",
          "name": "stderr",
          "text": [
            "The attention mask and the pad token id were not set. As a consequence, you may observe unexpected behavior. Please pass your input's `attention_mask` to obtain reliable results.\n",
            "Setting `pad_token_id` to `eos_token_id`:128009 for open-end generation.\n"
          ]
        },
        {
          "output_type": "stream",
          "name": "stdout",
          "text": [
            "Here are the words representing the reviewer's impressions:\n",
            "\n",
            "* excellent\n",
            "* high\n",
            "* favorite\n",
            "\n",
            "These words convey a positive impression of the restaurant, indicating that the reviewer was impressed with the quality of the food and service.\n"
          ]
        },
        {
          "output_type": "stream",
          "name": "stderr",
          "text": [
            "The attention mask and the pad token id were not set. As a consequence, you may observe unexpected behavior. Please pass your input's `attention_mask` to obtain reliable results.\n",
            "Setting `pad_token_id` to `eos_token_id`:128009 for open-end generation.\n"
          ]
        },
        {
          "output_type": "stream",
          "name": "stdout",
          "text": [
            "I cannot extract words representing the reviewers' impressions from this text as it appears to be a list of menu items and prices from a sushi restaurant.\n"
          ]
        },
        {
          "output_type": "stream",
          "name": "stderr",
          "text": [
            "The attention mask and the pad token id were not set. As a consequence, you may observe unexpected behavior. Please pass your input's `attention_mask` to obtain reliable results.\n",
            "Setting `pad_token_id` to `eos_token_id`:128009 for open-end generation.\n"
          ]
        },
        {
          "output_type": "stream",
          "name": "stdout",
          "text": [
            "Here are the words representing the reviewers' impressions:\n",
            "\n",
            "* exceptional\n",
            "* delicious\n",
            "* wonderful\n",
            "* pleasant\n",
            "* great\n"
          ]
        },
        {
          "output_type": "stream",
          "name": "stderr",
          "text": [
            "The attention mask and the pad token id were not set. As a consequence, you may observe unexpected behavior. Please pass your input's `attention_mask` to obtain reliable results.\n",
            "Setting `pad_token_id` to `eos_token_id`:128009 for open-end generation.\n"
          ]
        },
        {
          "output_type": "stream",
          "name": "stdout",
          "text": [
            "Here are the words representing the reviewer's impressions:\n",
            "\n",
            "* exquisite\n",
            "* carefully\n",
            "* personally\n",
            "* definitely\n"
          ]
        },
        {
          "output_type": "stream",
          "name": "stderr",
          "text": [
            "The attention mask and the pad token id were not set. As a consequence, you may observe unexpected behavior. Please pass your input's `attention_mask` to obtain reliable results.\n",
            "Setting `pad_token_id` to `eos_token_id`:128009 for open-end generation.\n"
          ]
        },
        {
          "output_type": "stream",
          "name": "stdout",
          "text": [
            "Here are the words representing the reviewers' impressions:\n",
            "\n",
            "* delicious\n",
            "* exquisite\n",
            "* delightful\n",
            "* sweet\n",
            "* refreshing\n",
            "* must-try\n",
            "* crave\n",
            "* worth the splurge\n",
            "* treat yourself\n",
            "\n",
            "These words convey the reviewers' positive emotions and opinions about the sushi restaurant, including their enthusiasm for the food, the quality of the ingredients, and the value for the price.\n"
          ]
        },
        {
          "output_type": "stream",
          "name": "stderr",
          "text": [
            "The attention mask and the pad token id were not set. As a consequence, you may observe unexpected behavior. Please pass your input's `attention_mask` to obtain reliable results.\n",
            "Setting `pad_token_id` to `eos_token_id`:128009 for open-end generation.\n"
          ]
        },
        {
          "output_type": "stream",
          "name": "stdout",
          "text": [
            "Here are the words representing the reviewer's impressions:\n",
            "\n",
            "* shocked\n",
            "* high-quality\n",
            "* accessible\n",
            "* busy\n",
            "* luxurious\n",
            "* enjoyable\n",
            "* higher quality\n",
            "* enjoyable\n",
            "* questionable (cost-performance ratio)\n",
            "\n",
            "Note that some of these words may have a neutral or objective tone, but overall they convey the reviewer's subjective impressions and emotions about their experience at the sushi restaurant.\n"
          ]
        },
        {
          "output_type": "stream",
          "name": "stderr",
          "text": [
            "The attention mask and the pad token id were not set. As a consequence, you may observe unexpected behavior. Please pass your input's `attention_mask` to obtain reliable results.\n",
            "Setting `pad_token_id` to `eos_token_id`:128009 for open-end generation.\n"
          ]
        },
        {
          "output_type": "stream",
          "name": "stdout",
          "text": [
            "Here are the words representing the reviewer's impressions:\n",
            "\n",
            "* wanted\n",
            "* impressed\n",
            "* delicious\n",
            "* unsure\n",
            "\n",
            "These words convey the reviewer's feelings and opinions about their experience at the sushi restaurant.\n"
          ]
        },
        {
          "output_type": "stream",
          "name": "stderr",
          "text": [
            "The attention mask and the pad token id were not set. As a consequence, you may observe unexpected behavior. Please pass your input's `attention_mask` to obtain reliable results.\n",
            "Setting `pad_token_id` to `eos_token_id`:128009 for open-end generation.\n"
          ]
        },
        {
          "output_type": "stream",
          "name": "stdout",
          "text": [
            "Here are the words representing the reviewer's impressions:\n",
            "\n",
            "* Popular\n",
            "* Impressive\n",
            "* Enjoyable\n",
            "* Delicious\n",
            "* Endless appeal\n"
          ]
        },
        {
          "output_type": "stream",
          "name": "stderr",
          "text": [
            "The attention mask and the pad token id were not set. As a consequence, you may observe unexpected behavior. Please pass your input's `attention_mask` to obtain reliable results.\n",
            "Setting `pad_token_id` to `eos_token_id`:128009 for open-end generation.\n"
          ]
        },
        {
          "output_type": "stream",
          "name": "stdout",
          "text": [
            "Here are the words representing the reviewer's impressions:\n",
            "\n",
            "* delicious\n",
            "* impressive\n",
            "* tasty\n",
            "* stunning\n",
            "* exceptional\n"
          ]
        },
        {
          "output_type": "stream",
          "name": "stderr",
          "text": [
            "The attention mask and the pad token id were not set. As a consequence, you may observe unexpected behavior. Please pass your input's `attention_mask` to obtain reliable results.\n",
            "Setting `pad_token_id` to `eos_token_id`:128009 for open-end generation.\n"
          ]
        },
        {
          "output_type": "stream",
          "name": "stdout",
          "text": [
            "Here are the words representing the reviewer's impressions:\n",
            "\n",
            "* \"delicious\"\n",
            "* \"good value\"\n",
            "* \"budget\"\n",
            "* \"slow\"\n",
            "* \"long\"\n"
          ]
        },
        {
          "output_type": "stream",
          "name": "stderr",
          "text": [
            "The attention mask and the pad token id were not set. As a consequence, you may observe unexpected behavior. Please pass your input's `attention_mask` to obtain reliable results.\n",
            "Setting `pad_token_id` to `eos_token_id`:128009 for open-end generation.\n"
          ]
        },
        {
          "output_type": "stream",
          "name": "stdout",
          "text": [
            "Here are the words representing the reviewer's impressions:\n",
            "\n",
            "* bliss\n",
            "* lucky\n",
            "* lively\n",
            "* appreciative\n",
            "* delighted\n",
            "* umami\n",
            "* delightful\n",
            "* rare\n",
            "* unclear\n",
            "* undoubtedly\n",
            "* delicious\n",
            "* satisfactory\n",
            "* clever\n",
            "* popular\n",
            "* cozy\n",
            "\n",
            "Note that some of these words may have multiple connotations or nuances, but overall, they convey the reviewer's positive and enthusiastic impressions of their experience at the sushi restaurant.\n"
          ]
        },
        {
          "output_type": "stream",
          "name": "stderr",
          "text": [
            "The attention mask and the pad token id were not set. As a consequence, you may observe unexpected behavior. Please pass your input's `attention_mask` to obtain reliable results.\n",
            "Setting `pad_token_id` to `eos_token_id`:128009 for open-end generation.\n"
          ]
        },
        {
          "output_type": "stream",
          "name": "stdout",
          "text": [
            "Here are the words representing the reviewer's impressions:\n",
            "\n",
            "* great\n",
            "* unique\n",
            "* excellent\n",
            "* surpasses\n",
            "* rivals\n",
            "* stunning\n",
            "* beautiful\n",
            "* perfectly\n",
            "* nice\n",
            "* exceptional\n",
            "* rich\n",
            "* wonderfully\n",
            "* delicious\n",
            "* outstanding\n",
            "* high-quality\n",
            "* pleasurable\n",
            "* enjoyable\n",
            "* casual\n",
            "\n",
            "Note that some of these words may have multiple meanings or connotations, but in the context of the review, they are used to express the reviewer's positive impressions of the sushi restaurant.\n"
          ]
        },
        {
          "output_type": "stream",
          "name": "stderr",
          "text": [
            "The attention mask and the pad token id were not set. As a consequence, you may observe unexpected behavior. Please pass your input's `attention_mask` to obtain reliable results.\n",
            "Setting `pad_token_id` to `eos_token_id`:128009 for open-end generation.\n"
          ]
        },
        {
          "output_type": "stream",
          "name": "stdout",
          "text": [
            "Here are the words representing the reviewer's impressions:\n",
            "\n",
            "* \"truly top-notch\" (positive)\n",
            "* \"wondering\" (neutral/negative)\n",
            "* \"dropped in quality a bit\" (negative)\n",
            "* \"delicious\" (positive)\n",
            "* \"difficult\" (negative)\n",
            "\n",
            "Note that some words may have multiple connotations depending on the context, but based on their typical meanings, these words represent the reviewer's overall impression of the restaurant.\n"
          ]
        },
        {
          "output_type": "stream",
          "name": "stderr",
          "text": [
            "The attention mask and the pad token id were not set. As a consequence, you may observe unexpected behavior. Please pass your input's `attention_mask` to obtain reliable results.\n",
            "Setting `pad_token_id` to `eos_token_id`:128009 for open-end generation.\n"
          ]
        },
        {
          "output_type": "stream",
          "name": "stdout",
          "text": [
            "Here are the words representing the reviewers' impressions:\n",
            "\n",
            "* Good: delicious, surprisingly good, fresh, crunchy, great texture, absolutely delicious, seriously, honestly, great\n",
            "* Bad: cold, dry, careless, mild, horrible, disappointing, terrible, bland, overcooked, far below expectations, not comfortable, overly loud, random, not actual recommendations, expensive, wouldn't it be better\n",
            "* Neutral: okay, just okay, no problem, haha, lol\n",
            "* Mixed: it's free, so I shouldn't complain, but...\n"
          ]
        },
        {
          "output_type": "stream",
          "name": "stderr",
          "text": [
            "The attention mask and the pad token id were not set. As a consequence, you may observe unexpected behavior. Please pass your input's `attention_mask` to obtain reliable results.\n",
            "Setting `pad_token_id` to `eos_token_id`:128009 for open-end generation.\n"
          ]
        },
        {
          "output_type": "stream",
          "name": "stdout",
          "text": [
            "Here are the words representing the reviewer's impressions:\n",
            "\n",
            "* Nice\n",
            "* Convenient\n",
            "* Ordinary\n",
            "* Better\n",
            "* Delicious\n",
            "* Good\n",
            "* Frustrating\n",
            "* Relaxing\n",
            "* Lacking\n",
            "* Expensive\n",
            "* Surprising\n",
            "* Tastier\n",
            "* Worse\n",
            "* Untrained\n",
            "* Unimpressed\n",
            "\n",
            "Note that some of these words may have positive or negative connotations, depending on the context in which they are used.\n"
          ]
        },
        {
          "output_type": "stream",
          "name": "stderr",
          "text": [
            "The attention mask and the pad token id were not set. As a consequence, you may observe unexpected behavior. Please pass your input's `attention_mask` to obtain reliable results.\n",
            "Setting `pad_token_id` to `eos_token_id`:128009 for open-end generation.\n"
          ]
        },
        {
          "output_type": "stream",
          "name": "stdout",
          "text": [
            "Here are the words representing the reviewer's impressions:\n",
            "\n",
            "* Wonderful\n",
            "* Exceptional\n",
            "* Thoroughly enjoyed\n"
          ]
        },
        {
          "output_type": "stream",
          "name": "stderr",
          "text": [
            "The attention mask and the pad token id were not set. As a consequence, you may observe unexpected behavior. Please pass your input's `attention_mask` to obtain reliable results.\n",
            "Setting `pad_token_id` to `eos_token_id`:128009 for open-end generation.\n"
          ]
        },
        {
          "output_type": "stream",
          "name": "stdout",
          "text": [
            "Here are the words representing the reviewer's impressions:\n",
            "\n",
            "* Impressed\n",
            "* Excellent\n",
            "* Delicious\n",
            "* Rich\n",
            "* Juicy\n",
            "* Plump\n",
            "* Thick\n",
            "* Robust\n",
            "* Sweet\n",
            "* Clean\n",
            "* Pleasant\n",
            "* Soft\n",
            "* Cushiony\n",
            "* Smooth\n",
            "* Ample\n",
            "* Fulfilling\n",
            "\n",
            "These words convey the reviewer's positive emotions and reactions to the food and dining experience at the sushi restaurant.\n"
          ]
        },
        {
          "output_type": "stream",
          "name": "stderr",
          "text": [
            "The attention mask and the pad token id were not set. As a consequence, you may observe unexpected behavior. Please pass your input's `attention_mask` to obtain reliable results.\n",
            "Setting `pad_token_id` to `eos_token_id`:128009 for open-end generation.\n"
          ]
        },
        {
          "output_type": "stream",
          "name": "stdout",
          "text": [
            "Here are the words representing the reviewers' impressions:\n",
            "\n",
            "* remarkable\n",
            "* high-end\n",
            "* casual\n",
            "* approachable\n",
            "* quality\n",
            "* authentic\n",
            "* fun\n",
            "* interactive\n",
            "* incredibly\n",
            "* fresh\n",
            "* perfectly\n",
            "* memorable\n",
            "* delicious\n",
            "* comfortable\n",
            "* lively\n",
            "* elegant\n",
            "* impressive\n",
            "* high\n",
            "* skillful\n",
            "* premium\n",
            "* impeccable\n",
            "* sublime\n",
            "* luxurious\n",
            "* rare\n"
          ]
        },
        {
          "output_type": "stream",
          "name": "stderr",
          "text": [
            "The attention mask and the pad token id were not set. As a consequence, you may observe unexpected behavior. Please pass your input's `attention_mask` to obtain reliable results.\n",
            "Setting `pad_token_id` to `eos_token_id`:128009 for open-end generation.\n"
          ]
        },
        {
          "output_type": "stream",
          "name": "stdout",
          "text": [
            "Here are the words representing the reviewers' impressions:\n",
            "\n",
            "* delicious\n",
            "* great\n",
            "* must-try\n",
            "* recommended\n"
          ]
        },
        {
          "output_type": "stream",
          "name": "stderr",
          "text": [
            "The attention mask and the pad token id were not set. As a consequence, you may observe unexpected behavior. Please pass your input's `attention_mask` to obtain reliable results.\n",
            "Setting `pad_token_id` to `eos_token_id`:128009 for open-end generation.\n"
          ]
        },
        {
          "output_type": "stream",
          "name": "stdout",
          "text": [
            "Here are the words representing the reviewer's impressions:\n",
            "\n",
            "* Delicious\n",
            "* Quite good\n",
            "* Amazing\n",
            "* Exquisite\n",
            "* Average\n",
            "* Absolutely delicious\n",
            "* Fresh\n",
            "* Good quality\n",
            "* Just the right hardness\n",
            "* Very satisfied\n",
            "\n",
            "Note that some of these words may have been used to describe specific dishes or aspects of the experience, but overall they convey a positive impression of the reviewer's experience at the sushi restaurant.\n"
          ]
        },
        {
          "output_type": "stream",
          "name": "stderr",
          "text": [
            "The attention mask and the pad token id were not set. As a consequence, you may observe unexpected behavior. Please pass your input's `attention_mask` to obtain reliable results.\n",
            "Setting `pad_token_id` to `eos_token_id`:128009 for open-end generation.\n"
          ]
        },
        {
          "output_type": "stream",
          "name": "stdout",
          "text": [
            "Here are the words representing the reviewer's impressions:\n",
            "\n",
            "* Delicious\n",
            "* Auspicious\n",
            "* Conveniently located\n",
            "* Crowded\n",
            "* Dazzling\n",
            "* Completely different\n",
            "* Enjoyed\n",
            "* Rich\n",
            "* Firm\n",
            "* Limited-time offer\n",
            "* Personal favorite\n",
            "* Not cheap\n",
            "* Strong impression\n",
            "* Surprisingly fatty and tender\n",
            "* Unsure\n",
            "* Impressive\n",
            "* Concerning\n",
            "* Cold\n",
            "* Compacted\n",
            "* Unconcerned\n",
            "* Delicious\n",
            "* Higher side\n",
            "* Slightly different\n",
            "\n",
            "Note that some of these words may have multiple connotations or nuances depending on the context, but overall they represent the reviewer's subjective experience and opinions about the restaurant.\n"
          ]
        },
        {
          "output_type": "stream",
          "name": "stderr",
          "text": [
            "The attention mask and the pad token id were not set. As a consequence, you may observe unexpected behavior. Please pass your input's `attention_mask` to obtain reliable results.\n",
            "Setting `pad_token_id` to `eos_token_id`:128009 for open-end generation.\n"
          ]
        },
        {
          "output_type": "stream",
          "name": "stdout",
          "text": [
            "Here are the words representing the reviewer's impressions:\n",
            "\n",
            "* great\n"
          ]
        },
        {
          "output_type": "stream",
          "name": "stderr",
          "text": [
            "The attention mask and the pad token id were not set. As a consequence, you may observe unexpected behavior. Please pass your input's `attention_mask` to obtain reliable results.\n",
            "Setting `pad_token_id` to `eos_token_id`:128009 for open-end generation.\n"
          ]
        },
        {
          "output_type": "stream",
          "name": "stdout",
          "text": [
            "Here are the words representing the reviewer's impressions:\n",
            "\n",
            "* pleasantly\n",
            "* tangy\n",
            "* great\n",
            "* balanced\n",
            "* nice\n",
            "* fresh\n",
            "* great\n",
            "* rich\n",
            "* sweet\n",
            "* fulfilling\n",
            "* satisfying\n",
            "\n",
            "These words convey the reviewer's positive emotions and opinions about the food and dining experience at the sushi restaurant.\n"
          ]
        },
        {
          "output_type": "stream",
          "name": "stderr",
          "text": [
            "The attention mask and the pad token id were not set. As a consequence, you may observe unexpected behavior. Please pass your input's `attention_mask` to obtain reliable results.\n",
            "Setting `pad_token_id` to `eos_token_id`:128009 for open-end generation.\n"
          ]
        },
        {
          "output_type": "stream",
          "name": "stdout",
          "text": [
            "Here are the words representing the reviewer's impressions:\n",
            "\n",
            "* \"Dynamite choice\" (for the tuna)\n",
            "* \"Seriously impressive\"\n",
            "* \"So delicious\"\n",
            "* \"Good\"\n",
            "* \"Quite reasonable\"\n",
            "* \"Great\"\n",
            "* \"Fresh\"\n",
            "* \"Nice crunch\"\n",
            "* \"Enthusiasm echoed throughout the restaurant\"\n",
            "* \"Wow, this is a great service\"\n",
            "* \"Good service\"\n",
            "* \"Quite interesting\"\n",
            "* \"Really tasty\"\n",
            "* \"Pleasantly surprised\"\n",
            "* \"Reasonable price\"\n",
            "* \"Satisfied\"\n",
            "* \"Enjoyed my time\"\n",
            "\n",
            "These words convey the reviewer's positive emotions and impressions of the sushi restaurant, including the quality of the food, the service, and the overall experience.\n"
          ]
        },
        {
          "output_type": "stream",
          "name": "stderr",
          "text": [
            "The attention mask and the pad token id were not set. As a consequence, you may observe unexpected behavior. Please pass your input's `attention_mask` to obtain reliable results.\n",
            "Setting `pad_token_id` to `eos_token_id`:128009 for open-end generation.\n"
          ]
        },
        {
          "output_type": "stream",
          "name": "stdout",
          "text": [
            "Here are the words representing the reviewer's impressions:\n",
            "\n",
            "* impressive\n",
            "* beautiful\n",
            "* spacious\n",
            "* energetic\n",
            "* playful\n",
            "* polished\n",
            "* not bad\n",
            "* not particularly impressive\n",
            "* great\n",
            "\n",
            "Note that some of these words may have mixed connotations, and the reviewer's overall opinion is neutral (\"not bad\" and \"not particularly impressive\" suggest a lukewarm assessment). However, the words I extracted are intended to capture the reviewer's subjective experience and emotional response to the restaurant.\n"
          ]
        },
        {
          "output_type": "stream",
          "name": "stderr",
          "text": [
            "The attention mask and the pad token id were not set. As a consequence, you may observe unexpected behavior. Please pass your input's `attention_mask` to obtain reliable results.\n",
            "Setting `pad_token_id` to `eos_token_id`:128009 for open-end generation.\n"
          ]
        },
        {
          "output_type": "stream",
          "name": "stdout",
          "text": [
            "Here are the words representing the reviewer's impressions:\n",
            "\n",
            "* Curious\n",
            "* Daunting\n",
            "* Great\n",
            "* Delicious\n",
            "* Comfortable\n",
            "* Genuinely\n",
            "* Tasty\n",
            "* Enjoyed\n",
            "\n",
            "These words convey the reviewer's positive emotions and experiences at the sushi restaurant, such as being pleasantly surprised, feeling comfortable, and enjoying the food.\n"
          ]
        },
        {
          "output_type": "stream",
          "name": "stderr",
          "text": [
            "The attention mask and the pad token id were not set. As a consequence, you may observe unexpected behavior. Please pass your input's `attention_mask` to obtain reliable results.\n",
            "Setting `pad_token_id` to `eos_token_id`:128009 for open-end generation.\n"
          ]
        },
        {
          "output_type": "stream",
          "name": "stdout",
          "text": [
            "Here are the words representing the reviewer's impressions:\n",
            "\n",
            "* delicious\n",
            "* great\n"
          ]
        },
        {
          "output_type": "stream",
          "name": "stderr",
          "text": [
            "The attention mask and the pad token id were not set. As a consequence, you may observe unexpected behavior. Please pass your input's `attention_mask` to obtain reliable results.\n",
            "Setting `pad_token_id` to `eos_token_id`:128009 for open-end generation.\n"
          ]
        },
        {
          "output_type": "stream",
          "name": "stdout",
          "text": [
            "Here are the words representing the reviewer's impressions:\n",
            "\n",
            "* \"splendid\"\n",
            "* \"incredibly tasty\"\n",
            "* \"high-end\"\n",
            "* \"impressed\"\n",
            "\n",
            "These words convey the reviewer's positive emotions and opinions about their experience at the sushi restaurant.\n"
          ]
        },
        {
          "output_type": "stream",
          "name": "stderr",
          "text": [
            "The attention mask and the pad token id were not set. As a consequence, you may observe unexpected behavior. Please pass your input's `attention_mask` to obtain reliable results.\n",
            "Setting `pad_token_id` to `eos_token_id`:128009 for open-end generation.\n"
          ]
        },
        {
          "output_type": "stream",
          "name": "stdout",
          "text": [
            "Here are the words representing the reviewer's impressions:\n",
            "\n",
            "* Good\n",
            "* Flavorful\n",
            "* Delicious\n",
            "* Tasty\n",
            "* Excellent\n",
            "* Nice\n",
            "* Enjoyable\n",
            "* Fishy\n",
            "* Slight\n",
            "\n",
            "These words convey the reviewer's positive and negative impressions of the sushi restaurant, including their enjoyment of certain dishes and their disappointment with others.\n"
          ]
        },
        {
          "output_type": "stream",
          "name": "stderr",
          "text": [
            "The attention mask and the pad token id were not set. As a consequence, you may observe unexpected behavior. Please pass your input's `attention_mask` to obtain reliable results.\n",
            "Setting `pad_token_id` to `eos_token_id`:128009 for open-end generation.\n"
          ]
        },
        {
          "output_type": "stream",
          "name": "stdout",
          "text": [
            "Here are the words representing the reviewer's impressions:\n",
            "\n",
            "* Curious\n",
            "* Decent\n",
            "* Intrigued\n",
            "* Hard\n",
            "* Well-prepared\n",
            "* Not quite delicious\n",
            "* Nice\n",
            "\n",
            "These words convey the reviewer's mixed feelings about their experience at the sushi restaurant. They seem to have been excited to try the high-end conveyor belt sushi, but were ultimately underwhelmed by the quality of the sushi rice and the overall experience. However, they do suggest that it might be a good choice for a special treat.\n"
          ]
        },
        {
          "output_type": "stream",
          "name": "stderr",
          "text": [
            "The attention mask and the pad token id were not set. As a consequence, you may observe unexpected behavior. Please pass your input's `attention_mask` to obtain reliable results.\n",
            "Setting `pad_token_id` to `eos_token_id`:128009 for open-end generation.\n"
          ]
        },
        {
          "output_type": "stream",
          "name": "stdout",
          "text": [
            "Here are the words representing the reviewer's impressions:\n",
            "\n",
            "* Fantastic\n",
            "* Unique\n",
            "* Beloved\n",
            "* Renowned\n",
            "* Entertaining\n",
            "* Excellent\n",
            "* Decent\n",
            "* Great\n",
            "* Superb\n",
            "* Unexpected\n",
            "* Impressive\n",
            "\n",
            "These words convey the reviewer's positive and enthusiastic impressions of the sushi restaurant, including the quality of the food, the uniqueness of the kaiten sushi experience, and the value for the price.\n"
          ]
        },
        {
          "output_type": "stream",
          "name": "stderr",
          "text": [
            "The attention mask and the pad token id were not set. As a consequence, you may observe unexpected behavior. Please pass your input's `attention_mask` to obtain reliable results.\n",
            "Setting `pad_token_id` to `eos_token_id`:128009 for open-end generation.\n"
          ]
        },
        {
          "output_type": "stream",
          "name": "stdout",
          "text": [
            "Here are the words representing the reviewer's impressions:\n",
            "\n",
            "* \"exceptional\" (implying a very positive impression)\n",
            "* \"completely satisfied\" (expressing a high level of satisfaction)\n",
            "\n",
            "These two words convey the reviewer's positive feelings about the taste of the tuna and their overall dining experience.\n"
          ]
        },
        {
          "output_type": "stream",
          "name": "stderr",
          "text": [
            "The attention mask and the pad token id were not set. As a consequence, you may observe unexpected behavior. Please pass your input's `attention_mask` to obtain reliable results.\n",
            "Setting `pad_token_id` to `eos_token_id`:128009 for open-end generation.\n"
          ]
        },
        {
          "output_type": "stream",
          "name": "stdout",
          "text": [
            "Here are the words representing the reviewer's impressions:\n",
            "\n",
            "* delicious\n",
            "* superior\n",
            "* tasty\n",
            "* great\n",
            "* good\n",
            "* comparable\n",
            "\n",
            "These words convey the reviewer's positive impressions of the sushi restaurant, including the taste, quality, and value for money.\n"
          ]
        },
        {
          "output_type": "stream",
          "name": "stderr",
          "text": [
            "The attention mask and the pad token id were not set. As a consequence, you may observe unexpected behavior. Please pass your input's `attention_mask` to obtain reliable results.\n",
            "Setting `pad_token_id` to `eos_token_id`:128009 for open-end generation.\n"
          ]
        },
        {
          "output_type": "stream",
          "name": "stdout",
          "text": [
            "Here are the words representing the reviewer's impressions:\n",
            "\n",
            "* excellent\n",
            "* budget-friendly\n",
            "* slightly lower\n",
            "* excellent\n",
            "\n",
            "These words convey the reviewer's positive impression of the sushi restaurant, particularly the quality of the ingredients and the value for the price.\n"
          ]
        },
        {
          "output_type": "stream",
          "name": "stderr",
          "text": [
            "The attention mask and the pad token id were not set. As a consequence, you may observe unexpected behavior. Please pass your input's `attention_mask` to obtain reliable results.\n",
            "Setting `pad_token_id` to `eos_token_id`:128009 for open-end generation.\n"
          ]
        },
        {
          "output_type": "stream",
          "name": "stdout",
          "text": [
            "Here are the words representing the reviewer's impressions:\n",
            "\n",
            "* \"really enjoyed\"\n",
            "* \"rich and packed with flavor\"\n",
            "* \"perfectly balanced\"\n",
            "* \"not too sour and full of fat\"\n",
            "* \"delicious\"\n",
            "* \"somewhat pricey\"\n",
            "\n",
            "These words convey the reviewer's positive impressions of the food, specifically the Yama Ko Hon-Maguro Akami and Homemade Shime-Saba, as well as their mixed feelings about the price.\n"
          ]
        },
        {
          "output_type": "stream",
          "name": "stderr",
          "text": [
            "The attention mask and the pad token id were not set. As a consequence, you may observe unexpected behavior. Please pass your input's `attention_mask` to obtain reliable results.\n",
            "Setting `pad_token_id` to `eos_token_id`:128009 for open-end generation.\n"
          ]
        },
        {
          "output_type": "stream",
          "name": "stdout",
          "text": [
            "Here are the words representing the reviewer's impressions:\n",
            "\n",
            "* \"quite delicious\" (positive)\n",
            "* \"disappointing\" (negative)\n",
            "* \"not bad\" (neutral)\n",
            "* \"decent\" (neutral)\n",
            "* \"a bit soggy\" (negative)\n",
            "* \"a bit of a shame\" (negative)\n",
            "* \"could significantly improve\" (neutral/negative)\n",
            "* \"I think I'll keep an eye on it\" (neutral, implies curiosity and potential return)\n"
          ]
        },
        {
          "output_type": "stream",
          "name": "stderr",
          "text": [
            "The attention mask and the pad token id were not set. As a consequence, you may observe unexpected behavior. Please pass your input's `attention_mask` to obtain reliable results.\n",
            "Setting `pad_token_id` to `eos_token_id`:128009 for open-end generation.\n"
          ]
        },
        {
          "output_type": "stream",
          "name": "stdout",
          "text": [
            "Here are the words representing the reviewer's impressions:\n",
            "\n",
            "* bright\n",
            "* welcoming\n",
            "* lively\n",
            "* delicious\n",
            "* tasty\n",
            "* excellent\n",
            "* love\n",
            "\n",
            "These words convey a positive impression of the sushi restaurant, indicating that the reviewer enjoyed the atmosphere, food, and service.\n"
          ]
        },
        {
          "output_type": "stream",
          "name": "stderr",
          "text": [
            "The attention mask and the pad token id were not set. As a consequence, you may observe unexpected behavior. Please pass your input's `attention_mask` to obtain reliable results.\n",
            "Setting `pad_token_id` to `eos_token_id`:128009 for open-end generation.\n"
          ]
        },
        {
          "output_type": "stream",
          "name": "stdout",
          "text": [
            "Here are the words representing the reviewer's impressions:\n",
            "\n",
            "* surprised\n",
            "* different\n",
            "* high-end\n",
            "* excellent\n",
            "* disappointed\n",
            "* unsatisfied\n",
            "* average\n",
            "* unimpressive\n",
            "\n",
            "Note that some of these words may have been inferred or implied by the reviewer, rather than being explicitly stated.\n"
          ]
        },
        {
          "output_type": "stream",
          "name": "stderr",
          "text": [
            "The attention mask and the pad token id were not set. As a consequence, you may observe unexpected behavior. Please pass your input's `attention_mask` to obtain reliable results.\n",
            "Setting `pad_token_id` to `eos_token_id`:128009 for open-end generation.\n"
          ]
        },
        {
          "output_type": "stream",
          "name": "stdout",
          "text": [
            "Here are the words representing the reviewer's impressions:\n",
            "\n",
            "* Excited (＾◇＾)\n",
            "* Delighted (〃ω〃)\n",
            "* Surprised (〃ω〃)\n",
            "* Impressed (o^^o)\n",
            "* Happy (＾◇＾)\n",
            "* Glad (´ ▽ `)\n",
            "* Truly glad (I’m truly glad to be born a Japanese person.)\n",
            "* Bummer (）\n",
            "* Right (o )/\n",
            "* Perfect (＾◇＾)\n",
            "* Delicious (d(￣ ￣))\n",
            "* Good (d(￣ ￣))\n",
            "* Excellent (Well done, Onodera!!)\n",
            "* Heavenly (Today was heavenly.)\n",
            "* Crisp (it was crisp with a nice umami.)\n",
            "* Nice (it was still rich and delicious with a bold umami flavor.)\n",
            "* Surprisingly fresh (The meat is plump and crunchy. It’s delicious and surprisingly fresh!)\n",
            "* Excellent (The pickling was excellent.)\n",
            "* Good (it was still rich and delicious with a bold umami flavor.)\n",
            "* Perfect (Perfect to go with beer (＾◇＾).)\n",
            "* Impressed (I was really impressed (@^ω^@))\n",
            "* Well done (Well done, Onodera!!)\n",
            "* Bargain (for JPY 320, it’s quite a bargain\n"
          ]
        },
        {
          "output_type": "stream",
          "name": "stderr",
          "text": [
            "The attention mask and the pad token id were not set. As a consequence, you may observe unexpected behavior. Please pass your input's `attention_mask` to obtain reliable results.\n",
            "Setting `pad_token_id` to `eos_token_id`:128009 for open-end generation.\n"
          ]
        },
        {
          "output_type": "stream",
          "name": "stdout",
          "text": [
            "Here are the words representing the reviewer's impressions:\n",
            "\n",
            "* surprisingly (stylish)\n",
            "* quite (accommodating, good)\n",
            "* rare (to find conveyor belt sushi with red vinegar rice)\n",
            "* average\n",
            "* excellent\n",
            "* tasty\n",
            "* bit (dry)\n",
            "* great\n",
            "\n",
            "Note that some of these words may have multiple connotations or nuances, but in this context, they generally convey the reviewer's positive or neutral impressions of the restaurant.\n"
          ]
        },
        {
          "output_type": "stream",
          "name": "stderr",
          "text": [
            "The attention mask and the pad token id were not set. As a consequence, you may observe unexpected behavior. Please pass your input's `attention_mask` to obtain reliable results.\n",
            "Setting `pad_token_id` to `eos_token_id`:128009 for open-end generation.\n"
          ]
        },
        {
          "output_type": "stream",
          "name": "stdout",
          "text": [
            "Here are the words that represent the reviewer's impressions:\n",
            "\n",
            "* Excellent\n",
            "* Delightful\n",
            "* Ordinary\n",
            "* Delicious\n",
            "* Average\n",
            "* Exciting\n",
            "* High-quality\n",
            "* Reliably tasty\n",
            "* Understandable\n",
            "* Simply delicious\n",
            "* Excellent\n",
            "* Huge win\n",
            "* Superb\n",
            "* Pleasant\n",
            "* Rare\n",
            "* Another success\n",
            "* Delicious\n",
            "* Generous\n",
            "* Flavorful\n",
            "* Extremely delicious\n",
            "* Great\n",
            "* Bold\n",
            "* Straightforward\n",
            "* Good\n",
            "* High-quality\n",
            "* Doubts\n",
            "\n",
            "Note that some of these words may have been used to describe specific dishes or ingredients, while others may be more general impressions of the restaurant or meal as a whole.\n"
          ]
        },
        {
          "output_type": "stream",
          "name": "stderr",
          "text": [
            "The attention mask and the pad token id were not set. As a consequence, you may observe unexpected behavior. Please pass your input's `attention_mask` to obtain reliable results.\n",
            "Setting `pad_token_id` to `eos_token_id`:128009 for open-end generation.\n"
          ]
        },
        {
          "output_type": "stream",
          "name": "stdout",
          "text": [
            "Here are the words representing the reviewer's impressions:\n",
            "\n",
            "* Excited\n",
            "* Disappointed\n",
            "* Pointless\n",
            "* Lively\n",
            "* Uneasy\n",
            "* Curious\n",
            "* Delightful (implied by \"delicious\")\n",
            "* Expensive\n",
            "* Highly recommended\n",
            "* Good\n",
            "* Surprised (implied by \"turned out to be as good as recommended\")\n",
            "* Affordable (implied by \"I guess that's the mindset of someone on a budget\")\n",
            "\n",
            "Note that some of these words may be implied or inferred from the context, rather than being explicitly stated by the reviewer.\n"
          ]
        },
        {
          "output_type": "stream",
          "name": "stderr",
          "text": [
            "The attention mask and the pad token id were not set. As a consequence, you may observe unexpected behavior. Please pass your input's `attention_mask` to obtain reliable results.\n",
            "Setting `pad_token_id` to `eos_token_id`:128009 for open-end generation.\n"
          ]
        },
        {
          "output_type": "stream",
          "name": "stdout",
          "text": [
            "Here are the words representing the reviewer's impressions:\n",
            "\n",
            "* refined\n",
            "* friendly\n",
            "* calm\n",
            "* sophisticated\n",
            "* easy\n",
            "* convenient\n",
            "* high-quality\n",
            "* comfortable\n",
            "* tranquil\n",
            "* exceptional\n",
            "* delicious\n",
            "* authentic\n",
            "* exquisite\n",
            "* great\n"
          ]
        },
        {
          "output_type": "stream",
          "name": "stderr",
          "text": [
            "The attention mask and the pad token id were not set. As a consequence, you may observe unexpected behavior. Please pass your input's `attention_mask` to obtain reliable results.\n",
            "Setting `pad_token_id` to `eos_token_id`:128009 for open-end generation.\n"
          ]
        },
        {
          "output_type": "stream",
          "name": "stdout",
          "text": [
            "Here are the words representing the reviewer's impressions:\n",
            "\n",
            "* pleasantly surprised\n",
            "* great\n",
            "* delicious\n",
            "* fantastic\n",
            "* easy\n",
            "* worth a repeat visit\n",
            "* cool\n",
            "* impressed\n",
            "* unique\n",
            "* wonderful\n",
            "* excellent\n",
            "* good\n",
            "* perfect\n",
            "\n",
            "These words convey the reviewer's positive emotions and opinions about the restaurant, including their surprise, enjoyment, and satisfaction with the food and service.\n"
          ]
        },
        {
          "output_type": "stream",
          "name": "stderr",
          "text": [
            "The attention mask and the pad token id were not set. As a consequence, you may observe unexpected behavior. Please pass your input's `attention_mask` to obtain reliable results.\n",
            "Setting `pad_token_id` to `eos_token_id`:128009 for open-end generation.\n"
          ]
        },
        {
          "output_type": "stream",
          "name": "stdout",
          "text": [
            "Here are the words representing the reviewer's impressions:\n",
            "\n",
            "* \"incredibly tasty\" (Chtoro)\n",
            "* \"delicious\" (Nakaochi Gunkan, Toro-taku roll)\n",
            "* \"great\" (Engawa fat content)\n",
            "* \"nice touch\" (Anago yuzu)\n",
            "* \"tasty\" (Kohada, Shime Saba, Aji)\n",
            "* \"underwhelmed\" (compared to main branch)\n",
            "* \"delicious\" (overall)\n",
            "* \"satisfied\"\n"
          ]
        },
        {
          "output_type": "stream",
          "name": "stderr",
          "text": [
            "The attention mask and the pad token id were not set. As a consequence, you may observe unexpected behavior. Please pass your input's `attention_mask` to obtain reliable results.\n",
            "Setting `pad_token_id` to `eos_token_id`:128009 for open-end generation.\n"
          ]
        },
        {
          "output_type": "stream",
          "name": "stdout",
          "text": [
            "Here are the words representing the reviewer's impressions:\n",
            "\n",
            "* nice\n",
            "* great\n"
          ]
        },
        {
          "output_type": "stream",
          "name": "stderr",
          "text": [
            "The attention mask and the pad token id were not set. As a consequence, you may observe unexpected behavior. Please pass your input's `attention_mask` to obtain reliable results.\n",
            "Setting `pad_token_id` to `eos_token_id`:128009 for open-end generation.\n"
          ]
        },
        {
          "output_type": "stream",
          "name": "stdout",
          "text": [
            "Here are the words representing the reviewer's impressions:\n",
            "\n",
            "* unsure\n",
            "* nice\n",
            "* slow\n",
            "* delicious\n",
            "* absolutely\n",
            "* tender\n",
            "* perfect\n",
            "* embarrassed\n",
            "* enjoyed\n",
            "* generous\n",
            "\n",
            "These words convey the reviewer's emotions and reactions to their experience at the sushi restaurant.\n"
          ]
        },
        {
          "output_type": "stream",
          "name": "stderr",
          "text": [
            "The attention mask and the pad token id were not set. As a consequence, you may observe unexpected behavior. Please pass your input's `attention_mask` to obtain reliable results.\n",
            "Setting `pad_token_id` to `eos_token_id`:128009 for open-end generation.\n"
          ]
        },
        {
          "output_type": "stream",
          "name": "stdout",
          "text": [
            "Here are the words representing the reviewer's impressions:\n",
            "\n",
            "* perfect\n",
            "* casual\n",
            "* authentic\n",
            "* great\n",
            "* comprehensive\n",
            "* recommended\n",
            "\n",
            "These words convey a positive impression of the sushi restaurant, suggesting that it is a great place to satisfy sudden sushi cravings, with a focus on authenticity and quality.\n"
          ]
        },
        {
          "output_type": "stream",
          "name": "stderr",
          "text": [
            "The attention mask and the pad token id were not set. As a consequence, you may observe unexpected behavior. Please pass your input's `attention_mask` to obtain reliable results.\n",
            "Setting `pad_token_id` to `eos_token_id`:128009 for open-end generation.\n"
          ]
        },
        {
          "output_type": "stream",
          "name": "stdout",
          "text": [
            "Here are the words representing the reviewer's impressions:\n",
            "\n",
            "* excellent (referring to the tuna)\n",
            "* refined\n",
            "* exceptional\n",
            "* worth a visit\n"
          ]
        },
        {
          "output_type": "stream",
          "name": "stderr",
          "text": [
            "The attention mask and the pad token id were not set. As a consequence, you may observe unexpected behavior. Please pass your input's `attention_mask` to obtain reliable results.\n",
            "Setting `pad_token_id` to `eos_token_id`:128009 for open-end generation.\n"
          ]
        },
        {
          "output_type": "stream",
          "name": "stdout",
          "text": [
            "Here are the words representing the reviewer's impressions:\n",
            "\n",
            "* Excited (＾◇＾)\n",
            "* Stylish\n",
            "* Cute (〃ω〃)\n",
            "* Kind\n",
            "* Good (d(￣ ￣))\n",
            "* Wonderful\n",
            "* Delicious\n",
            "* Plump\n",
            "* Rich\n",
            "* Fresh\n",
            "* Surprisingly\n",
            "* Impressed (＠^ω^@)\n",
            "* Well done\n",
            "* Heavenly\n",
            "* Crisp\n",
            "* Nice\n",
            "* Unusual\n",
            "* Glad\n",
            "* Truly\n",
            "* Fast (o )\n",
            "* Mild\n",
            "* Subtle\n",
            "* Bummer\n",
            "* Warm\n",
            "* Right\n",
            "* Enjoyed\n",
            "* Plenty\n",
            "* Regular\n",
            "* Can't wait\n",
            "\n",
            "These words convey the reviewer's positive emotions and enthusiasm for the sushi restaurant, including their excitement, delight, and satisfaction with the food and service.\n"
          ]
        },
        {
          "output_type": "stream",
          "name": "stderr",
          "text": [
            "The attention mask and the pad token id were not set. As a consequence, you may observe unexpected behavior. Please pass your input's `attention_mask` to obtain reliable results.\n",
            "Setting `pad_token_id` to `eos_token_id`:128009 for open-end generation.\n"
          ]
        },
        {
          "output_type": "stream",
          "name": "stdout",
          "text": [
            "Here are the words representing the reviewers' impressions:\n",
            "\n",
            "* Surprisingly vibrant\n",
            "* Luxurious\n",
            "* High-end\n",
            "* Delicious\n",
            "* Melts in your mouth\n",
            "* Beautiful presentation\n",
            "* Overwhelmed\n",
            "* Rich\n",
            "* Disappointing\n",
            "* Great texture\n",
            "* Fresh\n",
            "* Thick\n",
            "* Firm\n",
            "* Full of flavor\n",
            "* Easy to eat\n",
            "* Never gets boring\n",
            "* Delicious\n",
            "* Exquisite\n",
            "* Lively\n",
            "* Pleasant\n",
            "* Impressive\n",
            "\n",
            "Note that some words may have multiple meanings or connotations, and some reviews may use multiple words to describe the same impression.\n"
          ]
        },
        {
          "output_type": "stream",
          "name": "stderr",
          "text": [
            "The attention mask and the pad token id were not set. As a consequence, you may observe unexpected behavior. Please pass your input's `attention_mask` to obtain reliable results.\n",
            "Setting `pad_token_id` to `eos_token_id`:128009 for open-end generation.\n"
          ]
        },
        {
          "output_type": "stream",
          "name": "stdout",
          "text": [
            "Here are the words representing the reviewer's impressions:\n",
            "\n",
            "* best\n",
            "* rich\n",
            "* fattiness\n",
            "* melted\n",
            "* fresh\n",
            "* delicious\n",
            "* wonderful\n",
            "* no unpleasant odor\n",
            "* just\n",
            "* great\n",
            "* No.1\n",
            "* gourmet\n"
          ]
        },
        {
          "output_type": "stream",
          "name": "stderr",
          "text": [
            "The attention mask and the pad token id were not set. As a consequence, you may observe unexpected behavior. Please pass your input's `attention_mask` to obtain reliable results.\n",
            "Setting `pad_token_id` to `eos_token_id`:128009 for open-end generation.\n"
          ]
        },
        {
          "output_type": "stream",
          "name": "stdout",
          "text": [
            "Here are the words representing the reviewers' impressions:\n",
            "\n",
            "* Surprised\n",
            "* Great\n",
            "* Better\n",
            "* Delicious\n",
            "* Recommended\n",
            "* Okay\n",
            "* Good\n",
            "* Real bargain\n",
            "* Steal\n",
            "* So-so\n",
            "* Disappointment\n",
            "* Regretful\n",
            "* Beautifully\n",
            "* Tasty\n",
            "* Ruined\n",
            "* Disappointed\n",
            "* Small point\n",
            "* Difficult\n",
            "* Thoroughly satisfied\n",
            "\n",
            "Note that some words may have multiple connotations or nuances depending on the context, but I've tried to extract the most straightforward impressions expressed by the reviewer.\n"
          ]
        },
        {
          "output_type": "stream",
          "name": "stderr",
          "text": [
            "The attention mask and the pad token id were not set. As a consequence, you may observe unexpected behavior. Please pass your input's `attention_mask` to obtain reliable results.\n",
            "Setting `pad_token_id` to `eos_token_id`:128009 for open-end generation.\n"
          ]
        },
        {
          "output_type": "stream",
          "name": "stdout",
          "text": [
            "Here are the words representing the reviewer's impressions:\n",
            "\n",
            "* Disappointed\n",
            "* Acceptable\n",
            "* Unsatisfied\n",
            "* Shocked\n",
            "* Delicious\n",
            "* Nice\n",
            "* Tasty\n",
            "\n",
            "These words convey the reviewer's emotional response to their dining experience at the sushi restaurant.\n"
          ]
        },
        {
          "output_type": "stream",
          "name": "stderr",
          "text": [
            "The attention mask and the pad token id were not set. As a consequence, you may observe unexpected behavior. Please pass your input's `attention_mask` to obtain reliable results.\n",
            "Setting `pad_token_id` to `eos_token_id`:128009 for open-end generation.\n"
          ]
        },
        {
          "output_type": "stream",
          "name": "stdout",
          "text": [
            "Here are the words representing the reviewer's impressions:\n",
            "\n",
            "* Delicious\n",
            "* Good\n",
            "* Surprisingly\n",
            "* Thick\n",
            "* Tasty\n",
            "* Quite a deal\n",
            "* High-ranking\n",
            "* Expected\n",
            "\n",
            "These words convey the reviewer's positive emotions and satisfaction with their experience at the sushi restaurant.\n"
          ]
        },
        {
          "output_type": "stream",
          "name": "stderr",
          "text": [
            "The attention mask and the pad token id were not set. As a consequence, you may observe unexpected behavior. Please pass your input's `attention_mask` to obtain reliable results.\n",
            "Setting `pad_token_id` to `eos_token_id`:128009 for open-end generation.\n"
          ]
        },
        {
          "output_type": "stream",
          "name": "stdout",
          "text": [
            "Here are the words representing the reviewer's impressions:\n",
            "\n",
            "* extremely busy\n",
            "* long wait\n",
            "* surprisingly\n",
            "* lively\n",
            "* bustling\n",
            "* delicious\n",
            "* great\n",
            "* incredibly\n",
            "* bargain\n",
            "* rich in flavor\n",
            "* very tasty\n",
            "* big trouble\n",
            "* incredibly delicious\n",
            "* favorite\n"
          ]
        },
        {
          "output_type": "stream",
          "name": "stderr",
          "text": [
            "The attention mask and the pad token id were not set. As a consequence, you may observe unexpected behavior. Please pass your input's `attention_mask` to obtain reliable results.\n",
            "Setting `pad_token_id` to `eos_token_id`:128009 for open-end generation.\n"
          ]
        },
        {
          "output_type": "stream",
          "name": "stdout",
          "text": [
            "Here are the words representing the reviewer's impressions:\n",
            "\n",
            "* Curious\n",
            "* Excited\n",
            "* Delightful (implied by \"so delicious\")\n",
            "* Satisfied\n",
            "* Comfortable\n",
            "* Great\n"
          ]
        },
        {
          "output_type": "stream",
          "name": "stderr",
          "text": [
            "The attention mask and the pad token id were not set. As a consequence, you may observe unexpected behavior. Please pass your input's `attention_mask` to obtain reliable results.\n",
            "Setting `pad_token_id` to `eos_token_id`:128009 for open-end generation.\n"
          ]
        },
        {
          "output_type": "stream",
          "name": "stdout",
          "text": [
            "Here are the words representing the reviewer's impressions:\n",
            "\n",
            "* \"best\"\n",
            "* \"melted\"\n",
            "* \"just the right level of acidity\"\n",
            "* \"not too sour\"\n",
            "* \"This was the best...\"\n",
            "\n",
            "These words convey the reviewer's positive impressions of the sushi, specifically the taste and quality of the otoro and the red vinegar rice.\n"
          ]
        },
        {
          "output_type": "stream",
          "name": "stderr",
          "text": [
            "The attention mask and the pad token id were not set. As a consequence, you may observe unexpected behavior. Please pass your input's `attention_mask` to obtain reliable results.\n",
            "Setting `pad_token_id` to `eos_token_id`:128009 for open-end generation.\n"
          ]
        },
        {
          "output_type": "stream",
          "name": "stdout",
          "text": [
            "Here are the words representing the reviewer's impressions:\n",
            "\n",
            "* ◎ (excellent)\n",
            "* ○ (good)\n",
            "* △ (neutral)\n",
            "* × (bad)\n",
            "\n",
            "Note that the reviewer uses these symbols to rate each dish, but does not provide a written description of their impressions.\n"
          ]
        },
        {
          "output_type": "stream",
          "name": "stderr",
          "text": [
            "The attention mask and the pad token id were not set. As a consequence, you may observe unexpected behavior. Please pass your input's `attention_mask` to obtain reliable results.\n",
            "Setting `pad_token_id` to `eos_token_id`:128009 for open-end generation.\n"
          ]
        },
        {
          "output_type": "stream",
          "name": "stdout",
          "text": [
            "Here are the words representing the reviewers' impressions:\n",
            "\n",
            "* Exquisite\n",
            "* Delightful\n",
            "* Sweet\n",
            "* Must-try\n",
            "* Absolutely\n",
            "* Refreshing\n",
            "* Perfectly\n",
            "* Worth the splurge\n",
            "* Crave\n",
            "\n",
            "These words convey the reviewers' positive impressions of the sushi restaurant, including the taste, texture, and overall experience.\n"
          ]
        },
        {
          "output_type": "stream",
          "name": "stderr",
          "text": [
            "The attention mask and the pad token id were not set. As a consequence, you may observe unexpected behavior. Please pass your input's `attention_mask` to obtain reliable results.\n",
            "Setting `pad_token_id` to `eos_token_id`:128009 for open-end generation.\n"
          ]
        },
        {
          "output_type": "stream",
          "name": "stdout",
          "text": [
            "Here are the words that represent the reviewer's impressions:\n",
            "\n",
            "* Surprisingly\n",
            "* Empty\n",
            "* At ease\n",
            "* Exciting\n",
            "* Reasonable\n",
            "* Impressive\n",
            "* Disappointing\n",
            "* Concerned\n",
            "* Good\n",
            "* Interesting\n",
            "* Best\n",
            "* Alright\n",
            "* Mixed\n",
            "* Confused\n",
            "* Haphazard\n",
            "* Detracted\n",
            "* Fitting\n",
            "* Disconnect\n",
            "* Carelessness\n",
            "* Crucial\n",
            "* Remarkable\n",
            "* Delicious\n",
            "* Reasonable\n",
            "* Great\n",
            "\n",
            "These words convey the reviewer's emotions and opinions about their experience at the Kaiten Sushi Ginza Onodera restaurant, including their feelings about the atmosphere, food quality, service, and value.\n"
          ]
        },
        {
          "output_type": "stream",
          "name": "stderr",
          "text": [
            "The attention mask and the pad token id were not set. As a consequence, you may observe unexpected behavior. Please pass your input's `attention_mask` to obtain reliable results.\n",
            "Setting `pad_token_id` to `eos_token_id`:128009 for open-end generation.\n"
          ]
        },
        {
          "output_type": "stream",
          "name": "stdout",
          "text": [
            "Here are the words representing the reviewer's impressions:\n",
            "\n",
            "* Delicious\n",
            "* Disappointing\n",
            "* Quite good\n",
            "* Decent\n",
            "* Excellent\n",
            "* Soft\n",
            "* Flavorful\n",
            "* Well-prepared\n",
            "* Rich\n",
            "* Understandable\n",
            "* Okay\n",
            "* Better\n",
            "* Exceeded expectations\n",
            "* Worthwhile\n"
          ]
        },
        {
          "output_type": "stream",
          "name": "stderr",
          "text": [
            "The attention mask and the pad token id were not set. As a consequence, you may observe unexpected behavior. Please pass your input's `attention_mask` to obtain reliable results.\n",
            "Setting `pad_token_id` to `eos_token_id`:128009 for open-end generation.\n"
          ]
        },
        {
          "output_type": "stream",
          "name": "stdout",
          "text": [
            "Here are the words representing the reviewer's impressions:\n",
            "\n",
            "* Surprising\n",
            "* Delicious\n",
            "* Disappointing\n",
            "* Poor\n",
            "* Tasty\n",
            "* Cautious\n",
            "* Love\n",
            "* Lackluster\n",
            "\n",
            "These words convey the reviewer's emotions and opinions about their experience at the sushi restaurant, including their surprise, enjoyment, disappointment, and satisfaction with the food and service.\n"
          ]
        },
        {
          "output_type": "stream",
          "name": "stderr",
          "text": [
            "The attention mask and the pad token id were not set. As a consequence, you may observe unexpected behavior. Please pass your input's `attention_mask` to obtain reliable results.\n",
            "Setting `pad_token_id` to `eos_token_id`:128009 for open-end generation.\n"
          ]
        },
        {
          "output_type": "stream",
          "name": "stdout",
          "text": [
            "Here are the words representing the reviewer's impressions:\n",
            "\n",
            "* trendy\n",
            "* high-end\n",
            "* no line\n",
            "* passed\n",
            "* high expectations\n",
            "* well\n",
            "* tasty\n",
            "* classic\n",
            "* better\n",
            "* worse\n",
            "* better impression\n",
            "\n",
            "Note that some of these words may have a neutral or objective connotation, but in the context of the review, they convey the reviewer's subjective impressions and opinions.\n"
          ]
        },
        {
          "output_type": "stream",
          "name": "stderr",
          "text": [
            "The attention mask and the pad token id were not set. As a consequence, you may observe unexpected behavior. Please pass your input's `attention_mask` to obtain reliable results.\n",
            "Setting `pad_token_id` to `eos_token_id`:128009 for open-end generation.\n"
          ]
        },
        {
          "output_type": "stream",
          "name": "stdout",
          "text": [
            "Here are the words representing the reviewer's impressions:\n",
            "\n",
            "* stylish\n",
            "* casual\n",
            "* lively\n",
            "* friendly\n",
            "* kind\n",
            "* delicious\n"
          ]
        },
        {
          "output_type": "stream",
          "name": "stderr",
          "text": [
            "The attention mask and the pad token id were not set. As a consequence, you may observe unexpected behavior. Please pass your input's `attention_mask` to obtain reliable results.\n",
            "Setting `pad_token_id` to `eos_token_id`:128009 for open-end generation.\n"
          ]
        },
        {
          "output_type": "stream",
          "name": "stdout",
          "text": [
            "Here are the words representing the reviewer's impressions:\n",
            "\n",
            "* Disappointment\n",
            "* Good\n",
            "* Expected\n",
            "* Nice\n",
            "* Lively\n",
            "* Decent\n",
            "* Average\n",
            "* Enjoyable\n",
            "* Wowed\n",
            "* Unpleasant\n",
            "* Delightful\n",
            "* Surprising\n",
            "* Overly optimistic\n",
            "* Good\n",
            "* Fairly expensive\n",
            "* Standard\n",
            "* Better value\n",
            "* Charm\n",
            "* Nice\n",
            "* Overwhelmed\n",
            "* Rough edges\n",
            "* Hope\n",
            "\n",
            "Note that some of these words may have multiple connotations or nuances, and some may be used to describe multiple aspects of the reviewer's experience.\n"
          ]
        },
        {
          "output_type": "stream",
          "name": "stderr",
          "text": [
            "The attention mask and the pad token id were not set. As a consequence, you may observe unexpected behavior. Please pass your input's `attention_mask` to obtain reliable results.\n",
            "Setting `pad_token_id` to `eos_token_id`:128009 for open-end generation.\n"
          ]
        },
        {
          "output_type": "stream",
          "name": "stdout",
          "text": [
            "Here are the words representing the reviewer's impressions:\n",
            "\n",
            "* upscale\n",
            "* convenient\n",
            "* generous\n",
            "* high-quality\n",
            "* different\n",
            "* cool\n",
            "* smaller\n",
            "* tricky\n",
            "* expensive\n",
            "* adequate\n",
            "* family-friendly\n",
            "* complicated\n",
            "\n",
            "Note that some of these words may have multiple connotations or nuances, but overall they represent the reviewer's positive and negative impressions of the restaurant.\n"
          ]
        },
        {
          "output_type": "stream",
          "name": "stderr",
          "text": [
            "The attention mask and the pad token id were not set. As a consequence, you may observe unexpected behavior. Please pass your input's `attention_mask` to obtain reliable results.\n",
            "Setting `pad_token_id` to `eos_token_id`:128009 for open-end generation.\n"
          ]
        },
        {
          "output_type": "stream",
          "name": "stdout",
          "text": [
            "Here are the words representing the reviewer's impressions:\n",
            "\n",
            "* enjoyable\n",
            "* disappointing\n",
            "* delicious\n",
            "\n",
            "These words convey the reviewer's positive and negative feelings about their dining experience at Onodera.\n"
          ]
        },
        {
          "output_type": "stream",
          "name": "stderr",
          "text": [
            "The attention mask and the pad token id were not set. As a consequence, you may observe unexpected behavior. Please pass your input's `attention_mask` to obtain reliable results.\n",
            "Setting `pad_token_id` to `eos_token_id`:128009 for open-end generation.\n"
          ]
        },
        {
          "output_type": "stream",
          "name": "stdout",
          "text": [
            "Here are the words representing the reviewer's impressions:\n",
            "\n",
            "* curious\n",
            "* highly recommended\n",
            "* pricey\n",
            "* affordable\n",
            "* questionable\n",
            "* worth it\n",
            "\n",
            "These words convey the reviewer's thoughts and feelings about their experience at the sushi restaurant, including their initial curiosity, positive impression of the food, mixed feelings about the price, and overall assessment of the value.\n"
          ]
        },
        {
          "output_type": "stream",
          "name": "stderr",
          "text": [
            "The attention mask and the pad token id were not set. As a consequence, you may observe unexpected behavior. Please pass your input's `attention_mask` to obtain reliable results.\n",
            "Setting `pad_token_id` to `eos_token_id`:128009 for open-end generation.\n"
          ]
        },
        {
          "output_type": "stream",
          "name": "stdout",
          "text": [
            "Here are the words representing the reviewer's impressions:\n",
            "\n",
            "* pleasantly\n",
            "* delightful\n",
            "* excellent\n",
            "* exceptionally fresh\n",
            "* delicious\n",
            "* great\n",
            "* rich\n",
            "* fatty\n",
            "* delightful\n",
            "* highly recommend\n",
            "* reasonable\n",
            "* high quality\n",
            "* excellent\n",
            "* generous\n",
            "* nice\n",
            "\n",
            "These words convey the reviewer's positive emotions and opinions about the sushi restaurant, including the taste, quality, and value of the food.\n"
          ]
        },
        {
          "output_type": "stream",
          "name": "stderr",
          "text": [
            "The attention mask and the pad token id were not set. As a consequence, you may observe unexpected behavior. Please pass your input's `attention_mask` to obtain reliable results.\n",
            "Setting `pad_token_id` to `eos_token_id`:128009 for open-end generation.\n"
          ]
        },
        {
          "output_type": "stream",
          "name": "stdout",
          "text": [
            "Here are the words representing the reviewer's impressions:\n",
            "\n",
            "* incredibly delicious\n",
            "* worth the satisfaction\n",
            "* stand-out\n",
            "* decent\n",
            "* refreshing\n",
            "* rich\n",
            "* slightly bitter\n",
            "* sweet\n",
            "* deliciously\n",
            "* immensely satisfying\n",
            "* astonishingly flavorful\n",
            "* shockingly delicious\n",
            "* impressive\n",
            "* perfect\n",
            "* vibrant\n"
          ]
        },
        {
          "output_type": "stream",
          "name": "stderr",
          "text": [
            "The attention mask and the pad token id were not set. As a consequence, you may observe unexpected behavior. Please pass your input's `attention_mask` to obtain reliable results.\n",
            "Setting `pad_token_id` to `eos_token_id`:128009 for open-end generation.\n"
          ]
        },
        {
          "output_type": "stream",
          "name": "stdout",
          "text": [
            "Here are the words representing the reviewers' impressions:\n",
            "\n",
            "* \"incredibly satisfying\"\n",
            "* \"perfect\"\n",
            "* \"decent\"\n",
            "* \"great\"\n",
            "* \"enjoyable\"\n",
            "* \"reasonable\"\n",
            "\n",
            "These words convey the reviewer's positive emotions and opinions about the restaurant, including their satisfaction with the food, service, and overall experience.\n"
          ]
        },
        {
          "output_type": "stream",
          "name": "stderr",
          "text": [
            "The attention mask and the pad token id were not set. As a consequence, you may observe unexpected behavior. Please pass your input's `attention_mask` to obtain reliable results.\n",
            "Setting `pad_token_id` to `eos_token_id`:128009 for open-end generation.\n"
          ]
        },
        {
          "output_type": "stream",
          "name": "stdout",
          "text": [
            "Here are the words representing the reviewer's impressions:\n",
            "\n",
            "* pleasant\n",
            "* comfortable\n",
            "* delicious\n",
            "* smooth\n",
            "* pleasing\n",
            "* tastier\n",
            "* exceptionally good\n",
            "* lacking flavor\n",
            "* not appreciated\n",
            "* good\n",
            "* wonderful\n",
            "\n",
            "These words convey the reviewer's positive and negative emotions and opinions about their dining experience at the sushi restaurant.\n"
          ]
        },
        {
          "output_type": "stream",
          "name": "stderr",
          "text": [
            "The attention mask and the pad token id were not set. As a consequence, you may observe unexpected behavior. Please pass your input's `attention_mask` to obtain reliable results.\n",
            "Setting `pad_token_id` to `eos_token_id`:128009 for open-end generation.\n"
          ]
        },
        {
          "output_type": "stream",
          "name": "stdout",
          "text": [
            "Here are the words representing the reviewer's impressions:\n",
            "\n",
            "* sweet\n",
            "* delicious\n",
            "* reasonably tasty\n",
            "* could be better\n",
            "* definite plus\n",
            "* recommend\n",
            "* sometimes took\n"
          ]
        },
        {
          "output_type": "stream",
          "name": "stderr",
          "text": [
            "The attention mask and the pad token id were not set. As a consequence, you may observe unexpected behavior. Please pass your input's `attention_mask` to obtain reliable results.\n",
            "Setting `pad_token_id` to `eos_token_id`:128009 for open-end generation.\n"
          ]
        },
        {
          "output_type": "stream",
          "name": "stdout",
          "text": [
            "Here are the words representing the reviewer's impressions:\n",
            "\n",
            "* decent\n",
            "* not so sure\n",
            "* good\n",
            "* first-time experience\n",
            "* disappointing\n",
            "* cheap\n",
            "* cold\n",
            "* firm\n"
          ]
        },
        {
          "output_type": "stream",
          "name": "stderr",
          "text": [
            "The attention mask and the pad token id were not set. As a consequence, you may observe unexpected behavior. Please pass your input's `attention_mask` to obtain reliable results.\n",
            "Setting `pad_token_id` to `eos_token_id`:128009 for open-end generation.\n"
          ]
        },
        {
          "output_type": "stream",
          "name": "stdout",
          "text": [
            "Here are the words representing the reviewer's impressions:\n",
            "\n",
            "* Excited\n",
            "* Packed\n",
            "* Alright\n",
            "* Disappointing\n",
            "* Refreshing\n",
            "* On point\n",
            "* Satisfying\n",
            "* Average\n",
            "* Delicious\n",
            "* Rich\n",
            "* Sweet\n",
            "* Tasty\n",
            "* Enthusiasm\n",
            "* Upscale\n",
            "* Elegant\n",
            "* Overly strong\n",
            "* Disappointment\n",
            "* Cheekily\n",
            "* Great\n",
            "* Enjoyed\n",
            "\n",
            "These words convey the reviewer's emotions and reactions to their dining experience at Kaiten Sushi Ginza Onodera, including their initial excitement, disappointment, satisfaction, and overall enjoyment.\n"
          ]
        },
        {
          "output_type": "stream",
          "name": "stderr",
          "text": [
            "The attention mask and the pad token id were not set. As a consequence, you may observe unexpected behavior. Please pass your input's `attention_mask` to obtain reliable results.\n",
            "Setting `pad_token_id` to `eos_token_id`:128009 for open-end generation.\n"
          ]
        },
        {
          "output_type": "stream",
          "name": "stdout",
          "text": [
            "Here are the words representing the reviewer's impressions:\n",
            "\n",
            "* stylish\n",
            "* delicious\n",
            "* extremely long\n",
            "* tasty\n",
            "* pricey\n",
            "\n",
            "These words convey the reviewer's positive and negative feelings about the restaurant, including their surprise at the short waiting time, their enjoyment of the food, and their perception of the prices as high.\n"
          ]
        },
        {
          "output_type": "stream",
          "name": "stderr",
          "text": [
            "The attention mask and the pad token id were not set. As a consequence, you may observe unexpected behavior. Please pass your input's `attention_mask` to obtain reliable results.\n",
            "Setting `pad_token_id` to `eos_token_id`:128009 for open-end generation.\n"
          ]
        },
        {
          "output_type": "stream",
          "name": "stdout",
          "text": [
            "Here are the words representing the reviewer's impressions:\n",
            "\n",
            "* Amazing\n",
            "* Rich\n",
            "* Umami\n",
            "* Sweet\n",
            "* Pleasant\n",
            "* Exceptional\n",
            "* Disappointing\n",
            "* Craving\n",
            "\n",
            "These words convey the reviewer's positive and negative emotions and reactions to the food and overall experience at the sushi restaurant.\n"
          ]
        },
        {
          "output_type": "stream",
          "name": "stderr",
          "text": [
            "The attention mask and the pad token id were not set. As a consequence, you may observe unexpected behavior. Please pass your input's `attention_mask` to obtain reliable results.\n",
            "Setting `pad_token_id` to `eos_token_id`:128009 for open-end generation.\n"
          ]
        },
        {
          "output_type": "stream",
          "name": "stdout",
          "text": [
            "Here are the words representing the reviewer's impressions:\n",
            "\n",
            "* typical\n",
            "* slightly refined\n",
            "* nothing particularly memorable\n",
            "* cut and placed on rice\n",
            "* not compelling\n",
            "* trendy\n",
            "\n",
            "These words convey the reviewer's neutral to slightly negative impression of the restaurant, indicating that it's not particularly exceptional or memorable, but rather a standard conveyor sushi experience.\n"
          ]
        },
        {
          "output_type": "stream",
          "name": "stderr",
          "text": [
            "The attention mask and the pad token id were not set. As a consequence, you may observe unexpected behavior. Please pass your input's `attention_mask` to obtain reliable results.\n",
            "Setting `pad_token_id` to `eos_token_id`:128009 for open-end generation.\n"
          ]
        },
        {
          "output_type": "stream",
          "name": "stdout",
          "text": [
            "Here are the words representing the reviewer's impressions:\n",
            "\n",
            "* luxurious\n",
            "* perfect\n",
            "* carefully prepared\n",
            "* reasonable\n",
            "* delighted\n",
            "* superbly\n",
            "* crunchy\n",
            "\n",
            "These words convey the reviewer's positive feelings about the restaurant's interior, the quality of the sushi, and their overall dining experience.\n"
          ]
        },
        {
          "output_type": "stream",
          "name": "stderr",
          "text": [
            "The attention mask and the pad token id were not set. As a consequence, you may observe unexpected behavior. Please pass your input's `attention_mask` to obtain reliable results.\n",
            "Setting `pad_token_id` to `eos_token_id`:128009 for open-end generation.\n"
          ]
        },
        {
          "output_type": "stream",
          "name": "stdout",
          "text": [
            "Here are the words representing the reviewer's impressions:\n",
            "\n",
            "* \"heavenly\"\n",
            "* \"rich\"\n",
            "* \"disappointing\"\n",
            "* \"perfect\"\n",
            "\n",
            "These words convey the reviewer's positive and negative emotions about their experience at the sushi restaurant.\n"
          ]
        },
        {
          "output_type": "stream",
          "name": "stderr",
          "text": [
            "The attention mask and the pad token id were not set. As a consequence, you may observe unexpected behavior. Please pass your input's `attention_mask` to obtain reliable results.\n",
            "Setting `pad_token_id` to `eos_token_id`:128009 for open-end generation.\n"
          ]
        },
        {
          "output_type": "stream",
          "name": "stdout",
          "text": [
            "The words representing the reviewer's impressions are:\n",
            "\n",
            "* delicious\n"
          ]
        },
        {
          "output_type": "stream",
          "name": "stderr",
          "text": [
            "The attention mask and the pad token id were not set. As a consequence, you may observe unexpected behavior. Please pass your input's `attention_mask` to obtain reliable results.\n",
            "Setting `pad_token_id` to `eos_token_id`:128009 for open-end generation.\n"
          ]
        },
        {
          "output_type": "stream",
          "name": "stdout",
          "text": [
            "Here are the words representing the reviewer's impressions:\n",
            "\n",
            "* curious\n",
            "* thought (it might take a while)\n",
            "* promptly (seated)\n",
            "* wonder (what the conveyor is for)\n",
            "* not cheap\n",
            "* reasonably priced\n",
            "* indulge\n",
            "* delicious\n",
            "* bargain\n",
            "* completely satisfied\n",
            "\n",
            "These words convey the reviewer's initial curiosity, surprise, and satisfaction with their experience at the sushi restaurant.\n"
          ]
        },
        {
          "output_type": "stream",
          "name": "stderr",
          "text": [
            "The attention mask and the pad token id were not set. As a consequence, you may observe unexpected behavior. Please pass your input's `attention_mask` to obtain reliable results.\n",
            "Setting `pad_token_id` to `eos_token_id`:128009 for open-end generation.\n"
          ]
        },
        {
          "output_type": "stream",
          "name": "stdout",
          "text": [
            "Here are the words representing the reviewer's impressions:\n",
            "\n",
            "* great\n",
            "* easily drawn in\n",
            "* delicious\n",
            "* very delicious\n",
            "* good\n",
            "* slight disappointment\n",
            "* clean\n",
            "* calm\n",
            "* lively\n",
            "* decent\n",
            "* irritating\n",
            "* acceptable\n",
            "\n",
            "These words convey the reviewer's positive and negative emotions and thoughts about their experience at the sushi restaurant.\n"
          ]
        },
        {
          "output_type": "stream",
          "name": "stderr",
          "text": [
            "The attention mask and the pad token id were not set. As a consequence, you may observe unexpected behavior. Please pass your input's `attention_mask` to obtain reliable results.\n",
            "Setting `pad_token_id` to `eos_token_id`:128009 for open-end generation.\n"
          ]
        },
        {
          "output_type": "stream",
          "name": "stdout",
          "text": [
            "Here are the words representing the reviewer's impressions:\n",
            "\n",
            "* thrilled\n",
            "* great\n",
            "* perfect\n",
            "* top-notch\n",
            "* easy\n",
            "* quickly\n",
            "* clean\n",
            "* lively\n",
            "* great\n",
            "* satisfied\n",
            "\n",
            "These words convey the reviewer's positive emotions and opinions about their dining experience at the sushi restaurant.\n"
          ]
        },
        {
          "output_type": "stream",
          "name": "stderr",
          "text": [
            "The attention mask and the pad token id were not set. As a consequence, you may observe unexpected behavior. Please pass your input's `attention_mask` to obtain reliable results.\n",
            "Setting `pad_token_id` to `eos_token_id`:128009 for open-end generation.\n"
          ]
        },
        {
          "output_type": "stream",
          "name": "stdout",
          "text": [
            "Here are the words representing the reviewer's impressions:\n",
            "\n",
            "* Exquisite\n",
            "* Impressive\n",
            "* Refined\n",
            "* High-end\n",
            "* Delicious\n",
            "* Superb\n",
            "* Perfect\n",
            "* Fantastic\n",
            "* Rich\n",
            "* Tasty\n",
            "* Classic\n",
            "* Good\n",
            "* Artistic\n",
            "* Tender\n",
            "* Delicious\n",
            "* Highly satisfactory\n",
            "* Reasonable\n",
            "* Satisfactory\n",
            "\n",
            "Note that some of these words may be used to describe the food, atmosphere, or service, while others may be used to express the reviewer's overall opinion or impression of the restaurant.\n"
          ]
        },
        {
          "output_type": "stream",
          "name": "stderr",
          "text": [
            "The attention mask and the pad token id were not set. As a consequence, you may observe unexpected behavior. Please pass your input's `attention_mask` to obtain reliable results.\n",
            "Setting `pad_token_id` to `eos_token_id`:128009 for open-end generation.\n"
          ]
        },
        {
          "output_type": "stream",
          "name": "stdout",
          "text": [
            "Here are the words representing the reviewer's impressions:\n",
            "\n",
            "* Delicious\n",
            "* Really\n",
            "* Okay\n",
            "* Small\n",
            "* Hard to taste\n",
            "* Tasty\n",
            "* Special\n",
            "* Affordable\n",
            "* Quite delicious\n",
            "* Friendly\n",
            "* Energetic\n",
            "* Cheap\n",
            "* Great\n",
            "\n",
            "These words convey the reviewer's opinions about the food, service, and overall experience at the sushi restaurant.\n"
          ]
        },
        {
          "output_type": "stream",
          "name": "stderr",
          "text": [
            "The attention mask and the pad token id were not set. As a consequence, you may observe unexpected behavior. Please pass your input's `attention_mask` to obtain reliable results.\n",
            "Setting `pad_token_id` to `eos_token_id`:128009 for open-end generation.\n"
          ]
        },
        {
          "output_type": "stream",
          "name": "stdout",
          "text": [
            "Here are the words representing the reviewer's impressions:\n",
            "\n",
            "* unexpected\n",
            "* off\n",
            "* delicious\n",
            "* good\n"
          ]
        },
        {
          "output_type": "stream",
          "name": "stderr",
          "text": [
            "The attention mask and the pad token id were not set. As a consequence, you may observe unexpected behavior. Please pass your input's `attention_mask` to obtain reliable results.\n",
            "Setting `pad_token_id` to `eos_token_id`:128009 for open-end generation.\n"
          ]
        },
        {
          "output_type": "stream",
          "name": "stdout",
          "text": [
            "Here are the words representing the reviewer's impressions:\n",
            "\n",
            "* incredible\n",
            "* disappointing\n",
            "* outstanding\n",
            "\n",
            "These words convey the reviewer's positive and negative emotions towards their experience at the sushi restaurant.\n"
          ]
        },
        {
          "output_type": "stream",
          "name": "stderr",
          "text": [
            "The attention mask and the pad token id were not set. As a consequence, you may observe unexpected behavior. Please pass your input's `attention_mask` to obtain reliable results.\n",
            "Setting `pad_token_id` to `eos_token_id`:128009 for open-end generation.\n"
          ]
        },
        {
          "output_type": "stream",
          "name": "stdout",
          "text": [
            "Here are the words representing the reviewer's impressions:\n",
            "\n",
            "* \"okay\"\n",
            "* \"upscale\"\n",
            "* \"mature\"\n",
            "* \"large\"\n",
            "\n",
            "These words convey the reviewer's positive impressions of the restaurant's atmosphere and interior design.\n"
          ]
        },
        {
          "output_type": "stream",
          "name": "stderr",
          "text": [
            "The attention mask and the pad token id were not set. As a consequence, you may observe unexpected behavior. Please pass your input's `attention_mask` to obtain reliable results.\n",
            "Setting `pad_token_id` to `eos_token_id`:128009 for open-end generation.\n"
          ]
        },
        {
          "output_type": "stream",
          "name": "stdout",
          "text": [
            "Here are the words representing the reviewer's impression:\n",
            "\n",
            "* Great\n"
          ]
        },
        {
          "output_type": "stream",
          "name": "stderr",
          "text": [
            "The attention mask and the pad token id were not set. As a consequence, you may observe unexpected behavior. Please pass your input's `attention_mask` to obtain reliable results.\n",
            "Setting `pad_token_id` to `eos_token_id`:128009 for open-end generation.\n"
          ]
        },
        {
          "output_type": "stream",
          "name": "stdout",
          "text": [
            "Here are the words representing the reviewer's impressions:\n",
            "\n",
            "* Curious\n",
            "* Prepared\n",
            "* Expected\n",
            "* High\n",
            "* Impressed\n",
            "* Disappointed\n",
            "* Letdown\n",
            "* Great\n",
            "\n",
            "Note that the reviewer's impressions are mixed, with some positive comments (e.g. \"great meal\", \"smoothly\") and some negative comments (e.g. \"disappointment\", \"letdown\").\n"
          ]
        },
        {
          "output_type": "stream",
          "name": "stderr",
          "text": [
            "The attention mask and the pad token id were not set. As a consequence, you may observe unexpected behavior. Please pass your input's `attention_mask` to obtain reliable results.\n",
            "Setting `pad_token_id` to `eos_token_id`:128009 for open-end generation.\n"
          ]
        },
        {
          "output_type": "stream",
          "name": "stdout",
          "text": [
            "Here are the words representing the reviewer's impressions:\n",
            "\n",
            "* unique\n",
            "* high\n",
            "* delicious\n",
            "* fluffy\n",
            "* freshly made\n",
            "* mildly sweet\n",
            "* impressive\n",
            "\n",
            "These words convey the reviewer's positive emotions and thoughts about their experience at the sushi restaurant, including the quality of the food and their surprise and delight at discovering the tamagoyaki.\n"
          ]
        },
        {
          "output_type": "stream",
          "name": "stderr",
          "text": [
            "The attention mask and the pad token id were not set. As a consequence, you may observe unexpected behavior. Please pass your input's `attention_mask` to obtain reliable results.\n",
            "Setting `pad_token_id` to `eos_token_id`:128009 for open-end generation.\n"
          ]
        },
        {
          "output_type": "stream",
          "name": "stdout",
          "text": [
            "Here are the words representing the reviewer's impressions:\n",
            "\n",
            "* lucky\n",
            "* delicious\n",
            "* tasty\n",
            "* inexpensive\n",
            "* might go back again\n"
          ]
        },
        {
          "output_type": "stream",
          "name": "stderr",
          "text": [
            "The attention mask and the pad token id were not set. As a consequence, you may observe unexpected behavior. Please pass your input's `attention_mask` to obtain reliable results.\n",
            "Setting `pad_token_id` to `eos_token_id`:128009 for open-end generation.\n"
          ]
        },
        {
          "output_type": "stream",
          "name": "stdout",
          "text": [
            "Here are the words representing the reviewer's impressions:\n",
            "\n",
            "* Delicious-looking\n",
            "* Incredible\n",
            "* Amazing\n",
            "* Great\n",
            "* Delightful\n",
            "* Love\n",
            "* Fantastic\n",
            "* Wonderful\n",
            "* Impressive\n",
            "\n",
            "Note that some of these words may have been used in a humorous or ironic tone, but they generally convey a positive impression of the restaurant.\n"
          ]
        },
        {
          "output_type": "stream",
          "name": "stderr",
          "text": [
            "The attention mask and the pad token id were not set. As a consequence, you may observe unexpected behavior. Please pass your input's `attention_mask` to obtain reliable results.\n",
            "Setting `pad_token_id` to `eos_token_id`:128009 for open-end generation.\n"
          ]
        },
        {
          "output_type": "stream",
          "name": "stdout",
          "text": [
            "Here are the words representing the reviewer's impressions:\n",
            "\n",
            "* bright\n",
            "* flashy\n",
            "* high-end (not particularly)\n",
            "* fully booked\n",
            "* welcoming\n",
            "* appealing\n",
            "* top-tier (not)\n",
            "* cheap (not)\n",
            "* stand out\n",
            "* mid-range\n",
            "\n",
            "Note that some of these words may have a neutral or objective connotation, but in the context of the review, they convey the reviewer's impression or opinion about the restaurant.\n"
          ]
        },
        {
          "output_type": "stream",
          "name": "stderr",
          "text": [
            "The attention mask and the pad token id were not set. As a consequence, you may observe unexpected behavior. Please pass your input's `attention_mask` to obtain reliable results.\n",
            "Setting `pad_token_id` to `eos_token_id`:128009 for open-end generation.\n"
          ]
        },
        {
          "output_type": "stream",
          "name": "stdout",
          "text": [
            "Here are the words representing the reviewer's impressions:\n",
            "\n",
            "* perfect\n",
            "* truly delicious\n",
            "* incredibly tasty\n",
            "* high-quality\n",
            "* spotless\n",
            "* excellent\n",
            "\n",
            "These words convey a positive impression of the restaurant, indicating that the reviewer enjoyed their experience and found the food to be of high quality.\n"
          ]
        },
        {
          "output_type": "stream",
          "name": "stderr",
          "text": [
            "The attention mask and the pad token id were not set. As a consequence, you may observe unexpected behavior. Please pass your input's `attention_mask` to obtain reliable results.\n",
            "Setting `pad_token_id` to `eos_token_id`:128009 for open-end generation.\n"
          ]
        },
        {
          "output_type": "stream",
          "name": "stdout",
          "text": [
            "Here are the words representing the reviewer's impressions:\n",
            "\n",
            "* Outstanding\n",
            "* Delicious\n",
            "* Surprising\n",
            "* Fresh\n",
            "* One of the places I want to return to\n",
            "\n",
            "These words convey the reviewer's positive emotions and satisfaction with their experience at Kaiten Sushi Ginza Onodera.\n"
          ]
        },
        {
          "output_type": "stream",
          "name": "stderr",
          "text": [
            "The attention mask and the pad token id were not set. As a consequence, you may observe unexpected behavior. Please pass your input's `attention_mask` to obtain reliable results.\n",
            "Setting `pad_token_id` to `eos_token_id`:128009 for open-end generation.\n"
          ]
        },
        {
          "output_type": "stream",
          "name": "stdout",
          "text": [
            "Here are the words representing the reviewer's impressions:\n",
            "\n",
            "* great\n",
            "* excellent\n",
            "* decent\n",
            "* good\n",
            "* satisfied\n",
            "* high\n"
          ]
        },
        {
          "output_type": "stream",
          "name": "stderr",
          "text": [
            "The attention mask and the pad token id were not set. As a consequence, you may observe unexpected behavior. Please pass your input's `attention_mask` to obtain reliable results.\n",
            "Setting `pad_token_id` to `eos_token_id`:128009 for open-end generation.\n"
          ]
        },
        {
          "output_type": "stream",
          "name": "stdout",
          "text": [
            "Here are the words representing the reviewer's impressions:\n",
            "\n",
            "* unique\n",
            "* delicious\n",
            "* good\n",
            "* disappointed\n",
            "* sloppy\n",
            "* great\n",
            "\n",
            "Note that some of these words may have a nuanced meaning depending on the context, but overall they convey the reviewer's emotional response to their experience at the sushi restaurant.\n"
          ]
        },
        {
          "output_type": "stream",
          "name": "stderr",
          "text": [
            "The attention mask and the pad token id were not set. As a consequence, you may observe unexpected behavior. Please pass your input's `attention_mask` to obtain reliable results.\n",
            "Setting `pad_token_id` to `eos_token_id`:128009 for open-end generation.\n"
          ]
        },
        {
          "output_type": "stream",
          "name": "stdout",
          "text": [
            "Here are the words representing the reviewer's impressions:\n",
            "\n",
            "* \"top-notch\"\n",
            "* \"charming\"\n",
            "* \"impeccable\"\n",
            "* \"highly recommended\"\n"
          ]
        },
        {
          "output_type": "stream",
          "name": "stderr",
          "text": [
            "The attention mask and the pad token id were not set. As a consequence, you may observe unexpected behavior. Please pass your input's `attention_mask` to obtain reliable results.\n",
            "Setting `pad_token_id` to `eos_token_id`:128009 for open-end generation.\n"
          ]
        },
        {
          "output_type": "stream",
          "name": "stdout",
          "text": [
            "Here are the words representing the reviewer's impressions:\n",
            "\n",
            "* Delicious\n",
            "* Perfect\n",
            "* Budget-friendly\n",
            "* Gourmet\n",
            "* Tasty\n",
            "* Limited\n",
            "* Nice\n",
            "* Comfortable\n",
            "* Great\n",
            "\n",
            "These words convey the reviewer's positive and neutral opinions about the sushi restaurant, including its food quality, value, and ambiance.\n"
          ]
        },
        {
          "output_type": "stream",
          "name": "stderr",
          "text": [
            "The attention mask and the pad token id were not set. As a consequence, you may observe unexpected behavior. Please pass your input's `attention_mask` to obtain reliable results.\n",
            "Setting `pad_token_id` to `eos_token_id`:128009 for open-end generation.\n"
          ]
        },
        {
          "output_type": "stream",
          "name": "stdout",
          "text": [
            "Here are the words representing the reviewer's impressions:\n",
            "\n",
            "* Energetic\n",
            "* Lively\n",
            "* Fresh\n",
            "* Delicious\n",
            "* Classic\n",
            "* Incredibly\n",
            "* Perfectly\n",
            "* Surprisingly\n",
            "* Chilled\n",
            "* Enjoyed\n",
            "* Nice\n",
            "* Reasonable\n",
            "\n",
            "These words convey the reviewer's positive emotions and impressions of the restaurant, including its atmosphere, food, and service.\n"
          ]
        },
        {
          "output_type": "stream",
          "name": "stderr",
          "text": [
            "The attention mask and the pad token id were not set. As a consequence, you may observe unexpected behavior. Please pass your input's `attention_mask` to obtain reliable results.\n",
            "Setting `pad_token_id` to `eos_token_id`:128009 for open-end generation.\n"
          ]
        },
        {
          "output_type": "stream",
          "name": "stdout",
          "text": [
            "Here are the words representing the reviewers' impressions:\n",
            "\n",
            "* wonderful\n",
            "* rich\n",
            "* moist\n",
            "* juicy\n",
            "* umami\n",
            "* beautiful\n",
            "* exceeded\n",
            "* delicious\n",
            "* perfect\n",
            "* plump\n",
            "* full\n",
            "* rich\n",
            "* melts\n",
            "* so delicious\n",
            "* savory\n",
            "* absolute\n",
            "* best\n",
            "* fluffy\n",
            "* crispy\n",
            "* melt-in-your-mouth\n",
            "* absolutely\n",
            "* perfect\n",
            "* refreshing\n",
            "* very good\n",
            "* fun\n",
            "* nice\n",
            "* crunchy\n",
            "* great\n",
            "\n",
            "These words convey the reviewers' positive emotions and impressions of the sushi restaurant, including their enjoyment of the food, the quality of the ingredients, and the overall dining experience.\n"
          ]
        },
        {
          "output_type": "stream",
          "name": "stderr",
          "text": [
            "The attention mask and the pad token id were not set. As a consequence, you may observe unexpected behavior. Please pass your input's `attention_mask` to obtain reliable results.\n",
            "Setting `pad_token_id` to `eos_token_id`:128009 for open-end generation.\n"
          ]
        },
        {
          "output_type": "stream",
          "name": "stdout",
          "text": [
            "Here are the words representing the reviewer's impressions:\n",
            "\n",
            "* truly top-notch (positive)\n",
            "* wondering (neutral/negative)\n",
            "* dropped in quality (negative)\n",
            "* delicious (positive)\n",
            "* difficult (negative)\n",
            "* good (positive)\n",
            "\n",
            "Note that some words may have multiple connotations or nuances, but I've tried to extract the most representative impressions from each sentence.\n"
          ]
        },
        {
          "output_type": "stream",
          "name": "stderr",
          "text": [
            "The attention mask and the pad token id were not set. As a consequence, you may observe unexpected behavior. Please pass your input's `attention_mask` to obtain reliable results.\n",
            "Setting `pad_token_id` to `eos_token_id`:128009 for open-end generation.\n"
          ]
        },
        {
          "output_type": "stream",
          "name": "stdout",
          "text": [
            "Here are the words representing the reviewer's impressions:\n",
            "\n",
            "* Excitement\n",
            "* WOW\n",
            "* Quirky\n",
            "* Camaraderie\n",
            "* Delicious\n",
            "* Tasty\n",
            "* Great\n",
            "\n",
            "These words convey the reviewer's positive emotions and opinions about the sushi restaurant, including their initial excitement, the quality of the food, and the atmosphere.\n"
          ]
        },
        {
          "output_type": "stream",
          "name": "stderr",
          "text": [
            "The attention mask and the pad token id were not set. As a consequence, you may observe unexpected behavior. Please pass your input's `attention_mask` to obtain reliable results.\n",
            "Setting `pad_token_id` to `eos_token_id`:128009 for open-end generation.\n"
          ]
        },
        {
          "output_type": "stream",
          "name": "stdout",
          "text": [
            "Here are the words representing the reviewer's impressions:\n",
            "\n",
            "* (´；ω；`) うぅ* (expressing disappointment or frustration)\n",
            "* (**)☆*ﾟ (expressing satisfaction or approval)\n",
            "* surprisingly delicious (expressing pleasant surprise)\n",
            "* quite affordable (expressing positive surprise)\n",
            "* areas for improvement (expressing neutral or critical opinion)\n",
            "\n",
            "Note that the reviewer's tone is generally positive, with some minor criticisms. The use of emoticons and enthusiastic language (e.g. \"surprisingly delicious\", \"quite affordable\") suggests that the reviewer was overall pleased with their experience.\n"
          ]
        },
        {
          "output_type": "stream",
          "name": "stderr",
          "text": [
            "The attention mask and the pad token id were not set. As a consequence, you may observe unexpected behavior. Please pass your input's `attention_mask` to obtain reliable results.\n",
            "Setting `pad_token_id` to `eos_token_id`:128009 for open-end generation.\n"
          ]
        },
        {
          "output_type": "stream",
          "name": "stdout",
          "text": [
            "Here are the words representing the reviewer's impressions:\n",
            "\n",
            "* buzz\n",
            "* busy\n",
            "* delicious\n",
            "* addictive\n",
            "* fresh\n",
            "* melt-in-your-mouth\n",
            "* exceptionally tasty\n",
            "* satisfying\n",
            "* high-quality\n",
            "* accessible\n",
            "* wonderful\n"
          ]
        },
        {
          "output_type": "stream",
          "name": "stderr",
          "text": [
            "The attention mask and the pad token id were not set. As a consequence, you may observe unexpected behavior. Please pass your input's `attention_mask` to obtain reliable results.\n",
            "Setting `pad_token_id` to `eos_token_id`:128009 for open-end generation.\n"
          ]
        },
        {
          "output_type": "stream",
          "name": "stdout",
          "text": [
            "Here are the words representing the reviewer's impressions:\n",
            "\n",
            "* Impressive\n",
            "* Excited\n",
            "* Overwhelmed\n",
            "* Fun\n",
            "* Exquisite\n",
            "* Recommended\n"
          ]
        },
        {
          "output_type": "stream",
          "name": "stderr",
          "text": [
            "The attention mask and the pad token id were not set. As a consequence, you may observe unexpected behavior. Please pass your input's `attention_mask` to obtain reliable results.\n",
            "Setting `pad_token_id` to `eos_token_id`:128009 for open-end generation.\n"
          ]
        },
        {
          "output_type": "stream",
          "name": "stdout",
          "text": [
            "Here are the words representing the reviewer's impressions:\n",
            "\n",
            "* Exquisite\n",
            "* Decent\n",
            "* Delicious\n",
            "* Excellent\n",
            "* Unique\n",
            "* Enjoyed\n",
            "* Surprisingly delicious\n",
            "* Tasty\n",
            "* Rich\n",
            "* Good\n",
            "* Nice\n",
            "\n",
            "Note that some of these words may have slightly different connotations depending on the context in which they are used. However, in general, they all convey a positive impression of the food and dining experience at Kaiten Sushi Ginza Onodera.\n"
          ]
        },
        {
          "output_type": "stream",
          "name": "stderr",
          "text": [
            "The attention mask and the pad token id were not set. As a consequence, you may observe unexpected behavior. Please pass your input's `attention_mask` to obtain reliable results.\n",
            "Setting `pad_token_id` to `eos_token_id`:128009 for open-end generation.\n"
          ]
        },
        {
          "output_type": "stream",
          "name": "stdout",
          "text": [
            "Here are the words representing the reviewer's impressions:\n",
            "\n",
            "* excitement\n",
            "* WOW factor\n",
            "* quirky\n",
            "* sense of camaraderie\n",
            "* delicious\n",
            "* tasty\n",
            "* great\n",
            "\n",
            "These words convey the reviewer's positive and enthusiastic impressions of the sushi restaurant, as well as their minor criticisms (e.g. the fish broth being a bit fishy).\n"
          ]
        },
        {
          "output_type": "stream",
          "name": "stderr",
          "text": [
            "The attention mask and the pad token id were not set. As a consequence, you may observe unexpected behavior. Please pass your input's `attention_mask` to obtain reliable results.\n",
            "Setting `pad_token_id` to `eos_token_id`:128009 for open-end generation.\n"
          ]
        },
        {
          "output_type": "stream",
          "name": "stdout",
          "text": [
            "Here are the words representing the reviewer's impressions:\n",
            "\n",
            "* Luxurious\n",
            "* High-end\n",
            "* Fine\n",
            "* Good\n",
            "* Surprised\n",
            "* Unnecessary\n",
            "* Hygiene\n",
            "* Good price\n",
            "* Rivals\n",
            "* Messy\n",
            "* Uniform\n",
            "* Bland\n",
            "* Overwhelmingly strong\n",
            "* Great\n",
            "* Thriving\n",
            "* Recognized\n",
            "* Imaginative\n",
            "* Honest\n",
            "* Very Much to My Liking\n",
            "* To My Liking or Close to My Liking\n",
            "* Corresponding to Price or Not My Liking\n",
            "* Somewhat deviating from my preference\n",
            "* Good restaurant with potential for repeat visits\n",
            "* Great satisfaction and certain repeat visitation\n",
            "* Desire to visit at least four times a year\n",
            "\n",
            "Note that some of these words may have multiple connotations or nuances depending on the context in which they are used.\n"
          ]
        },
        {
          "output_type": "stream",
          "name": "stderr",
          "text": [
            "The attention mask and the pad token id were not set. As a consequence, you may observe unexpected behavior. Please pass your input's `attention_mask` to obtain reliable results.\n",
            "Setting `pad_token_id` to `eos_token_id`:128009 for open-end generation.\n"
          ]
        },
        {
          "output_type": "stream",
          "name": "stdout",
          "text": [
            "Here are the words representing the reviewer's impressions:\n",
            "\n",
            "* enjoyable\n",
            "* delicious\n",
            "* accessible\n",
            "* enjoyable\n",
            "* stylish\n",
            "* peaceful\n"
          ]
        },
        {
          "output_type": "stream",
          "name": "stderr",
          "text": [
            "The attention mask and the pad token id were not set. As a consequence, you may observe unexpected behavior. Please pass your input's `attention_mask` to obtain reliable results.\n",
            "Setting `pad_token_id` to `eos_token_id`:128009 for open-end generation.\n"
          ]
        },
        {
          "output_type": "stream",
          "name": "stdout",
          "text": [
            "Here are the words representing the reviewer's impressions:\n",
            "\n",
            "* exceptional\n",
            "* spot on\n",
            "* great\n",
            "* highly recommend\n",
            "\n",
            "These words convey a positive impression of the reviewer's experience at the sushi restaurant, indicating that they were impressed with the quality, timing, and overall meal.\n"
          ]
        },
        {
          "output_type": "stream",
          "name": "stderr",
          "text": [
            "The attention mask and the pad token id were not set. As a consequence, you may observe unexpected behavior. Please pass your input's `attention_mask` to obtain reliable results.\n",
            "Setting `pad_token_id` to `eos_token_id`:128009 for open-end generation.\n"
          ]
        },
        {
          "output_type": "stream",
          "name": "stdout",
          "text": [
            "Here are the words representing the reviewer's impressions:\n",
            "\n",
            "* Surprise\n",
            "* Elegance\n",
            "* Relaxed\n",
            "* Delicious\n",
            "* Savored\n",
            "* Sweet\n",
            "* Fresh\n",
            "* Delighted\n",
            "* Rich\n",
            "* Umami\n",
            "* Melt-in-your-mouth\n",
            "* Satisfying\n",
            "* Sweet\n",
            "* Delicious\n",
            "* Very satisfied\n",
            "\n",
            "Note that some of these words may have multiple connotations or nuances, but overall they convey a positive impression of the reviewer's experience at the sushi restaurant.\n"
          ]
        },
        {
          "output_type": "stream",
          "name": "stderr",
          "text": [
            "The attention mask and the pad token id were not set. As a consequence, you may observe unexpected behavior. Please pass your input's `attention_mask` to obtain reliable results.\n",
            "Setting `pad_token_id` to `eos_token_id`:128009 for open-end generation.\n"
          ]
        },
        {
          "output_type": "stream",
          "name": "stdout",
          "text": [
            "Here are the words representing the reviewer's impressions:\n",
            "\n",
            "* wonderful\n",
            "* fresh\n",
            "* delicious\n",
            "* rich\n",
            "* fattiness\n",
            "* melted\n",
            "* great\n",
            "* best\n",
            "* loaded\n",
            "* meaty\n",
            "* no unpleasant odor\n",
            "* lifted spirits\n"
          ]
        },
        {
          "output_type": "stream",
          "name": "stderr",
          "text": [
            "The attention mask and the pad token id were not set. As a consequence, you may observe unexpected behavior. Please pass your input's `attention_mask` to obtain reliable results.\n",
            "Setting `pad_token_id` to `eos_token_id`:128009 for open-end generation.\n"
          ]
        },
        {
          "output_type": "stream",
          "name": "stdout",
          "text": [
            "Here are the words representing the reviewer's impressions:\n",
            "\n",
            "* perfect\n",
            "* definitely\n"
          ]
        },
        {
          "output_type": "stream",
          "name": "stderr",
          "text": [
            "The attention mask and the pad token id were not set. As a consequence, you may observe unexpected behavior. Please pass your input's `attention_mask` to obtain reliable results.\n",
            "Setting `pad_token_id` to `eos_token_id`:128009 for open-end generation.\n"
          ]
        },
        {
          "output_type": "stream",
          "name": "stdout",
          "text": [
            "Here are the words representing the reviewer's impressions:\n",
            "\n",
            "* pleasant\n",
            "* delightful\n",
            "* enthusiastic\n",
            "* excited\n",
            "* delicious\n",
            "* fresh\n",
            "* sweet\n",
            "* superb\n",
            "* creamy\n",
            "* packed\n",
            "* rich\n",
            "* fluffy\n",
            "* blissful\n",
            "* satisfying\n",
            "* great\n",
            "\n",
            "These words convey the reviewer's positive emotions and reactions to their dining experience at Kaiten Sushi Ginza Onodera.\n"
          ]
        },
        {
          "output_type": "stream",
          "name": "stderr",
          "text": [
            "The attention mask and the pad token id were not set. As a consequence, you may observe unexpected behavior. Please pass your input's `attention_mask` to obtain reliable results.\n",
            "Setting `pad_token_id` to `eos_token_id`:128009 for open-end generation.\n"
          ]
        },
        {
          "output_type": "stream",
          "name": "stdout",
          "text": [
            "Here are the words representing the reviewer's impressions:\n",
            "\n",
            "* Luxurious\n",
            "* Pleasantly casual\n",
            "* Impressive\n",
            "* Excellent\n",
            "* Beautiful\n",
            "* Moist\n",
            "* Finely textured\n",
            "* Silky\n",
            "* Irresistible\n",
            "* Thickly sliced\n",
            "* Full-bodied\n",
            "* Satisfying\n",
            "* Chewy\n",
            "* Richly fatty\n",
            "* Average\n",
            "* Remarkable\n",
            "* Delicious\n",
            "* Excellent value\n",
            "* Freshly fried\n",
            "* Great snack\n",
            "* Mixed reactions\n",
            "* Elevated price\n",
            "* Ambiance\n",
            "* Enjoyable\n",
            "* Improved\n",
            "* Pricier\n",
            "* High-quality\n",
            "* Fantastic\n",
            "* Must-try\n"
          ]
        },
        {
          "output_type": "stream",
          "name": "stderr",
          "text": [
            "The attention mask and the pad token id were not set. As a consequence, you may observe unexpected behavior. Please pass your input's `attention_mask` to obtain reliable results.\n",
            "Setting `pad_token_id` to `eos_token_id`:128009 for open-end generation.\n"
          ]
        },
        {
          "output_type": "stream",
          "name": "stdout",
          "text": [
            "Here are the words representing the reviewer's impressions:\n",
            "\n",
            "* pleased\n",
            "* bright\n",
            "* luxurious\n",
            "* enjoyable\n",
            "* nice\n",
            "* pricey\n",
            "* nice treat\n"
          ]
        },
        {
          "output_type": "stream",
          "name": "stderr",
          "text": [
            "The attention mask and the pad token id were not set. As a consequence, you may observe unexpected behavior. Please pass your input's `attention_mask` to obtain reliable results.\n",
            "Setting `pad_token_id` to `eos_token_id`:128009 for open-end generation.\n"
          ]
        },
        {
          "output_type": "stream",
          "name": "stdout",
          "text": [
            "Here are the words representing the reviewer's impressions:\n",
            "\n",
            "* Amazing\n",
            "* Surprised\n",
            "* Delicious\n",
            "* Tender\n",
            "* Inexpensive\n",
            "* Affordable\n",
            "* Truly delightful\n",
            "* Incredible\n",
            "* Crisp\n",
            "* Juicy\n",
            "* High-end\n",
            "* Good\n",
            "\n",
            "These words convey the reviewer's positive emotions and reactions to their dining experience at the sushi restaurant.\n"
          ]
        },
        {
          "output_type": "stream",
          "name": "stderr",
          "text": [
            "The attention mask and the pad token id were not set. As a consequence, you may observe unexpected behavior. Please pass your input's `attention_mask` to obtain reliable results.\n",
            "Setting `pad_token_id` to `eos_token_id`:128009 for open-end generation.\n"
          ]
        },
        {
          "output_type": "stream",
          "name": "stdout",
          "text": [
            "Here are the words representing the reviewer's impressions:\n",
            "\n",
            "* nearly full\n",
            "* hectic\n",
            "* great expectations\n",
            "* satisfied\n",
            "* deal\n",
            "* more than enough\n"
          ]
        },
        {
          "output_type": "stream",
          "name": "stderr",
          "text": [
            "The attention mask and the pad token id were not set. As a consequence, you may observe unexpected behavior. Please pass your input's `attention_mask` to obtain reliable results.\n",
            "Setting `pad_token_id` to `eos_token_id`:128009 for open-end generation.\n"
          ]
        },
        {
          "output_type": "stream",
          "name": "stdout",
          "text": [
            "Here are the words representing the reviewer's impressions:\n",
            "\n",
            "* Impressive\n",
            "* Truly\n",
            "* High\n",
            "* Slight\n",
            "* Impressive (again)\n",
            "* ☆ (star symbol, indicating positive review)\n",
            "\n",
            "Note that the reviewer uses the star symbol (☆) to indicate their positive review of certain dishes.\n"
          ]
        },
        {
          "output_type": "stream",
          "name": "stderr",
          "text": [
            "The attention mask and the pad token id were not set. As a consequence, you may observe unexpected behavior. Please pass your input's `attention_mask` to obtain reliable results.\n",
            "Setting `pad_token_id` to `eos_token_id`:128009 for open-end generation.\n"
          ]
        },
        {
          "output_type": "stream",
          "name": "stdout",
          "text": [
            "Here are the words representing the reviewer's impressions:\n",
            "\n",
            "* Delicious\n",
            "* Disappointing\n",
            "* Quite good\n",
            "* Decent\n",
            "* Excellent\n",
            "* Soft\n",
            "* Flavorful\n",
            "* Well-prepared\n",
            "* Rich\n",
            "* Understandable\n",
            "* Okay\n",
            "* Better\n",
            "* Exceeded\n",
            "* Worthwhile\n"
          ]
        },
        {
          "output_type": "stream",
          "name": "stderr",
          "text": [
            "The attention mask and the pad token id were not set. As a consequence, you may observe unexpected behavior. Please pass your input's `attention_mask` to obtain reliable results.\n",
            "Setting `pad_token_id` to `eos_token_id`:128009 for open-end generation.\n"
          ]
        },
        {
          "output_type": "stream",
          "name": "stdout",
          "text": [
            "Here are the words representing the reviewer's impressions:\n",
            "\n",
            "* incredible\n",
            "* great\n",
            "* amazing\n",
            "* accessible\n",
            "* popular\n",
            "\n",
            "These words convey the reviewer's positive emotions and opinions about the sushi restaurant, such as being impressed by the quality and value, and expecting it to be well-liked by many people.\n"
          ]
        },
        {
          "output_type": "stream",
          "name": "stderr",
          "text": [
            "The attention mask and the pad token id were not set. As a consequence, you may observe unexpected behavior. Please pass your input's `attention_mask` to obtain reliable results.\n",
            "Setting `pad_token_id` to `eos_token_id`:128009 for open-end generation.\n"
          ]
        },
        {
          "output_type": "stream",
          "name": "stdout",
          "text": [
            "Here are the words representing the reviewer's impressions:\n",
            "\n",
            "* Surprisingly\n",
            "* Short\n",
            "* Outnumbered\n",
            "* To my surprise\n",
            "* Boldly\n",
            "* Glowing\n",
            "* Reasonable\n",
            "* Delicious\n",
            "* Rich\n",
            "* Firm\n",
            "* Distinctive\n",
            "* Artistic\n",
            "* Craftsmanship\n",
            "* Worthy\n",
            "* Satisfying\n",
            "* Expensive\n",
            "* Plan to visit (positive anticipation)\n",
            "\n",
            "Note that some of these words may have multiple connotations or nuances, but overall they convey the reviewer's positive and enthusiastic impressions of the sushi restaurant.\n"
          ]
        },
        {
          "output_type": "stream",
          "name": "stderr",
          "text": [
            "The attention mask and the pad token id were not set. As a consequence, you may observe unexpected behavior. Please pass your input's `attention_mask` to obtain reliable results.\n",
            "Setting `pad_token_id` to `eos_token_id`:128009 for open-end generation.\n"
          ]
        },
        {
          "output_type": "stream",
          "name": "stdout",
          "text": [
            "Here are the words representing the reviewer's impressions:\n",
            "\n",
            "* Critical\n",
            "* Unbelievable\n",
            "* Disappointing\n",
            "* Confusing\n",
            "* Frustrating\n",
            "* Concerning\n",
            "* Delicious\n",
            "* Hmm\n",
            "* Disappointing\n",
            "* Great\n",
            "\n",
            "Note that some of these words may have a neutral or positive tone, but in the context of the review, they convey a negative or critical impression.\n"
          ]
        },
        {
          "output_type": "stream",
          "name": "stderr",
          "text": [
            "The attention mask and the pad token id were not set. As a consequence, you may observe unexpected behavior. Please pass your input's `attention_mask` to obtain reliable results.\n",
            "Setting `pad_token_id` to `eos_token_id`:128009 for open-end generation.\n"
          ]
        },
        {
          "output_type": "stream",
          "name": "stdout",
          "text": [
            "Here are the words representing the reviewer's impressions:\n",
            "\n",
            "* Oh no?! (surprise)\n",
            "* What a shock... (surprise)\n",
            "* relief (positive)\n",
            "* gorgeous (positive)\n",
            "* happy (positive)\n",
            "* Amazing!! (positive)\n",
            "* delicious (positive)\n",
            "* disappointment (negative)\n",
            "* chewy (negative)\n",
            "* superb (positive)\n",
            "* slight (neutral)\n",
            "* flavorful (positive)\n",
            "* high end (neutral)\n",
            "* outstanding (positive)\n",
            "* generous (positive)\n",
            "* waste (negative)\n",
            "* atmosphere (positive)\n",
            "* great (positive)\n",
            "\n",
            "Note that some of these words may have a nuanced meaning depending on the context, but overall, they convey the reviewer's positive and negative impressions of the restaurant.\n"
          ]
        },
        {
          "output_type": "stream",
          "name": "stderr",
          "text": [
            "The attention mask and the pad token id were not set. As a consequence, you may observe unexpected behavior. Please pass your input's `attention_mask` to obtain reliable results.\n",
            "Setting `pad_token_id` to `eos_token_id`:128009 for open-end generation.\n"
          ]
        },
        {
          "output_type": "stream",
          "name": "stdout",
          "text": [
            "Here are the words representing the reviewer's impressions:\n",
            "\n",
            "* fine\n",
            "* delicious\n",
            "* questionable\n",
            "* disappointed\n",
            "* acceptable\n",
            "* unique\n",
            "* puzzling\n",
            "* strong\n",
            "* puzzling\n",
            "* amazing\n",
            "* good\n",
            "* better\n",
            "* expected\n",
            "* rather\n",
            "\n",
            "Note that some of these words may have multiple connotations or nuances depending on the context, but in this case, they generally convey the reviewer's positive or negative impressions of the sushi restaurant.\n"
          ]
        },
        {
          "output_type": "stream",
          "name": "stderr",
          "text": [
            "The attention mask and the pad token id were not set. As a consequence, you may observe unexpected behavior. Please pass your input's `attention_mask` to obtain reliable results.\n",
            "Setting `pad_token_id` to `eos_token_id`:128009 for open-end generation.\n"
          ]
        },
        {
          "output_type": "stream",
          "name": "stdout",
          "text": [
            "Here are the words representing the reviewer's impressions:\n",
            "\n",
            "* busy\n",
            "* poor\n",
            "* inexperienced\n",
            "* cheerful\n",
            "* great\n",
            "* vibrant\n",
            "* pleasant\n",
            "* decent\n",
            "* justified\n",
            "* good\n",
            "* typical\n",
            "* roughness\n",
            "* dryness\n",
            "* overwhelming\n",
            "* perfect\n",
            "* impressive\n",
            "\n",
            "These words convey the reviewer's opinions on the restaurant's atmosphere, service, food quality, and overall experience.\n"
          ]
        },
        {
          "output_type": "stream",
          "name": "stderr",
          "text": [
            "The attention mask and the pad token id were not set. As a consequence, you may observe unexpected behavior. Please pass your input's `attention_mask` to obtain reliable results.\n",
            "Setting `pad_token_id` to `eos_token_id`:128009 for open-end generation.\n"
          ]
        },
        {
          "output_type": "stream",
          "name": "stdout",
          "text": [
            "Here are the words representing the reviewer's impressions:\n",
            "\n",
            "* beautiful\n",
            "* welcoming\n",
            "* hard to believe\n",
            "* incredibly spacious\n",
            "* lovely\n",
            "* delicious\n",
            "* fantastic\n",
            "* rich\n",
            "* sweet\n",
            "* satisfying\n",
            "* delightful\n",
            "\n",
            "These words convey the reviewer's positive emotions and impressions about the sushi restaurant, including its ambiance, food quality, and overall dining experience.\n"
          ]
        },
        {
          "output_type": "stream",
          "name": "stderr",
          "text": [
            "The attention mask and the pad token id were not set. As a consequence, you may observe unexpected behavior. Please pass your input's `attention_mask` to obtain reliable results.\n",
            "Setting `pad_token_id` to `eos_token_id`:128009 for open-end generation.\n"
          ]
        },
        {
          "output_type": "stream",
          "name": "stdout",
          "text": [
            "Here are the words representing the reviewer's impressions:\n",
            "\n",
            "* disappointing\n",
            "* good\n",
            "* did not match\n",
            "* initial hiccups\n",
            "* look forward\n"
          ]
        },
        {
          "output_type": "stream",
          "name": "stderr",
          "text": [
            "The attention mask and the pad token id were not set. As a consequence, you may observe unexpected behavior. Please pass your input's `attention_mask` to obtain reliable results.\n",
            "Setting `pad_token_id` to `eos_token_id`:128009 for open-end generation.\n"
          ]
        },
        {
          "output_type": "stream",
          "name": "stdout",
          "text": [
            "Here are the words representing the reviewer's impressions:\n",
            "\n",
            "* Unexpected\n",
            "* Abundance\n",
            "* Lively\n",
            "* Enjoyable\n",
            "* Incredibly\n",
            "* Delicious\n",
            "* Best\n",
            "\n",
            "These words convey the reviewer's positive emotions and reactions to their experience at Kaiten Sushi Onodera.\n"
          ]
        },
        {
          "output_type": "stream",
          "name": "stderr",
          "text": [
            "The attention mask and the pad token id were not set. As a consequence, you may observe unexpected behavior. Please pass your input's `attention_mask` to obtain reliable results.\n",
            "Setting `pad_token_id` to `eos_token_id`:128009 for open-end generation.\n"
          ]
        },
        {
          "output_type": "stream",
          "name": "stdout",
          "text": [
            "Here are the words representing the reviewer's impressions:\n",
            "\n",
            "* Surprisingly\n",
            "* Fantastic\n",
            "* Expertly\n",
            "* Thoughtfully\n",
            "* Highest quality\n"
          ]
        },
        {
          "output_type": "stream",
          "name": "stderr",
          "text": [
            "The attention mask and the pad token id were not set. As a consequence, you may observe unexpected behavior. Please pass your input's `attention_mask` to obtain reliable results.\n",
            "Setting `pad_token_id` to `eos_token_id`:128009 for open-end generation.\n"
          ]
        },
        {
          "output_type": "stream",
          "name": "stdout",
          "text": [
            "Here are the words representing the reviewer's impressions:\n",
            "\n",
            "* delicious\n",
            "* perfect\n",
            "* tasty\n",
            "* limited\n",
            "* nice\n",
            "* comfortable\n",
            "* great\n",
            "\n",
            "These words convey the reviewer's positive opinions about the restaurant, including the quality of the food, the atmosphere, and the value for the price.\n"
          ]
        },
        {
          "output_type": "stream",
          "name": "stderr",
          "text": [
            "The attention mask and the pad token id were not set. As a consequence, you may observe unexpected behavior. Please pass your input's `attention_mask` to obtain reliable results.\n",
            "Setting `pad_token_id` to `eos_token_id`:128009 for open-end generation.\n"
          ]
        },
        {
          "output_type": "stream",
          "name": "stdout",
          "text": [
            "Here are the words representing the reviewer's impressions:\n",
            "\n",
            "* \"lively\"\n",
            "* \"pleasant\"\n",
            "* \"undoubtedly\"\n",
            "* \"delicious\"\n",
            "* \"enjoyed\"\n",
            "\n",
            "These words convey the reviewer's positive emotions and opinions about their experience at the sushi restaurant, including the atmosphere, food, and overall enjoyment.\n"
          ]
        },
        {
          "output_type": "stream",
          "name": "stderr",
          "text": [
            "The attention mask and the pad token id were not set. As a consequence, you may observe unexpected behavior. Please pass your input's `attention_mask` to obtain reliable results.\n",
            "Setting `pad_token_id` to `eos_token_id`:128009 for open-end generation.\n"
          ]
        },
        {
          "output_type": "stream",
          "name": "stdout",
          "text": [
            "Here are the words representing the reviewer's impressions:\n",
            "\n",
            "* excellent\n",
            "* good\n",
            "* positive\n",
            "* great\n",
            "* positive\n",
            "* disappointing\n",
            "* disheartening\n",
            "* shame\n",
            "* delicious\n",
            "* reasonable\n",
            "* shocked\n",
            "* terrible\n",
            "\n",
            "Note that some of these words may have multiple connotations or nuances, but in the context of the review, they primarily convey the reviewer's impressions of their experience at the sushi restaurant.\n"
          ]
        },
        {
          "output_type": "stream",
          "name": "stderr",
          "text": [
            "The attention mask and the pad token id were not set. As a consequence, you may observe unexpected behavior. Please pass your input's `attention_mask` to obtain reliable results.\n",
            "Setting `pad_token_id` to `eos_token_id`:128009 for open-end generation.\n"
          ]
        },
        {
          "output_type": "stream",
          "name": "stdout",
          "text": [
            "Here are the words representing the reviewer's impressions:\n",
            "\n",
            "* fine\n",
            "* delicious\n"
          ]
        },
        {
          "output_type": "stream",
          "name": "stderr",
          "text": [
            "The attention mask and the pad token id were not set. As a consequence, you may observe unexpected behavior. Please pass your input's `attention_mask` to obtain reliable results.\n",
            "Setting `pad_token_id` to `eos_token_id`:128009 for open-end generation.\n"
          ]
        },
        {
          "output_type": "stream",
          "name": "stdout",
          "text": [
            "Here are the words representing the reviewer's impression:\n",
            "\n",
            "* satisfied\n"
          ]
        },
        {
          "output_type": "stream",
          "name": "stderr",
          "text": [
            "The attention mask and the pad token id were not set. As a consequence, you may observe unexpected behavior. Please pass your input's `attention_mask` to obtain reliable results.\n",
            "Setting `pad_token_id` to `eos_token_id`:128009 for open-end generation.\n"
          ]
        },
        {
          "output_type": "stream",
          "name": "stdout",
          "text": [
            "Here are the words representing the reviewer's impressions:\n",
            "\n",
            "* delicious\n",
            "* exceptional\n",
            "* great\n"
          ]
        },
        {
          "output_type": "stream",
          "name": "stderr",
          "text": [
            "The attention mask and the pad token id were not set. As a consequence, you may observe unexpected behavior. Please pass your input's `attention_mask` to obtain reliable results.\n",
            "Setting `pad_token_id` to `eos_token_id`:128009 for open-end generation.\n"
          ]
        },
        {
          "output_type": "stream",
          "name": "stdout",
          "text": [
            "The words representing the reviewer's impressions are:\n",
            "\n",
            "* Delicious\n",
            "* Really stood out\n"
          ]
        },
        {
          "output_type": "stream",
          "name": "stderr",
          "text": [
            "The attention mask and the pad token id were not set. As a consequence, you may observe unexpected behavior. Please pass your input's `attention_mask` to obtain reliable results.\n",
            "Setting `pad_token_id` to `eos_token_id`:128009 for open-end generation.\n"
          ]
        },
        {
          "output_type": "stream",
          "name": "stdout",
          "text": [
            "Here are the words representing the reviewer's impressions:\n",
            "\n",
            "* delicious\n",
            "* quality\n",
            "* loved\n"
          ]
        },
        {
          "output_type": "stream",
          "name": "stderr",
          "text": [
            "The attention mask and the pad token id were not set. As a consequence, you may observe unexpected behavior. Please pass your input's `attention_mask` to obtain reliable results.\n",
            "Setting `pad_token_id` to `eos_token_id`:128009 for open-end generation.\n"
          ]
        },
        {
          "output_type": "stream",
          "name": "stdout",
          "text": [
            "Here are the words representing the reviewer's impressions:\n",
            "\n",
            "* enjoyed\n",
            "* splendid\n",
            "* disappointing\n",
            "* high-quality\n",
            "* nice\n"
          ]
        },
        {
          "output_type": "stream",
          "name": "stderr",
          "text": [
            "The attention mask and the pad token id were not set. As a consequence, you may observe unexpected behavior. Please pass your input's `attention_mask` to obtain reliable results.\n",
            "Setting `pad_token_id` to `eos_token_id`:128009 for open-end generation.\n"
          ]
        },
        {
          "output_type": "stream",
          "name": "stdout",
          "text": [
            "Here are the words representing the reviewers' impressions:\n",
            "\n",
            "* fantastic\n",
            "* outstanding\n",
            "* delicious\n",
            "* perfect\n",
            "* satisfied\n"
          ]
        },
        {
          "output_type": "stream",
          "name": "stderr",
          "text": [
            "The attention mask and the pad token id were not set. As a consequence, you may observe unexpected behavior. Please pass your input's `attention_mask` to obtain reliable results.\n",
            "Setting `pad_token_id` to `eos_token_id`:128009 for open-end generation.\n"
          ]
        },
        {
          "output_type": "stream",
          "name": "stdout",
          "text": [
            "Here are the words representing the reviewer's impressions:\n",
            "\n",
            "* strong\n",
            "* delicious\n",
            "* tastier\n",
            "* better\n",
            "* lower\n",
            "* affordable\n",
            "* higher\n",
            "* similar\n"
          ]
        },
        {
          "output_type": "stream",
          "name": "stderr",
          "text": [
            "The attention mask and the pad token id were not set. As a consequence, you may observe unexpected behavior. Please pass your input's `attention_mask` to obtain reliable results.\n",
            "Setting `pad_token_id` to `eos_token_id`:128009 for open-end generation.\n"
          ]
        },
        {
          "output_type": "stream",
          "name": "stdout",
          "text": [
            "Here are the words representing the reviewers' impressions:\n",
            "\n",
            "* Polarizing\n",
            "* Delicious\n",
            "* Good\n",
            "* Solid\n",
            "* Underwhelming\n",
            "\n",
            "These words convey the reviewer's opinions and feelings about the sushi restaurant, including their positive and negative experiences.\n"
          ]
        },
        {
          "output_type": "stream",
          "name": "stderr",
          "text": [
            "The attention mask and the pad token id were not set. As a consequence, you may observe unexpected behavior. Please pass your input's `attention_mask` to obtain reliable results.\n",
            "Setting `pad_token_id` to `eos_token_id`:128009 for open-end generation.\n"
          ]
        },
        {
          "output_type": "stream",
          "name": "stdout",
          "text": [
            "Here are the words representing the reviewer's impressions:\n",
            "\n",
            "* Surprised\n",
            "* Disappointed\n",
            "* Expecting\n",
            "* Ordinary\n",
            "* Lively\n",
            "* Good\n",
            "* Different\n",
            "* High-quality\n",
            "* Disappointed\n",
            "* Bad\n",
            "* Unimpressive\n",
            "* Gelatinous\n",
            "* Surprising\n",
            "* Lacking\n",
            "* High\n",
            "* Cheap\n",
            "* Fortunate\n",
            "\n",
            "Note that some of these words may have multiple connotations or nuances depending on the context, but overall they give an indication of the reviewer's positive or negative impressions of the restaurant.\n"
          ]
        },
        {
          "output_type": "stream",
          "name": "stderr",
          "text": [
            "The attention mask and the pad token id were not set. As a consequence, you may observe unexpected behavior. Please pass your input's `attention_mask` to obtain reliable results.\n",
            "Setting `pad_token_id` to `eos_token_id`:128009 for open-end generation.\n"
          ]
        },
        {
          "output_type": "stream",
          "name": "stdout",
          "text": [
            "Here are the words representing the reviewer's impressions:\n",
            "\n",
            "* \"best\"\n",
            "* \"perfect\"\n",
            "* \"large\"\n",
            "* \"necessary\"\n",
            "\n",
            "These words convey the reviewer's positive impressions of the sushi rice and toppings, and their recommendation to make a reservation to avoid a long wait.\n"
          ]
        },
        {
          "output_type": "stream",
          "name": "stderr",
          "text": [
            "The attention mask and the pad token id were not set. As a consequence, you may observe unexpected behavior. Please pass your input's `attention_mask` to obtain reliable results.\n",
            "Setting `pad_token_id` to `eos_token_id`:128009 for open-end generation.\n"
          ]
        },
        {
          "output_type": "stream",
          "name": "stdout",
          "text": [
            "Here are the words representing the reviewer's impressions:\n",
            "\n",
            "* Outstanding\n",
            "* Delicious\n",
            "* Perfectly prepared\n",
            "* Great\n",
            "* Superb\n",
            "* Tasty\n",
            "* Dry\n",
            "* Hard\n",
            "* Difficult\n",
            "\n",
            "These words convey the reviewer's positive and negative emotions towards their dining experience at the sushi restaurant.\n"
          ]
        },
        {
          "output_type": "stream",
          "name": "stderr",
          "text": [
            "The attention mask and the pad token id were not set. As a consequence, you may observe unexpected behavior. Please pass your input's `attention_mask` to obtain reliable results.\n",
            "Setting `pad_token_id` to `eos_token_id`:128009 for open-end generation.\n"
          ]
        },
        {
          "output_type": "stream",
          "name": "stdout",
          "text": [
            "The words representing the reviewer's impression are:\n",
            "\n",
            "* delicious\n"
          ]
        },
        {
          "output_type": "stream",
          "name": "stderr",
          "text": [
            "The attention mask and the pad token id were not set. As a consequence, you may observe unexpected behavior. Please pass your input's `attention_mask` to obtain reliable results.\n",
            "Setting `pad_token_id` to `eos_token_id`:128009 for open-end generation.\n"
          ]
        },
        {
          "output_type": "stream",
          "name": "stdout",
          "text": [
            "Here are the words representing the reviewer's impressions:\n",
            "\n",
            "* \"Fresh\"\n",
            "* \"Lean\"\n",
            "* \"Medium Fatty\"\n",
            "* \"Sweet\"\n",
            "* \"Excellent\" (implied by the ▲ symbol)\n",
            "* \"Wished\" (expressing a positive sentiment)\n",
            "* \"Felt\" (expressing a neutral sentiment, but with a hint of disappointment)\n",
            "\n",
            "Note that the reviewer's impressions are mostly positive, with words like \"Fresh\", \"Lean\", \"Sweet\", and \"Excellent\" indicating a high level of satisfaction. The only slightly negative sentiment is the \"felt\" phrase, which suggests that the quality varied and the reviewer wished they could have tried more varieties.\n"
          ]
        },
        {
          "output_type": "stream",
          "name": "stderr",
          "text": [
            "The attention mask and the pad token id were not set. As a consequence, you may observe unexpected behavior. Please pass your input's `attention_mask` to obtain reliable results.\n",
            "Setting `pad_token_id` to `eos_token_id`:128009 for open-end generation.\n"
          ]
        },
        {
          "output_type": "stream",
          "name": "stdout",
          "text": [
            "The words representing the reviewer's impression are:\n",
            "\n",
            "* \"really\"\n",
            "* \"enjoyed\"\n",
            "\n",
            "These words convey a positive impression, indicating that the reviewer had a good experience at the sushi restaurant.\n"
          ]
        },
        {
          "output_type": "stream",
          "name": "stderr",
          "text": [
            "The attention mask and the pad token id were not set. As a consequence, you may observe unexpected behavior. Please pass your input's `attention_mask` to obtain reliable results.\n",
            "Setting `pad_token_id` to `eos_token_id`:128009 for open-end generation.\n"
          ]
        },
        {
          "output_type": "stream",
          "name": "stdout",
          "text": [
            "Here are the words representing the reviewer's impressions:\n",
            "\n",
            "* \"tears\" (expressing sadness or disappointment)\n",
            "* \"discolored\" (expressing negative opinion about the appearance of the tuna)\n",
            "* \"completely different\" (expressing surprise or disappointment)\n",
            "\n",
            "These words convey a negative impression of the reviewer's experience at the sushi restaurant.\n"
          ]
        },
        {
          "output_type": "stream",
          "name": "stderr",
          "text": [
            "The attention mask and the pad token id were not set. As a consequence, you may observe unexpected behavior. Please pass your input's `attention_mask` to obtain reliable results.\n",
            "Setting `pad_token_id` to `eos_token_id`:128009 for open-end generation.\n"
          ]
        },
        {
          "output_type": "stream",
          "name": "stdout",
          "text": [
            "Here are the words representing the reviewer's impressions:\n",
            "\n",
            "* Excellent\n",
            "* Well\n",
            "* Poorly\n",
            "* Delicious\n",
            "* Lacking\n",
            "* Nice\n",
            "* Fast\n",
            "* Hasty\n",
            "* Nice\n",
            "* Impressive\n",
            "* Wonderful\n",
            "* Good\n",
            "* Tasty\n",
            "* Sloppy\n",
            "* Expected\n",
            "* Preferred\n",
            "\n",
            "These words convey the reviewer's positive and negative opinions about the sushi restaurant, including their satisfaction with the food, the skill of the sushi makers, and their overall experience.\n",
            "The words representing the reviewer's impression are:\n",
            "\n",
            "* delicious\n",
            "* best\n"
          ]
        }
      ]
    }
  ]
}